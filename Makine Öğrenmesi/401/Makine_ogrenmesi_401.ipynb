{
 "cells": [
  {
   "cell_type": "code",
   "execution_count": 2,
   "metadata": {},
   "outputs": [],
   "source": [
    "import numpy as np\n",
    "import pandas as pd\n",
    "import seaborn as sns\n",
    "from sklearn.model_selection import train_test_split,GridSearchCV,cross_val_score\n",
    "from sklearn.metrics import confusion_matrix,accuracy_score,roc_auc_score,roc_curve,mean_squared_error, r2_score,classification_report\n",
    "import matplotlib.pyplot as plt\n",
    "from sklearn.preprocessing import scale\n",
    "from sklearn.preprocessing import StandardScaler\n",
    "from sklearn import model_selection\n",
    "from sklearn.linear_model import LogisticRegression\n",
    "from sklearn.tree import DecisionTreeClassifier\n",
    "from sklearn.neighbors import KNeighborsClassifier\n",
    "from sklearn.neural_network import MLPClassifier\n",
    "from sklearn.ensemble import RandomForestClassifier\n",
    "from sklearn.ensemble import GradientBoostingClassifier\n",
    "from sklearn import neighbors\n",
    "from sklearn.svm import SVC"
   ]
  },
  {
   "cell_type": "code",
   "execution_count": 3,
   "metadata": {},
   "outputs": [],
   "source": [
    "from warnings import filterwarnings # Uyarı almamak için\n",
    "filterwarnings(\"ignore\")"
   ]
  },
  {
   "cell_type": "markdown",
   "metadata": {},
   "source": [
    "# Veri Seti Hikayesi ve Problem: Şeker Hastalığı Tahmini"
   ]
  },
  {
   "cell_type": "code",
   "execution_count": 5,
   "metadata": {},
   "outputs": [],
   "source": [
    "df = pd.read_csv(\"diabetes.csv\")"
   ]
  },
  {
   "cell_type": "code",
   "execution_count": 6,
   "metadata": {},
   "outputs": [
    {
     "data": {
      "text/html": [
       "<div>\n",
       "<style scoped>\n",
       "    .dataframe tbody tr th:only-of-type {\n",
       "        vertical-align: middle;\n",
       "    }\n",
       "\n",
       "    .dataframe tbody tr th {\n",
       "        vertical-align: top;\n",
       "    }\n",
       "\n",
       "    .dataframe thead th {\n",
       "        text-align: right;\n",
       "    }\n",
       "</style>\n",
       "<table border=\"1\" class=\"dataframe\">\n",
       "  <thead>\n",
       "    <tr style=\"text-align: right;\">\n",
       "      <th></th>\n",
       "      <th>Pregnancies</th>\n",
       "      <th>Glucose</th>\n",
       "      <th>BloodPressure</th>\n",
       "      <th>SkinThickness</th>\n",
       "      <th>Insulin</th>\n",
       "      <th>BMI</th>\n",
       "      <th>DiabetesPedigreeFunction</th>\n",
       "      <th>Age</th>\n",
       "      <th>Outcome</th>\n",
       "    </tr>\n",
       "  </thead>\n",
       "  <tbody>\n",
       "    <tr>\n",
       "      <td>0</td>\n",
       "      <td>6</td>\n",
       "      <td>148</td>\n",
       "      <td>72</td>\n",
       "      <td>35</td>\n",
       "      <td>0</td>\n",
       "      <td>33.6</td>\n",
       "      <td>0.627</td>\n",
       "      <td>50</td>\n",
       "      <td>1</td>\n",
       "    </tr>\n",
       "    <tr>\n",
       "      <td>1</td>\n",
       "      <td>1</td>\n",
       "      <td>85</td>\n",
       "      <td>66</td>\n",
       "      <td>29</td>\n",
       "      <td>0</td>\n",
       "      <td>26.6</td>\n",
       "      <td>0.351</td>\n",
       "      <td>31</td>\n",
       "      <td>0</td>\n",
       "    </tr>\n",
       "    <tr>\n",
       "      <td>2</td>\n",
       "      <td>8</td>\n",
       "      <td>183</td>\n",
       "      <td>64</td>\n",
       "      <td>0</td>\n",
       "      <td>0</td>\n",
       "      <td>23.3</td>\n",
       "      <td>0.672</td>\n",
       "      <td>32</td>\n",
       "      <td>1</td>\n",
       "    </tr>\n",
       "    <tr>\n",
       "      <td>3</td>\n",
       "      <td>1</td>\n",
       "      <td>89</td>\n",
       "      <td>66</td>\n",
       "      <td>23</td>\n",
       "      <td>94</td>\n",
       "      <td>28.1</td>\n",
       "      <td>0.167</td>\n",
       "      <td>21</td>\n",
       "      <td>0</td>\n",
       "    </tr>\n",
       "    <tr>\n",
       "      <td>4</td>\n",
       "      <td>0</td>\n",
       "      <td>137</td>\n",
       "      <td>40</td>\n",
       "      <td>35</td>\n",
       "      <td>168</td>\n",
       "      <td>43.1</td>\n",
       "      <td>2.288</td>\n",
       "      <td>33</td>\n",
       "      <td>1</td>\n",
       "    </tr>\n",
       "  </tbody>\n",
       "</table>\n",
       "</div>"
      ],
      "text/plain": [
       "   Pregnancies  Glucose  BloodPressure  SkinThickness  Insulin   BMI  \\\n",
       "0            6      148             72             35        0  33.6   \n",
       "1            1       85             66             29        0  26.6   \n",
       "2            8      183             64              0        0  23.3   \n",
       "3            1       89             66             23       94  28.1   \n",
       "4            0      137             40             35      168  43.1   \n",
       "\n",
       "   DiabetesPedigreeFunction  Age  Outcome  \n",
       "0                     0.627   50        1  \n",
       "1                     0.351   31        0  \n",
       "2                     0.672   32        1  \n",
       "3                     0.167   21        0  \n",
       "4                     2.288   33        1  "
      ]
     },
     "execution_count": 6,
     "metadata": {},
     "output_type": "execute_result"
    }
   ],
   "source": [
    "df.head()"
   ]
  },
  {
   "cell_type": "markdown",
   "metadata": {},
   "source": [
    "## Lojistik Regresyon "
   ]
  },
  {
   "cell_type": "markdown",
   "metadata": {},
   "source": [
    "### Model ve Tahmin"
   ]
  },
  {
   "cell_type": "code",
   "execution_count": 7,
   "metadata": {},
   "outputs": [
    {
     "data": {
      "text/plain": [
       "0    500\n",
       "1    268\n",
       "Name: Outcome, dtype: int64"
      ]
     },
     "execution_count": 7,
     "metadata": {},
     "output_type": "execute_result"
    }
   ],
   "source": [
    "df[\"Outcome\"].value_counts()"
   ]
  },
  {
   "cell_type": "code",
   "execution_count": 7,
   "metadata": {},
   "outputs": [
    {
     "data": {
      "text/html": [
       "<div>\n",
       "<style scoped>\n",
       "    .dataframe tbody tr th:only-of-type {\n",
       "        vertical-align: middle;\n",
       "    }\n",
       "\n",
       "    .dataframe tbody tr th {\n",
       "        vertical-align: top;\n",
       "    }\n",
       "\n",
       "    .dataframe thead th {\n",
       "        text-align: right;\n",
       "    }\n",
       "</style>\n",
       "<table border=\"1\" class=\"dataframe\">\n",
       "  <thead>\n",
       "    <tr style=\"text-align: right;\">\n",
       "      <th></th>\n",
       "      <th>count</th>\n",
       "      <th>mean</th>\n",
       "      <th>std</th>\n",
       "      <th>min</th>\n",
       "      <th>25%</th>\n",
       "      <th>50%</th>\n",
       "      <th>75%</th>\n",
       "      <th>max</th>\n",
       "    </tr>\n",
       "  </thead>\n",
       "  <tbody>\n",
       "    <tr>\n",
       "      <td>Pregnancies</td>\n",
       "      <td>768.0</td>\n",
       "      <td>3.845052</td>\n",
       "      <td>3.369578</td>\n",
       "      <td>0.000</td>\n",
       "      <td>1.00000</td>\n",
       "      <td>3.0000</td>\n",
       "      <td>6.00000</td>\n",
       "      <td>17.00</td>\n",
       "    </tr>\n",
       "    <tr>\n",
       "      <td>Glucose</td>\n",
       "      <td>768.0</td>\n",
       "      <td>120.894531</td>\n",
       "      <td>31.972618</td>\n",
       "      <td>0.000</td>\n",
       "      <td>99.00000</td>\n",
       "      <td>117.0000</td>\n",
       "      <td>140.25000</td>\n",
       "      <td>199.00</td>\n",
       "    </tr>\n",
       "    <tr>\n",
       "      <td>BloodPressure</td>\n",
       "      <td>768.0</td>\n",
       "      <td>69.105469</td>\n",
       "      <td>19.355807</td>\n",
       "      <td>0.000</td>\n",
       "      <td>62.00000</td>\n",
       "      <td>72.0000</td>\n",
       "      <td>80.00000</td>\n",
       "      <td>122.00</td>\n",
       "    </tr>\n",
       "    <tr>\n",
       "      <td>SkinThickness</td>\n",
       "      <td>768.0</td>\n",
       "      <td>20.536458</td>\n",
       "      <td>15.952218</td>\n",
       "      <td>0.000</td>\n",
       "      <td>0.00000</td>\n",
       "      <td>23.0000</td>\n",
       "      <td>32.00000</td>\n",
       "      <td>99.00</td>\n",
       "    </tr>\n",
       "    <tr>\n",
       "      <td>Insulin</td>\n",
       "      <td>768.0</td>\n",
       "      <td>79.799479</td>\n",
       "      <td>115.244002</td>\n",
       "      <td>0.000</td>\n",
       "      <td>0.00000</td>\n",
       "      <td>30.5000</td>\n",
       "      <td>127.25000</td>\n",
       "      <td>846.00</td>\n",
       "    </tr>\n",
       "    <tr>\n",
       "      <td>BMI</td>\n",
       "      <td>768.0</td>\n",
       "      <td>31.992578</td>\n",
       "      <td>7.884160</td>\n",
       "      <td>0.000</td>\n",
       "      <td>27.30000</td>\n",
       "      <td>32.0000</td>\n",
       "      <td>36.60000</td>\n",
       "      <td>67.10</td>\n",
       "    </tr>\n",
       "    <tr>\n",
       "      <td>DiabetesPedigreeFunction</td>\n",
       "      <td>768.0</td>\n",
       "      <td>0.471876</td>\n",
       "      <td>0.331329</td>\n",
       "      <td>0.078</td>\n",
       "      <td>0.24375</td>\n",
       "      <td>0.3725</td>\n",
       "      <td>0.62625</td>\n",
       "      <td>2.42</td>\n",
       "    </tr>\n",
       "    <tr>\n",
       "      <td>Age</td>\n",
       "      <td>768.0</td>\n",
       "      <td>33.240885</td>\n",
       "      <td>11.760232</td>\n",
       "      <td>21.000</td>\n",
       "      <td>24.00000</td>\n",
       "      <td>29.0000</td>\n",
       "      <td>41.00000</td>\n",
       "      <td>81.00</td>\n",
       "    </tr>\n",
       "    <tr>\n",
       "      <td>Outcome</td>\n",
       "      <td>768.0</td>\n",
       "      <td>0.348958</td>\n",
       "      <td>0.476951</td>\n",
       "      <td>0.000</td>\n",
       "      <td>0.00000</td>\n",
       "      <td>0.0000</td>\n",
       "      <td>1.00000</td>\n",
       "      <td>1.00</td>\n",
       "    </tr>\n",
       "  </tbody>\n",
       "</table>\n",
       "</div>"
      ],
      "text/plain": [
       "                          count        mean         std     min       25%  \\\n",
       "Pregnancies               768.0    3.845052    3.369578   0.000   1.00000   \n",
       "Glucose                   768.0  120.894531   31.972618   0.000  99.00000   \n",
       "BloodPressure             768.0   69.105469   19.355807   0.000  62.00000   \n",
       "SkinThickness             768.0   20.536458   15.952218   0.000   0.00000   \n",
       "Insulin                   768.0   79.799479  115.244002   0.000   0.00000   \n",
       "BMI                       768.0   31.992578    7.884160   0.000  27.30000   \n",
       "DiabetesPedigreeFunction  768.0    0.471876    0.331329   0.078   0.24375   \n",
       "Age                       768.0   33.240885   11.760232  21.000  24.00000   \n",
       "Outcome                   768.0    0.348958    0.476951   0.000   0.00000   \n",
       "\n",
       "                               50%        75%     max  \n",
       "Pregnancies                 3.0000    6.00000   17.00  \n",
       "Glucose                   117.0000  140.25000  199.00  \n",
       "BloodPressure              72.0000   80.00000  122.00  \n",
       "SkinThickness              23.0000   32.00000   99.00  \n",
       "Insulin                    30.5000  127.25000  846.00  \n",
       "BMI                        32.0000   36.60000   67.10  \n",
       "DiabetesPedigreeFunction    0.3725    0.62625    2.42  \n",
       "Age                        29.0000   41.00000   81.00  \n",
       "Outcome                     0.0000    1.00000    1.00  "
      ]
     },
     "execution_count": 7,
     "metadata": {},
     "output_type": "execute_result"
    }
   ],
   "source": [
    "df.describe().T"
   ]
  },
  {
   "cell_type": "code",
   "execution_count": 8,
   "metadata": {},
   "outputs": [],
   "source": [
    "y = df[\"Outcome\"]\n",
    "X = df.drop([\"Outcome\"],axis = 1) # Outcome dışındakileri al"
   ]
  },
  {
   "cell_type": "code",
   "execution_count": 11,
   "metadata": {},
   "outputs": [
    {
     "data": {
      "text/plain": [
       "0    1\n",
       "1    0\n",
       "2    1\n",
       "3    0\n",
       "4    1\n",
       "Name: Outcome, dtype: int64"
      ]
     },
     "execution_count": 11,
     "metadata": {},
     "output_type": "execute_result"
    }
   ],
   "source": [
    "y.head()"
   ]
  },
  {
   "cell_type": "code",
   "execution_count": 13,
   "metadata": {},
   "outputs": [
    {
     "data": {
      "text/html": [
       "<div>\n",
       "<style scoped>\n",
       "    .dataframe tbody tr th:only-of-type {\n",
       "        vertical-align: middle;\n",
       "    }\n",
       "\n",
       "    .dataframe tbody tr th {\n",
       "        vertical-align: top;\n",
       "    }\n",
       "\n",
       "    .dataframe thead th {\n",
       "        text-align: right;\n",
       "    }\n",
       "</style>\n",
       "<table border=\"1\" class=\"dataframe\">\n",
       "  <thead>\n",
       "    <tr style=\"text-align: right;\">\n",
       "      <th></th>\n",
       "      <th>Pregnancies</th>\n",
       "      <th>Glucose</th>\n",
       "      <th>BloodPressure</th>\n",
       "      <th>SkinThickness</th>\n",
       "      <th>Insulin</th>\n",
       "      <th>BMI</th>\n",
       "      <th>DiabetesPedigreeFunction</th>\n",
       "      <th>Age</th>\n",
       "    </tr>\n",
       "  </thead>\n",
       "  <tbody>\n",
       "    <tr>\n",
       "      <td>0</td>\n",
       "      <td>6</td>\n",
       "      <td>148</td>\n",
       "      <td>72</td>\n",
       "      <td>35</td>\n",
       "      <td>0</td>\n",
       "      <td>33.6</td>\n",
       "      <td>0.627</td>\n",
       "      <td>50</td>\n",
       "    </tr>\n",
       "    <tr>\n",
       "      <td>1</td>\n",
       "      <td>1</td>\n",
       "      <td>85</td>\n",
       "      <td>66</td>\n",
       "      <td>29</td>\n",
       "      <td>0</td>\n",
       "      <td>26.6</td>\n",
       "      <td>0.351</td>\n",
       "      <td>31</td>\n",
       "    </tr>\n",
       "    <tr>\n",
       "      <td>2</td>\n",
       "      <td>8</td>\n",
       "      <td>183</td>\n",
       "      <td>64</td>\n",
       "      <td>0</td>\n",
       "      <td>0</td>\n",
       "      <td>23.3</td>\n",
       "      <td>0.672</td>\n",
       "      <td>32</td>\n",
       "    </tr>\n",
       "    <tr>\n",
       "      <td>3</td>\n",
       "      <td>1</td>\n",
       "      <td>89</td>\n",
       "      <td>66</td>\n",
       "      <td>23</td>\n",
       "      <td>94</td>\n",
       "      <td>28.1</td>\n",
       "      <td>0.167</td>\n",
       "      <td>21</td>\n",
       "    </tr>\n",
       "    <tr>\n",
       "      <td>4</td>\n",
       "      <td>0</td>\n",
       "      <td>137</td>\n",
       "      <td>40</td>\n",
       "      <td>35</td>\n",
       "      <td>168</td>\n",
       "      <td>43.1</td>\n",
       "      <td>2.288</td>\n",
       "      <td>33</td>\n",
       "    </tr>\n",
       "  </tbody>\n",
       "</table>\n",
       "</div>"
      ],
      "text/plain": [
       "   Pregnancies  Glucose  BloodPressure  SkinThickness  Insulin   BMI  \\\n",
       "0            6      148             72             35        0  33.6   \n",
       "1            1       85             66             29        0  26.6   \n",
       "2            8      183             64              0        0  23.3   \n",
       "3            1       89             66             23       94  28.1   \n",
       "4            0      137             40             35      168  43.1   \n",
       "\n",
       "   DiabetesPedigreeFunction  Age  \n",
       "0                     0.627   50  \n",
       "1                     0.351   31  \n",
       "2                     0.672   32  \n",
       "3                     0.167   21  \n",
       "4                     2.288   33  "
      ]
     },
     "execution_count": 13,
     "metadata": {},
     "output_type": "execute_result"
    }
   ],
   "source": [
    "X.head()"
   ]
  },
  {
   "cell_type": "code",
   "execution_count": 9,
   "metadata": {},
   "outputs": [],
   "source": [
    "loj_model = LogisticRegression(solver = \"liblinear\").fit(X,y)"
   ]
  },
  {
   "cell_type": "code",
   "execution_count": 10,
   "metadata": {},
   "outputs": [
    {
     "data": {
      "text/plain": [
       "array([-5.89159518])"
      ]
     },
     "execution_count": 10,
     "metadata": {},
     "output_type": "execute_result"
    }
   ],
   "source": [
    "loj_model.intercept_"
   ]
  },
  {
   "cell_type": "code",
   "execution_count": 11,
   "metadata": {},
   "outputs": [
    {
     "data": {
      "text/plain": [
       "array([[ 1.17052230e-01,  2.83873955e-02, -1.68897224e-02,\n",
       "         7.55274087e-04, -6.42755924e-04,  5.97603789e-02,\n",
       "         6.77671880e-01,  7.23947807e-03]])"
      ]
     },
     "execution_count": 11,
     "metadata": {},
     "output_type": "execute_result"
    }
   ],
   "source": [
    "loj_model.coef_"
   ]
  },
  {
   "cell_type": "code",
   "execution_count": 12,
   "metadata": {},
   "outputs": [
    {
     "data": {
      "text/plain": [
       "array([1, 0, 1, 0, 1, 0, 0, 1, 1, 0], dtype=int64)"
      ]
     },
     "execution_count": 12,
     "metadata": {},
     "output_type": "execute_result"
    }
   ],
   "source": [
    "loj_model.predict(X)[0:10]"
   ]
  },
  {
   "cell_type": "code",
   "execution_count": 13,
   "metadata": {},
   "outputs": [
    {
     "data": {
      "text/plain": [
       "0    1\n",
       "1    0\n",
       "2    1\n",
       "3    0\n",
       "4    1\n",
       "5    0\n",
       "6    1\n",
       "7    0\n",
       "8    1\n",
       "9    1\n",
       "Name: Outcome, dtype: int64"
      ]
     },
     "execution_count": 13,
     "metadata": {},
     "output_type": "execute_result"
    }
   ],
   "source": [
    "y[0:10]"
   ]
  },
  {
   "cell_type": "code",
   "execution_count": 14,
   "metadata": {},
   "outputs": [],
   "source": [
    "y_pred=loj_model.predict(X)"
   ]
  },
  {
   "cell_type": "code",
   "execution_count": 15,
   "metadata": {},
   "outputs": [
    {
     "data": {
      "text/plain": [
       "array([[448,  52],\n",
       "       [121, 147]], dtype=int64)"
      ]
     },
     "execution_count": 15,
     "metadata": {},
     "output_type": "execute_result"
    }
   ],
   "source": [
    "confusion_matrix(y,y_pred)"
   ]
  },
  {
   "cell_type": "code",
   "execution_count": 16,
   "metadata": {},
   "outputs": [
    {
     "data": {
      "text/plain": [
       "0.7747395833333334"
      ]
     },
     "execution_count": 16,
     "metadata": {},
     "output_type": "execute_result"
    }
   ],
   "source": [
    "accuracy_score(y,y_pred) # Başarı Oranı"
   ]
  },
  {
   "cell_type": "code",
   "execution_count": 17,
   "metadata": {},
   "outputs": [
    {
     "name": "stdout",
     "output_type": "stream",
     "text": [
      "              precision    recall  f1-score   support\n",
      "\n",
      "           0       0.79      0.90      0.84       500\n",
      "           1       0.74      0.55      0.63       268\n",
      "\n",
      "    accuracy                           0.77       768\n",
      "   macro avg       0.76      0.72      0.73       768\n",
      "weighted avg       0.77      0.77      0.77       768\n",
      "\n"
     ]
    }
   ],
   "source": [
    "print(classification_report(y,y_pred))"
   ]
  },
  {
   "cell_type": "code",
   "execution_count": 18,
   "metadata": {},
   "outputs": [
    {
     "data": {
      "text/plain": [
       "array([[0.35040711, 0.64959289],\n",
       "       [0.91701929, 0.08298071],\n",
       "       [0.22474085, 0.77525915],\n",
       "       [0.92138876, 0.07861124],\n",
       "       [0.1672242 , 0.8327758 ],\n",
       "       [0.79898675, 0.20101325],\n",
       "       [0.88019106, 0.11980894],\n",
       "       [0.2781269 , 0.7218731 ],\n",
       "       [0.32060943, 0.67939057],\n",
       "       [0.92272884, 0.07727116]])"
      ]
     },
     "execution_count": 18,
     "metadata": {},
     "output_type": "execute_result"
    }
   ],
   "source": [
    "loj_model.predict_proba(X)[0:10]"
   ]
  },
  {
   "cell_type": "markdown",
   "metadata": {},
   "source": [
    "### Model Tuning (Model Doğrulama)"
   ]
  },
  {
   "cell_type": "code",
   "execution_count": 19,
   "metadata": {},
   "outputs": [],
   "source": [
    "X_train,X_test,y_train,y_test = train_test_split(X,y,\n",
    "                                                 test_size=0.30,\n",
    "                                                 random_state=42)"
   ]
  },
  {
   "cell_type": "code",
   "execution_count": 20,
   "metadata": {},
   "outputs": [],
   "source": [
    "loj_model = LogisticRegression(solver = \"liblinear\").fit(X_train,y_train)"
   ]
  },
  {
   "cell_type": "code",
   "execution_count": 21,
   "metadata": {},
   "outputs": [],
   "source": [
    "y_pred = loj_model.predict(X_test)"
   ]
  },
  {
   "cell_type": "code",
   "execution_count": 22,
   "metadata": {},
   "outputs": [
    {
     "name": "stdout",
     "output_type": "stream",
     "text": [
      "0.7532467532467533\n"
     ]
    }
   ],
   "source": [
    "print(accuracy_score(y_test,y_pred))"
   ]
  },
  {
   "cell_type": "code",
   "execution_count": 23,
   "metadata": {},
   "outputs": [
    {
     "data": {
      "text/plain": [
       "0.7704710144927536"
      ]
     },
     "execution_count": 23,
     "metadata": {},
     "output_type": "execute_result"
    }
   ],
   "source": [
    "cross_val_score(loj_model,X_test,y_test,cv=10).mean()"
   ]
  },
  {
   "cell_type": "markdown",
   "metadata": {},
   "source": [
    "## K-En Yakın Komşu (KNN)"
   ]
  },
  {
   "cell_type": "code",
   "execution_count": 24,
   "metadata": {},
   "outputs": [],
   "source": [
    "df = pd.read_csv(\"diabetes.csv\")\n",
    "y = df[\"Outcome\"]\n",
    "X = df.drop([\"Outcome\"],axis = 1) # Outcome dışındakileri al\n",
    "X_train,X_test,y_train,y_test = train_test_split(X,y,\n",
    "                                                 test_size=0.30,\n",
    "                                                 random_state=42)"
   ]
  },
  {
   "cell_type": "markdown",
   "metadata": {},
   "source": [
    "### Model & Tahmin"
   ]
  },
  {
   "cell_type": "code",
   "execution_count": 25,
   "metadata": {},
   "outputs": [],
   "source": [
    "knn_model = KNeighborsClassifier().fit(X_train,y_train)"
   ]
  },
  {
   "cell_type": "code",
   "execution_count": 26,
   "metadata": {},
   "outputs": [
    {
     "data": {
      "text/plain": [
       "KNeighborsClassifier(algorithm='auto', leaf_size=30, metric='minkowski',\n",
       "                     metric_params=None, n_jobs=None, n_neighbors=5, p=2,\n",
       "                     weights='uniform')"
      ]
     },
     "execution_count": 26,
     "metadata": {},
     "output_type": "execute_result"
    }
   ],
   "source": [
    "knn_model"
   ]
  },
  {
   "cell_type": "code",
   "execution_count": 27,
   "metadata": {},
   "outputs": [],
   "source": [
    "y_pred=knn_model.predict(X_test)"
   ]
  },
  {
   "cell_type": "code",
   "execution_count": 28,
   "metadata": {},
   "outputs": [
    {
     "name": "stdout",
     "output_type": "stream",
     "text": [
      "0.6883116883116883\n"
     ]
    }
   ],
   "source": [
    "print(accuracy_score(y_test,y_pred))"
   ]
  },
  {
   "cell_type": "code",
   "execution_count": 29,
   "metadata": {},
   "outputs": [
    {
     "name": "stdout",
     "output_type": "stream",
     "text": [
      "              precision    recall  f1-score   support\n",
      "\n",
      "           0       0.77      0.75      0.76       151\n",
      "           1       0.55      0.56      0.56        80\n",
      "\n",
      "    accuracy                           0.69       231\n",
      "   macro avg       0.66      0.66      0.66       231\n",
      "weighted avg       0.69      0.69      0.69       231\n",
      "\n"
     ]
    }
   ],
   "source": [
    "print(classification_report(y_test,y_pred))"
   ]
  },
  {
   "cell_type": "markdown",
   "metadata": {},
   "source": [
    "### Model Tuning"
   ]
  },
  {
   "cell_type": "code",
   "execution_count": 30,
   "metadata": {},
   "outputs": [],
   "source": [
    "knn = KNeighborsClassifier()"
   ]
  },
  {
   "cell_type": "code",
   "execution_count": 45,
   "metadata": {},
   "outputs": [],
   "source": [
    "knn_params = {\"n_neighbors\": np.arange(1,50)}"
   ]
  },
  {
   "cell_type": "code",
   "execution_count": 46,
   "metadata": {},
   "outputs": [],
   "source": [
    "knn_cv_model = GridSearchCV(knn,knn_params,cv=10).fit(X_train,y_train)"
   ]
  },
  {
   "cell_type": "code",
   "execution_count": 47,
   "metadata": {},
   "outputs": [
    {
     "data": {
      "text/plain": [
       "{'n_neighbors': 11}"
      ]
     },
     "execution_count": 47,
     "metadata": {},
     "output_type": "execute_result"
    }
   ],
   "source": [
    "knn_cv_model.best_params_"
   ]
  },
  {
   "cell_type": "code",
   "execution_count": 48,
   "metadata": {},
   "outputs": [
    {
     "data": {
      "text/plain": [
       "0.7486033519553073"
      ]
     },
     "execution_count": 48,
     "metadata": {},
     "output_type": "execute_result"
    }
   ],
   "source": [
    "knn_cv_model.best_score_"
   ]
  },
  {
   "cell_type": "code",
   "execution_count": 31,
   "metadata": {},
   "outputs": [],
   "source": [
    "# Final Model\n",
    "knn_tuned = KNeighborsClassifier(n_neighbors = 11).fit(X_train,y_train)"
   ]
  },
  {
   "cell_type": "code",
   "execution_count": 52,
   "metadata": {},
   "outputs": [],
   "source": [
    "y_pred = knn_tuned.predict(X_test)"
   ]
  },
  {
   "cell_type": "code",
   "execution_count": 53,
   "metadata": {},
   "outputs": [
    {
     "name": "stdout",
     "output_type": "stream",
     "text": [
      "0.7316017316017316\n"
     ]
    }
   ],
   "source": [
    "print(accuracy_score(y_test,y_pred))"
   ]
  },
  {
   "cell_type": "code",
   "execution_count": 54,
   "metadata": {},
   "outputs": [
    {
     "data": {
      "text/plain": [
       "0.7316017316017316"
      ]
     },
     "execution_count": 54,
     "metadata": {},
     "output_type": "execute_result"
    }
   ],
   "source": [
    "knn_tuned.score(X_test,y_test)"
   ]
  },
  {
   "cell_type": "markdown",
   "metadata": {},
   "source": [
    "## Destek Vektör Makineleri"
   ]
  },
  {
   "cell_type": "code",
   "execution_count": 32,
   "metadata": {},
   "outputs": [],
   "source": [
    "df = pd.read_csv(\"diabetes.csv\")\n",
    "y = df[\"Outcome\"]\n",
    "X = df.drop([\"Outcome\"],axis = 1) # Outcome dışındakileri al\n",
    "X_train,X_test,y_train,y_test = train_test_split(X,y,\n",
    "                                                 test_size=0.30,\n",
    "                                                 random_state=42)"
   ]
  },
  {
   "cell_type": "markdown",
   "metadata": {},
   "source": [
    "### Model & Tahmin"
   ]
  },
  {
   "cell_type": "code",
   "execution_count": 62,
   "metadata": {},
   "outputs": [],
   "source": [
    "svm_model = SVC(kernel = \"linear\").fit(X_train,y_train)"
   ]
  },
  {
   "cell_type": "code",
   "execution_count": 63,
   "metadata": {},
   "outputs": [
    {
     "data": {
      "text/plain": [
       "SVC(C=1.0, cache_size=200, class_weight=None, coef0=0.0,\n",
       "    decision_function_shape='ovr', degree=3, gamma='auto_deprecated',\n",
       "    kernel='linear', max_iter=-1, probability=False, random_state=None,\n",
       "    shrinking=True, tol=0.001, verbose=False)"
      ]
     },
     "execution_count": 63,
     "metadata": {},
     "output_type": "execute_result"
    }
   ],
   "source": [
    "svm_model"
   ]
  },
  {
   "cell_type": "code",
   "execution_count": 66,
   "metadata": {},
   "outputs": [],
   "source": [
    "y_pred=svm_model.predict(X_test)"
   ]
  },
  {
   "cell_type": "code",
   "execution_count": 68,
   "metadata": {},
   "outputs": [
    {
     "data": {
      "text/plain": [
       "0.7445887445887446"
      ]
     },
     "execution_count": 68,
     "metadata": {},
     "output_type": "execute_result"
    }
   ],
   "source": [
    "accuracy_score(y_test,y_pred)"
   ]
  },
  {
   "cell_type": "markdown",
   "metadata": {},
   "source": [
    "### Model Tuning"
   ]
  },
  {
   "cell_type": "code",
   "execution_count": 72,
   "metadata": {},
   "outputs": [],
   "source": [
    "svm_model = SVC()\n",
    "svm_params = {\"C\": np.arange(1,10),\n",
    "             \"kernel\":[\"linear\",\"rbf\"]}\n",
    "svm_cv_model=GridSearchCV(svm_model,svm_params,cv=5).fit(X_train,y_train)"
   ]
  },
  {
   "cell_type": "code",
   "execution_count": 73,
   "metadata": {},
   "outputs": [
    {
     "data": {
      "text/plain": [
       "{'C': 2, 'kernel': 'linear'}"
      ]
     },
     "execution_count": 73,
     "metadata": {},
     "output_type": "execute_result"
    }
   ],
   "source": [
    "svm_cv_model.best_params_"
   ]
  },
  {
   "cell_type": "code",
   "execution_count": 75,
   "metadata": {},
   "outputs": [
    {
     "data": {
      "text/plain": [
       "0.7821229050279329"
      ]
     },
     "execution_count": 75,
     "metadata": {},
     "output_type": "execute_result"
    }
   ],
   "source": [
    "svm_cv_model.best_score_"
   ]
  },
  {
   "cell_type": "code",
   "execution_count": 33,
   "metadata": {},
   "outputs": [],
   "source": [
    "# Final Model\n",
    "svm_tuned = SVC(kernel=\"linear\",C=2).fit(X_train,y_train)"
   ]
  },
  {
   "cell_type": "code",
   "execution_count": 79,
   "metadata": {},
   "outputs": [
    {
     "data": {
      "text/plain": [
       "0.7445887445887446"
      ]
     },
     "execution_count": 79,
     "metadata": {},
     "output_type": "execute_result"
    }
   ],
   "source": [
    "y_pred = svm_tuned.predict(X_test)\n",
    "accuracy_score(y_test,y_pred)"
   ]
  },
  {
   "cell_type": "markdown",
   "metadata": {},
   "source": [
    "## Yapay Sinir Ağları"
   ]
  },
  {
   "cell_type": "code",
   "execution_count": 80,
   "metadata": {},
   "outputs": [],
   "source": [
    "df = pd.read_csv(\"diabetes.csv\")\n",
    "y = df[\"Outcome\"]\n",
    "X = df.drop([\"Outcome\"],axis = 1) # Outcome dışındakileri al\n",
    "X_train,X_test,y_train,y_test = train_test_split(X,y,\n",
    "                                                 test_size=0.30,\n",
    "                                                 random_state=42)"
   ]
  },
  {
   "cell_type": "markdown",
   "metadata": {},
   "source": [
    "### Model ve Tahmin"
   ]
  },
  {
   "cell_type": "code",
   "execution_count": 89,
   "metadata": {},
   "outputs": [],
   "source": [
    "mlp_model = MLPClassifier().fit(X_train,y_train)"
   ]
  },
  {
   "cell_type": "code",
   "execution_count": 91,
   "metadata": {
    "collapsed": true,
    "jupyter": {
     "outputs_hidden": true
    }
   },
   "outputs": [
    {
     "data": {
      "text/plain": [
       "[array([[ 1.54034834e-01, -2.55934988e-01,  1.15071642e-01,\n",
       "         -9.84510854e-02, -1.85603698e-01,  5.04047423e-02,\n",
       "          1.96230008e-01, -7.90086856e-02,  8.39906061e-02,\n",
       "         -2.48809338e-02,  1.12221611e-01, -2.39073014e-01,\n",
       "          2.09820973e-02,  3.17418595e-01,  2.10292578e-03,\n",
       "         -1.68837639e-02,  6.64348642e-02, -1.40097864e-01,\n",
       "         -5.70986089e-02, -6.82948066e-02,  2.79112107e-02,\n",
       "         -1.56043030e-01,  1.54958528e-02, -1.27838967e-01,\n",
       "          2.48572444e-01, -6.28922595e-02, -1.55565741e-01,\n",
       "         -1.48156855e-01,  1.16785163e-02,  5.70244509e-02,\n",
       "          1.65256309e-01, -1.93952465e-01, -2.66901131e-02,\n",
       "          1.46697308e-01,  9.35680998e-02, -1.38919853e-01,\n",
       "         -3.71699496e-02,  1.06263524e-01,  2.00290554e-01,\n",
       "         -1.34716238e-01,  1.57521655e-02, -2.54629632e-02,\n",
       "          1.93854683e-01,  3.82561962e-02,  9.55356175e-02,\n",
       "          1.14204991e-01,  8.30795704e-03, -1.73199878e-01,\n",
       "         -5.98845791e-02,  2.17753576e-01, -1.57074614e-01,\n",
       "          1.57660069e-01, -8.89678098e-02, -3.90058014e-02,\n",
       "         -1.52558993e-01, -1.01205058e-01, -5.05148047e-02,\n",
       "          1.27331567e-01,  5.67845867e-02,  9.08389316e-02,\n",
       "          3.36623240e-02, -1.29142853e-01, -1.79555809e-01,\n",
       "          2.87190451e-02, -1.27597924e-01,  8.20174470e-02,\n",
       "          2.68568663e-01,  3.39401574e-02,  3.76181390e-02,\n",
       "          1.04280308e-02, -5.74791222e-02,  2.35746824e-01,\n",
       "         -1.36364865e-01,  2.33639543e-01,  1.36218667e-03,\n",
       "          1.10461965e-01,  4.90292895e-02,  9.20967393e-02,\n",
       "          6.08608908e-02, -7.12216141e-02,  3.12300294e-02,\n",
       "         -1.34166478e-02,  1.35851415e-01, -3.09196871e-02,\n",
       "          2.55960925e-01,  1.11180169e-01,  1.18670174e-01,\n",
       "         -5.29256077e-02,  1.24766142e-02,  2.78731954e-02,\n",
       "          2.94081793e-02,  1.06158476e-01, -4.32953857e-02,\n",
       "          3.30381279e-06,  5.98222990e-02, -1.25980286e-01,\n",
       "          9.64584542e-03, -1.28106682e-01, -1.13469267e-01,\n",
       "          1.14035058e-01],\n",
       "        [ 2.37984116e-01, -2.48563751e-01, -8.89301892e-02,\n",
       "          5.77262196e-02,  1.36661150e-01,  6.44930483e-02,\n",
       "         -1.39498246e-01, -1.61912145e-01,  1.17822668e-01,\n",
       "         -1.77815169e-02,  6.13544469e-02, -9.90638318e-02,\n",
       "         -5.54988240e-02,  4.89956331e-03, -7.85529913e-03,\n",
       "         -1.35558717e-01, -1.96420310e-01, -1.24611354e-01,\n",
       "          1.95517390e-01,  8.81750905e-02, -4.35712183e-03,\n",
       "          4.94341055e-02, -2.16071901e-02, -1.55137925e-01,\n",
       "         -8.05982832e-02, -9.59060488e-02,  1.56718924e-01,\n",
       "          1.22645462e-01, -1.00502562e-04,  4.80601207e-03,\n",
       "          8.68609719e-02, -1.54052355e-01,  1.25044960e-02,\n",
       "          2.19382796e-02,  1.71889546e-01, -2.22448785e-01,\n",
       "         -1.90609985e-02, -4.34531240e-02, -9.86925386e-02,\n",
       "         -1.34491860e-01, -1.02334589e-02,  2.04929522e-01,\n",
       "         -1.19857497e-01, -1.79002751e-01,  2.29238802e-01,\n",
       "          3.86685427e-02, -2.17225793e-02,  1.46367394e-01,\n",
       "          1.51684265e-01, -2.66034302e-01,  3.83187764e-02,\n",
       "          7.64237797e-02, -1.62337713e-01,  1.95780698e-01,\n",
       "          1.74258864e-01, -6.51219478e-02,  2.29845910e-01,\n",
       "         -1.85900427e-01,  1.76205874e-01,  2.29935793e-01,\n",
       "         -2.62606707e-02, -9.57526207e-02, -1.24547266e-01,\n",
       "         -1.71247186e-01,  1.52183434e-03, -1.84750175e-01,\n",
       "         -8.16140869e-02,  6.01263125e-02, -1.62954777e-01,\n",
       "          1.55203604e-01,  1.21500486e-02,  3.88743117e-02,\n",
       "          1.30158845e-01,  6.50378920e-02, -2.43406390e-02,\n",
       "         -3.93286355e-02,  1.63185014e-01,  1.95024190e-01,\n",
       "         -7.74489563e-02,  2.96630259e-02,  1.97869697e-01,\n",
       "         -2.58857545e-02, -1.25688504e-01,  1.54642482e-01,\n",
       "          1.29898171e-01,  9.08943071e-02, -1.38247697e-01,\n",
       "          3.77182068e-02, -1.52500452e-01,  7.05013388e-02,\n",
       "          6.65531642e-02,  2.19939178e-01, -5.48655656e-02,\n",
       "         -9.67608952e-04, -1.91036293e-01,  1.09101794e-01,\n",
       "          1.48862708e-01,  1.80146617e-01,  6.90992842e-02,\n",
       "         -1.29287869e-02],\n",
       "        [ 1.55880687e-01, -1.34858214e-01, -1.87008306e-01,\n",
       "          6.72162682e-02, -1.37737709e-01,  7.79281902e-02,\n",
       "          1.01343369e-01,  2.44160004e-01,  1.20662454e-01,\n",
       "         -1.25335898e-02,  2.10651158e-01, -4.44287819e-02,\n",
       "         -3.74331852e-04, -1.90776587e-01,  2.10956184e-01,\n",
       "          1.58612742e-02, -1.77003465e-02,  8.72870382e-02,\n",
       "          5.68132399e-02, -1.67455128e-01, -2.69003905e-02,\n",
       "         -1.65893525e-01,  1.56110507e-01, -1.52938000e-01,\n",
       "          1.38199118e-01, -4.43713113e-02, -1.21136279e-01,\n",
       "          2.26971758e-01, -3.75114493e-02, -1.55210709e-01,\n",
       "          1.18645553e-01,  1.77618761e-01, -2.83451821e-02,\n",
       "          1.04089666e-01,  1.08627697e-01,  9.84663065e-02,\n",
       "         -8.81283627e-03, -1.00692715e-03, -1.77744212e-01,\n",
       "         -1.99838160e-01, -3.04107965e-02, -8.87767540e-02,\n",
       "          1.43848097e-02,  1.68371169e-01, -1.46952153e-02,\n",
       "          1.12267286e-02, -6.95737893e-03,  2.00837872e-01,\n",
       "          2.00184347e-02,  1.30549219e-01, -1.84110276e-02,\n",
       "         -2.30180096e-01,  1.15513268e-01, -1.34982889e-01,\n",
       "          2.02664249e-01,  1.63712292e-01,  1.60416515e-01,\n",
       "          2.48582413e-01,  3.62897144e-02,  2.06801322e-01,\n",
       "         -1.62603359e-02, -2.07596367e-01, -1.86265238e-01,\n",
       "          2.34278967e-01,  1.92390450e-01, -7.81660695e-02,\n",
       "         -1.96669472e-01,  1.87294011e-01,  8.62158176e-02,\n",
       "          6.59868286e-02,  6.43390233e-02,  4.87753831e-02,\n",
       "         -1.22805922e-02,  2.18448969e-01,  3.28021736e-03,\n",
       "          1.08660806e-01, -1.79946895e-01, -7.65480015e-02,\n",
       "          5.31304797e-02, -1.06927985e-01, -9.24382411e-02,\n",
       "          1.17176794e-03,  1.99869453e-01,  7.04421778e-02,\n",
       "         -7.80349022e-02,  4.13379646e-02,  7.68151878e-02,\n",
       "         -7.69019852e-02,  1.59189787e-01, -2.73829707e-02,\n",
       "          1.87118464e-01,  1.10953978e-02,  9.74594335e-02,\n",
       "          3.25352942e-06,  5.70502403e-02, -1.61618432e-01,\n",
       "          1.78530746e-01, -2.25112596e-01,  3.90173138e-02,\n",
       "         -1.49846753e-01],\n",
       "        [ 1.60784316e-01,  2.04359472e-01,  1.01060249e-01,\n",
       "         -1.13777017e-01,  2.25122733e-01, -1.77947203e-01,\n",
       "          6.33455892e-02,  1.94786148e-01,  4.13035852e-02,\n",
       "         -4.79287890e-03, -4.65198507e-02,  3.06103598e-02,\n",
       "          4.97896223e-04, -2.33087284e-02, -8.32143619e-02,\n",
       "         -1.90100061e-02,  1.97343675e-01,  7.87454271e-03,\n",
       "          1.35206486e-01,  1.96933681e-01,  6.76652557e-03,\n",
       "         -1.94029648e-01,  2.15206164e-02, -6.07161533e-02,\n",
       "          1.51362487e-01,  1.80308180e-01,  1.98569942e-02,\n",
       "          1.58406233e-02,  1.42152923e-03,  1.65729316e-01,\n",
       "         -1.35902197e-01,  4.21063457e-02, -1.44049146e-01,\n",
       "         -1.13582281e-01,  7.07580696e-02,  1.94700076e-01,\n",
       "         -4.41599814e-02,  6.27943705e-02,  1.57309998e-01,\n",
       "         -2.27556097e-02, -3.25023307e-04,  1.97197428e-02,\n",
       "          1.44236179e-01,  1.75386105e-01, -1.96253787e-01,\n",
       "          2.10332974e-01,  7.24890279e-02,  1.34951711e-01,\n",
       "         -1.56821210e-01, -2.40877098e-02, -5.83094606e-02,\n",
       "         -2.47291988e-01,  1.61840335e-01,  1.43379713e-01,\n",
       "         -1.53508865e-01, -9.18998628e-02, -2.38623915e-01,\n",
       "          8.09224628e-02,  1.67125539e-01,  2.21982319e-02,\n",
       "          1.65055615e-04, -1.26748985e-01, -1.45744775e-01,\n",
       "         -2.39916225e-01,  2.78578713e-02, -4.58316395e-02,\n",
       "          1.62281672e-01,  2.20993785e-01,  8.91323516e-02,\n",
       "         -1.58204462e-01,  1.55717500e-01, -5.22826052e-02,\n",
       "          2.28000334e-01,  1.82417249e-01, -1.91714992e-03,\n",
       "         -1.67985850e-01, -8.78025822e-02, -1.22852150e-01,\n",
       "         -9.34923221e-02,  1.37456193e-01,  1.24817033e-01,\n",
       "         -5.65995376e-02, -1.13469655e-01,  3.56433574e-02,\n",
       "         -1.08358757e-02,  1.31651271e-01,  1.68280933e-01,\n",
       "          2.01255021e-01, -8.28992097e-02, -1.80383223e-02,\n",
       "          1.84001930e-02, -1.95806952e-01, -1.17312205e-02,\n",
       "          1.84576229e-04, -1.95603847e-01, -1.62704255e-01,\n",
       "          1.84491211e-01, -6.87744967e-02,  4.80612314e-02,\n",
       "          1.31709799e-02],\n",
       "        [ 6.87279987e-02,  1.02420323e-01,  2.52046314e-02,\n",
       "          2.43359065e-01,  1.82147077e-01,  1.78368773e-01,\n",
       "          2.04157436e-01,  2.12878457e-01, -3.97034675e-02,\n",
       "         -4.61467196e-02,  1.49432868e-01,  6.41660019e-02,\n",
       "         -5.51295295e-02, -9.34641434e-03, -1.19398981e-01,\n",
       "          2.47118873e-01,  1.30303110e-01,  1.08480269e-01,\n",
       "         -1.02601267e-01, -1.75713413e-02, -6.10163275e-03,\n",
       "         -6.93098041e-02, -3.36931005e-02,  7.40705308e-02,\n",
       "          1.66546191e-01,  3.70776936e-02, -1.20741682e-01,\n",
       "          3.98683751e-02, -8.45533913e-03, -2.23183804e-02,\n",
       "         -2.00668536e-01,  1.15289939e-01, -2.67682141e-02,\n",
       "         -7.95458853e-02,  3.84682855e-02, -1.01923259e-01,\n",
       "         -4.60655710e-03,  1.59131754e-01,  1.10259017e-01,\n",
       "         -1.84925478e-02,  1.59041678e-05,  3.94350094e-02,\n",
       "          5.32944937e-02, -1.15430311e-02, -1.02852996e-01,\n",
       "         -1.33076014e-01, -7.19130558e-03,  1.02040976e-01,\n",
       "          1.47011728e-01, -2.56805802e-01, -1.42380533e-03,\n",
       "          1.60928384e-01,  5.85242498e-02, -3.61194484e-02,\n",
       "          1.92402735e-01, -1.06780271e-01,  4.85969341e-02,\n",
       "          1.46382757e-01,  1.82953908e-01,  1.44210187e-01,\n",
       "         -7.63505306e-03,  1.86311827e-01,  6.65594243e-02,\n",
       "          2.36168894e-02,  6.78601112e-02,  1.58516452e-01,\n",
       "          9.89065049e-02,  1.22481678e-01, -1.80051484e-02,\n",
       "          1.51636641e-01, -3.25406329e-02, -1.65067559e-02,\n",
       "          1.95617764e-03,  8.40859464e-02, -1.06057931e-02,\n",
       "         -4.58080505e-02,  2.37636040e-02,  1.21237749e-01,\n",
       "          1.65593097e-01, -1.13503679e-02,  1.08808599e-01,\n",
       "         -6.24680163e-06, -3.08413531e-01, -1.99795298e-01,\n",
       "          1.65632084e-01,  2.23637800e-01,  9.67221236e-02,\n",
       "         -2.47100304e-02, -9.86610640e-02,  1.43869668e-01,\n",
       "          1.21735747e-01,  6.28214386e-02,  4.74103873e-02,\n",
       "         -6.90769291e-03,  1.76830087e-01, -3.07932289e-02,\n",
       "         -3.91650197e-02,  1.25719332e-01,  7.29696369e-02,\n",
       "          1.82998799e-01],\n",
       "        [ 1.94590413e-01, -2.03678489e-01,  2.14315358e-01,\n",
       "          2.21820125e-01, -1.01581448e-02, -9.09184768e-02,\n",
       "         -8.75832033e-02, -1.21899444e-01, -1.71889030e-01,\n",
       "         -1.94731938e-03,  2.01554538e-01, -2.11911798e-01,\n",
       "         -4.29757282e-02, -7.17342248e-02,  1.39227362e-02,\n",
       "         -2.07352877e-01,  1.52978250e-01,  3.38181914e-04,\n",
       "          2.37491486e-02, -9.75004020e-03, -8.92129045e-03,\n",
       "         -1.04979217e-01,  1.03447547e-01,  1.77314166e-01,\n",
       "          1.13826534e-01, -2.43581150e-01, -6.76812651e-02,\n",
       "          8.26587058e-02, -1.79824580e-02,  2.38558174e-01,\n",
       "          5.98835615e-02,  2.51674357e-02, -4.04453844e-02,\n",
       "          1.58823838e-01,  1.74855406e-01, -9.58924523e-02,\n",
       "          4.04672676e-02,  6.00604969e-02,  1.27105278e-01,\n",
       "          1.19886933e-01,  2.26850418e-02,  4.43232055e-02,\n",
       "          1.54714836e-01,  1.57317255e-01,  5.68405478e-02,\n",
       "          1.58371293e-01, -1.40417501e-02,  1.89421583e-01,\n",
       "          2.12874582e-01, -6.04873822e-02, -6.97149965e-02,\n",
       "          2.12129324e-01,  1.29333283e-01,  1.21323707e-01,\n",
       "         -1.83439405e-01,  1.32915627e-01,  4.70761141e-02,\n",
       "         -1.25988744e-02, -1.09360926e-01, -1.72335121e-01,\n",
       "          9.44172356e-02, -4.29731999e-02,  2.50421069e-02,\n",
       "         -1.25180011e-01, -1.60318835e-01, -2.52174989e-02,\n",
       "          1.10352254e-01,  8.80790499e-02,  9.23275164e-02,\n",
       "         -4.24006195e-02,  1.78497740e-01,  1.21087357e-01,\n",
       "         -7.66805142e-02,  6.21762688e-02, -7.49610138e-04,\n",
       "         -4.95872220e-02,  7.76745017e-03, -1.71278921e-01,\n",
       "         -5.48336439e-02, -9.30412178e-02, -1.53601927e-01,\n",
       "          2.12604807e-03, -7.27865157e-02, -1.33987728e-01,\n",
       "          5.95646294e-02,  2.24092666e-01, -2.07652339e-01,\n",
       "          2.15439658e-01,  1.23284559e-01,  2.05523320e-01,\n",
       "          4.03782452e-02,  2.05289664e-01,  7.27129292e-02,\n",
       "         -3.97437058e-06, -5.12700860e-03,  1.74949669e-02,\n",
       "         -1.35566632e-01, -1.23881528e-01, -7.60821681e-02,\n",
       "         -1.06489459e-01],\n",
       "        [ 1.74472565e-01,  3.27609240e-01, -5.31304089e-02,\n",
       "          1.98174771e-01, -3.85685745e-02,  5.16666688e-02,\n",
       "          1.12087424e-01, -2.06662707e-01, -1.84453733e-01,\n",
       "          6.32293009e-03,  1.08834605e-01,  7.04383653e-02,\n",
       "         -2.60964003e-02,  2.22159483e-01,  1.75135026e-01,\n",
       "          1.24328648e-01,  1.47507171e-01,  1.40551418e-01,\n",
       "         -1.31692712e-01,  2.77592016e-01,  1.50627909e-03,\n",
       "         -2.01502548e-01, -2.52871718e-01,  1.97606470e-01,\n",
       "         -1.15344418e-01, -2.39385821e-01,  1.68280620e-01,\n",
       "         -1.00599220e-03, -5.49999852e-02, -2.28729193e-02,\n",
       "          5.38255160e-02, -3.40895007e-02,  3.22929585e-02,\n",
       "          1.81568543e-01, -1.72022938e-01, -2.03838017e-01,\n",
       "         -4.36322204e-02,  1.83314615e-01, -1.75512365e-02,\n",
       "         -8.41831689e-02,  3.69002162e-02,  8.61231236e-02,\n",
       "          2.65340665e-01, -1.20620492e-01,  9.75550412e-02,\n",
       "          1.74816205e-01,  5.72428167e-02,  1.20362657e-01,\n",
       "         -2.22590482e-01, -9.88445586e-02,  9.83871535e-02,\n",
       "          3.17478351e-02, -1.24177838e-01,  2.01457923e-01,\n",
       "          4.10990630e-02,  2.03050424e-01, -6.25280348e-02,\n",
       "          8.52131238e-03,  1.49932063e-01,  1.73786109e-01,\n",
       "          1.65146553e-02, -1.24583502e-01, -1.56444519e-02,\n",
       "         -2.39737817e-01,  3.66480594e-02, -6.71768003e-02,\n",
       "          1.43624251e-01,  1.74816338e-01, -2.05676396e-01,\n",
       "         -1.34488756e-01,  2.01350391e-01, -1.67693416e-01,\n",
       "         -2.05528226e-01, -1.09908875e-01,  4.77330510e-06,\n",
       "         -1.57948974e-01,  2.23686983e-01, -3.82756409e-02,\n",
       "          1.32634038e-01,  2.61290999e-02,  1.52269283e-01,\n",
       "          3.17564836e-04, -5.12688030e-02,  2.28384012e-01,\n",
       "         -1.38703572e-01,  2.09281549e-01,  4.16718080e-02,\n",
       "          2.31615674e-01, -2.69924904e-02, -8.44577645e-02,\n",
       "          6.68933832e-03, -2.12613628e-02, -2.54391060e-02,\n",
       "          1.18340097e-03, -1.72159203e-01, -1.54684406e-01,\n",
       "         -1.46730929e-01, -2.11994029e-01,  1.89012252e-01,\n",
       "          1.05316667e-01],\n",
       "        [-1.61876834e-02,  1.19264655e-01, -2.10866158e-01,\n",
       "         -7.32937438e-02,  7.94895023e-03,  1.04582033e-01,\n",
       "         -5.16052511e-02,  2.56199951e-01,  9.02041842e-02,\n",
       "         -6.08769765e-02,  1.62519231e-01, -1.28415779e-01,\n",
       "         -1.38247031e-02,  2.78792785e-01,  1.07678024e-01,\n",
       "          3.20893576e-02,  1.93544811e-01, -7.79084632e-02,\n",
       "          1.64938366e-01, -1.98887327e-01,  4.39533919e-04,\n",
       "          2.00855717e-01, -1.99818236e-01,  4.23527092e-02,\n",
       "          2.52343084e-02, -8.85798052e-02,  1.86896928e-01,\n",
       "          1.86641579e-01,  3.20028744e-06,  9.47664041e-02,\n",
       "          1.99890562e-01,  1.89743590e-02,  1.32084490e-01,\n",
       "          1.99455923e-01, -1.72220638e-02,  1.66197147e-01,\n",
       "         -1.55733802e-02, -1.91565432e-01,  1.60587557e-01,\n",
       "          1.94310632e-01,  1.47186204e-03, -4.22375070e-03,\n",
       "          1.82412724e-01,  8.14891700e-03,  1.94731245e-01,\n",
       "          1.81170936e-01, -8.11140073e-02,  1.25053875e-01,\n",
       "         -1.78046130e-02,  1.18671514e-01, -1.52642221e-01,\n",
       "         -2.19467913e-01,  1.81284265e-01,  1.75110179e-01,\n",
       "         -2.02232093e-01, -2.94995858e-02,  3.55704870e-02,\n",
       "         -1.92137132e-01,  9.77797347e-02,  6.34356608e-02,\n",
       "         -1.02890669e-01,  3.80192431e-02, -2.27878611e-01,\n",
       "         -3.01544830e-02, -1.51936515e-01,  1.78296531e-01,\n",
       "         -1.28651831e-02, -1.63940128e-01,  2.18397642e-01,\n",
       "          1.34799462e-01,  1.48512109e-01, -6.08532856e-02,\n",
       "          2.59026481e-02, -1.55800042e-01, -4.13090101e-02,\n",
       "         -2.10002959e-01,  1.58332575e-01,  3.73466089e-02,\n",
       "          1.76413448e-01,  1.16103375e-01,  1.05777651e-01,\n",
       "         -5.58334154e-02,  1.37867529e-01, -4.26486271e-02,\n",
       "          1.20715793e-01,  1.91508042e-01, -1.61611513e-01,\n",
       "         -3.30246740e-03,  3.40984636e-02,  2.14892176e-01,\n",
       "         -8.29980093e-02, -2.48724301e-03, -2.26053245e-01,\n",
       "         -3.23580685e-02,  6.09277229e-02, -6.59372126e-03,\n",
       "          1.31836526e-01,  2.06644208e-01, -8.71643566e-02,\n",
       "          1.31376934e-01]]), array([[ 2.69625581e-02],\n",
       "        [-4.68932149e-02],\n",
       "        [ 1.93473698e-01],\n",
       "        [ 2.35602072e-01],\n",
       "        [ 1.98802971e-02],\n",
       "        [-1.46657736e-01],\n",
       "        [ 1.21780552e-01],\n",
       "        [ 1.70524162e-01],\n",
       "        [ 1.81848153e-01],\n",
       "        [-2.12195771e-04],\n",
       "        [-9.04302001e-02],\n",
       "        [-1.56375745e-01],\n",
       "        [ 6.28134985e-03],\n",
       "        [-2.18729053e-01],\n",
       "        [-1.16879770e-01],\n",
       "        [ 1.67536036e-01],\n",
       "        [-7.91946205e-02],\n",
       "        [-7.75923044e-02],\n",
       "        [ 1.71127447e-01],\n",
       "        [ 1.64717178e-01],\n",
       "        [-1.70581247e-03],\n",
       "        [-1.83006865e-01],\n",
       "        [-7.60580479e-02],\n",
       "        [-1.57905615e-01],\n",
       "        [ 1.76643417e-01],\n",
       "        [ 8.75874111e-02],\n",
       "        [ 2.01650949e-01],\n",
       "        [ 9.32678319e-02],\n",
       "        [-1.51941130e-02],\n",
       "        [-1.95127721e-01],\n",
       "        [-7.11745180e-02],\n",
       "        [ 2.99986470e-02],\n",
       "        [-1.92663036e-01],\n",
       "        [ 1.64302634e-01],\n",
       "        [-1.34619302e-01],\n",
       "        [ 1.12703442e-01],\n",
       "        [-2.98283170e-02],\n",
       "        [ 1.95515042e-01],\n",
       "        [ 1.35818785e-01],\n",
       "        [ 1.30627057e-02],\n",
       "        [-8.00392939e-03],\n",
       "        [ 2.32476340e-01],\n",
       "        [-6.31094777e-02],\n",
       "        [ 1.97466409e-01],\n",
       "        [ 1.92103763e-01],\n",
       "        [-1.52024613e-01],\n",
       "        [-8.11047917e-02],\n",
       "        [ 9.50201438e-02],\n",
       "        [ 9.66511024e-02],\n",
       "        [ 1.87238111e-01],\n",
       "        [ 3.63902669e-02],\n",
       "        [-1.17816364e-01],\n",
       "        [-5.16655846e-02],\n",
       "        [-1.18721622e-01],\n",
       "        [-6.48615763e-02],\n",
       "        [-1.08504596e-01],\n",
       "        [-1.61212556e-01],\n",
       "        [-1.37106225e-01],\n",
       "        [-1.98979232e-01],\n",
       "        [ 1.04010621e-01],\n",
       "        [-6.17901209e-02],\n",
       "        [-1.92653169e-02],\n",
       "        [ 5.12470700e-02],\n",
       "        [-6.98814795e-02],\n",
       "        [-1.86317524e-01],\n",
       "        [-8.37057982e-02],\n",
       "        [ 1.58273704e-01],\n",
       "        [-8.76621192e-02],\n",
       "        [-4.20807225e-02],\n",
       "        [-2.35203302e-01],\n",
       "        [ 2.30224561e-02],\n",
       "        [ 1.97208903e-01],\n",
       "        [-2.00581791e-01],\n",
       "        [ 4.34198548e-02],\n",
       "        [-4.38887398e-02],\n",
       "        [ 5.04324869e-02],\n",
       "        [ 1.65191957e-01],\n",
       "        [-2.14814422e-01],\n",
       "        [-1.75692050e-01],\n",
       "        [-3.23701871e-01],\n",
       "        [ 2.04801139e-01],\n",
       "        [-3.98371987e-02],\n",
       "        [ 9.80961734e-02],\n",
       "        [-1.81941993e-01],\n",
       "        [ 7.52237387e-02],\n",
       "        [-1.51741537e-01],\n",
       "        [-1.68265119e-01],\n",
       "        [ 7.25151911e-03],\n",
       "        [-1.06110926e-01],\n",
       "        [-1.99024020e-01],\n",
       "        [-1.01766607e-01],\n",
       "        [ 6.56536969e-02],\n",
       "        [-5.25292025e-02],\n",
       "        [-3.90555961e-03],\n",
       "        [ 1.70610152e-01],\n",
       "        [-8.27067023e-02],\n",
       "        [ 1.96402578e-02],\n",
       "        [ 4.87853288e-02],\n",
       "        [ 1.54453401e-01],\n",
       "        [ 1.17677401e-01]])]"
      ]
     },
     "execution_count": 91,
     "metadata": {},
     "output_type": "execute_result"
    }
   ],
   "source": [
    "mlp_model.coefs_"
   ]
  },
  {
   "cell_type": "code",
   "execution_count": 92,
   "metadata": {},
   "outputs": [
    {
     "data": {
      "text/plain": [
       "MLPClassifier(activation='relu', alpha=0.0001, batch_size='auto', beta_1=0.9,\n",
       "              beta_2=0.999, early_stopping=False, epsilon=1e-08,\n",
       "              hidden_layer_sizes=(100,), learning_rate='constant',\n",
       "              learning_rate_init=0.001, max_iter=200, momentum=0.9,\n",
       "              n_iter_no_change=10, nesterovs_momentum=True, power_t=0.5,\n",
       "              random_state=None, shuffle=True, solver='adam', tol=0.0001,\n",
       "              validation_fraction=0.1, verbose=False, warm_start=False)"
      ]
     },
     "execution_count": 92,
     "metadata": {},
     "output_type": "execute_result"
    }
   ],
   "source": [
    "mlp_model"
   ]
  },
  {
   "cell_type": "code",
   "execution_count": 93,
   "metadata": {},
   "outputs": [],
   "source": [
    "y_pred=mlp_model.predict(X_test)"
   ]
  },
  {
   "cell_type": "code",
   "execution_count": 94,
   "metadata": {},
   "outputs": [
    {
     "data": {
      "text/plain": [
       "0.7402597402597403"
      ]
     },
     "execution_count": 94,
     "metadata": {},
     "output_type": "execute_result"
    }
   ],
   "source": [
    "accuracy_score(y_test,y_pred)"
   ]
  },
  {
   "cell_type": "markdown",
   "metadata": {},
   "source": [
    "### Model Tuning"
   ]
  },
  {
   "cell_type": "code",
   "execution_count": 119,
   "metadata": {},
   "outputs": [],
   "source": [
    "mlp_params = {\"alpha\" : [5,0.1,0.01],\n",
    "             \"hidden_layer_sizes\": [(100,100,100),(100,100)]}"
   ]
  },
  {
   "cell_type": "code",
   "execution_count": 120,
   "metadata": {},
   "outputs": [
    {
     "name": "stdout",
     "output_type": "stream",
     "text": [
      "Fitting 5 folds for each of 6 candidates, totalling 30 fits\n"
     ]
    },
    {
     "name": "stderr",
     "output_type": "stream",
     "text": [
      "[Parallel(n_jobs=-1)]: Using backend LokyBackend with 8 concurrent workers.\n",
      "[Parallel(n_jobs=-1)]: Done  30 out of  30 | elapsed:   13.1s finished\n"
     ]
    }
   ],
   "source": [
    "mlpc = MLPClassifier(solver=\"lbfgs\",activation=\"logistic\")\n",
    "mlp_cv_model = GridSearchCV(mlpc,mlp_params,cv=5,verbose = 2,n_jobs =-1).fit(X_train,y_train)"
   ]
  },
  {
   "cell_type": "code",
   "execution_count": 121,
   "metadata": {},
   "outputs": [
    {
     "data": {
      "text/plain": [
       "{'alpha': 5, 'hidden_layer_sizes': (100, 100)}"
      ]
     },
     "execution_count": 121,
     "metadata": {},
     "output_type": "execute_result"
    }
   ],
   "source": [
    "mlp_cv_model.best_params_"
   ]
  },
  {
   "cell_type": "code",
   "execution_count": 34,
   "metadata": {},
   "outputs": [],
   "source": [
    "mlp_tuned = MLPClassifier(solver=\"lbfgs\",activation=\"logistic\",\n",
    "                          alpha=5,hidden_layer_sizes=(100,100)).fit(X_train,y_train)"
   ]
  },
  {
   "cell_type": "code",
   "execution_count": 123,
   "metadata": {},
   "outputs": [],
   "source": [
    "y_pred=mlp_tuned.predict(X_test)"
   ]
  },
  {
   "cell_type": "code",
   "execution_count": 124,
   "metadata": {},
   "outputs": [
    {
     "data": {
      "text/plain": [
       "0.7445887445887446"
      ]
     },
     "execution_count": 124,
     "metadata": {},
     "output_type": "execute_result"
    }
   ],
   "source": [
    "accuracy_score(y_test,y_pred)"
   ]
  },
  {
   "cell_type": "markdown",
   "metadata": {},
   "source": [
    "## CART"
   ]
  },
  {
   "cell_type": "code",
   "execution_count": 125,
   "metadata": {},
   "outputs": [],
   "source": [
    "df = pd.read_csv(\"diabetes.csv\")\n",
    "y = df[\"Outcome\"]\n",
    "X = df.drop([\"Outcome\"],axis = 1) # Outcome dışındakileri al\n",
    "X_train,X_test,y_train,y_test = train_test_split(X,y,\n",
    "                                                 test_size=0.30,\n",
    "                                                 random_state=42)"
   ]
  },
  {
   "cell_type": "markdown",
   "metadata": {},
   "source": [
    "### Model ve Tahmin"
   ]
  },
  {
   "cell_type": "code",
   "execution_count": 126,
   "metadata": {},
   "outputs": [],
   "source": [
    "cart_model = DecisionTreeClassifier().fit(X_train,y_train)"
   ]
  },
  {
   "cell_type": "code",
   "execution_count": 127,
   "metadata": {},
   "outputs": [
    {
     "data": {
      "text/plain": [
       "DecisionTreeClassifier(class_weight=None, criterion='gini', max_depth=None,\n",
       "                       max_features=None, max_leaf_nodes=None,\n",
       "                       min_impurity_decrease=0.0, min_impurity_split=None,\n",
       "                       min_samples_leaf=1, min_samples_split=2,\n",
       "                       min_weight_fraction_leaf=0.0, presort=False,\n",
       "                       random_state=None, splitter='best')"
      ]
     },
     "execution_count": 127,
     "metadata": {},
     "output_type": "execute_result"
    }
   ],
   "source": [
    "cart_model"
   ]
  },
  {
   "cell_type": "code",
   "execution_count": 128,
   "metadata": {},
   "outputs": [],
   "source": [
    "y_pred = cart_model.predict(X_test)"
   ]
  },
  {
   "cell_type": "code",
   "execution_count": 129,
   "metadata": {},
   "outputs": [
    {
     "data": {
      "text/plain": [
       "0.7142857142857143"
      ]
     },
     "execution_count": 129,
     "metadata": {},
     "output_type": "execute_result"
    }
   ],
   "source": [
    "accuracy_score(y_test,y_pred)"
   ]
  },
  {
   "cell_type": "markdown",
   "metadata": {},
   "source": [
    "### Model Tuning"
   ]
  },
  {
   "cell_type": "code",
   "execution_count": 130,
   "metadata": {},
   "outputs": [],
   "source": [
    "cart_model = DecisionTreeClassifier()"
   ]
  },
  {
   "cell_type": "code",
   "execution_count": 132,
   "metadata": {},
   "outputs": [],
   "source": [
    "cart_params = {\"max_depth\":[1,3,4,5,10],\n",
    "               \"min_samples_split\":[2,10,5,30]}"
   ]
  },
  {
   "cell_type": "code",
   "execution_count": 134,
   "metadata": {},
   "outputs": [],
   "source": [
    "cart_cv_model = GridSearchCV(cart_model,cart_params,cv=10).fit(X_train,y_train)"
   ]
  },
  {
   "cell_type": "code",
   "execution_count": 135,
   "metadata": {},
   "outputs": [
    {
     "data": {
      "text/plain": [
       "{'max_depth': 5, 'min_samples_split': 30}"
      ]
     },
     "execution_count": 135,
     "metadata": {},
     "output_type": "execute_result"
    }
   ],
   "source": [
    "cart_cv_model.best_params_"
   ]
  },
  {
   "cell_type": "code",
   "execution_count": 35,
   "metadata": {},
   "outputs": [],
   "source": [
    "cart_tuned = DecisionTreeClassifier(max_depth=5,min_samples_split=30).fit(X_train,y_train)"
   ]
  },
  {
   "cell_type": "code",
   "execution_count": 137,
   "metadata": {},
   "outputs": [],
   "source": [
    "y_pred = cart_tuned.predict(X_test)"
   ]
  },
  {
   "cell_type": "code",
   "execution_count": 138,
   "metadata": {},
   "outputs": [
    {
     "data": {
      "text/plain": [
       "0.7532467532467533"
      ]
     },
     "execution_count": 138,
     "metadata": {},
     "output_type": "execute_result"
    }
   ],
   "source": [
    "accuracy_score(y_test,y_pred)"
   ]
  },
  {
   "cell_type": "markdown",
   "metadata": {},
   "source": [
    "## Random Forest"
   ]
  },
  {
   "cell_type": "code",
   "execution_count": 3,
   "metadata": {},
   "outputs": [],
   "source": [
    "df = pd.read_csv(\"diabetes.csv\")\n",
    "y = df[\"Outcome\"]\n",
    "X = df.drop([\"Outcome\"],axis = 1) # Outcome dışındakileri al\n",
    "X_train,X_test,y_train,y_test = train_test_split(X,y,\n",
    "                                                 test_size=0.30,\n",
    "                                                 random_state=42)"
   ]
  },
  {
   "cell_type": "code",
   "execution_count": 4,
   "metadata": {},
   "outputs": [],
   "source": [
    "rf_model = RandomForestClassifier().fit(X_train,y_train)"
   ]
  },
  {
   "cell_type": "code",
   "execution_count": 5,
   "metadata": {},
   "outputs": [
    {
     "data": {
      "text/plain": [
       "RandomForestClassifier(bootstrap=True, class_weight=None, criterion='gini',\n",
       "                       max_depth=None, max_features='auto', max_leaf_nodes=None,\n",
       "                       min_impurity_decrease=0.0, min_impurity_split=None,\n",
       "                       min_samples_leaf=1, min_samples_split=2,\n",
       "                       min_weight_fraction_leaf=0.0, n_estimators=10,\n",
       "                       n_jobs=None, oob_score=False, random_state=None,\n",
       "                       verbose=0, warm_start=False)"
      ]
     },
     "execution_count": 5,
     "metadata": {},
     "output_type": "execute_result"
    }
   ],
   "source": [
    "rf_model"
   ]
  },
  {
   "cell_type": "code",
   "execution_count": 6,
   "metadata": {},
   "outputs": [],
   "source": [
    "y_pred = rf_model.predict(X_test)"
   ]
  },
  {
   "cell_type": "code",
   "execution_count": 7,
   "metadata": {},
   "outputs": [
    {
     "data": {
      "text/plain": [
       "0.696969696969697"
      ]
     },
     "execution_count": 7,
     "metadata": {},
     "output_type": "execute_result"
    }
   ],
   "source": [
    "accuracy_score(y_test,y_pred)"
   ]
  },
  {
   "cell_type": "markdown",
   "metadata": {},
   "source": [
    "### Model Tuning"
   ]
  },
  {
   "cell_type": "code",
   "execution_count": 8,
   "metadata": {},
   "outputs": [],
   "source": [
    "rf = RandomForestClassifier()\n",
    "rf_params = {\"max_features\": [2,5],\n",
    "            \"n_estimators\":[200,500,1000],\n",
    "            \"min_samples_split\":[2,10,80]}"
   ]
  },
  {
   "cell_type": "code",
   "execution_count": 9,
   "metadata": {},
   "outputs": [
    {
     "name": "stdout",
     "output_type": "stream",
     "text": [
      "Fitting 10 folds for each of 18 candidates, totalling 180 fits\n"
     ]
    },
    {
     "name": "stderr",
     "output_type": "stream",
     "text": [
      "[Parallel(n_jobs=-1)]: Using backend LokyBackend with 8 concurrent workers.\n",
      "[Parallel(n_jobs=-1)]: Done  25 tasks      | elapsed:    8.2s\n",
      "[Parallel(n_jobs=-1)]: Done 146 tasks      | elapsed:   29.2s\n",
      "[Parallel(n_jobs=-1)]: Done 180 out of 180 | elapsed:   35.9s finished\n"
     ]
    }
   ],
   "source": [
    "rf_cv_model = GridSearchCV(rf,rf_params,cv=10,n_jobs=-1,verbose=2).fit(X_train,y_train)"
   ]
  },
  {
   "cell_type": "code",
   "execution_count": 14,
   "metadata": {},
   "outputs": [
    {
     "data": {
      "text/plain": [
       "{'max_features': 2, 'min_samples_split': 10, 'n_estimators': 200}"
      ]
     },
     "execution_count": 14,
     "metadata": {},
     "output_type": "execute_result"
    }
   ],
   "source": [
    "rf_cv_model.best_params_"
   ]
  },
  {
   "cell_type": "code",
   "execution_count": 36,
   "metadata": {},
   "outputs": [],
   "source": [
    "rf_model = RandomForestClassifier(max_features=5,\n",
    "                                min_samples_split=10,\n",
    "                                n_estimators=200)\n",
    "rf_tuned=rf_model.fit(X_train,y_train)"
   ]
  },
  {
   "cell_type": "code",
   "execution_count": 17,
   "metadata": {},
   "outputs": [],
   "source": [
    "y_pred = rf_tuned.predict(X_test)"
   ]
  },
  {
   "cell_type": "code",
   "execution_count": 18,
   "metadata": {},
   "outputs": [
    {
     "data": {
      "text/plain": [
       "0.7445887445887446"
      ]
     },
     "execution_count": 18,
     "metadata": {},
     "output_type": "execute_result"
    }
   ],
   "source": [
    "accuracy_score(y_test,y_pred)"
   ]
  },
  {
   "cell_type": "code",
   "execution_count": 20,
   "metadata": {},
   "outputs": [
    {
     "data": {
      "image/png": "[encoded data removed]",
      "text/plain": [
       "<Figure size 432x288 with 1 Axes>"
      ]
     },
     "metadata": {
      "needs_background": "light"
     },
     "output_type": "display_data"
    }
   ],
   "source": [
    "# Değişken Önemi\n",
    "feature_imp = pd.Series(rf_tuned.feature_importances_,\n",
    "                         index=X_train.columns).sort_values(ascending=False)\n",
    "\n",
    "sns.barplot(x=feature_imp,y=feature_imp.index)\n",
    "plt.xlabel('Variable Importance Score')\n",
    "plt.ylabel('Variables')\n",
    "plt.title(\"Importance\")\n",
    "plt.show()"
   ]
  },
  {
   "cell_type": "markdown",
   "metadata": {},
   "source": [
    "## Gradient Boosting Machines"
   ]
  },
  {
   "cell_type": "code",
   "execution_count": 21,
   "metadata": {},
   "outputs": [],
   "source": [
    "df = pd.read_csv(\"diabetes.csv\")\n",
    "y = df[\"Outcome\"]\n",
    "X = df.drop([\"Outcome\"],axis = 1) # Outcome dışındakileri al\n",
    "X_train,X_test,y_train,y_test = train_test_split(X,y,\n",
    "                                                 test_size=0.30,\n",
    "                                                 random_state=42)"
   ]
  },
  {
   "cell_type": "code",
   "execution_count": 22,
   "metadata": {},
   "outputs": [
    {
     "data": {
      "text/plain": [
       "GradientBoostingClassifier(criterion='friedman_mse', init=None,\n",
       "                           learning_rate=0.1, loss='deviance', max_depth=3,\n",
       "                           max_features=None, max_leaf_nodes=None,\n",
       "                           min_impurity_decrease=0.0, min_impurity_split=None,\n",
       "                           min_samples_leaf=1, min_samples_split=2,\n",
       "                           min_weight_fraction_leaf=0.0, n_estimators=100,\n",
       "                           n_iter_no_change=None, presort='auto',\n",
       "                           random_state=None, subsample=1.0, tol=0.0001,\n",
       "                           validation_fraction=0.1, verbose=0,\n",
       "                           warm_start=False)"
      ]
     },
     "execution_count": 22,
     "metadata": {},
     "output_type": "execute_result"
    }
   ],
   "source": [
    "gbm_model = GradientBoostingClassifier().fit(X_train,y_train)\n",
    "gbm_model"
   ]
  },
  {
   "cell_type": "code",
   "execution_count": 23,
   "metadata": {},
   "outputs": [],
   "source": [
    "y_pred = gbm_model.predict(X_test)"
   ]
  },
  {
   "cell_type": "code",
   "execution_count": 24,
   "metadata": {},
   "outputs": [
    {
     "data": {
      "text/plain": [
       "0.7489177489177489"
      ]
     },
     "execution_count": 24,
     "metadata": {},
     "output_type": "execute_result"
    }
   ],
   "source": [
    "accuracy_score(y_test,y_pred)"
   ]
  },
  {
   "cell_type": "markdown",
   "metadata": {},
   "source": [
    "### Model Tuning"
   ]
  },
  {
   "cell_type": "code",
   "execution_count": 27,
   "metadata": {},
   "outputs": [],
   "source": [
    "gbm_params = {\"learning_rate\":[0.1,0.01],\n",
    "             \"max_depth\":[3,5],\n",
    "             \"n_estimators\":[1000,500]}"
   ]
  },
  {
   "cell_type": "code",
   "execution_count": 28,
   "metadata": {},
   "outputs": [],
   "source": [
    "gbm = GradientBoostingClassifier()"
   ]
  },
  {
   "cell_type": "code",
   "execution_count": 29,
   "metadata": {
    "collapsed": true,
    "jupyter": {
     "outputs_hidden": true
    }
   },
   "outputs": [
    {
     "name": "stdout",
     "output_type": "stream",
     "text": [
      "Fitting 10 folds for each of 8 candidates, totalling 80 fits\n",
      "[CV] learning_rate=0.1, max_depth=3, n_estimators=1000 ...............\n"
     ]
    },
    {
     "name": "stderr",
     "output_type": "stream",
     "text": [
      "[Parallel(n_jobs=1)]: Using backend SequentialBackend with 1 concurrent workers.\n"
     ]
    },
    {
     "name": "stdout",
     "output_type": "stream",
     "text": [
      "[CV]  learning_rate=0.1, max_depth=3, n_estimators=1000, total=   1.2s\n",
      "[CV] learning_rate=0.1, max_depth=3, n_estimators=1000 ...............\n"
     ]
    },
    {
     "name": "stderr",
     "output_type": "stream",
     "text": [
      "[Parallel(n_jobs=1)]: Done   1 out of   1 | elapsed:    1.1s remaining:    0.0s\n"
     ]
    },
    {
     "name": "stdout",
     "output_type": "stream",
     "text": [
      "[CV]  learning_rate=0.1, max_depth=3, n_estimators=1000, total=   1.1s\n",
      "[CV] learning_rate=0.1, max_depth=3, n_estimators=1000 ...............\n",
      "[CV]  learning_rate=0.1, max_depth=3, n_estimators=1000, total=   1.2s\n",
      "[CV] learning_rate=0.1, max_depth=3, n_estimators=1000 ...............\n",
      "[CV]  learning_rate=0.1, max_depth=3, n_estimators=1000, total=   1.1s\n",
      "[CV] learning_rate=0.1, max_depth=3, n_estimators=1000 ...............\n",
      "[CV]  learning_rate=0.1, max_depth=3, n_estimators=1000, total=   1.1s\n",
      "[CV] learning_rate=0.1, max_depth=3, n_estimators=1000 ...............\n",
      "[CV]  learning_rate=0.1, max_depth=3, n_estimators=1000, total=   1.1s\n",
      "[CV] learning_rate=0.1, max_depth=3, n_estimators=1000 ...............\n",
      "[CV]  learning_rate=0.1, max_depth=3, n_estimators=1000, total=   1.1s\n",
      "[CV] learning_rate=0.1, max_depth=3, n_estimators=1000 ...............\n",
      "[CV]  learning_rate=0.1, max_depth=3, n_estimators=1000, total=   1.1s\n",
      "[CV] learning_rate=0.1, max_depth=3, n_estimators=1000 ...............\n",
      "[CV]  learning_rate=0.1, max_depth=3, n_estimators=1000, total=   1.2s\n",
      "[CV] learning_rate=0.1, max_depth=3, n_estimators=1000 ...............\n",
      "[CV]  learning_rate=0.1, max_depth=3, n_estimators=1000, total=   1.2s\n",
      "[CV] learning_rate=0.1, max_depth=3, n_estimators=500 ................\n",
      "[CV] . learning_rate=0.1, max_depth=3, n_estimators=500, total=   0.6s\n",
      "[CV] learning_rate=0.1, max_depth=3, n_estimators=500 ................\n",
      "[CV] . learning_rate=0.1, max_depth=3, n_estimators=500, total=   0.5s\n",
      "[CV] learning_rate=0.1, max_depth=3, n_estimators=500 ................\n",
      "[CV] . learning_rate=0.1, max_depth=3, n_estimators=500, total=   0.6s\n",
      "[CV] learning_rate=0.1, max_depth=3, n_estimators=500 ................\n",
      "[CV] . learning_rate=0.1, max_depth=3, n_estimators=500, total=   0.6s\n",
      "[CV] learning_rate=0.1, max_depth=3, n_estimators=500 ................\n",
      "[CV] . learning_rate=0.1, max_depth=3, n_estimators=500, total=   0.5s\n",
      "[CV] learning_rate=0.1, max_depth=3, n_estimators=500 ................\n",
      "[CV] . learning_rate=0.1, max_depth=3, n_estimators=500, total=   0.6s\n",
      "[CV] learning_rate=0.1, max_depth=3, n_estimators=500 ................\n",
      "[CV] . learning_rate=0.1, max_depth=3, n_estimators=500, total=   0.6s\n",
      "[CV] learning_rate=0.1, max_depth=3, n_estimators=500 ................\n",
      "[CV] . learning_rate=0.1, max_depth=3, n_estimators=500, total=   0.5s\n",
      "[CV] learning_rate=0.1, max_depth=3, n_estimators=500 ................\n",
      "[CV] . learning_rate=0.1, max_depth=3, n_estimators=500, total=   0.5s\n",
      "[CV] learning_rate=0.1, max_depth=3, n_estimators=500 ................\n",
      "[CV] . learning_rate=0.1, max_depth=3, n_estimators=500, total=   0.6s\n",
      "[CV] learning_rate=0.1, max_depth=5, n_estimators=1000 ...............\n",
      "[CV]  learning_rate=0.1, max_depth=5, n_estimators=1000, total=   1.2s\n",
      "[CV] learning_rate=0.1, max_depth=5, n_estimators=1000 ...............\n",
      "[CV]  learning_rate=0.1, max_depth=5, n_estimators=1000, total=   1.1s\n",
      "[CV] learning_rate=0.1, max_depth=5, n_estimators=1000 ...............\n",
      "[CV]  learning_rate=0.1, max_depth=5, n_estimators=1000, total=   1.1s\n",
      "[CV] learning_rate=0.1, max_depth=5, n_estimators=1000 ...............\n",
      "[CV]  learning_rate=0.1, max_depth=5, n_estimators=1000, total=   1.1s\n",
      "[CV] learning_rate=0.1, max_depth=5, n_estimators=1000 ...............\n",
      "[CV]  learning_rate=0.1, max_depth=5, n_estimators=1000, total=   1.2s\n",
      "[CV] learning_rate=0.1, max_depth=5, n_estimators=1000 ...............\n",
      "[CV]  learning_rate=0.1, max_depth=5, n_estimators=1000, total=   1.1s\n",
      "[CV] learning_rate=0.1, max_depth=5, n_estimators=1000 ...............\n",
      "[CV]  learning_rate=0.1, max_depth=5, n_estimators=1000, total=   1.1s\n",
      "[CV] learning_rate=0.1, max_depth=5, n_estimators=1000 ...............\n",
      "[CV]  learning_rate=0.1, max_depth=5, n_estimators=1000, total=   1.1s\n",
      "[CV] learning_rate=0.1, max_depth=5, n_estimators=1000 ...............\n",
      "[CV]  learning_rate=0.1, max_depth=5, n_estimators=1000, total=   1.1s\n",
      "[CV] learning_rate=0.1, max_depth=5, n_estimators=1000 ...............\n",
      "[CV]  learning_rate=0.1, max_depth=5, n_estimators=1000, total=   1.0s\n",
      "[CV] learning_rate=0.1, max_depth=5, n_estimators=500 ................\n",
      "[CV] . learning_rate=0.1, max_depth=5, n_estimators=500, total=   1.0s\n",
      "[CV] learning_rate=0.1, max_depth=5, n_estimators=500 ................\n",
      "[CV] . learning_rate=0.1, max_depth=5, n_estimators=500, total=   0.9s\n",
      "[CV] learning_rate=0.1, max_depth=5, n_estimators=500 ................\n",
      "[CV] . learning_rate=0.1, max_depth=5, n_estimators=500, total=   0.9s\n",
      "[CV] learning_rate=0.1, max_depth=5, n_estimators=500 ................\n",
      "[CV] . learning_rate=0.1, max_depth=5, n_estimators=500, total=   0.9s\n",
      "[CV] learning_rate=0.1, max_depth=5, n_estimators=500 ................\n",
      "[CV] . learning_rate=0.1, max_depth=5, n_estimators=500, total=   0.9s\n",
      "[CV] learning_rate=0.1, max_depth=5, n_estimators=500 ................\n",
      "[CV] . learning_rate=0.1, max_depth=5, n_estimators=500, total=   0.9s\n",
      "[CV] learning_rate=0.1, max_depth=5, n_estimators=500 ................\n",
      "[CV] . learning_rate=0.1, max_depth=5, n_estimators=500, total=   0.9s\n",
      "[CV] learning_rate=0.1, max_depth=5, n_estimators=500 ................\n",
      "[CV] . learning_rate=0.1, max_depth=5, n_estimators=500, total=   1.0s\n",
      "[CV] learning_rate=0.1, max_depth=5, n_estimators=500 ................\n",
      "[CV] . learning_rate=0.1, max_depth=5, n_estimators=500, total=   0.9s\n",
      "[CV] learning_rate=0.1, max_depth=5, n_estimators=500 ................\n",
      "[CV] . learning_rate=0.1, max_depth=5, n_estimators=500, total=   0.9s\n",
      "[CV] learning_rate=0.01, max_depth=3, n_estimators=1000 ..............\n",
      "[CV]  learning_rate=0.01, max_depth=3, n_estimators=1000, total=   1.1s\n",
      "[CV] learning_rate=0.01, max_depth=3, n_estimators=1000 ..............\n",
      "[CV]  learning_rate=0.01, max_depth=3, n_estimators=1000, total=   1.1s\n",
      "[CV] learning_rate=0.01, max_depth=3, n_estimators=1000 ..............\n",
      "[CV]  learning_rate=0.01, max_depth=3, n_estimators=1000, total=   1.1s\n",
      "[CV] learning_rate=0.01, max_depth=3, n_estimators=1000 ..............\n",
      "[CV]  learning_rate=0.01, max_depth=3, n_estimators=1000, total=   1.1s\n",
      "[CV] learning_rate=0.01, max_depth=3, n_estimators=1000 ..............\n",
      "[CV]  learning_rate=0.01, max_depth=3, n_estimators=1000, total=   1.1s\n",
      "[CV] learning_rate=0.01, max_depth=3, n_estimators=1000 ..............\n",
      "[CV]  learning_rate=0.01, max_depth=3, n_estimators=1000, total=   1.1s\n",
      "[CV] learning_rate=0.01, max_depth=3, n_estimators=1000 ..............\n",
      "[CV]  learning_rate=0.01, max_depth=3, n_estimators=1000, total=   1.1s\n",
      "[CV] learning_rate=0.01, max_depth=3, n_estimators=1000 ..............\n",
      "[CV]  learning_rate=0.01, max_depth=3, n_estimators=1000, total=   1.1s\n",
      "[CV] learning_rate=0.01, max_depth=3, n_estimators=1000 ..............\n",
      "[CV]  learning_rate=0.01, max_depth=3, n_estimators=1000, total=   1.1s\n",
      "[CV] learning_rate=0.01, max_depth=3, n_estimators=1000 ..............\n",
      "[CV]  learning_rate=0.01, max_depth=3, n_estimators=1000, total=   1.1s\n",
      "[CV] learning_rate=0.01, max_depth=3, n_estimators=500 ...............\n",
      "[CV]  learning_rate=0.01, max_depth=3, n_estimators=500, total=   0.6s\n",
      "[CV] learning_rate=0.01, max_depth=3, n_estimators=500 ...............\n",
      "[CV]  learning_rate=0.01, max_depth=3, n_estimators=500, total=   0.6s\n",
      "[CV] learning_rate=0.01, max_depth=3, n_estimators=500 ...............\n",
      "[CV]  learning_rate=0.01, max_depth=3, n_estimators=500, total=   0.6s\n",
      "[CV] learning_rate=0.01, max_depth=3, n_estimators=500 ...............\n",
      "[CV]  learning_rate=0.01, max_depth=3, n_estimators=500, total=   0.6s\n",
      "[CV] learning_rate=0.01, max_depth=3, n_estimators=500 ...............\n",
      "[CV]  learning_rate=0.01, max_depth=3, n_estimators=500, total=   0.5s\n",
      "[CV] learning_rate=0.01, max_depth=3, n_estimators=500 ...............\n",
      "[CV]  learning_rate=0.01, max_depth=3, n_estimators=500, total=   0.6s\n",
      "[CV] learning_rate=0.01, max_depth=3, n_estimators=500 ...............\n",
      "[CV]  learning_rate=0.01, max_depth=3, n_estimators=500, total=   0.5s\n",
      "[CV] learning_rate=0.01, max_depth=3, n_estimators=500 ...............\n",
      "[CV]  learning_rate=0.01, max_depth=3, n_estimators=500, total=   0.5s\n",
      "[CV] learning_rate=0.01, max_depth=3, n_estimators=500 ...............\n",
      "[CV]  learning_rate=0.01, max_depth=3, n_estimators=500, total=   0.5s\n",
      "[CV] learning_rate=0.01, max_depth=3, n_estimators=500 ...............\n",
      "[CV]  learning_rate=0.01, max_depth=3, n_estimators=500, total=   0.5s\n",
      "[CV] learning_rate=0.01, max_depth=5, n_estimators=1000 ..............\n",
      "[CV]  learning_rate=0.01, max_depth=5, n_estimators=1000, total=   2.3s\n",
      "[CV] learning_rate=0.01, max_depth=5, n_estimators=1000 ..............\n",
      "[CV]  learning_rate=0.01, max_depth=5, n_estimators=1000, total=   2.2s\n",
      "[CV] learning_rate=0.01, max_depth=5, n_estimators=1000 ..............\n",
      "[CV]  learning_rate=0.01, max_depth=5, n_estimators=1000, total=   2.4s\n",
      "[CV] learning_rate=0.01, max_depth=5, n_estimators=1000 ..............\n",
      "[CV]  learning_rate=0.01, max_depth=5, n_estimators=1000, total=   2.2s\n",
      "[CV] learning_rate=0.01, max_depth=5, n_estimators=1000 ..............\n",
      "[CV]  learning_rate=0.01, max_depth=5, n_estimators=1000, total=   2.3s\n",
      "[CV] learning_rate=0.01, max_depth=5, n_estimators=1000 ..............\n",
      "[CV]  learning_rate=0.01, max_depth=5, n_estimators=1000, total=   2.3s\n",
      "[CV] learning_rate=0.01, max_depth=5, n_estimators=1000 ..............\n",
      "[CV]  learning_rate=0.01, max_depth=5, n_estimators=1000, total=   2.2s\n",
      "[CV] learning_rate=0.01, max_depth=5, n_estimators=1000 ..............\n",
      "[CV]  learning_rate=0.01, max_depth=5, n_estimators=1000, total=   2.3s\n",
      "[CV] learning_rate=0.01, max_depth=5, n_estimators=1000 ..............\n",
      "[CV]  learning_rate=0.01, max_depth=5, n_estimators=1000, total=   2.4s\n",
      "[CV] learning_rate=0.01, max_depth=5, n_estimators=1000 ..............\n",
      "[CV]  learning_rate=0.01, max_depth=5, n_estimators=1000, total=   2.3s\n",
      "[CV] learning_rate=0.01, max_depth=5, n_estimators=500 ...............\n",
      "[CV]  learning_rate=0.01, max_depth=5, n_estimators=500, total=   1.1s\n",
      "[CV] learning_rate=0.01, max_depth=5, n_estimators=500 ...............\n",
      "[CV]  learning_rate=0.01, max_depth=5, n_estimators=500, total=   1.1s\n",
      "[CV] learning_rate=0.01, max_depth=5, n_estimators=500 ...............\n",
      "[CV]  learning_rate=0.01, max_depth=5, n_estimators=500, total=   1.2s\n",
      "[CV] learning_rate=0.01, max_depth=5, n_estimators=500 ...............\n",
      "[CV]  learning_rate=0.01, max_depth=5, n_estimators=500, total=   1.1s\n",
      "[CV] learning_rate=0.01, max_depth=5, n_estimators=500 ...............\n",
      "[CV]  learning_rate=0.01, max_depth=5, n_estimators=500, total=   1.2s\n",
      "[CV] learning_rate=0.01, max_depth=5, n_estimators=500 ...............\n",
      "[CV]  learning_rate=0.01, max_depth=5, n_estimators=500, total=   1.1s\n",
      "[CV] learning_rate=0.01, max_depth=5, n_estimators=500 ...............\n",
      "[CV]  learning_rate=0.01, max_depth=5, n_estimators=500, total=   1.2s\n",
      "[CV] learning_rate=0.01, max_depth=5, n_estimators=500 ...............\n",
      "[CV]  learning_rate=0.01, max_depth=5, n_estimators=500, total=   1.2s\n",
      "[CV] learning_rate=0.01, max_depth=5, n_estimators=500 ...............\n",
      "[CV]  learning_rate=0.01, max_depth=5, n_estimators=500, total=   1.1s\n",
      "[CV] learning_rate=0.01, max_depth=5, n_estimators=500 ...............\n",
      "[CV]  learning_rate=0.01, max_depth=5, n_estimators=500, total=   1.2s\n"
     ]
    },
    {
     "name": "stderr",
     "output_type": "stream",
     "text": [
      "[Parallel(n_jobs=1)]: Done  80 out of  80 | elapsed:  1.5min finished\n"
     ]
    }
   ],
   "source": [
    "gbm_cv_model = GridSearchCV(gbm,gbm_params,cv=10,\n",
    "                            n_jobs=-1,verbose = 2).fit(X_train,y_train)"
   ]
  },
  {
   "cell_type": "code",
   "execution_count": 30,
   "metadata": {},
   "outputs": [
    {
     "data": {
      "text/plain": [
       "{'learning_rate': 0.01, 'max_depth': 3, 'n_estimators': 500}"
      ]
     },
     "execution_count": 30,
     "metadata": {},
     "output_type": "execute_result"
    }
   ],
   "source": [
    "gbm_cv_model.best_params_"
   ]
  },
  {
   "cell_type": "code",
   "execution_count": 37,
   "metadata": {},
   "outputs": [],
   "source": [
    "gbm_tuned = GradientBoostingClassifier(learning_rate =0.01,\n",
    "                                     max_depth = 2,\n",
    "                                     n_estimators=500).fit(X_train,y_train)"
   ]
  },
  {
   "cell_type": "code",
   "execution_count": 33,
   "metadata": {},
   "outputs": [],
   "source": [
    "y_pred = gbm_tuned.predict(X_test)"
   ]
  },
  {
   "cell_type": "code",
   "execution_count": 34,
   "metadata": {},
   "outputs": [
    {
     "data": {
      "text/plain": [
       "0.7575757575757576"
      ]
     },
     "execution_count": 34,
     "metadata": {},
     "output_type": "execute_result"
    }
   ],
   "source": [
    "accuracy_score(y_test,y_pred)"
   ]
  },
  {
   "cell_type": "code",
   "execution_count": 35,
   "metadata": {},
   "outputs": [
    {
     "data": {
      "image/png": "[encoded data removed]",
      "text/plain": [
       "<Figure size 432x288 with 1 Axes>"
      ]
     },
     "metadata": {
      "needs_background": "light"
     },
     "output_type": "display_data"
    }
   ],
   "source": [
    "# Değişken Önemi\n",
    "feature_imp = pd.Series(gbm_tuned.feature_importances_,\n",
    "                         index=X_train.columns).sort_values(ascending=False)\n",
    "\n",
    "sns.barplot(x=feature_imp,y=feature_imp.index)\n",
    "plt.xlabel('Variable Importance Score')\n",
    "plt.ylabel('Variables')\n",
    "plt.title(\"Importance\")\n",
    "plt.show()"
   ]
  },
  {
   "cell_type": "markdown",
   "metadata": {},
   "source": [
    "## XGBoost"
   ]
  },
  {
   "cell_type": "code",
   "execution_count": 36,
   "metadata": {},
   "outputs": [],
   "source": [
    "df = pd.read_csv(\"diabetes.csv\")\n",
    "y = df[\"Outcome\"]\n",
    "X = df.drop([\"Outcome\"],axis = 1) # Outcome dışındakileri al\n",
    "X_train,X_test,y_train,y_test = train_test_split(X,y,\n",
    "                                                 test_size=0.30,\n",
    "                                                 random_state=42)"
   ]
  },
  {
   "cell_type": "code",
   "execution_count": 38,
   "metadata": {},
   "outputs": [],
   "source": [
    "import xgboost\n",
    "from xgboost import XGBClassifier"
   ]
  },
  {
   "cell_type": "code",
   "execution_count": 38,
   "metadata": {},
   "outputs": [
    {
     "data": {
      "text/plain": [
       "XGBClassifier(base_score=0.5, booster='gbtree', colsample_bylevel=1,\n",
       "              colsample_bynode=1, colsample_bytree=1, gamma=0,\n",
       "              learning_rate=0.1, max_delta_step=0, max_depth=3,\n",
       "              min_child_weight=1, missing=None, n_estimators=100, n_jobs=1,\n",
       "              nthread=None, objective='binary:logistic', random_state=0,\n",
       "              reg_alpha=0, reg_lambda=1, scale_pos_weight=1, seed=None,\n",
       "              silent=None, subsample=1, verbosity=1)"
      ]
     },
     "execution_count": 38,
     "metadata": {},
     "output_type": "execute_result"
    }
   ],
   "source": [
    "xgb = XGBClassifier().fit(X_train,y_train)\n",
    "xgb"
   ]
  },
  {
   "cell_type": "code",
   "execution_count": 39,
   "metadata": {},
   "outputs": [],
   "source": [
    "y_pred = xgb.predict(X_test)"
   ]
  },
  {
   "cell_type": "code",
   "execution_count": 40,
   "metadata": {},
   "outputs": [
    {
     "data": {
      "text/plain": [
       "0.7489177489177489"
      ]
     },
     "execution_count": 40,
     "metadata": {},
     "output_type": "execute_result"
    }
   ],
   "source": [
    "accuracy_score(y_test,y_pred)"
   ]
  },
  {
   "cell_type": "markdown",
   "metadata": {},
   "source": [
    "### Model Tuning"
   ]
  },
  {
   "cell_type": "code",
   "execution_count": 41,
   "metadata": {},
   "outputs": [],
   "source": [
    "xgb = XGBClassifier()\n",
    "xgb_params = {\"learning_rate\": [0.1,0.01] ,\n",
    "             \"max_depth\":[4,5,8],\n",
    "             \"n_estimators\":[100,500],\n",
    "             \"subsample\":[0.5,1]}"
   ]
  },
  {
   "cell_type": "code",
   "execution_count": 42,
   "metadata": {},
   "outputs": [
    {
     "name": "stdout",
     "output_type": "stream",
     "text": [
      "Fitting 10 folds for each of 24 candidates, totalling 240 fits\n"
     ]
    },
    {
     "name": "stderr",
     "output_type": "stream",
     "text": [
      "[Parallel(n_jobs=-1)]: Using backend LokyBackend with 8 concurrent workers.\n",
      "[Parallel(n_jobs=-1)]: Done  25 tasks      | elapsed:    4.9s\n",
      "[Parallel(n_jobs=-1)]: Done 146 tasks      | elapsed:   11.8s\n",
      "[Parallel(n_jobs=-1)]: Done 240 out of 240 | elapsed:   19.1s finished\n"
     ]
    }
   ],
   "source": [
    "xgb_cv_model = GridSearchCV(xgb,xgb_params,cv=10,\n",
    "                            n_jobs =-1,verbose =2).fit(X_train,y_train)"
   ]
  },
  {
   "cell_type": "code",
   "execution_count": 43,
   "metadata": {},
   "outputs": [
    {
     "data": {
      "text/plain": [
       "{'learning_rate': 0.01, 'max_depth': 4, 'n_estimators': 100, 'subsample': 0.5}"
      ]
     },
     "execution_count": 43,
     "metadata": {},
     "output_type": "execute_result"
    }
   ],
   "source": [
    "xgb_cv_model.best_params_"
   ]
  },
  {
   "cell_type": "code",
   "execution_count": 39,
   "metadata": {},
   "outputs": [],
   "source": [
    "xgb_tuned = XGBClassifier(subsample=0.5,\n",
    "                        learning_rate=0.01,\n",
    "                        max_depth=4,\n",
    "                        n_estimators=100).fit(X_train,y_train)"
   ]
  },
  {
   "cell_type": "code",
   "execution_count": 45,
   "metadata": {},
   "outputs": [
    {
     "data": {
      "text/plain": [
       "0.7532467532467533"
      ]
     },
     "execution_count": 45,
     "metadata": {},
     "output_type": "execute_result"
    }
   ],
   "source": [
    "y_pred = xgb_tuned.predict(X_test)\n",
    "accuracy_score(y_test,y_pred)"
   ]
  },
  {
   "cell_type": "code",
   "execution_count": 46,
   "metadata": {},
   "outputs": [
    {
     "data": {
      "image/png": "[encoded data removed]",
      "text/plain": [
       "<Figure size 432x288 with 1 Axes>"
      ]
     },
     "metadata": {
      "needs_background": "light"
     },
     "output_type": "display_data"
    }
   ],
   "source": [
    "# Değişken Önemi\n",
    "feature_imp = pd.Series(xgb_tuned.feature_importances_,\n",
    "                         index=X_train.columns).sort_values(ascending=False)\n",
    "\n",
    "sns.barplot(x=feature_imp,y=feature_imp.index)\n",
    "plt.xlabel('Variable Importance Score')\n",
    "plt.ylabel('Variables')\n",
    "plt.title(\"Importance\")\n",
    "plt.show()"
   ]
  },
  {
   "cell_type": "markdown",
   "metadata": {},
   "source": [
    "## Light GBM"
   ]
  },
  {
   "cell_type": "code",
   "execution_count": 47,
   "metadata": {},
   "outputs": [],
   "source": [
    "df = pd.read_csv(\"diabetes.csv\")\n",
    "y = df[\"Outcome\"]\n",
    "X = df.drop([\"Outcome\"],axis = 1) # Outcome dışındakileri al\n",
    "X_train,X_test,y_train,y_test = train_test_split(X,y,\n",
    "                                                 test_size=0.30,\n",
    "                                                 random_state=42)"
   ]
  },
  {
   "cell_type": "code",
   "execution_count": 40,
   "metadata": {},
   "outputs": [],
   "source": [
    "from lightgbm import LGBMClassifier"
   ]
  },
  {
   "cell_type": "code",
   "execution_count": 49,
   "metadata": {},
   "outputs": [
    {
     "data": {
      "text/plain": [
       "LGBMClassifier(boosting_type='gbdt', class_weight=None, colsample_bytree=1.0,\n",
       "               importance_type='split', learning_rate=0.1, max_depth=-1,\n",
       "               min_child_samples=20, min_child_weight=0.001, min_split_gain=0.0,\n",
       "               n_estimators=100, n_jobs=-1, num_leaves=31, objective=None,\n",
       "               random_state=None, reg_alpha=0.0, reg_lambda=0.0, silent=True,\n",
       "               subsample=1.0, subsample_for_bin=200000, subsample_freq=0)"
      ]
     },
     "execution_count": 49,
     "metadata": {},
     "output_type": "execute_result"
    }
   ],
   "source": [
    "lgb_model = LGBMClassifier().fit(X_train,y_train)\n",
    "lgb_model"
   ]
  },
  {
   "cell_type": "code",
   "execution_count": 50,
   "metadata": {},
   "outputs": [],
   "source": [
    "y_pred = lgb_model.predict(X_test)"
   ]
  },
  {
   "cell_type": "code",
   "execution_count": 51,
   "metadata": {},
   "outputs": [
    {
     "data": {
      "text/plain": [
       "0.7272727272727273"
      ]
     },
     "execution_count": 51,
     "metadata": {},
     "output_type": "execute_result"
    }
   ],
   "source": [
    "accuracy_score(y_test,y_pred)"
   ]
  },
  {
   "cell_type": "markdown",
   "metadata": {},
   "source": [
    "### Model Tuning"
   ]
  },
  {
   "cell_type": "code",
   "execution_count": 52,
   "metadata": {},
   "outputs": [],
   "source": [
    "lgb = LGBMClassifier()"
   ]
  },
  {
   "cell_type": "code",
   "execution_count": 53,
   "metadata": {},
   "outputs": [],
   "source": [
    "lgbm_params = {\"learning_rate\": [0.01,0.1,0.5,1],\n",
    "              \"n_estimators\":[40,100,1000],\n",
    "              \"max_depth\":[-1,1,2,3]}"
   ]
  },
  {
   "cell_type": "code",
   "execution_count": 54,
   "metadata": {},
   "outputs": [
    {
     "name": "stdout",
     "output_type": "stream",
     "text": [
      "Fitting 10 folds for each of 48 candidates, totalling 480 fits\n"
     ]
    },
    {
     "name": "stderr",
     "output_type": "stream",
     "text": [
      "[Parallel(n_jobs=-1)]: Using backend LokyBackend with 8 concurrent workers.\n",
      "[Parallel(n_jobs=-1)]: Done  25 tasks      | elapsed:    5.1s\n",
      "[Parallel(n_jobs=-1)]: Done 360 tasks      | elapsed:   10.9s\n",
      "[Parallel(n_jobs=-1)]: Done 480 out of 480 | elapsed:   13.0s finished\n"
     ]
    }
   ],
   "source": [
    "lgbm_cv_model = GridSearchCV(lgb,lgbm_params,cv = 10,n_jobs =-1,\n",
    "                            verbose = 2).fit(X_train,y_train)"
   ]
  },
  {
   "cell_type": "code",
   "execution_count": 55,
   "metadata": {},
   "outputs": [
    {
     "data": {
      "text/plain": [
       "{'learning_rate': 0.1, 'max_depth': 1, 'n_estimators': 40}"
      ]
     },
     "execution_count": 55,
     "metadata": {},
     "output_type": "execute_result"
    }
   ],
   "source": [
    "lgbm_cv_model.best_params_"
   ]
  },
  {
   "cell_type": "code",
   "execution_count": 41,
   "metadata": {},
   "outputs": [],
   "source": [
    "lgb_tuned = LGBMClassifier(learning_rate=0.1,\n",
    "                         max_depth=1,\n",
    "                         n_estimators=40).fit(X_train,y_train)"
   ]
  },
  {
   "cell_type": "code",
   "execution_count": 60,
   "metadata": {},
   "outputs": [],
   "source": [
    "y_pred = lgb_tuned.predict(X_test)"
   ]
  },
  {
   "cell_type": "code",
   "execution_count": 61,
   "metadata": {},
   "outputs": [
    {
     "data": {
      "text/plain": [
       "0.7575757575757576"
      ]
     },
     "execution_count": 61,
     "metadata": {},
     "output_type": "execute_result"
    }
   ],
   "source": [
    "accuracy_score(y_test,y_pred)"
   ]
  },
  {
   "cell_type": "code",
   "execution_count": 62,
   "metadata": {},
   "outputs": [
    {
     "data": {
      "image/png": "[encoded data removed]",
      "text/plain": [
       "<Figure size 432x288 with 1 Axes>"
      ]
     },
     "metadata": {
      "needs_background": "light"
     },
     "output_type": "display_data"
    }
   ],
   "source": [
    "# Değişken Önemi\n",
    "feature_imp = pd.Series(lgb_tuned.feature_importances_,\n",
    "                         index=X_train.columns).sort_values(ascending=False)\n",
    "\n",
    "sns.barplot(x=feature_imp,y=feature_imp.index)\n",
    "plt.xlabel('Variable Importance Score')\n",
    "plt.ylabel('Variables')\n",
    "plt.title(\"Importance\")\n",
    "plt.show()"
   ]
  },
  {
   "cell_type": "markdown",
   "metadata": {},
   "source": [
    "## CATBoost"
   ]
  },
  {
   "cell_type": "code",
   "execution_count": 63,
   "metadata": {},
   "outputs": [],
   "source": [
    "df = pd.read_csv(\"diabetes.csv\")\n",
    "y = df[\"Outcome\"]\n",
    "X = df.drop([\"Outcome\"],axis = 1) # Outcome dışındakileri al\n",
    "X_train,X_test,y_train,y_test = train_test_split(X,y,\n",
    "                                                 test_size=0.30,\n",
    "                                                 random_state=42)"
   ]
  },
  {
   "cell_type": "code",
   "execution_count": 42,
   "metadata": {},
   "outputs": [],
   "source": [
    "from catboost import CatBoostClassifier"
   ]
  },
  {
   "cell_type": "code",
   "execution_count": 67,
   "metadata": {
    "collapsed": true,
    "jupyter": {
     "outputs_hidden": true
    }
   },
   "outputs": [
    {
     "name": "stdout",
     "output_type": "stream",
     "text": [
      "Learning rate set to 0.0079\n",
      "0:\tlearn: 0.6879822\ttotal: 152ms\tremaining: 2m 32s\n",
      "1:\tlearn: 0.6843544\ttotal: 154ms\tremaining: 1m 16s\n",
      "2:\tlearn: 0.6805937\ttotal: 156ms\tremaining: 51.9s\n",
      "3:\tlearn: 0.6766011\ttotal: 158ms\tremaining: 39.3s\n",
      "4:\tlearn: 0.6721103\ttotal: 160ms\tremaining: 31.8s\n",
      "5:\tlearn: 0.6681927\ttotal: 162ms\tremaining: 26.8s\n",
      "6:\tlearn: 0.6642263\ttotal: 163ms\tremaining: 23.2s\n",
      "7:\tlearn: 0.6603263\ttotal: 165ms\tremaining: 20.4s\n",
      "8:\tlearn: 0.6563030\ttotal: 167ms\tremaining: 18.4s\n",
      "9:\tlearn: 0.6528911\ttotal: 169ms\tremaining: 16.7s\n",
      "10:\tlearn: 0.6488276\ttotal: 170ms\tremaining: 15.3s\n",
      "11:\tlearn: 0.6455457\ttotal: 172ms\tremaining: 14.2s\n",
      "12:\tlearn: 0.6419444\ttotal: 174ms\tremaining: 13.2s\n",
      "13:\tlearn: 0.6374939\ttotal: 176ms\tremaining: 12.4s\n",
      "14:\tlearn: 0.6340194\ttotal: 178ms\tremaining: 11.7s\n",
      "15:\tlearn: 0.6304776\ttotal: 179ms\tremaining: 11s\n",
      "16:\tlearn: 0.6267531\ttotal: 181ms\tremaining: 10.5s\n",
      "17:\tlearn: 0.6238199\ttotal: 183ms\tremaining: 10s\n",
      "18:\tlearn: 0.6204938\ttotal: 185ms\tremaining: 9.57s\n",
      "19:\tlearn: 0.6170669\ttotal: 187ms\tremaining: 9.17s\n",
      "20:\tlearn: 0.6133936\ttotal: 189ms\tremaining: 8.8s\n",
      "21:\tlearn: 0.6105467\ttotal: 190ms\tremaining: 8.46s\n",
      "22:\tlearn: 0.6070055\ttotal: 192ms\tremaining: 8.15s\n",
      "23:\tlearn: 0.6036988\ttotal: 194ms\tremaining: 7.9s\n",
      "24:\tlearn: 0.6005906\ttotal: 196ms\tremaining: 7.65s\n",
      "25:\tlearn: 0.5978029\ttotal: 198ms\tremaining: 7.43s\n",
      "26:\tlearn: 0.5948687\ttotal: 200ms\tremaining: 7.22s\n",
      "27:\tlearn: 0.5920321\ttotal: 202ms\tremaining: 7.03s\n",
      "28:\tlearn: 0.5885543\ttotal: 204ms\tremaining: 6.85s\n",
      "29:\tlearn: 0.5848739\ttotal: 206ms\tremaining: 6.66s\n",
      "30:\tlearn: 0.5814562\ttotal: 208ms\tremaining: 6.5s\n",
      "31:\tlearn: 0.5783158\ttotal: 210ms\tremaining: 6.34s\n",
      "32:\tlearn: 0.5754880\ttotal: 212ms\tremaining: 6.21s\n",
      "33:\tlearn: 0.5737960\ttotal: 214ms\tremaining: 6.08s\n",
      "34:\tlearn: 0.5713558\ttotal: 216ms\tremaining: 5.95s\n",
      "35:\tlearn: 0.5687880\ttotal: 217ms\tremaining: 5.82s\n",
      "36:\tlearn: 0.5660068\ttotal: 219ms\tremaining: 5.7s\n",
      "37:\tlearn: 0.5642053\ttotal: 221ms\tremaining: 5.59s\n",
      "38:\tlearn: 0.5618905\ttotal: 223ms\tremaining: 5.49s\n",
      "39:\tlearn: 0.5596534\ttotal: 225ms\tremaining: 5.39s\n",
      "40:\tlearn: 0.5576328\ttotal: 226ms\tremaining: 5.3s\n",
      "41:\tlearn: 0.5553185\ttotal: 228ms\tremaining: 5.2s\n",
      "42:\tlearn: 0.5531257\ttotal: 230ms\tremaining: 5.12s\n",
      "43:\tlearn: 0.5501080\ttotal: 232ms\tremaining: 5.04s\n",
      "44:\tlearn: 0.5479930\ttotal: 234ms\tremaining: 4.96s\n",
      "45:\tlearn: 0.5456177\ttotal: 235ms\tremaining: 4.88s\n",
      "46:\tlearn: 0.5438786\ttotal: 238ms\tremaining: 4.82s\n",
      "47:\tlearn: 0.5419967\ttotal: 239ms\tremaining: 4.75s\n",
      "48:\tlearn: 0.5394665\ttotal: 241ms\tremaining: 4.68s\n",
      "49:\tlearn: 0.5376058\ttotal: 243ms\tremaining: 4.62s\n",
      "50:\tlearn: 0.5352902\ttotal: 245ms\tremaining: 4.56s\n",
      "51:\tlearn: 0.5332041\ttotal: 247ms\tremaining: 4.5s\n",
      "52:\tlearn: 0.5306692\ttotal: 249ms\tremaining: 4.45s\n",
      "53:\tlearn: 0.5284961\ttotal: 251ms\tremaining: 4.39s\n",
      "54:\tlearn: 0.5266646\ttotal: 252ms\tremaining: 4.34s\n",
      "55:\tlearn: 0.5245416\ttotal: 254ms\tremaining: 4.29s\n",
      "56:\tlearn: 0.5225713\ttotal: 256ms\tremaining: 4.24s\n",
      "57:\tlearn: 0.5206087\ttotal: 258ms\tremaining: 4.19s\n",
      "58:\tlearn: 0.5182788\ttotal: 259ms\tremaining: 4.14s\n",
      "59:\tlearn: 0.5160537\ttotal: 262ms\tremaining: 4.1s\n",
      "60:\tlearn: 0.5146418\ttotal: 264ms\tremaining: 4.06s\n",
      "61:\tlearn: 0.5133434\ttotal: 266ms\tremaining: 4.02s\n",
      "62:\tlearn: 0.5120091\ttotal: 268ms\tremaining: 3.98s\n",
      "63:\tlearn: 0.5105931\ttotal: 270ms\tremaining: 3.94s\n",
      "64:\tlearn: 0.5082239\ttotal: 271ms\tremaining: 3.9s\n",
      "65:\tlearn: 0.5062303\ttotal: 273ms\tremaining: 3.87s\n",
      "66:\tlearn: 0.5046140\ttotal: 275ms\tremaining: 3.83s\n",
      "67:\tlearn: 0.5026774\ttotal: 277ms\tremaining: 3.8s\n",
      "68:\tlearn: 0.5014878\ttotal: 279ms\tremaining: 3.76s\n",
      "69:\tlearn: 0.5001072\ttotal: 281ms\tremaining: 3.73s\n",
      "70:\tlearn: 0.4986150\ttotal: 283ms\tremaining: 3.7s\n",
      "71:\tlearn: 0.4968047\ttotal: 284ms\tremaining: 3.67s\n",
      "72:\tlearn: 0.4953632\ttotal: 287ms\tremaining: 3.64s\n",
      "73:\tlearn: 0.4938498\ttotal: 288ms\tremaining: 3.6s\n",
      "74:\tlearn: 0.4922801\ttotal: 290ms\tremaining: 3.58s\n",
      "75:\tlearn: 0.4908261\ttotal: 292ms\tremaining: 3.55s\n",
      "76:\tlearn: 0.4892363\ttotal: 293ms\tremaining: 3.52s\n",
      "77:\tlearn: 0.4876098\ttotal: 295ms\tremaining: 3.49s\n",
      "78:\tlearn: 0.4862050\ttotal: 297ms\tremaining: 3.46s\n",
      "79:\tlearn: 0.4850063\ttotal: 299ms\tremaining: 3.44s\n",
      "80:\tlearn: 0.4839806\ttotal: 301ms\tremaining: 3.41s\n",
      "81:\tlearn: 0.4823197\ttotal: 303ms\tremaining: 3.39s\n",
      "82:\tlearn: 0.4806850\ttotal: 304ms\tremaining: 3.36s\n",
      "83:\tlearn: 0.4791040\ttotal: 306ms\tremaining: 3.34s\n",
      "84:\tlearn: 0.4776899\ttotal: 308ms\tremaining: 3.31s\n",
      "85:\tlearn: 0.4760505\ttotal: 310ms\tremaining: 3.29s\n",
      "86:\tlearn: 0.4750202\ttotal: 312ms\tremaining: 3.27s\n",
      "87:\tlearn: 0.4736074\ttotal: 313ms\tremaining: 3.25s\n",
      "88:\tlearn: 0.4721145\ttotal: 316ms\tremaining: 3.23s\n",
      "89:\tlearn: 0.4709314\ttotal: 318ms\tremaining: 3.21s\n",
      "90:\tlearn: 0.4693651\ttotal: 319ms\tremaining: 3.19s\n",
      "91:\tlearn: 0.4679810\ttotal: 321ms\tremaining: 3.17s\n",
      "92:\tlearn: 0.4665089\ttotal: 323ms\tremaining: 3.15s\n",
      "93:\tlearn: 0.4650662\ttotal: 325ms\tremaining: 3.13s\n",
      "94:\tlearn: 0.4638027\ttotal: 327ms\tremaining: 3.11s\n",
      "95:\tlearn: 0.4625580\ttotal: 328ms\tremaining: 3.09s\n",
      "96:\tlearn: 0.4611601\ttotal: 330ms\tremaining: 3.07s\n",
      "97:\tlearn: 0.4601908\ttotal: 332ms\tremaining: 3.06s\n",
      "98:\tlearn: 0.4589758\ttotal: 334ms\tremaining: 3.04s\n",
      "99:\tlearn: 0.4579517\ttotal: 336ms\tremaining: 3.02s\n",
      "100:\tlearn: 0.4568376\ttotal: 338ms\tremaining: 3s\n",
      "101:\tlearn: 0.4560033\ttotal: 339ms\tremaining: 2.99s\n",
      "102:\tlearn: 0.4550106\ttotal: 341ms\tremaining: 2.97s\n",
      "103:\tlearn: 0.4538100\ttotal: 343ms\tremaining: 2.95s\n",
      "104:\tlearn: 0.4525246\ttotal: 345ms\tremaining: 2.94s\n",
      "105:\tlearn: 0.4516290\ttotal: 346ms\tremaining: 2.92s\n",
      "106:\tlearn: 0.4505692\ttotal: 348ms\tremaining: 2.9s\n",
      "107:\tlearn: 0.4493491\ttotal: 350ms\tremaining: 2.89s\n",
      "108:\tlearn: 0.4484229\ttotal: 351ms\tremaining: 2.87s\n",
      "109:\tlearn: 0.4475237\ttotal: 353ms\tremaining: 2.86s\n",
      "110:\tlearn: 0.4462811\ttotal: 355ms\tremaining: 2.84s\n",
      "111:\tlearn: 0.4455498\ttotal: 357ms\tremaining: 2.83s\n",
      "112:\tlearn: 0.4447490\ttotal: 359ms\tremaining: 2.82s\n",
      "113:\tlearn: 0.4436312\ttotal: 360ms\tremaining: 2.8s\n",
      "114:\tlearn: 0.4426529\ttotal: 362ms\tremaining: 2.79s\n",
      "115:\tlearn: 0.4419532\ttotal: 364ms\tremaining: 2.77s\n",
      "116:\tlearn: 0.4408642\ttotal: 365ms\tremaining: 2.76s\n",
      "117:\tlearn: 0.4400705\ttotal: 367ms\tremaining: 2.74s\n",
      "118:\tlearn: 0.4392703\ttotal: 369ms\tremaining: 2.73s\n",
      "119:\tlearn: 0.4382235\ttotal: 370ms\tremaining: 2.72s\n",
      "120:\tlearn: 0.4373214\ttotal: 372ms\tremaining: 2.7s\n",
      "121:\tlearn: 0.4364590\ttotal: 374ms\tremaining: 2.69s\n",
      "122:\tlearn: 0.4358042\ttotal: 376ms\tremaining: 2.68s\n",
      "123:\tlearn: 0.4346576\ttotal: 377ms\tremaining: 2.67s\n",
      "124:\tlearn: 0.4334821\ttotal: 379ms\tremaining: 2.65s\n",
      "125:\tlearn: 0.4328019\ttotal: 381ms\tremaining: 2.64s\n",
      "126:\tlearn: 0.4319468\ttotal: 382ms\tremaining: 2.63s\n",
      "127:\tlearn: 0.4313707\ttotal: 384ms\tremaining: 2.62s\n",
      "128:\tlearn: 0.4305355\ttotal: 386ms\tremaining: 2.6s\n",
      "129:\tlearn: 0.4298462\ttotal: 387ms\tremaining: 2.59s\n",
      "130:\tlearn: 0.4292290\ttotal: 389ms\tremaining: 2.58s\n",
      "131:\tlearn: 0.4280695\ttotal: 391ms\tremaining: 2.57s\n",
      "132:\tlearn: 0.4270546\ttotal: 392ms\tremaining: 2.56s\n",
      "133:\tlearn: 0.4260827\ttotal: 394ms\tremaining: 2.55s\n",
      "134:\tlearn: 0.4253427\ttotal: 396ms\tremaining: 2.53s\n",
      "135:\tlearn: 0.4245101\ttotal: 397ms\tremaining: 2.52s\n",
      "136:\tlearn: 0.4237595\ttotal: 399ms\tremaining: 2.51s\n",
      "137:\tlearn: 0.4228898\ttotal: 400ms\tremaining: 2.5s\n",
      "138:\tlearn: 0.4221720\ttotal: 402ms\tremaining: 2.49s\n",
      "139:\tlearn: 0.4214328\ttotal: 404ms\tremaining: 2.48s\n",
      "140:\tlearn: 0.4206441\ttotal: 406ms\tremaining: 2.48s\n",
      "141:\tlearn: 0.4194387\ttotal: 408ms\tremaining: 2.47s\n",
      "142:\tlearn: 0.4190300\ttotal: 410ms\tremaining: 2.46s\n",
      "143:\tlearn: 0.4183890\ttotal: 412ms\tremaining: 2.45s\n",
      "144:\tlearn: 0.4178356\ttotal: 414ms\tremaining: 2.44s\n",
      "145:\tlearn: 0.4169107\ttotal: 416ms\tremaining: 2.44s\n",
      "146:\tlearn: 0.4165857\ttotal: 418ms\tremaining: 2.42s\n",
      "147:\tlearn: 0.4157928\ttotal: 420ms\tremaining: 2.42s\n",
      "148:\tlearn: 0.4151702\ttotal: 422ms\tremaining: 2.41s\n",
      "149:\tlearn: 0.4140647\ttotal: 424ms\tremaining: 2.4s\n",
      "150:\tlearn: 0.4134993\ttotal: 425ms\tremaining: 2.39s\n",
      "151:\tlearn: 0.4129717\ttotal: 427ms\tremaining: 2.38s\n",
      "152:\tlearn: 0.4118548\ttotal: 429ms\tremaining: 2.37s\n",
      "153:\tlearn: 0.4111608\ttotal: 430ms\tremaining: 2.36s\n",
      "154:\tlearn: 0.4104780\ttotal: 432ms\tremaining: 2.36s\n",
      "155:\tlearn: 0.4098930\ttotal: 434ms\tremaining: 2.35s\n",
      "156:\tlearn: 0.4089691\ttotal: 436ms\tremaining: 2.34s\n",
      "157:\tlearn: 0.4087054\ttotal: 437ms\tremaining: 2.33s\n",
      "158:\tlearn: 0.4077668\ttotal: 439ms\tremaining: 2.32s\n",
      "159:\tlearn: 0.4072638\ttotal: 440ms\tremaining: 2.31s\n",
      "160:\tlearn: 0.4067148\ttotal: 442ms\tremaining: 2.31s\n",
      "161:\tlearn: 0.4060385\ttotal: 444ms\tremaining: 2.3s\n",
      "162:\tlearn: 0.4055288\ttotal: 446ms\tremaining: 2.29s\n",
      "163:\tlearn: 0.4047306\ttotal: 448ms\tremaining: 2.28s\n",
      "164:\tlearn: 0.4037789\ttotal: 449ms\tremaining: 2.27s\n",
      "165:\tlearn: 0.4031834\ttotal: 451ms\tremaining: 2.27s\n",
      "166:\tlearn: 0.4026181\ttotal: 453ms\tremaining: 2.26s\n",
      "167:\tlearn: 0.4019249\ttotal: 455ms\tremaining: 2.25s\n",
      "168:\tlearn: 0.4011902\ttotal: 456ms\tremaining: 2.24s\n",
      "169:\tlearn: 0.4004675\ttotal: 458ms\tremaining: 2.24s\n",
      "170:\tlearn: 0.3998937\ttotal: 460ms\tremaining: 2.23s\n",
      "171:\tlearn: 0.3990494\ttotal: 462ms\tremaining: 2.22s\n",
      "172:\tlearn: 0.3984273\ttotal: 464ms\tremaining: 2.22s\n",
      "173:\tlearn: 0.3978255\ttotal: 465ms\tremaining: 2.21s\n",
      "174:\tlearn: 0.3969608\ttotal: 467ms\tremaining: 2.2s\n",
      "175:\tlearn: 0.3965716\ttotal: 469ms\tremaining: 2.19s\n",
      "176:\tlearn: 0.3958000\ttotal: 470ms\tremaining: 2.19s\n",
      "177:\tlearn: 0.3950526\ttotal: 472ms\tremaining: 2.18s\n",
      "178:\tlearn: 0.3943012\ttotal: 474ms\tremaining: 2.17s\n",
      "179:\tlearn: 0.3936510\ttotal: 476ms\tremaining: 2.17s\n",
      "180:\tlearn: 0.3931304\ttotal: 478ms\tremaining: 2.16s\n",
      "181:\tlearn: 0.3922809\ttotal: 480ms\tremaining: 2.15s\n",
      "182:\tlearn: 0.3916910\ttotal: 481ms\tremaining: 2.15s\n",
      "183:\tlearn: 0.3911177\ttotal: 483ms\tremaining: 2.14s\n",
      "184:\tlearn: 0.3902377\ttotal: 484ms\tremaining: 2.13s\n",
      "185:\tlearn: 0.3896318\ttotal: 486ms\tremaining: 2.13s\n",
      "186:\tlearn: 0.3889018\ttotal: 488ms\tremaining: 2.12s\n",
      "187:\tlearn: 0.3884345\ttotal: 489ms\tremaining: 2.11s\n",
      "188:\tlearn: 0.3880162\ttotal: 491ms\tremaining: 2.1s\n",
      "189:\tlearn: 0.3873354\ttotal: 493ms\tremaining: 2.1s\n",
      "190:\tlearn: 0.3865013\ttotal: 495ms\tremaining: 2.1s\n",
      "191:\tlearn: 0.3858420\ttotal: 496ms\tremaining: 2.09s\n",
      "192:\tlearn: 0.3851892\ttotal: 498ms\tremaining: 2.08s\n",
      "193:\tlearn: 0.3846598\ttotal: 499ms\tremaining: 2.07s\n",
      "194:\tlearn: 0.3840737\ttotal: 501ms\tremaining: 2.07s\n",
      "195:\tlearn: 0.3837046\ttotal: 503ms\tremaining: 2.06s\n",
      "196:\tlearn: 0.3832085\ttotal: 504ms\tremaining: 2.06s\n",
      "197:\tlearn: 0.3827921\ttotal: 506ms\tremaining: 2.05s\n",
      "198:\tlearn: 0.3823105\ttotal: 508ms\tremaining: 2.05s\n",
      "199:\tlearn: 0.3818350\ttotal: 510ms\tremaining: 2.04s\n",
      "200:\tlearn: 0.3815497\ttotal: 512ms\tremaining: 2.03s\n",
      "201:\tlearn: 0.3809861\ttotal: 514ms\tremaining: 2.03s\n",
      "202:\tlearn: 0.3805201\ttotal: 515ms\tremaining: 2.02s\n",
      "203:\tlearn: 0.3800554\ttotal: 518ms\tremaining: 2.02s\n",
      "204:\tlearn: 0.3796176\ttotal: 519ms\tremaining: 2.01s\n",
      "205:\tlearn: 0.3791170\ttotal: 521ms\tremaining: 2.01s\n",
      "206:\tlearn: 0.3783718\ttotal: 523ms\tremaining: 2s\n",
      "207:\tlearn: 0.3780501\ttotal: 525ms\tremaining: 2s\n",
      "208:\tlearn: 0.3773893\ttotal: 526ms\tremaining: 1.99s\n",
      "209:\tlearn: 0.3766736\ttotal: 528ms\tremaining: 1.99s\n",
      "210:\tlearn: 0.3762009\ttotal: 530ms\tremaining: 1.98s\n",
      "211:\tlearn: 0.3754611\ttotal: 531ms\tremaining: 1.98s\n",
      "212:\tlearn: 0.3750611\ttotal: 533ms\tremaining: 1.97s\n",
      "213:\tlearn: 0.3744271\ttotal: 535ms\tremaining: 1.96s\n",
      "214:\tlearn: 0.3738456\ttotal: 537ms\tremaining: 1.96s\n",
      "215:\tlearn: 0.3730705\ttotal: 538ms\tremaining: 1.95s\n",
      "216:\tlearn: 0.3725167\ttotal: 540ms\tremaining: 1.95s\n",
      "217:\tlearn: 0.3718862\ttotal: 542ms\tremaining: 1.94s\n",
      "218:\tlearn: 0.3714487\ttotal: 544ms\tremaining: 1.94s\n",
      "219:\tlearn: 0.3709871\ttotal: 545ms\tremaining: 1.93s\n",
      "220:\tlearn: 0.3707378\ttotal: 547ms\tremaining: 1.93s\n",
      "221:\tlearn: 0.3704158\ttotal: 548ms\tremaining: 1.92s\n",
      "222:\tlearn: 0.3699811\ttotal: 550ms\tremaining: 1.92s\n",
      "223:\tlearn: 0.3695598\ttotal: 552ms\tremaining: 1.91s\n",
      "224:\tlearn: 0.3689447\ttotal: 554ms\tremaining: 1.91s\n",
      "225:\tlearn: 0.3685225\ttotal: 556ms\tremaining: 1.9s\n",
      "226:\tlearn: 0.3680421\ttotal: 558ms\tremaining: 1.9s\n",
      "227:\tlearn: 0.3676042\ttotal: 560ms\tremaining: 1.89s\n",
      "228:\tlearn: 0.3671906\ttotal: 561ms\tremaining: 1.89s\n",
      "229:\tlearn: 0.3668212\ttotal: 563ms\tremaining: 1.89s\n",
      "230:\tlearn: 0.3663692\ttotal: 565ms\tremaining: 1.88s\n",
      "231:\tlearn: 0.3659467\ttotal: 567ms\tremaining: 1.88s\n",
      "232:\tlearn: 0.3655393\ttotal: 568ms\tremaining: 1.87s\n",
      "233:\tlearn: 0.3651726\ttotal: 570ms\tremaining: 1.87s\n",
      "234:\tlearn: 0.3647837\ttotal: 572ms\tremaining: 1.86s\n",
      "235:\tlearn: 0.3641776\ttotal: 574ms\tremaining: 1.86s\n",
      "236:\tlearn: 0.3638442\ttotal: 576ms\tremaining: 1.85s\n",
      "237:\tlearn: 0.3635195\ttotal: 577ms\tremaining: 1.85s\n",
      "238:\tlearn: 0.3631796\ttotal: 579ms\tremaining: 1.84s\n",
      "239:\tlearn: 0.3626676\ttotal: 581ms\tremaining: 1.84s\n",
      "240:\tlearn: 0.3622121\ttotal: 582ms\tremaining: 1.83s\n",
      "241:\tlearn: 0.3619048\ttotal: 584ms\tremaining: 1.83s\n",
      "242:\tlearn: 0.3615063\ttotal: 586ms\tremaining: 1.82s\n",
      "243:\tlearn: 0.3612841\ttotal: 587ms\tremaining: 1.82s\n",
      "244:\tlearn: 0.3609073\ttotal: 589ms\tremaining: 1.81s\n",
      "245:\tlearn: 0.3604078\ttotal: 591ms\tremaining: 1.81s\n",
      "246:\tlearn: 0.3599520\ttotal: 593ms\tremaining: 1.81s\n",
      "247:\tlearn: 0.3595811\ttotal: 595ms\tremaining: 1.8s\n",
      "248:\tlearn: 0.3591317\ttotal: 596ms\tremaining: 1.8s\n",
      "249:\tlearn: 0.3588479\ttotal: 598ms\tremaining: 1.79s\n",
      "250:\tlearn: 0.3583543\ttotal: 601ms\tremaining: 1.79s\n",
      "251:\tlearn: 0.3581791\ttotal: 603ms\tremaining: 1.79s\n",
      "252:\tlearn: 0.3578163\ttotal: 605ms\tremaining: 1.79s\n",
      "253:\tlearn: 0.3575379\ttotal: 607ms\tremaining: 1.78s\n",
      "254:\tlearn: 0.3572027\ttotal: 609ms\tremaining: 1.78s\n",
      "255:\tlearn: 0.3567982\ttotal: 610ms\tremaining: 1.77s\n",
      "256:\tlearn: 0.3562229\ttotal: 612ms\tremaining: 1.77s\n",
      "257:\tlearn: 0.3558689\ttotal: 614ms\tremaining: 1.77s\n",
      "258:\tlearn: 0.3551774\ttotal: 616ms\tremaining: 1.76s\n",
      "259:\tlearn: 0.3548640\ttotal: 618ms\tremaining: 1.76s\n",
      "260:\tlearn: 0.3544581\ttotal: 620ms\tremaining: 1.75s\n",
      "261:\tlearn: 0.3540613\ttotal: 622ms\tremaining: 1.75s\n",
      "262:\tlearn: 0.3538128\ttotal: 624ms\tremaining: 1.75s\n",
      "263:\tlearn: 0.3532543\ttotal: 626ms\tremaining: 1.75s\n",
      "264:\tlearn: 0.3528296\ttotal: 628ms\tremaining: 1.74s\n",
      "265:\tlearn: 0.3524755\ttotal: 629ms\tremaining: 1.74s\n",
      "266:\tlearn: 0.3521389\ttotal: 631ms\tremaining: 1.73s\n",
      "267:\tlearn: 0.3518051\ttotal: 633ms\tremaining: 1.73s\n",
      "268:\tlearn: 0.3513371\ttotal: 634ms\tremaining: 1.72s\n",
      "269:\tlearn: 0.3509465\ttotal: 636ms\tremaining: 1.72s\n",
      "270:\tlearn: 0.3506477\ttotal: 638ms\tremaining: 1.72s\n",
      "271:\tlearn: 0.3502686\ttotal: 639ms\tremaining: 1.71s\n",
      "272:\tlearn: 0.3499996\ttotal: 641ms\tremaining: 1.71s\n",
      "273:\tlearn: 0.3494654\ttotal: 643ms\tremaining: 1.7s\n",
      "274:\tlearn: 0.3490672\ttotal: 645ms\tremaining: 1.7s\n",
      "275:\tlearn: 0.3487140\ttotal: 646ms\tremaining: 1.69s\n",
      "276:\tlearn: 0.3483148\ttotal: 648ms\tremaining: 1.69s\n",
      "277:\tlearn: 0.3479376\ttotal: 650ms\tremaining: 1.69s\n",
      "278:\tlearn: 0.3476559\ttotal: 652ms\tremaining: 1.68s\n",
      "279:\tlearn: 0.3475056\ttotal: 653ms\tremaining: 1.68s\n",
      "280:\tlearn: 0.3470299\ttotal: 655ms\tremaining: 1.68s\n",
      "281:\tlearn: 0.3465974\ttotal: 657ms\tremaining: 1.67s\n",
      "282:\tlearn: 0.3457104\ttotal: 659ms\tremaining: 1.67s\n",
      "283:\tlearn: 0.3453699\ttotal: 660ms\tremaining: 1.66s\n",
      "284:\tlearn: 0.3449194\ttotal: 662ms\tremaining: 1.66s\n",
      "285:\tlearn: 0.3445781\ttotal: 664ms\tremaining: 1.66s\n",
      "286:\tlearn: 0.3442549\ttotal: 665ms\tremaining: 1.65s\n",
      "287:\tlearn: 0.3436732\ttotal: 668ms\tremaining: 1.65s\n",
      "288:\tlearn: 0.3431971\ttotal: 670ms\tremaining: 1.65s\n",
      "289:\tlearn: 0.3430385\ttotal: 671ms\tremaining: 1.64s\n",
      "290:\tlearn: 0.3426125\ttotal: 673ms\tremaining: 1.64s\n",
      "291:\tlearn: 0.3423901\ttotal: 675ms\tremaining: 1.64s\n",
      "292:\tlearn: 0.3418502\ttotal: 676ms\tremaining: 1.63s\n",
      "293:\tlearn: 0.3413629\ttotal: 678ms\tremaining: 1.63s\n",
      "294:\tlearn: 0.3410155\ttotal: 680ms\tremaining: 1.62s\n",
      "295:\tlearn: 0.3406270\ttotal: 682ms\tremaining: 1.62s\n",
      "296:\tlearn: 0.3403616\ttotal: 684ms\tremaining: 1.62s\n",
      "297:\tlearn: 0.3400305\ttotal: 686ms\tremaining: 1.62s\n",
      "298:\tlearn: 0.3397938\ttotal: 688ms\tremaining: 1.61s\n",
      "299:\tlearn: 0.3395162\ttotal: 690ms\tremaining: 1.61s\n",
      "300:\tlearn: 0.3391135\ttotal: 692ms\tremaining: 1.61s\n",
      "301:\tlearn: 0.3387590\ttotal: 694ms\tremaining: 1.6s\n",
      "302:\tlearn: 0.3383585\ttotal: 696ms\tremaining: 1.6s\n",
      "303:\tlearn: 0.3379814\ttotal: 698ms\tremaining: 1.6s\n",
      "304:\tlearn: 0.3375277\ttotal: 700ms\tremaining: 1.59s\n",
      "305:\tlearn: 0.3372477\ttotal: 702ms\tremaining: 1.59s\n",
      "306:\tlearn: 0.3369210\ttotal: 703ms\tremaining: 1.59s\n",
      "307:\tlearn: 0.3367762\ttotal: 705ms\tremaining: 1.58s\n",
      "308:\tlearn: 0.3363929\ttotal: 707ms\tremaining: 1.58s\n",
      "309:\tlearn: 0.3361404\ttotal: 709ms\tremaining: 1.58s\n",
      "310:\tlearn: 0.3358016\ttotal: 711ms\tremaining: 1.57s\n",
      "311:\tlearn: 0.3354371\ttotal: 712ms\tremaining: 1.57s\n",
      "312:\tlearn: 0.3351281\ttotal: 714ms\tremaining: 1.57s\n",
      "313:\tlearn: 0.3349342\ttotal: 716ms\tremaining: 1.56s\n",
      "314:\tlearn: 0.3345681\ttotal: 717ms\tremaining: 1.56s\n",
      "315:\tlearn: 0.3341835\ttotal: 719ms\tremaining: 1.56s\n",
      "316:\tlearn: 0.3339848\ttotal: 721ms\tremaining: 1.55s\n",
      "317:\tlearn: 0.3334631\ttotal: 723ms\tremaining: 1.55s\n",
      "318:\tlearn: 0.3333090\ttotal: 725ms\tremaining: 1.55s\n",
      "319:\tlearn: 0.3331853\ttotal: 727ms\tremaining: 1.54s\n",
      "320:\tlearn: 0.3329144\ttotal: 730ms\tremaining: 1.54s\n",
      "321:\tlearn: 0.3325655\ttotal: 732ms\tremaining: 1.54s\n",
      "322:\tlearn: 0.3323911\ttotal: 735ms\tremaining: 1.54s\n",
      "323:\tlearn: 0.3321008\ttotal: 737ms\tremaining: 1.54s\n",
      "324:\tlearn: 0.3318429\ttotal: 739ms\tremaining: 1.53s\n",
      "325:\tlearn: 0.3313364\ttotal: 741ms\tremaining: 1.53s\n",
      "326:\tlearn: 0.3311141\ttotal: 743ms\tremaining: 1.53s\n",
      "327:\tlearn: 0.3306946\ttotal: 745ms\tremaining: 1.53s\n",
      "328:\tlearn: 0.3303195\ttotal: 748ms\tremaining: 1.52s\n",
      "329:\tlearn: 0.3299492\ttotal: 750ms\tremaining: 1.52s\n",
      "330:\tlearn: 0.3296295\ttotal: 752ms\tremaining: 1.52s\n",
      "331:\tlearn: 0.3292299\ttotal: 755ms\tremaining: 1.52s\n",
      "332:\tlearn: 0.3288012\ttotal: 757ms\tremaining: 1.51s\n",
      "333:\tlearn: 0.3284230\ttotal: 760ms\tremaining: 1.51s\n",
      "334:\tlearn: 0.3281356\ttotal: 770ms\tremaining: 1.53s\n",
      "335:\tlearn: 0.3278105\ttotal: 773ms\tremaining: 1.53s\n",
      "336:\tlearn: 0.3275766\ttotal: 775ms\tremaining: 1.52s\n",
      "337:\tlearn: 0.3272361\ttotal: 777ms\tremaining: 1.52s\n",
      "338:\tlearn: 0.3271448\ttotal: 779ms\tremaining: 1.52s\n",
      "339:\tlearn: 0.3270027\ttotal: 781ms\tremaining: 1.51s\n",
      "340:\tlearn: 0.3264515\ttotal: 783ms\tremaining: 1.51s\n",
      "341:\tlearn: 0.3261568\ttotal: 785ms\tremaining: 1.51s\n",
      "342:\tlearn: 0.3259076\ttotal: 787ms\tremaining: 1.51s\n",
      "343:\tlearn: 0.3257816\ttotal: 789ms\tremaining: 1.5s\n",
      "344:\tlearn: 0.3253372\ttotal: 791ms\tremaining: 1.5s\n",
      "345:\tlearn: 0.3249546\ttotal: 793ms\tremaining: 1.5s\n",
      "346:\tlearn: 0.3247155\ttotal: 795ms\tremaining: 1.5s\n",
      "347:\tlearn: 0.3242784\ttotal: 797ms\tremaining: 1.49s\n",
      "348:\tlearn: 0.3240593\ttotal: 799ms\tremaining: 1.49s\n",
      "349:\tlearn: 0.3236125\ttotal: 801ms\tremaining: 1.49s\n",
      "350:\tlearn: 0.3233139\ttotal: 803ms\tremaining: 1.49s\n",
      "351:\tlearn: 0.3230584\ttotal: 805ms\tremaining: 1.48s\n",
      "352:\tlearn: 0.3227589\ttotal: 807ms\tremaining: 1.48s\n",
      "353:\tlearn: 0.3226484\ttotal: 809ms\tremaining: 1.48s\n",
      "354:\tlearn: 0.3224708\ttotal: 811ms\tremaining: 1.47s\n",
      "355:\tlearn: 0.3222481\ttotal: 813ms\tremaining: 1.47s\n",
      "356:\tlearn: 0.3220751\ttotal: 815ms\tremaining: 1.47s\n",
      "357:\tlearn: 0.3217743\ttotal: 817ms\tremaining: 1.47s\n",
      "358:\tlearn: 0.3215696\ttotal: 820ms\tremaining: 1.46s\n",
      "359:\tlearn: 0.3213855\ttotal: 822ms\tremaining: 1.46s\n",
      "360:\tlearn: 0.3210040\ttotal: 825ms\tremaining: 1.46s\n",
      "361:\tlearn: 0.3206377\ttotal: 827ms\tremaining: 1.46s\n",
      "362:\tlearn: 0.3203844\ttotal: 829ms\tremaining: 1.45s\n",
      "363:\tlearn: 0.3199615\ttotal: 831ms\tremaining: 1.45s\n",
      "364:\tlearn: 0.3196000\ttotal: 833ms\tremaining: 1.45s\n",
      "365:\tlearn: 0.3192366\ttotal: 835ms\tremaining: 1.45s\n",
      "366:\tlearn: 0.3189433\ttotal: 837ms\tremaining: 1.44s\n",
      "367:\tlearn: 0.3187596\ttotal: 839ms\tremaining: 1.44s\n",
      "368:\tlearn: 0.3183334\ttotal: 841ms\tremaining: 1.44s\n",
      "369:\tlearn: 0.3181075\ttotal: 843ms\tremaining: 1.44s\n",
      "370:\tlearn: 0.3179868\ttotal: 845ms\tremaining: 1.43s\n",
      "371:\tlearn: 0.3177287\ttotal: 847ms\tremaining: 1.43s\n",
      "372:\tlearn: 0.3174213\ttotal: 849ms\tremaining: 1.43s\n",
      "373:\tlearn: 0.3173105\ttotal: 851ms\tremaining: 1.42s\n",
      "374:\tlearn: 0.3169930\ttotal: 852ms\tremaining: 1.42s\n",
      "375:\tlearn: 0.3167770\ttotal: 854ms\tremaining: 1.42s\n",
      "376:\tlearn: 0.3164586\ttotal: 856ms\tremaining: 1.41s\n",
      "377:\tlearn: 0.3162964\ttotal: 858ms\tremaining: 1.41s\n",
      "378:\tlearn: 0.3157005\ttotal: 860ms\tremaining: 1.41s\n",
      "379:\tlearn: 0.3154507\ttotal: 862ms\tremaining: 1.41s\n",
      "380:\tlearn: 0.3150930\ttotal: 864ms\tremaining: 1.4s\n",
      "381:\tlearn: 0.3147706\ttotal: 866ms\tremaining: 1.4s\n",
      "382:\tlearn: 0.3143755\ttotal: 868ms\tremaining: 1.4s\n",
      "383:\tlearn: 0.3139819\ttotal: 870ms\tremaining: 1.4s\n",
      "384:\tlearn: 0.3136702\ttotal: 871ms\tremaining: 1.39s\n",
      "385:\tlearn: 0.3134343\ttotal: 873ms\tremaining: 1.39s\n",
      "386:\tlearn: 0.3133741\ttotal: 875ms\tremaining: 1.39s\n",
      "387:\tlearn: 0.3130709\ttotal: 876ms\tremaining: 1.38s\n",
      "388:\tlearn: 0.3128360\ttotal: 878ms\tremaining: 1.38s\n",
      "389:\tlearn: 0.3124279\ttotal: 880ms\tremaining: 1.38s\n",
      "390:\tlearn: 0.3121571\ttotal: 882ms\tremaining: 1.37s\n",
      "391:\tlearn: 0.3118727\ttotal: 884ms\tremaining: 1.37s\n",
      "392:\tlearn: 0.3117433\ttotal: 885ms\tremaining: 1.37s\n",
      "393:\tlearn: 0.3113093\ttotal: 887ms\tremaining: 1.36s\n",
      "394:\tlearn: 0.3111498\ttotal: 889ms\tremaining: 1.36s\n",
      "395:\tlearn: 0.3108884\ttotal: 891ms\tremaining: 1.36s\n",
      "396:\tlearn: 0.3106935\ttotal: 893ms\tremaining: 1.36s\n",
      "397:\tlearn: 0.3104544\ttotal: 895ms\tremaining: 1.35s\n",
      "398:\tlearn: 0.3100203\ttotal: 896ms\tremaining: 1.35s\n",
      "399:\tlearn: 0.3097922\ttotal: 898ms\tremaining: 1.35s\n",
      "400:\tlearn: 0.3093006\ttotal: 900ms\tremaining: 1.34s\n",
      "401:\tlearn: 0.3090082\ttotal: 902ms\tremaining: 1.34s\n",
      "402:\tlearn: 0.3086350\ttotal: 904ms\tremaining: 1.34s\n",
      "403:\tlearn: 0.3085525\ttotal: 905ms\tremaining: 1.33s\n",
      "404:\tlearn: 0.3082926\ttotal: 907ms\tremaining: 1.33s\n",
      "405:\tlearn: 0.3079534\ttotal: 909ms\tremaining: 1.33s\n",
      "406:\tlearn: 0.3077615\ttotal: 911ms\tremaining: 1.33s\n",
      "407:\tlearn: 0.3076204\ttotal: 913ms\tremaining: 1.32s\n",
      "408:\tlearn: 0.3073705\ttotal: 916ms\tremaining: 1.32s\n",
      "409:\tlearn: 0.3072051\ttotal: 918ms\tremaining: 1.32s\n",
      "410:\tlearn: 0.3069296\ttotal: 919ms\tremaining: 1.32s\n",
      "411:\tlearn: 0.3067305\ttotal: 921ms\tremaining: 1.31s\n",
      "412:\tlearn: 0.3064667\ttotal: 922ms\tremaining: 1.31s\n",
      "413:\tlearn: 0.3062177\ttotal: 924ms\tremaining: 1.31s\n",
      "414:\tlearn: 0.3059366\ttotal: 926ms\tremaining: 1.3s\n",
      "415:\tlearn: 0.3057826\ttotal: 927ms\tremaining: 1.3s\n",
      "416:\tlearn: 0.3053670\ttotal: 929ms\tremaining: 1.3s\n",
      "417:\tlearn: 0.3052102\ttotal: 931ms\tremaining: 1.3s\n",
      "418:\tlearn: 0.3048241\ttotal: 932ms\tremaining: 1.29s\n",
      "419:\tlearn: 0.3043941\ttotal: 934ms\tremaining: 1.29s\n",
      "420:\tlearn: 0.3042906\ttotal: 936ms\tremaining: 1.29s\n",
      "421:\tlearn: 0.3042106\ttotal: 937ms\tremaining: 1.28s\n",
      "422:\tlearn: 0.3039127\ttotal: 939ms\tremaining: 1.28s\n",
      "423:\tlearn: 0.3036822\ttotal: 940ms\tremaining: 1.28s\n",
      "424:\tlearn: 0.3032348\ttotal: 942ms\tremaining: 1.27s\n",
      "425:\tlearn: 0.3030739\ttotal: 944ms\tremaining: 1.27s\n",
      "426:\tlearn: 0.3027756\ttotal: 946ms\tremaining: 1.27s\n",
      "427:\tlearn: 0.3025508\ttotal: 947ms\tremaining: 1.26s\n",
      "428:\tlearn: 0.3022920\ttotal: 949ms\tremaining: 1.26s\n",
      "429:\tlearn: 0.3020336\ttotal: 951ms\tremaining: 1.26s\n",
      "430:\tlearn: 0.3018311\ttotal: 953ms\tremaining: 1.26s\n",
      "431:\tlearn: 0.3016490\ttotal: 954ms\tremaining: 1.25s\n",
      "432:\tlearn: 0.3014655\ttotal: 956ms\tremaining: 1.25s\n",
      "433:\tlearn: 0.3011402\ttotal: 958ms\tremaining: 1.25s\n",
      "434:\tlearn: 0.3008430\ttotal: 960ms\tremaining: 1.25s\n",
      "435:\tlearn: 0.3005948\ttotal: 961ms\tremaining: 1.24s\n",
      "436:\tlearn: 0.3003246\ttotal: 963ms\tremaining: 1.24s\n",
      "437:\tlearn: 0.2998332\ttotal: 964ms\tremaining: 1.24s\n",
      "438:\tlearn: 0.2995628\ttotal: 966ms\tremaining: 1.23s\n",
      "439:\tlearn: 0.2993476\ttotal: 968ms\tremaining: 1.23s\n",
      "440:\tlearn: 0.2992118\ttotal: 970ms\tremaining: 1.23s\n",
      "441:\tlearn: 0.2989786\ttotal: 971ms\tremaining: 1.23s\n",
      "442:\tlearn: 0.2987332\ttotal: 973ms\tremaining: 1.22s\n",
      "443:\tlearn: 0.2983521\ttotal: 974ms\tremaining: 1.22s\n",
      "444:\tlearn: 0.2981144\ttotal: 976ms\tremaining: 1.22s\n",
      "445:\tlearn: 0.2979409\ttotal: 978ms\tremaining: 1.21s\n",
      "446:\tlearn: 0.2976007\ttotal: 979ms\tremaining: 1.21s\n",
      "447:\tlearn: 0.2974376\ttotal: 981ms\tremaining: 1.21s\n",
      "448:\tlearn: 0.2971482\ttotal: 983ms\tremaining: 1.21s\n",
      "449:\tlearn: 0.2970532\ttotal: 984ms\tremaining: 1.2s\n",
      "450:\tlearn: 0.2968756\ttotal: 986ms\tremaining: 1.2s\n",
      "451:\tlearn: 0.2966521\ttotal: 988ms\tremaining: 1.2s\n",
      "452:\tlearn: 0.2963392\ttotal: 990ms\tremaining: 1.19s\n",
      "453:\tlearn: 0.2962526\ttotal: 991ms\tremaining: 1.19s\n",
      "454:\tlearn: 0.2959383\ttotal: 993ms\tremaining: 1.19s\n",
      "455:\tlearn: 0.2957414\ttotal: 995ms\tremaining: 1.19s\n",
      "456:\tlearn: 0.2954628\ttotal: 997ms\tremaining: 1.18s\n",
      "457:\tlearn: 0.2951344\ttotal: 999ms\tremaining: 1.18s\n",
      "458:\tlearn: 0.2949065\ttotal: 1s\tremaining: 1.18s\n",
      "459:\tlearn: 0.2948312\ttotal: 1s\tremaining: 1.18s\n",
      "460:\tlearn: 0.2946606\ttotal: 1s\tremaining: 1.17s\n",
      "461:\tlearn: 0.2944450\ttotal: 1s\tremaining: 1.17s\n",
      "462:\tlearn: 0.2942192\ttotal: 1.01s\tremaining: 1.17s\n",
      "463:\tlearn: 0.2940629\ttotal: 1.01s\tremaining: 1.17s\n",
      "464:\tlearn: 0.2936862\ttotal: 1.01s\tremaining: 1.16s\n",
      "465:\tlearn: 0.2934564\ttotal: 1.01s\tremaining: 1.16s\n",
      "466:\tlearn: 0.2931260\ttotal: 1.01s\tremaining: 1.16s\n",
      "467:\tlearn: 0.2927964\ttotal: 1.01s\tremaining: 1.15s\n",
      "468:\tlearn: 0.2926018\ttotal: 1.02s\tremaining: 1.15s\n",
      "469:\tlearn: 0.2923854\ttotal: 1.02s\tremaining: 1.15s\n",
      "470:\tlearn: 0.2921834\ttotal: 1.02s\tremaining: 1.15s\n",
      "471:\tlearn: 0.2919782\ttotal: 1.02s\tremaining: 1.14s\n",
      "472:\tlearn: 0.2917113\ttotal: 1.02s\tremaining: 1.14s\n",
      "473:\tlearn: 0.2912696\ttotal: 1.03s\tremaining: 1.14s\n",
      "474:\tlearn: 0.2910249\ttotal: 1.03s\tremaining: 1.14s\n",
      "475:\tlearn: 0.2907673\ttotal: 1.03s\tremaining: 1.13s\n",
      "476:\tlearn: 0.2904237\ttotal: 1.03s\tremaining: 1.13s\n",
      "477:\tlearn: 0.2902551\ttotal: 1.03s\tremaining: 1.13s\n",
      "478:\tlearn: 0.2899177\ttotal: 1.03s\tremaining: 1.13s\n",
      "479:\tlearn: 0.2897175\ttotal: 1.04s\tremaining: 1.12s\n",
      "480:\tlearn: 0.2896110\ttotal: 1.04s\tremaining: 1.12s\n",
      "481:\tlearn: 0.2892980\ttotal: 1.04s\tremaining: 1.12s\n",
      "482:\tlearn: 0.2889870\ttotal: 1.04s\tremaining: 1.12s\n",
      "483:\tlearn: 0.2887236\ttotal: 1.04s\tremaining: 1.11s\n",
      "484:\tlearn: 0.2885040\ttotal: 1.05s\tremaining: 1.11s\n",
      "485:\tlearn: 0.2881886\ttotal: 1.05s\tremaining: 1.11s\n",
      "486:\tlearn: 0.2880321\ttotal: 1.05s\tremaining: 1.1s\n",
      "487:\tlearn: 0.2877498\ttotal: 1.05s\tremaining: 1.1s\n",
      "488:\tlearn: 0.2874975\ttotal: 1.05s\tremaining: 1.1s\n",
      "489:\tlearn: 0.2870005\ttotal: 1.05s\tremaining: 1.1s\n",
      "490:\tlearn: 0.2867773\ttotal: 1.06s\tremaining: 1.09s\n",
      "491:\tlearn: 0.2866602\ttotal: 1.06s\tremaining: 1.09s\n",
      "492:\tlearn: 0.2864573\ttotal: 1.06s\tremaining: 1.09s\n",
      "493:\tlearn: 0.2862369\ttotal: 1.06s\tremaining: 1.09s\n",
      "494:\tlearn: 0.2860048\ttotal: 1.06s\tremaining: 1.08s\n",
      "495:\tlearn: 0.2858847\ttotal: 1.06s\tremaining: 1.08s\n",
      "496:\tlearn: 0.2856706\ttotal: 1.07s\tremaining: 1.08s\n",
      "497:\tlearn: 0.2853657\ttotal: 1.07s\tremaining: 1.08s\n",
      "498:\tlearn: 0.2851930\ttotal: 1.07s\tremaining: 1.07s\n",
      "499:\tlearn: 0.2848883\ttotal: 1.07s\tremaining: 1.07s\n",
      "500:\tlearn: 0.2847668\ttotal: 1.07s\tremaining: 1.07s\n",
      "501:\tlearn: 0.2846362\ttotal: 1.08s\tremaining: 1.07s\n",
      "502:\tlearn: 0.2843093\ttotal: 1.08s\tremaining: 1.06s\n",
      "503:\tlearn: 0.2841273\ttotal: 1.08s\tremaining: 1.06s\n",
      "504:\tlearn: 0.2839508\ttotal: 1.08s\tremaining: 1.06s\n",
      "505:\tlearn: 0.2838791\ttotal: 1.08s\tremaining: 1.06s\n",
      "506:\tlearn: 0.2835382\ttotal: 1.08s\tremaining: 1.05s\n",
      "507:\tlearn: 0.2832336\ttotal: 1.09s\tremaining: 1.05s\n",
      "508:\tlearn: 0.2830058\ttotal: 1.09s\tremaining: 1.05s\n",
      "509:\tlearn: 0.2828549\ttotal: 1.09s\tremaining: 1.05s\n",
      "510:\tlearn: 0.2826536\ttotal: 1.09s\tremaining: 1.04s\n",
      "511:\tlearn: 0.2821348\ttotal: 1.09s\tremaining: 1.04s\n",
      "512:\tlearn: 0.2817643\ttotal: 1.09s\tremaining: 1.04s\n",
      "513:\tlearn: 0.2817056\ttotal: 1.09s\tremaining: 1.04s\n",
      "514:\tlearn: 0.2815301\ttotal: 1.1s\tremaining: 1.03s\n",
      "515:\tlearn: 0.2812127\ttotal: 1.1s\tremaining: 1.03s\n",
      "516:\tlearn: 0.2811157\ttotal: 1.1s\tremaining: 1.03s\n",
      "517:\tlearn: 0.2810220\ttotal: 1.1s\tremaining: 1.03s\n",
      "518:\tlearn: 0.2808123\ttotal: 1.1s\tremaining: 1.02s\n",
      "519:\tlearn: 0.2804794\ttotal: 1.11s\tremaining: 1.02s\n",
      "520:\tlearn: 0.2802338\ttotal: 1.11s\tremaining: 1.02s\n",
      "521:\tlearn: 0.2800138\ttotal: 1.11s\tremaining: 1.02s\n",
      "522:\tlearn: 0.2798458\ttotal: 1.11s\tremaining: 1.01s\n",
      "523:\tlearn: 0.2795009\ttotal: 1.11s\tremaining: 1.01s\n",
      "524:\tlearn: 0.2792134\ttotal: 1.12s\tremaining: 1.01s\n",
      "525:\tlearn: 0.2789277\ttotal: 1.12s\tremaining: 1.01s\n",
      "526:\tlearn: 0.2787092\ttotal: 1.12s\tremaining: 1s\n",
      "527:\tlearn: 0.2785171\ttotal: 1.12s\tremaining: 1s\n",
      "528:\tlearn: 0.2782431\ttotal: 1.12s\tremaining: 1000ms\n",
      "529:\tlearn: 0.2780792\ttotal: 1.12s\tremaining: 997ms\n",
      "530:\tlearn: 0.2778468\ttotal: 1.13s\tremaining: 995ms\n",
      "531:\tlearn: 0.2776214\ttotal: 1.13s\tremaining: 992ms\n",
      "532:\tlearn: 0.2775225\ttotal: 1.13s\tremaining: 990ms\n",
      "533:\tlearn: 0.2772761\ttotal: 1.13s\tremaining: 988ms\n",
      "534:\tlearn: 0.2770526\ttotal: 1.13s\tremaining: 985ms\n",
      "535:\tlearn: 0.2768688\ttotal: 1.14s\tremaining: 983ms\n",
      "536:\tlearn: 0.2767198\ttotal: 1.14s\tremaining: 980ms\n",
      "537:\tlearn: 0.2763635\ttotal: 1.14s\tremaining: 978ms\n",
      "538:\tlearn: 0.2761839\ttotal: 1.14s\tremaining: 975ms\n",
      "539:\tlearn: 0.2760329\ttotal: 1.14s\tremaining: 973ms\n",
      "540:\tlearn: 0.2758814\ttotal: 1.14s\tremaining: 970ms\n",
      "541:\tlearn: 0.2756554\ttotal: 1.15s\tremaining: 968ms\n",
      "542:\tlearn: 0.2753469\ttotal: 1.15s\tremaining: 966ms\n",
      "543:\tlearn: 0.2751437\ttotal: 1.15s\tremaining: 963ms\n",
      "544:\tlearn: 0.2749836\ttotal: 1.15s\tremaining: 961ms\n",
      "545:\tlearn: 0.2748715\ttotal: 1.15s\tremaining: 959ms\n",
      "546:\tlearn: 0.2748156\ttotal: 1.15s\tremaining: 956ms\n",
      "547:\tlearn: 0.2746396\ttotal: 1.16s\tremaining: 954ms\n",
      "548:\tlearn: 0.2742751\ttotal: 1.16s\tremaining: 951ms\n",
      "549:\tlearn: 0.2740222\ttotal: 1.16s\tremaining: 949ms\n",
      "550:\tlearn: 0.2737643\ttotal: 1.16s\tremaining: 947ms\n",
      "551:\tlearn: 0.2735570\ttotal: 1.16s\tremaining: 944ms\n",
      "552:\tlearn: 0.2732473\ttotal: 1.17s\tremaining: 942ms\n",
      "553:\tlearn: 0.2730397\ttotal: 1.17s\tremaining: 939ms\n",
      "554:\tlearn: 0.2726986\ttotal: 1.17s\tremaining: 937ms\n",
      "555:\tlearn: 0.2726207\ttotal: 1.17s\tremaining: 935ms\n",
      "556:\tlearn: 0.2724192\ttotal: 1.17s\tremaining: 932ms\n",
      "557:\tlearn: 0.2722507\ttotal: 1.17s\tremaining: 930ms\n",
      "558:\tlearn: 0.2718974\ttotal: 1.18s\tremaining: 928ms\n",
      "559:\tlearn: 0.2717007\ttotal: 1.18s\tremaining: 925ms\n",
      "560:\tlearn: 0.2714049\ttotal: 1.18s\tremaining: 923ms\n",
      "561:\tlearn: 0.2712418\ttotal: 1.18s\tremaining: 921ms\n",
      "562:\tlearn: 0.2709507\ttotal: 1.18s\tremaining: 919ms\n",
      "563:\tlearn: 0.2707628\ttotal: 1.19s\tremaining: 916ms\n",
      "564:\tlearn: 0.2705255\ttotal: 1.19s\tremaining: 914ms\n",
      "565:\tlearn: 0.2703786\ttotal: 1.19s\tremaining: 912ms\n",
      "566:\tlearn: 0.2702270\ttotal: 1.19s\tremaining: 910ms\n",
      "567:\tlearn: 0.2699564\ttotal: 1.19s\tremaining: 907ms\n",
      "568:\tlearn: 0.2697149\ttotal: 1.19s\tremaining: 905ms\n",
      "569:\tlearn: 0.2695101\ttotal: 1.2s\tremaining: 902ms\n",
      "570:\tlearn: 0.2693226\ttotal: 1.2s\tremaining: 900ms\n",
      "571:\tlearn: 0.2692401\ttotal: 1.2s\tremaining: 898ms\n",
      "572:\tlearn: 0.2690312\ttotal: 1.2s\tremaining: 895ms\n",
      "573:\tlearn: 0.2688283\ttotal: 1.2s\tremaining: 893ms\n",
      "574:\tlearn: 0.2685991\ttotal: 1.2s\tremaining: 890ms\n",
      "575:\tlearn: 0.2684519\ttotal: 1.21s\tremaining: 888ms\n",
      "576:\tlearn: 0.2681852\ttotal: 1.21s\tremaining: 885ms\n",
      "577:\tlearn: 0.2679966\ttotal: 1.21s\tremaining: 883ms\n",
      "578:\tlearn: 0.2678214\ttotal: 1.21s\tremaining: 881ms\n",
      "579:\tlearn: 0.2675508\ttotal: 1.21s\tremaining: 879ms\n",
      "580:\tlearn: 0.2672992\ttotal: 1.22s\tremaining: 876ms\n",
      "581:\tlearn: 0.2671163\ttotal: 1.22s\tremaining: 874ms\n",
      "582:\tlearn: 0.2669239\ttotal: 1.22s\tremaining: 872ms\n",
      "583:\tlearn: 0.2667451\ttotal: 1.22s\tremaining: 869ms\n",
      "584:\tlearn: 0.2665639\ttotal: 1.22s\tremaining: 867ms\n",
      "585:\tlearn: 0.2662928\ttotal: 1.22s\tremaining: 865ms\n",
      "586:\tlearn: 0.2659768\ttotal: 1.23s\tremaining: 863ms\n",
      "587:\tlearn: 0.2657706\ttotal: 1.23s\tremaining: 860ms\n",
      "588:\tlearn: 0.2656701\ttotal: 1.23s\tremaining: 858ms\n",
      "589:\tlearn: 0.2653913\ttotal: 1.23s\tremaining: 855ms\n",
      "590:\tlearn: 0.2652461\ttotal: 1.23s\tremaining: 853ms\n",
      "591:\tlearn: 0.2650850\ttotal: 1.23s\tremaining: 851ms\n",
      "592:\tlearn: 0.2649887\ttotal: 1.24s\tremaining: 848ms\n",
      "593:\tlearn: 0.2649084\ttotal: 1.24s\tremaining: 846ms\n",
      "594:\tlearn: 0.2647971\ttotal: 1.24s\tremaining: 844ms\n",
      "595:\tlearn: 0.2646760\ttotal: 1.24s\tremaining: 841ms\n",
      "596:\tlearn: 0.2643129\ttotal: 1.24s\tremaining: 839ms\n",
      "597:\tlearn: 0.2641118\ttotal: 1.24s\tremaining: 836ms\n",
      "598:\tlearn: 0.2638480\ttotal: 1.25s\tremaining: 834ms\n",
      "599:\tlearn: 0.2636756\ttotal: 1.25s\tremaining: 832ms\n",
      "600:\tlearn: 0.2634917\ttotal: 1.25s\tremaining: 830ms\n",
      "601:\tlearn: 0.2632788\ttotal: 1.25s\tremaining: 827ms\n",
      "602:\tlearn: 0.2630358\ttotal: 1.25s\tremaining: 825ms\n",
      "603:\tlearn: 0.2627907\ttotal: 1.25s\tremaining: 823ms\n",
      "604:\tlearn: 0.2626487\ttotal: 1.26s\tremaining: 820ms\n",
      "605:\tlearn: 0.2623086\ttotal: 1.26s\tremaining: 818ms\n",
      "606:\tlearn: 0.2622148\ttotal: 1.26s\tremaining: 816ms\n",
      "607:\tlearn: 0.2619977\ttotal: 1.26s\tremaining: 814ms\n",
      "608:\tlearn: 0.2618683\ttotal: 1.26s\tremaining: 812ms\n",
      "609:\tlearn: 0.2617262\ttotal: 1.26s\tremaining: 809ms\n",
      "610:\tlearn: 0.2614272\ttotal: 1.27s\tremaining: 807ms\n",
      "611:\tlearn: 0.2612679\ttotal: 1.27s\tremaining: 805ms\n",
      "612:\tlearn: 0.2610038\ttotal: 1.27s\tremaining: 803ms\n",
      "613:\tlearn: 0.2607667\ttotal: 1.27s\tremaining: 800ms\n",
      "614:\tlearn: 0.2605145\ttotal: 1.27s\tremaining: 798ms\n",
      "615:\tlearn: 0.2602892\ttotal: 1.28s\tremaining: 796ms\n",
      "616:\tlearn: 0.2599984\ttotal: 1.28s\tremaining: 794ms\n",
      "617:\tlearn: 0.2598193\ttotal: 1.28s\tremaining: 792ms\n",
      "618:\tlearn: 0.2596203\ttotal: 1.28s\tremaining: 790ms\n",
      "619:\tlearn: 0.2594357\ttotal: 1.28s\tremaining: 788ms\n",
      "620:\tlearn: 0.2590858\ttotal: 1.29s\tremaining: 785ms\n",
      "621:\tlearn: 0.2589773\ttotal: 1.29s\tremaining: 783ms\n",
      "622:\tlearn: 0.2585929\ttotal: 1.29s\tremaining: 781ms\n",
      "623:\tlearn: 0.2581706\ttotal: 1.29s\tremaining: 779ms\n",
      "624:\tlearn: 0.2578699\ttotal: 1.29s\tremaining: 776ms\n",
      "625:\tlearn: 0.2576291\ttotal: 1.29s\tremaining: 774ms\n",
      "626:\tlearn: 0.2574157\ttotal: 1.3s\tremaining: 772ms\n",
      "627:\tlearn: 0.2569596\ttotal: 1.3s\tremaining: 770ms\n",
      "628:\tlearn: 0.2566992\ttotal: 1.3s\tremaining: 767ms\n",
      "629:\tlearn: 0.2564773\ttotal: 1.3s\tremaining: 765ms\n",
      "630:\tlearn: 0.2563904\ttotal: 1.3s\tremaining: 763ms\n",
      "631:\tlearn: 0.2562541\ttotal: 1.31s\tremaining: 760ms\n",
      "632:\tlearn: 0.2560905\ttotal: 1.31s\tremaining: 758ms\n",
      "633:\tlearn: 0.2559196\ttotal: 1.31s\tremaining: 756ms\n",
      "634:\tlearn: 0.2556727\ttotal: 1.31s\tremaining: 754ms\n",
      "635:\tlearn: 0.2554610\ttotal: 1.31s\tremaining: 752ms\n",
      "636:\tlearn: 0.2553226\ttotal: 1.31s\tremaining: 750ms\n",
      "637:\tlearn: 0.2551740\ttotal: 1.32s\tremaining: 748ms\n",
      "638:\tlearn: 0.2549789\ttotal: 1.32s\tremaining: 746ms\n",
      "639:\tlearn: 0.2547121\ttotal: 1.32s\tremaining: 744ms\n",
      "640:\tlearn: 0.2546132\ttotal: 1.32s\tremaining: 741ms\n",
      "641:\tlearn: 0.2543087\ttotal: 1.32s\tremaining: 739ms\n",
      "642:\tlearn: 0.2541042\ttotal: 1.33s\tremaining: 737ms\n",
      "643:\tlearn: 0.2538693\ttotal: 1.33s\tremaining: 735ms\n",
      "644:\tlearn: 0.2535917\ttotal: 1.33s\tremaining: 733ms\n",
      "645:\tlearn: 0.2533902\ttotal: 1.33s\tremaining: 730ms\n",
      "646:\tlearn: 0.2532326\ttotal: 1.33s\tremaining: 728ms\n",
      "647:\tlearn: 0.2530459\ttotal: 1.34s\tremaining: 726ms\n",
      "648:\tlearn: 0.2528119\ttotal: 1.34s\tremaining: 724ms\n",
      "649:\tlearn: 0.2525547\ttotal: 1.34s\tremaining: 721ms\n",
      "650:\tlearn: 0.2524567\ttotal: 1.34s\tremaining: 719ms\n",
      "651:\tlearn: 0.2521524\ttotal: 1.34s\tremaining: 717ms\n",
      "652:\tlearn: 0.2518746\ttotal: 1.34s\tremaining: 715ms\n",
      "653:\tlearn: 0.2515442\ttotal: 1.35s\tremaining: 712ms\n",
      "654:\tlearn: 0.2513742\ttotal: 1.35s\tremaining: 710ms\n",
      "655:\tlearn: 0.2511759\ttotal: 1.35s\tremaining: 708ms\n",
      "656:\tlearn: 0.2508741\ttotal: 1.35s\tremaining: 706ms\n",
      "657:\tlearn: 0.2507077\ttotal: 1.35s\tremaining: 703ms\n",
      "658:\tlearn: 0.2505781\ttotal: 1.35s\tremaining: 701ms\n",
      "659:\tlearn: 0.2505100\ttotal: 1.36s\tremaining: 699ms\n",
      "660:\tlearn: 0.2501853\ttotal: 1.36s\tremaining: 697ms\n",
      "661:\tlearn: 0.2500339\ttotal: 1.36s\tremaining: 695ms\n",
      "662:\tlearn: 0.2498808\ttotal: 1.36s\tremaining: 692ms\n",
      "663:\tlearn: 0.2496646\ttotal: 1.36s\tremaining: 690ms\n",
      "664:\tlearn: 0.2493293\ttotal: 1.36s\tremaining: 688ms\n",
      "665:\tlearn: 0.2491573\ttotal: 1.37s\tremaining: 686ms\n",
      "666:\tlearn: 0.2489233\ttotal: 1.37s\tremaining: 684ms\n",
      "667:\tlearn: 0.2488568\ttotal: 1.37s\tremaining: 681ms\n",
      "668:\tlearn: 0.2486144\ttotal: 1.37s\tremaining: 679ms\n",
      "669:\tlearn: 0.2483773\ttotal: 1.37s\tremaining: 677ms\n",
      "670:\tlearn: 0.2482201\ttotal: 1.38s\tremaining: 674ms\n",
      "671:\tlearn: 0.2481445\ttotal: 1.38s\tremaining: 672ms\n",
      "672:\tlearn: 0.2480453\ttotal: 1.38s\tremaining: 670ms\n",
      "673:\tlearn: 0.2478585\ttotal: 1.38s\tremaining: 668ms\n",
      "674:\tlearn: 0.2477204\ttotal: 1.38s\tremaining: 666ms\n",
      "675:\tlearn: 0.2476415\ttotal: 1.38s\tremaining: 664ms\n",
      "676:\tlearn: 0.2473815\ttotal: 1.39s\tremaining: 661ms\n",
      "677:\tlearn: 0.2471798\ttotal: 1.39s\tremaining: 659ms\n",
      "678:\tlearn: 0.2470178\ttotal: 1.39s\tremaining: 657ms\n",
      "679:\tlearn: 0.2468595\ttotal: 1.39s\tremaining: 655ms\n",
      "680:\tlearn: 0.2465018\ttotal: 1.39s\tremaining: 652ms\n",
      "681:\tlearn: 0.2463322\ttotal: 1.39s\tremaining: 650ms\n",
      "682:\tlearn: 0.2461881\ttotal: 1.4s\tremaining: 648ms\n",
      "683:\tlearn: 0.2460320\ttotal: 1.4s\tremaining: 646ms\n",
      "684:\tlearn: 0.2459155\ttotal: 1.4s\tremaining: 644ms\n",
      "685:\tlearn: 0.2457787\ttotal: 1.4s\tremaining: 642ms\n",
      "686:\tlearn: 0.2455912\ttotal: 1.4s\tremaining: 639ms\n",
      "687:\tlearn: 0.2453303\ttotal: 1.4s\tremaining: 637ms\n",
      "688:\tlearn: 0.2451950\ttotal: 1.41s\tremaining: 635ms\n",
      "689:\tlearn: 0.2450738\ttotal: 1.41s\tremaining: 633ms\n",
      "690:\tlearn: 0.2448890\ttotal: 1.41s\tremaining: 631ms\n",
      "691:\tlearn: 0.2445965\ttotal: 1.41s\tremaining: 629ms\n",
      "692:\tlearn: 0.2444868\ttotal: 1.41s\tremaining: 627ms\n",
      "693:\tlearn: 0.2443674\ttotal: 1.42s\tremaining: 624ms\n",
      "694:\tlearn: 0.2442138\ttotal: 1.42s\tremaining: 622ms\n",
      "695:\tlearn: 0.2439370\ttotal: 1.42s\tremaining: 620ms\n",
      "696:\tlearn: 0.2438278\ttotal: 1.42s\tremaining: 618ms\n",
      "697:\tlearn: 0.2435801\ttotal: 1.42s\tremaining: 616ms\n",
      "698:\tlearn: 0.2434457\ttotal: 1.43s\tremaining: 614ms\n",
      "699:\tlearn: 0.2432475\ttotal: 1.43s\tremaining: 612ms\n",
      "700:\tlearn: 0.2428014\ttotal: 1.43s\tremaining: 610ms\n",
      "701:\tlearn: 0.2424086\ttotal: 1.43s\tremaining: 608ms\n",
      "702:\tlearn: 0.2423574\ttotal: 1.43s\tremaining: 606ms\n",
      "703:\tlearn: 0.2422899\ttotal: 1.44s\tremaining: 604ms\n",
      "704:\tlearn: 0.2420831\ttotal: 1.44s\tremaining: 602ms\n",
      "705:\tlearn: 0.2418675\ttotal: 1.44s\tremaining: 600ms\n",
      "706:\tlearn: 0.2417139\ttotal: 1.44s\tremaining: 598ms\n",
      "707:\tlearn: 0.2416066\ttotal: 1.44s\tremaining: 596ms\n",
      "708:\tlearn: 0.2413955\ttotal: 1.45s\tremaining: 594ms\n",
      "709:\tlearn: 0.2412798\ttotal: 1.45s\tremaining: 592ms\n",
      "710:\tlearn: 0.2409843\ttotal: 1.45s\tremaining: 589ms\n",
      "711:\tlearn: 0.2405534\ttotal: 1.45s\tremaining: 587ms\n",
      "712:\tlearn: 0.2403035\ttotal: 1.45s\tremaining: 585ms\n",
      "713:\tlearn: 0.2401702\ttotal: 1.46s\tremaining: 583ms\n",
      "714:\tlearn: 0.2399140\ttotal: 1.46s\tremaining: 581ms\n",
      "715:\tlearn: 0.2397337\ttotal: 1.46s\tremaining: 579ms\n",
      "716:\tlearn: 0.2396964\ttotal: 1.46s\tremaining: 577ms\n",
      "717:\tlearn: 0.2395390\ttotal: 1.46s\tremaining: 575ms\n",
      "718:\tlearn: 0.2392122\ttotal: 1.46s\tremaining: 572ms\n",
      "719:\tlearn: 0.2390619\ttotal: 1.47s\tremaining: 570ms\n",
      "720:\tlearn: 0.2389439\ttotal: 1.47s\tremaining: 568ms\n",
      "721:\tlearn: 0.2385429\ttotal: 1.47s\tremaining: 566ms\n",
      "722:\tlearn: 0.2383707\ttotal: 1.47s\tremaining: 564ms\n",
      "723:\tlearn: 0.2382535\ttotal: 1.47s\tremaining: 562ms\n",
      "724:\tlearn: 0.2381393\ttotal: 1.48s\tremaining: 560ms\n",
      "725:\tlearn: 0.2379856\ttotal: 1.48s\tremaining: 558ms\n",
      "726:\tlearn: 0.2377765\ttotal: 1.48s\tremaining: 556ms\n",
      "727:\tlearn: 0.2376745\ttotal: 1.48s\tremaining: 554ms\n",
      "728:\tlearn: 0.2375429\ttotal: 1.48s\tremaining: 551ms\n",
      "729:\tlearn: 0.2373491\ttotal: 1.49s\tremaining: 549ms\n",
      "730:\tlearn: 0.2370027\ttotal: 1.49s\tremaining: 547ms\n",
      "731:\tlearn: 0.2368848\ttotal: 1.49s\tremaining: 545ms\n",
      "732:\tlearn: 0.2367762\ttotal: 1.49s\tremaining: 543ms\n",
      "733:\tlearn: 0.2366998\ttotal: 1.49s\tremaining: 541ms\n",
      "734:\tlearn: 0.2364429\ttotal: 1.49s\tremaining: 539ms\n",
      "735:\tlearn: 0.2363494\ttotal: 1.5s\tremaining: 536ms\n",
      "736:\tlearn: 0.2361932\ttotal: 1.5s\tremaining: 534ms\n",
      "737:\tlearn: 0.2358759\ttotal: 1.5s\tremaining: 532ms\n",
      "738:\tlearn: 0.2356413\ttotal: 1.5s\tremaining: 530ms\n",
      "739:\tlearn: 0.2354374\ttotal: 1.5s\tremaining: 528ms\n",
      "740:\tlearn: 0.2353556\ttotal: 1.5s\tremaining: 525ms\n",
      "741:\tlearn: 0.2352407\ttotal: 1.5s\tremaining: 523ms\n",
      "742:\tlearn: 0.2350888\ttotal: 1.51s\tremaining: 521ms\n",
      "743:\tlearn: 0.2348339\ttotal: 1.51s\tremaining: 519ms\n",
      "744:\tlearn: 0.2344997\ttotal: 1.51s\tremaining: 517ms\n",
      "745:\tlearn: 0.2343514\ttotal: 1.51s\tremaining: 515ms\n",
      "746:\tlearn: 0.2341343\ttotal: 1.51s\tremaining: 513ms\n",
      "747:\tlearn: 0.2337582\ttotal: 1.51s\tremaining: 510ms\n",
      "748:\tlearn: 0.2335933\ttotal: 1.52s\tremaining: 508ms\n",
      "749:\tlearn: 0.2334627\ttotal: 1.52s\tremaining: 506ms\n",
      "750:\tlearn: 0.2332623\ttotal: 1.52s\tremaining: 504ms\n",
      "751:\tlearn: 0.2331015\ttotal: 1.52s\tremaining: 502ms\n",
      "752:\tlearn: 0.2330066\ttotal: 1.52s\tremaining: 500ms\n",
      "753:\tlearn: 0.2328590\ttotal: 1.52s\tremaining: 498ms\n",
      "754:\tlearn: 0.2327142\ttotal: 1.53s\tremaining: 495ms\n",
      "755:\tlearn: 0.2323644\ttotal: 1.53s\tremaining: 493ms\n",
      "756:\tlearn: 0.2320818\ttotal: 1.53s\tremaining: 491ms\n",
      "757:\tlearn: 0.2319190\ttotal: 1.53s\tremaining: 489ms\n",
      "758:\tlearn: 0.2315921\ttotal: 1.53s\tremaining: 487ms\n",
      "759:\tlearn: 0.2314518\ttotal: 1.54s\tremaining: 485ms\n",
      "760:\tlearn: 0.2312555\ttotal: 1.54s\tremaining: 483ms\n",
      "761:\tlearn: 0.2310545\ttotal: 1.54s\tremaining: 481ms\n",
      "762:\tlearn: 0.2309143\ttotal: 1.54s\tremaining: 479ms\n",
      "763:\tlearn: 0.2307787\ttotal: 1.54s\tremaining: 477ms\n",
      "764:\tlearn: 0.2303175\ttotal: 1.54s\tremaining: 475ms\n",
      "765:\tlearn: 0.2300101\ttotal: 1.55s\tremaining: 473ms\n",
      "766:\tlearn: 0.2298963\ttotal: 1.55s\tremaining: 471ms\n",
      "767:\tlearn: 0.2296899\ttotal: 1.55s\tremaining: 469ms\n",
      "768:\tlearn: 0.2295813\ttotal: 1.55s\tremaining: 466ms\n",
      "769:\tlearn: 0.2292246\ttotal: 1.55s\tremaining: 464ms\n",
      "770:\tlearn: 0.2290453\ttotal: 1.56s\tremaining: 462ms\n",
      "771:\tlearn: 0.2289676\ttotal: 1.56s\tremaining: 460ms\n",
      "772:\tlearn: 0.2286484\ttotal: 1.56s\tremaining: 458ms\n",
      "773:\tlearn: 0.2284585\ttotal: 1.56s\tremaining: 456ms\n",
      "774:\tlearn: 0.2282500\ttotal: 1.56s\tremaining: 454ms\n",
      "775:\tlearn: 0.2281407\ttotal: 1.56s\tremaining: 452ms\n",
      "776:\tlearn: 0.2279219\ttotal: 1.57s\tremaining: 449ms\n",
      "777:\tlearn: 0.2276128\ttotal: 1.57s\tremaining: 447ms\n",
      "778:\tlearn: 0.2274184\ttotal: 1.57s\tremaining: 445ms\n",
      "779:\tlearn: 0.2271612\ttotal: 1.57s\tremaining: 443ms\n",
      "780:\tlearn: 0.2269394\ttotal: 1.57s\tremaining: 441ms\n",
      "781:\tlearn: 0.2268496\ttotal: 1.57s\tremaining: 439ms\n",
      "782:\tlearn: 0.2267682\ttotal: 1.58s\tremaining: 437ms\n",
      "783:\tlearn: 0.2266919\ttotal: 1.58s\tremaining: 435ms\n",
      "784:\tlearn: 0.2264667\ttotal: 1.58s\tremaining: 433ms\n",
      "785:\tlearn: 0.2261897\ttotal: 1.58s\tremaining: 431ms\n",
      "786:\tlearn: 0.2261238\ttotal: 1.58s\tremaining: 428ms\n",
      "787:\tlearn: 0.2260221\ttotal: 1.58s\tremaining: 426ms\n",
      "788:\tlearn: 0.2259542\ttotal: 1.59s\tremaining: 424ms\n",
      "789:\tlearn: 0.2257492\ttotal: 1.59s\tremaining: 422ms\n",
      "790:\tlearn: 0.2255727\ttotal: 1.59s\tremaining: 420ms\n",
      "791:\tlearn: 0.2254361\ttotal: 1.59s\tremaining: 418ms\n",
      "792:\tlearn: 0.2251975\ttotal: 1.59s\tremaining: 416ms\n",
      "793:\tlearn: 0.2251099\ttotal: 1.59s\tremaining: 414ms\n",
      "794:\tlearn: 0.2250267\ttotal: 1.6s\tremaining: 412ms\n",
      "795:\tlearn: 0.2249045\ttotal: 1.6s\tremaining: 410ms\n",
      "796:\tlearn: 0.2246708\ttotal: 1.6s\tremaining: 408ms\n",
      "797:\tlearn: 0.2244320\ttotal: 1.6s\tremaining: 406ms\n",
      "798:\tlearn: 0.2242313\ttotal: 1.6s\tremaining: 404ms\n",
      "799:\tlearn: 0.2238984\ttotal: 1.61s\tremaining: 402ms\n",
      "800:\tlearn: 0.2234516\ttotal: 1.61s\tremaining: 399ms\n",
      "801:\tlearn: 0.2233933\ttotal: 1.61s\tremaining: 397ms\n",
      "802:\tlearn: 0.2232868\ttotal: 1.61s\tremaining: 395ms\n",
      "803:\tlearn: 0.2230518\ttotal: 1.61s\tremaining: 393ms\n",
      "804:\tlearn: 0.2228824\ttotal: 1.61s\tremaining: 391ms\n",
      "805:\tlearn: 0.2226697\ttotal: 1.62s\tremaining: 389ms\n",
      "806:\tlearn: 0.2225086\ttotal: 1.62s\tremaining: 387ms\n",
      "807:\tlearn: 0.2223386\ttotal: 1.62s\tremaining: 385ms\n",
      "808:\tlearn: 0.2221959\ttotal: 1.62s\tremaining: 383ms\n",
      "809:\tlearn: 0.2219787\ttotal: 1.63s\tremaining: 382ms\n",
      "810:\tlearn: 0.2216724\ttotal: 1.63s\tremaining: 380ms\n",
      "811:\tlearn: 0.2214549\ttotal: 1.63s\tremaining: 378ms\n",
      "812:\tlearn: 0.2211909\ttotal: 1.63s\tremaining: 376ms\n",
      "813:\tlearn: 0.2208207\ttotal: 1.64s\tremaining: 374ms\n",
      "814:\tlearn: 0.2206241\ttotal: 1.64s\tremaining: 372ms\n",
      "815:\tlearn: 0.2204944\ttotal: 1.64s\tremaining: 370ms\n",
      "816:\tlearn: 0.2203338\ttotal: 1.64s\tremaining: 368ms\n",
      "817:\tlearn: 0.2202234\ttotal: 1.64s\tremaining: 366ms\n",
      "818:\tlearn: 0.2199347\ttotal: 1.64s\tremaining: 363ms\n",
      "819:\tlearn: 0.2197637\ttotal: 1.65s\tremaining: 361ms\n",
      "820:\tlearn: 0.2196321\ttotal: 1.65s\tremaining: 359ms\n",
      "821:\tlearn: 0.2195166\ttotal: 1.65s\tremaining: 357ms\n",
      "822:\tlearn: 0.2193558\ttotal: 1.65s\tremaining: 355ms\n",
      "823:\tlearn: 0.2192363\ttotal: 1.65s\tremaining: 353ms\n",
      "824:\tlearn: 0.2190681\ttotal: 1.66s\tremaining: 351ms\n",
      "825:\tlearn: 0.2188877\ttotal: 1.66s\tremaining: 349ms\n",
      "826:\tlearn: 0.2188229\ttotal: 1.66s\tremaining: 347ms\n",
      "827:\tlearn: 0.2187377\ttotal: 1.66s\tremaining: 345ms\n",
      "828:\tlearn: 0.2185021\ttotal: 1.66s\tremaining: 343ms\n",
      "829:\tlearn: 0.2184467\ttotal: 1.66s\tremaining: 341ms\n",
      "830:\tlearn: 0.2182458\ttotal: 1.67s\tremaining: 339ms\n",
      "831:\tlearn: 0.2179170\ttotal: 1.67s\tremaining: 337ms\n",
      "832:\tlearn: 0.2177744\ttotal: 1.67s\tremaining: 335ms\n",
      "833:\tlearn: 0.2176498\ttotal: 1.67s\tremaining: 333ms\n",
      "834:\tlearn: 0.2174674\ttotal: 1.67s\tremaining: 331ms\n",
      "835:\tlearn: 0.2171573\ttotal: 1.67s\tremaining: 329ms\n",
      "836:\tlearn: 0.2170428\ttotal: 1.68s\tremaining: 326ms\n",
      "837:\tlearn: 0.2168558\ttotal: 1.68s\tremaining: 324ms\n",
      "838:\tlearn: 0.2167658\ttotal: 1.68s\tremaining: 322ms\n",
      "839:\tlearn: 0.2165640\ttotal: 1.68s\tremaining: 320ms\n",
      "840:\tlearn: 0.2164665\ttotal: 1.68s\tremaining: 318ms\n",
      "841:\tlearn: 0.2163036\ttotal: 1.69s\tremaining: 316ms\n",
      "842:\tlearn: 0.2161783\ttotal: 1.69s\tremaining: 314ms\n",
      "843:\tlearn: 0.2160460\ttotal: 1.69s\tremaining: 312ms\n",
      "844:\tlearn: 0.2159027\ttotal: 1.69s\tremaining: 310ms\n",
      "845:\tlearn: 0.2157109\ttotal: 1.69s\tremaining: 308ms\n",
      "846:\tlearn: 0.2156211\ttotal: 1.69s\tremaining: 306ms\n",
      "847:\tlearn: 0.2155515\ttotal: 1.7s\tremaining: 304ms\n",
      "848:\tlearn: 0.2154780\ttotal: 1.7s\tremaining: 302ms\n",
      "849:\tlearn: 0.2152790\ttotal: 1.7s\tremaining: 300ms\n",
      "850:\tlearn: 0.2151652\ttotal: 1.7s\tremaining: 298ms\n",
      "851:\tlearn: 0.2151018\ttotal: 1.7s\tremaining: 296ms\n",
      "852:\tlearn: 0.2149208\ttotal: 1.7s\tremaining: 294ms\n",
      "853:\tlearn: 0.2147438\ttotal: 1.71s\tremaining: 292ms\n",
      "854:\tlearn: 0.2145937\ttotal: 1.71s\tremaining: 290ms\n",
      "855:\tlearn: 0.2145381\ttotal: 1.71s\tremaining: 287ms\n",
      "856:\tlearn: 0.2144657\ttotal: 1.71s\tremaining: 285ms\n",
      "857:\tlearn: 0.2141945\ttotal: 1.71s\tremaining: 283ms\n",
      "858:\tlearn: 0.2141378\ttotal: 1.71s\tremaining: 281ms\n",
      "859:\tlearn: 0.2140764\ttotal: 1.72s\tremaining: 279ms\n",
      "860:\tlearn: 0.2139788\ttotal: 1.72s\tremaining: 277ms\n",
      "861:\tlearn: 0.2138364\ttotal: 1.72s\tremaining: 275ms\n",
      "862:\tlearn: 0.2136299\ttotal: 1.72s\tremaining: 273ms\n",
      "863:\tlearn: 0.2134113\ttotal: 1.72s\tremaining: 271ms\n",
      "864:\tlearn: 0.2132956\ttotal: 1.72s\tremaining: 269ms\n",
      "865:\tlearn: 0.2130691\ttotal: 1.73s\tremaining: 267ms\n",
      "866:\tlearn: 0.2128784\ttotal: 1.73s\tremaining: 265ms\n",
      "867:\tlearn: 0.2126727\ttotal: 1.73s\tremaining: 263ms\n",
      "868:\tlearn: 0.2125340\ttotal: 1.73s\tremaining: 261ms\n",
      "869:\tlearn: 0.2122840\ttotal: 1.73s\tremaining: 259ms\n",
      "870:\tlearn: 0.2120469\ttotal: 1.74s\tremaining: 257ms\n",
      "871:\tlearn: 0.2118639\ttotal: 1.74s\tremaining: 255ms\n",
      "872:\tlearn: 0.2117496\ttotal: 1.74s\tremaining: 253ms\n",
      "873:\tlearn: 0.2114516\ttotal: 1.74s\tremaining: 251ms\n",
      "874:\tlearn: 0.2111775\ttotal: 1.74s\tremaining: 249ms\n",
      "875:\tlearn: 0.2110101\ttotal: 1.74s\tremaining: 247ms\n",
      "876:\tlearn: 0.2107460\ttotal: 1.75s\tremaining: 245ms\n",
      "877:\tlearn: 0.2106560\ttotal: 1.75s\tremaining: 243ms\n",
      "878:\tlearn: 0.2104605\ttotal: 1.75s\tremaining: 241ms\n",
      "879:\tlearn: 0.2103590\ttotal: 1.75s\tremaining: 239ms\n",
      "880:\tlearn: 0.2103160\ttotal: 1.75s\tremaining: 237ms\n",
      "881:\tlearn: 0.2102141\ttotal: 1.75s\tremaining: 235ms\n",
      "882:\tlearn: 0.2098803\ttotal: 1.76s\tremaining: 233ms\n",
      "883:\tlearn: 0.2097233\ttotal: 1.76s\tremaining: 231ms\n",
      "884:\tlearn: 0.2095986\ttotal: 1.76s\tremaining: 229ms\n",
      "885:\tlearn: 0.2094989\ttotal: 1.76s\tremaining: 227ms\n",
      "886:\tlearn: 0.2092139\ttotal: 1.76s\tremaining: 225ms\n",
      "887:\tlearn: 0.2090122\ttotal: 1.77s\tremaining: 223ms\n",
      "888:\tlearn: 0.2088416\ttotal: 1.77s\tremaining: 221ms\n",
      "889:\tlearn: 0.2087120\ttotal: 1.77s\tremaining: 219ms\n",
      "890:\tlearn: 0.2085946\ttotal: 1.77s\tremaining: 217ms\n",
      "891:\tlearn: 0.2084567\ttotal: 1.77s\tremaining: 215ms\n",
      "892:\tlearn: 0.2083637\ttotal: 1.77s\tremaining: 213ms\n",
      "893:\tlearn: 0.2082819\ttotal: 1.78s\tremaining: 211ms\n",
      "894:\tlearn: 0.2081431\ttotal: 1.78s\tremaining: 209ms\n",
      "895:\tlearn: 0.2079990\ttotal: 1.78s\tremaining: 207ms\n",
      "896:\tlearn: 0.2078031\ttotal: 1.78s\tremaining: 205ms\n",
      "897:\tlearn: 0.2076147\ttotal: 1.78s\tremaining: 203ms\n",
      "898:\tlearn: 0.2074966\ttotal: 1.78s\tremaining: 201ms\n",
      "899:\tlearn: 0.2074233\ttotal: 1.79s\tremaining: 199ms\n",
      "900:\tlearn: 0.2073176\ttotal: 1.79s\tremaining: 197ms\n",
      "901:\tlearn: 0.2071963\ttotal: 1.79s\tremaining: 195ms\n",
      "902:\tlearn: 0.2070281\ttotal: 1.79s\tremaining: 193ms\n",
      "903:\tlearn: 0.2068952\ttotal: 1.79s\tremaining: 191ms\n",
      "904:\tlearn: 0.2067909\ttotal: 1.79s\tremaining: 189ms\n",
      "905:\tlearn: 0.2065923\ttotal: 1.8s\tremaining: 187ms\n",
      "906:\tlearn: 0.2064879\ttotal: 1.8s\tremaining: 184ms\n",
      "907:\tlearn: 0.2062348\ttotal: 1.8s\tremaining: 183ms\n",
      "908:\tlearn: 0.2061212\ttotal: 1.8s\tremaining: 181ms\n",
      "909:\tlearn: 0.2059688\ttotal: 1.8s\tremaining: 179ms\n",
      "910:\tlearn: 0.2057464\ttotal: 1.81s\tremaining: 176ms\n",
      "911:\tlearn: 0.2056163\ttotal: 1.81s\tremaining: 174ms\n",
      "912:\tlearn: 0.2055138\ttotal: 1.81s\tremaining: 172ms\n",
      "913:\tlearn: 0.2054613\ttotal: 1.81s\tremaining: 170ms\n",
      "914:\tlearn: 0.2053515\ttotal: 1.81s\tremaining: 168ms\n",
      "915:\tlearn: 0.2052184\ttotal: 1.81s\tremaining: 166ms\n",
      "916:\tlearn: 0.2050330\ttotal: 1.82s\tremaining: 164ms\n",
      "917:\tlearn: 0.2049049\ttotal: 1.82s\tremaining: 162ms\n",
      "918:\tlearn: 0.2046657\ttotal: 1.82s\tremaining: 160ms\n",
      "919:\tlearn: 0.2043994\ttotal: 1.82s\tremaining: 158ms\n",
      "920:\tlearn: 0.2043421\ttotal: 1.82s\tremaining: 156ms\n",
      "921:\tlearn: 0.2040999\ttotal: 1.82s\tremaining: 154ms\n",
      "922:\tlearn: 0.2039345\ttotal: 1.83s\tremaining: 152ms\n",
      "923:\tlearn: 0.2037581\ttotal: 1.83s\tremaining: 150ms\n",
      "924:\tlearn: 0.2036368\ttotal: 1.83s\tremaining: 148ms\n",
      "925:\tlearn: 0.2035197\ttotal: 1.83s\tremaining: 146ms\n",
      "926:\tlearn: 0.2033980\ttotal: 1.83s\tremaining: 144ms\n",
      "927:\tlearn: 0.2032414\ttotal: 1.83s\tremaining: 142ms\n",
      "928:\tlearn: 0.2030566\ttotal: 1.84s\tremaining: 140ms\n",
      "929:\tlearn: 0.2027728\ttotal: 1.84s\tremaining: 138ms\n",
      "930:\tlearn: 0.2025859\ttotal: 1.84s\tremaining: 136ms\n",
      "931:\tlearn: 0.2025003\ttotal: 1.84s\tremaining: 134ms\n",
      "932:\tlearn: 0.2023148\ttotal: 1.84s\tremaining: 132ms\n",
      "933:\tlearn: 0.2022241\ttotal: 1.85s\tremaining: 130ms\n",
      "934:\tlearn: 0.2021301\ttotal: 1.85s\tremaining: 128ms\n",
      "935:\tlearn: 0.2020509\ttotal: 1.85s\tremaining: 126ms\n",
      "936:\tlearn: 0.2019055\ttotal: 1.85s\tremaining: 124ms\n",
      "937:\tlearn: 0.2018676\ttotal: 1.85s\tremaining: 122ms\n",
      "938:\tlearn: 0.2016924\ttotal: 1.85s\tremaining: 120ms\n",
      "939:\tlearn: 0.2016378\ttotal: 1.86s\tremaining: 118ms\n",
      "940:\tlearn: 0.2014014\ttotal: 1.86s\tremaining: 116ms\n",
      "941:\tlearn: 0.2012791\ttotal: 1.86s\tremaining: 114ms\n",
      "942:\tlearn: 0.2012014\ttotal: 1.86s\tremaining: 112ms\n",
      "943:\tlearn: 0.2010983\ttotal: 1.86s\tremaining: 111ms\n",
      "944:\tlearn: 0.2009464\ttotal: 1.86s\tremaining: 109ms\n",
      "945:\tlearn: 0.2008588\ttotal: 1.87s\tremaining: 107ms\n",
      "946:\tlearn: 0.2007579\ttotal: 1.87s\tremaining: 105ms\n",
      "947:\tlearn: 0.2006770\ttotal: 1.87s\tremaining: 103ms\n",
      "948:\tlearn: 0.2005245\ttotal: 1.87s\tremaining: 101ms\n",
      "949:\tlearn: 0.2004856\ttotal: 1.87s\tremaining: 98.6ms\n",
      "950:\tlearn: 0.2004359\ttotal: 1.87s\tremaining: 96.6ms\n",
      "951:\tlearn: 0.2001823\ttotal: 1.88s\tremaining: 94.6ms\n",
      "952:\tlearn: 0.1999742\ttotal: 1.88s\tremaining: 92.6ms\n",
      "953:\tlearn: 0.1998538\ttotal: 1.88s\tremaining: 90.6ms\n",
      "954:\tlearn: 0.1997505\ttotal: 1.88s\tremaining: 88.7ms\n",
      "955:\tlearn: 0.1996788\ttotal: 1.88s\tremaining: 86.7ms\n",
      "956:\tlearn: 0.1994983\ttotal: 1.88s\tremaining: 84.7ms\n",
      "957:\tlearn: 0.1993423\ttotal: 1.89s\tremaining: 82.7ms\n",
      "958:\tlearn: 0.1992059\ttotal: 1.89s\tremaining: 80.7ms\n",
      "959:\tlearn: 0.1989424\ttotal: 1.89s\tremaining: 78.8ms\n",
      "960:\tlearn: 0.1987826\ttotal: 1.89s\tremaining: 76.8ms\n",
      "961:\tlearn: 0.1986675\ttotal: 1.89s\tremaining: 74.8ms\n",
      "962:\tlearn: 0.1986389\ttotal: 1.89s\tremaining: 72.8ms\n",
      "963:\tlearn: 0.1985507\ttotal: 1.9s\tremaining: 70.8ms\n",
      "964:\tlearn: 0.1984114\ttotal: 1.9s\tremaining: 68.8ms\n",
      "965:\tlearn: 0.1983626\ttotal: 1.9s\tremaining: 66.9ms\n",
      "966:\tlearn: 0.1981922\ttotal: 1.9s\tremaining: 64.9ms\n",
      "967:\tlearn: 0.1979989\ttotal: 1.9s\tremaining: 62.9ms\n",
      "968:\tlearn: 0.1979202\ttotal: 1.91s\tremaining: 61ms\n",
      "969:\tlearn: 0.1977933\ttotal: 1.91s\tremaining: 59ms\n",
      "970:\tlearn: 0.1976935\ttotal: 1.91s\tremaining: 57ms\n",
      "971:\tlearn: 0.1975237\ttotal: 1.91s\tremaining: 55ms\n",
      "972:\tlearn: 0.1974117\ttotal: 1.91s\tremaining: 53.1ms\n",
      "973:\tlearn: 0.1972646\ttotal: 1.91s\tremaining: 51.1ms\n",
      "974:\tlearn: 0.1971243\ttotal: 1.92s\tremaining: 49.1ms\n",
      "975:\tlearn: 0.1969940\ttotal: 1.92s\tremaining: 47.1ms\n",
      "976:\tlearn: 0.1969432\ttotal: 1.92s\tremaining: 45.2ms\n",
      "977:\tlearn: 0.1967682\ttotal: 1.92s\tremaining: 43.2ms\n",
      "978:\tlearn: 0.1966439\ttotal: 1.92s\tremaining: 41.2ms\n",
      "979:\tlearn: 0.1965434\ttotal: 1.92s\tremaining: 39.3ms\n",
      "980:\tlearn: 0.1964754\ttotal: 1.93s\tremaining: 37.3ms\n",
      "981:\tlearn: 0.1963268\ttotal: 1.93s\tremaining: 35.3ms\n",
      "982:\tlearn: 0.1961554\ttotal: 1.93s\tremaining: 33.4ms\n",
      "983:\tlearn: 0.1958981\ttotal: 1.93s\tremaining: 31.4ms\n",
      "984:\tlearn: 0.1958360\ttotal: 1.93s\tremaining: 29.4ms\n",
      "985:\tlearn: 0.1955453\ttotal: 1.93s\tremaining: 27.5ms\n",
      "986:\tlearn: 0.1954170\ttotal: 1.94s\tremaining: 25.5ms\n",
      "987:\tlearn: 0.1952517\ttotal: 1.94s\tremaining: 23.5ms\n",
      "988:\tlearn: 0.1950590\ttotal: 1.94s\tremaining: 21.6ms\n",
      "989:\tlearn: 0.1948965\ttotal: 1.94s\tremaining: 19.6ms\n",
      "990:\tlearn: 0.1947814\ttotal: 1.94s\tremaining: 17.6ms\n",
      "991:\tlearn: 0.1945362\ttotal: 1.94s\tremaining: 15.7ms\n",
      "992:\tlearn: 0.1944756\ttotal: 1.95s\tremaining: 13.7ms\n",
      "993:\tlearn: 0.1943506\ttotal: 1.95s\tremaining: 11.8ms\n",
      "994:\tlearn: 0.1942585\ttotal: 1.95s\tremaining: 9.8ms\n",
      "995:\tlearn: 0.1941885\ttotal: 1.95s\tremaining: 7.84ms\n",
      "996:\tlearn: 0.1939930\ttotal: 1.95s\tremaining: 5.88ms\n",
      "997:\tlearn: 0.1938128\ttotal: 1.95s\tremaining: 3.92ms\n",
      "998:\tlearn: 0.1936294\ttotal: 1.96s\tremaining: 1.96ms\n",
      "999:\tlearn: 0.1935149\ttotal: 1.96s\tremaining: 0us\n"
     ]
    }
   ],
   "source": [
    "catb_model = CatBoostClassifier().fit(X_train,y_train)"
   ]
  },
  {
   "cell_type": "code",
   "execution_count": 68,
   "metadata": {},
   "outputs": [
    {
     "data": {
      "text/plain": [
       "0.7402597402597403"
      ]
     },
     "execution_count": 68,
     "metadata": {},
     "output_type": "execute_result"
    }
   ],
   "source": [
    "y_pred = catb_model.predict(X_test)\n",
    "accuracy_score(y_test,y_pred)"
   ]
  },
  {
   "cell_type": "markdown",
   "metadata": {},
   "source": [
    "### Model Tuning"
   ]
  },
  {
   "cell_type": "code",
   "execution_count": 72,
   "metadata": {},
   "outputs": [],
   "source": [
    "catb = CatBoostClassifier()"
   ]
  },
  {
   "cell_type": "code",
   "execution_count": 73,
   "metadata": {},
   "outputs": [],
   "source": [
    "catb_params = {\"iterations\":[200,500,100],\n",
    "              \"learning_rate\":[0.01,0.1],\n",
    "              \"depth\":[3,6,8]}"
   ]
  },
  {
   "cell_type": "code",
   "execution_count": 74,
   "metadata": {
    "collapsed": true,
    "jupyter": {
     "outputs_hidden": true
    }
   },
   "outputs": [
    {
     "name": "stdout",
     "output_type": "stream",
     "text": [
      "Fitting 5 folds for each of 18 candidates, totalling 90 fits\n"
     ]
    },
    {
     "name": "stderr",
     "output_type": "stream",
     "text": [
      "[Parallel(n_jobs=-1)]: Using backend LokyBackend with 8 concurrent workers.\n",
      "[Parallel(n_jobs=-1)]: Done  25 tasks      | elapsed:   13.0s\n",
      "[Parallel(n_jobs=-1)]: Done  90 out of  90 | elapsed:   46.4s finished\n"
     ]
    },
    {
     "name": "stdout",
     "output_type": "stream",
     "text": [
      "0:\tlearn: 0.6656605\ttotal: 2.8ms\tremaining: 278ms\n",
      "1:\tlearn: 0.6415473\ttotal: 4.51ms\tremaining: 221ms\n",
      "2:\tlearn: 0.6206453\ttotal: 6.44ms\tremaining: 208ms\n",
      "3:\tlearn: 0.6044557\ttotal: 8.27ms\tremaining: 199ms\n",
      "4:\tlearn: 0.5844343\ttotal: 9.72ms\tremaining: 185ms\n",
      "5:\tlearn: 0.5718085\ttotal: 11.1ms\tremaining: 174ms\n",
      "6:\tlearn: 0.5575728\ttotal: 12.6ms\tremaining: 167ms\n",
      "7:\tlearn: 0.5469430\ttotal: 13.9ms\tremaining: 160ms\n",
      "8:\tlearn: 0.5362874\ttotal: 15.3ms\tremaining: 155ms\n",
      "9:\tlearn: 0.5270080\ttotal: 16.9ms\tremaining: 152ms\n",
      "10:\tlearn: 0.5157169\ttotal: 19.2ms\tremaining: 156ms\n",
      "11:\tlearn: 0.5081410\ttotal: 21ms\tremaining: 154ms\n",
      "12:\tlearn: 0.4986442\ttotal: 22.4ms\tremaining: 150ms\n",
      "13:\tlearn: 0.4903710\ttotal: 23.8ms\tremaining: 146ms\n",
      "14:\tlearn: 0.4835516\ttotal: 25.2ms\tremaining: 143ms\n",
      "15:\tlearn: 0.4769758\ttotal: 26.6ms\tremaining: 140ms\n",
      "16:\tlearn: 0.4693026\ttotal: 28ms\tremaining: 137ms\n",
      "17:\tlearn: 0.4637744\ttotal: 29.5ms\tremaining: 134ms\n",
      "18:\tlearn: 0.4593826\ttotal: 31.5ms\tremaining: 134ms\n",
      "19:\tlearn: 0.4551218\ttotal: 33.1ms\tremaining: 133ms\n",
      "20:\tlearn: 0.4506552\ttotal: 34.7ms\tremaining: 130ms\n",
      "21:\tlearn: 0.4460843\ttotal: 36.1ms\tremaining: 128ms\n",
      "22:\tlearn: 0.4412130\ttotal: 37.7ms\tremaining: 126ms\n",
      "23:\tlearn: 0.4379697\ttotal: 39ms\tremaining: 124ms\n",
      "24:\tlearn: 0.4346863\ttotal: 40.3ms\tremaining: 121ms\n",
      "25:\tlearn: 0.4311860\ttotal: 41.7ms\tremaining: 119ms\n",
      "26:\tlearn: 0.4284439\ttotal: 43.9ms\tremaining: 119ms\n",
      "27:\tlearn: 0.4255524\ttotal: 45.7ms\tremaining: 118ms\n",
      "28:\tlearn: 0.4219453\ttotal: 47.1ms\tremaining: 115ms\n",
      "29:\tlearn: 0.4182174\ttotal: 48.6ms\tremaining: 113ms\n",
      "30:\tlearn: 0.4137159\ttotal: 50.2ms\tremaining: 112ms\n",
      "31:\tlearn: 0.4106991\ttotal: 51.6ms\tremaining: 110ms\n",
      "32:\tlearn: 0.4071875\ttotal: 53.3ms\tremaining: 108ms\n",
      "33:\tlearn: 0.4048561\ttotal: 54.8ms\tremaining: 106ms\n",
      "34:\tlearn: 0.4014965\ttotal: 56.6ms\tremaining: 105ms\n",
      "35:\tlearn: 0.3982406\ttotal: 58.2ms\tremaining: 104ms\n",
      "36:\tlearn: 0.3959836\ttotal: 59.6ms\tremaining: 101ms\n",
      "37:\tlearn: 0.3938429\ttotal: 60.9ms\tremaining: 99.4ms\n",
      "38:\tlearn: 0.3915729\ttotal: 62.2ms\tremaining: 97.4ms\n",
      "39:\tlearn: 0.3904144\ttotal: 63.7ms\tremaining: 95.5ms\n",
      "40:\tlearn: 0.3879879\ttotal: 65.1ms\tremaining: 93.7ms\n",
      "41:\tlearn: 0.3854699\ttotal: 66.4ms\tremaining: 91.7ms\n",
      "42:\tlearn: 0.3835300\ttotal: 67.9ms\tremaining: 90ms\n",
      "43:\tlearn: 0.3824353\ttotal: 69.7ms\tremaining: 88.7ms\n",
      "44:\tlearn: 0.3805007\ttotal: 71.1ms\tremaining: 86.9ms\n",
      "45:\tlearn: 0.3783900\ttotal: 72.5ms\tremaining: 85.2ms\n",
      "46:\tlearn: 0.3766073\ttotal: 73.9ms\tremaining: 83.4ms\n",
      "47:\tlearn: 0.3743357\ttotal: 75.8ms\tremaining: 82.1ms\n",
      "48:\tlearn: 0.3721690\ttotal: 77.1ms\tremaining: 80.3ms\n",
      "49:\tlearn: 0.3710933\ttotal: 78.6ms\tremaining: 78.6ms\n",
      "50:\tlearn: 0.3696406\ttotal: 80ms\tremaining: 76.9ms\n",
      "51:\tlearn: 0.3682072\ttotal: 82.1ms\tremaining: 75.8ms\n",
      "52:\tlearn: 0.3667749\ttotal: 83.9ms\tremaining: 74.4ms\n",
      "53:\tlearn: 0.3652019\ttotal: 85.4ms\tremaining: 72.7ms\n",
      "54:\tlearn: 0.3632935\ttotal: 86.9ms\tremaining: 71.1ms\n",
      "55:\tlearn: 0.3613513\ttotal: 88.4ms\tremaining: 69.4ms\n",
      "56:\tlearn: 0.3598886\ttotal: 89.7ms\tremaining: 67.7ms\n",
      "57:\tlearn: 0.3589076\ttotal: 91.2ms\tremaining: 66ms\n",
      "58:\tlearn: 0.3576594\ttotal: 92.6ms\tremaining: 64.3ms\n",
      "59:\tlearn: 0.3561881\ttotal: 94.5ms\tremaining: 63ms\n",
      "60:\tlearn: 0.3557280\ttotal: 96.3ms\tremaining: 61.6ms\n",
      "61:\tlearn: 0.3547596\ttotal: 97.7ms\tremaining: 59.9ms\n",
      "62:\tlearn: 0.3523930\ttotal: 99ms\tremaining: 58.1ms\n",
      "63:\tlearn: 0.3511870\ttotal: 100ms\tremaining: 56.5ms\n",
      "64:\tlearn: 0.3491375\ttotal: 102ms\tremaining: 54.8ms\n",
      "65:\tlearn: 0.3475211\ttotal: 103ms\tremaining: 53.2ms\n",
      "66:\tlearn: 0.3460378\ttotal: 105ms\tremaining: 51.6ms\n",
      "67:\tlearn: 0.3448462\ttotal: 107ms\tremaining: 50.3ms\n",
      "68:\tlearn: 0.3436147\ttotal: 109ms\tremaining: 48.8ms\n",
      "69:\tlearn: 0.3419145\ttotal: 110ms\tremaining: 47.1ms\n",
      "70:\tlearn: 0.3400487\ttotal: 111ms\tremaining: 45.4ms\n",
      "71:\tlearn: 0.3385241\ttotal: 113ms\tremaining: 43.8ms\n",
      "72:\tlearn: 0.3374443\ttotal: 114ms\tremaining: 42.1ms\n",
      "73:\tlearn: 0.3369723\ttotal: 115ms\tremaining: 40.5ms\n",
      "74:\tlearn: 0.3350451\ttotal: 116ms\tremaining: 38.8ms\n",
      "75:\tlearn: 0.3337674\ttotal: 118ms\tremaining: 37.2ms\n",
      "76:\tlearn: 0.3330343\ttotal: 120ms\tremaining: 35.9ms\n",
      "77:\tlearn: 0.3323303\ttotal: 121ms\tremaining: 34.2ms\n",
      "78:\tlearn: 0.3310696\ttotal: 123ms\tremaining: 32.7ms\n",
      "79:\tlearn: 0.3300229\ttotal: 125ms\tremaining: 31.2ms\n",
      "80:\tlearn: 0.3289625\ttotal: 126ms\tremaining: 29.6ms\n",
      "81:\tlearn: 0.3287157\ttotal: 127ms\tremaining: 27.9ms\n",
      "82:\tlearn: 0.3280461\ttotal: 129ms\tremaining: 26.3ms\n",
      "83:\tlearn: 0.3272346\ttotal: 130ms\tremaining: 24.7ms\n",
      "84:\tlearn: 0.3269215\ttotal: 132ms\tremaining: 23.3ms\n",
      "85:\tlearn: 0.3260046\ttotal: 134ms\tremaining: 21.8ms\n",
      "86:\tlearn: 0.3250913\ttotal: 135ms\tremaining: 20.2ms\n",
      "87:\tlearn: 0.3231635\ttotal: 136ms\tremaining: 18.6ms\n",
      "88:\tlearn: 0.3222429\ttotal: 138ms\tremaining: 17.1ms\n",
      "89:\tlearn: 0.3208351\ttotal: 140ms\tremaining: 15.5ms\n",
      "90:\tlearn: 0.3201628\ttotal: 141ms\tremaining: 14ms\n",
      "91:\tlearn: 0.3197070\ttotal: 143ms\tremaining: 12.4ms\n",
      "92:\tlearn: 0.3191110\ttotal: 145ms\tremaining: 10.9ms\n",
      "93:\tlearn: 0.3182643\ttotal: 147ms\tremaining: 9.37ms\n",
      "94:\tlearn: 0.3169863\ttotal: 148ms\tremaining: 7.79ms\n",
      "95:\tlearn: 0.3160102\ttotal: 150ms\tremaining: 6.23ms\n",
      "96:\tlearn: 0.3152589\ttotal: 151ms\tremaining: 4.67ms\n",
      "97:\tlearn: 0.3138478\ttotal: 152ms\tremaining: 3.11ms\n",
      "98:\tlearn: 0.3133005\ttotal: 154ms\tremaining: 1.55ms\n",
      "99:\tlearn: 0.3115573\ttotal: 155ms\tremaining: 0us\n"
     ]
    }
   ],
   "source": [
    "catb_cv_model = GridSearchCV(catb,\n",
    "                          catb_params,\n",
    "                          cv=5,\n",
    "                          n_jobs=-1,\n",
    "                          verbose = 2).fit(X_train,y_train)"
   ]
  },
  {
   "cell_type": "code",
   "execution_count": 75,
   "metadata": {},
   "outputs": [
    {
     "data": {
      "text/plain": [
       "{'depth': 6, 'iterations': 100, 'learning_rate': 0.1}"
      ]
     },
     "execution_count": 75,
     "metadata": {},
     "output_type": "execute_result"
    }
   ],
   "source": [
    "catb_cv_model.best_params_"
   ]
  },
  {
   "cell_type": "code",
   "execution_count": 43,
   "metadata": {
    "collapsed": true,
    "jupyter": {
     "outputs_hidden": true
    }
   },
   "outputs": [
    {
     "name": "stdout",
     "output_type": "stream",
     "text": [
      "0:\tlearn: 0.6656605\ttotal: 58.7ms\tremaining: 5.82s\n",
      "1:\tlearn: 0.6415473\ttotal: 60.4ms\tremaining: 2.96s\n",
      "2:\tlearn: 0.6206453\ttotal: 61.7ms\tremaining: 1.99s\n",
      "3:\tlearn: 0.6044557\ttotal: 62.9ms\tremaining: 1.51s\n",
      "4:\tlearn: 0.5844343\ttotal: 64.2ms\tremaining: 1.22s\n",
      "5:\tlearn: 0.5718085\ttotal: 65.4ms\tremaining: 1.02s\n",
      "6:\tlearn: 0.5575728\ttotal: 66.7ms\tremaining: 887ms\n",
      "7:\tlearn: 0.5469430\ttotal: 68ms\tremaining: 782ms\n",
      "8:\tlearn: 0.5362874\ttotal: 70.2ms\tremaining: 709ms\n",
      "9:\tlearn: 0.5270080\ttotal: 71.9ms\tremaining: 647ms\n",
      "10:\tlearn: 0.5157169\ttotal: 73.1ms\tremaining: 592ms\n",
      "11:\tlearn: 0.5081410\ttotal: 74.6ms\tremaining: 547ms\n",
      "12:\tlearn: 0.4986442\ttotal: 75.9ms\tremaining: 508ms\n",
      "13:\tlearn: 0.4903710\ttotal: 77.1ms\tremaining: 474ms\n",
      "14:\tlearn: 0.4835516\ttotal: 78.4ms\tremaining: 444ms\n",
      "15:\tlearn: 0.4769758\ttotal: 79.6ms\tremaining: 418ms\n",
      "16:\tlearn: 0.4693026\ttotal: 80.7ms\tremaining: 394ms\n",
      "17:\tlearn: 0.4637744\ttotal: 82.8ms\tremaining: 377ms\n",
      "18:\tlearn: 0.4593826\ttotal: 84.3ms\tremaining: 360ms\n",
      "19:\tlearn: 0.4551218\ttotal: 85.5ms\tremaining: 342ms\n",
      "20:\tlearn: 0.4506552\ttotal: 86.9ms\tremaining: 327ms\n",
      "21:\tlearn: 0.4460843\ttotal: 88.2ms\tremaining: 313ms\n",
      "22:\tlearn: 0.4412130\ttotal: 89.6ms\tremaining: 300ms\n",
      "23:\tlearn: 0.4379697\ttotal: 90.8ms\tremaining: 287ms\n",
      "24:\tlearn: 0.4346863\ttotal: 92ms\tremaining: 276ms\n",
      "25:\tlearn: 0.4311860\ttotal: 93.2ms\tremaining: 265ms\n",
      "26:\tlearn: 0.4284439\ttotal: 95ms\tremaining: 257ms\n",
      "27:\tlearn: 0.4255524\ttotal: 97.2ms\tremaining: 250ms\n",
      "28:\tlearn: 0.4219453\ttotal: 98.5ms\tremaining: 241ms\n",
      "29:\tlearn: 0.4182174\ttotal: 100ms\tremaining: 233ms\n",
      "30:\tlearn: 0.4137159\ttotal: 101ms\tremaining: 225ms\n",
      "31:\tlearn: 0.4106991\ttotal: 102ms\tremaining: 218ms\n",
      "32:\tlearn: 0.4071875\ttotal: 104ms\tremaining: 210ms\n",
      "33:\tlearn: 0.4048561\ttotal: 105ms\tremaining: 203ms\n",
      "34:\tlearn: 0.4014965\ttotal: 106ms\tremaining: 197ms\n",
      "35:\tlearn: 0.3982406\ttotal: 108ms\tremaining: 192ms\n",
      "36:\tlearn: 0.3959836\ttotal: 110ms\tremaining: 187ms\n",
      "37:\tlearn: 0.3938429\ttotal: 111ms\tremaining: 181ms\n",
      "38:\tlearn: 0.3915729\ttotal: 112ms\tremaining: 176ms\n",
      "39:\tlearn: 0.3904144\ttotal: 114ms\tremaining: 170ms\n",
      "40:\tlearn: 0.3879879\ttotal: 115ms\tremaining: 165ms\n",
      "41:\tlearn: 0.3854699\ttotal: 116ms\tremaining: 161ms\n",
      "42:\tlearn: 0.3835300\ttotal: 118ms\tremaining: 156ms\n",
      "43:\tlearn: 0.3824353\ttotal: 119ms\tremaining: 151ms\n",
      "44:\tlearn: 0.3805007\ttotal: 121ms\tremaining: 147ms\n",
      "45:\tlearn: 0.3783900\ttotal: 122ms\tremaining: 144ms\n",
      "46:\tlearn: 0.3766073\ttotal: 124ms\tremaining: 139ms\n",
      "47:\tlearn: 0.3743357\ttotal: 125ms\tremaining: 135ms\n",
      "48:\tlearn: 0.3721690\ttotal: 126ms\tremaining: 131ms\n",
      "49:\tlearn: 0.3710933\ttotal: 127ms\tremaining: 127ms\n",
      "50:\tlearn: 0.3696406\ttotal: 129ms\tremaining: 124ms\n",
      "51:\tlearn: 0.3682072\ttotal: 130ms\tremaining: 120ms\n",
      "52:\tlearn: 0.3667749\ttotal: 131ms\tremaining: 116ms\n",
      "53:\tlearn: 0.3652019\ttotal: 133ms\tremaining: 113ms\n",
      "54:\tlearn: 0.3632935\ttotal: 135ms\tremaining: 110ms\n",
      "55:\tlearn: 0.3613513\ttotal: 136ms\tremaining: 107ms\n",
      "56:\tlearn: 0.3598886\ttotal: 137ms\tremaining: 104ms\n",
      "57:\tlearn: 0.3589076\ttotal: 139ms\tremaining: 101ms\n",
      "58:\tlearn: 0.3576594\ttotal: 140ms\tremaining: 97.3ms\n",
      "59:\tlearn: 0.3561881\ttotal: 141ms\tremaining: 94.1ms\n",
      "60:\tlearn: 0.3557280\ttotal: 142ms\tremaining: 91ms\n",
      "61:\tlearn: 0.3547596\ttotal: 144ms\tremaining: 88ms\n",
      "62:\tlearn: 0.3523930\ttotal: 145ms\tremaining: 85.1ms\n",
      "63:\tlearn: 0.3511870\ttotal: 147ms\tremaining: 82.6ms\n",
      "64:\tlearn: 0.3491375\ttotal: 148ms\tremaining: 79.9ms\n",
      "65:\tlearn: 0.3475211\ttotal: 150ms\tremaining: 77.1ms\n",
      "66:\tlearn: 0.3460378\ttotal: 151ms\tremaining: 74.3ms\n",
      "67:\tlearn: 0.3448462\ttotal: 152ms\tremaining: 71.6ms\n",
      "68:\tlearn: 0.3436147\ttotal: 153ms\tremaining: 68.9ms\n",
      "69:\tlearn: 0.3419145\ttotal: 155ms\tremaining: 66.2ms\n",
      "70:\tlearn: 0.3400487\ttotal: 156ms\tremaining: 63.7ms\n",
      "71:\tlearn: 0.3385241\ttotal: 157ms\tremaining: 61.2ms\n",
      "72:\tlearn: 0.3374443\ttotal: 160ms\tremaining: 59.1ms\n",
      "73:\tlearn: 0.3369723\ttotal: 161ms\tremaining: 56.7ms\n",
      "74:\tlearn: 0.3350451\ttotal: 163ms\tremaining: 54.2ms\n",
      "75:\tlearn: 0.3337674\ttotal: 164ms\tremaining: 51.7ms\n",
      "76:\tlearn: 0.3330343\ttotal: 165ms\tremaining: 49.3ms\n",
      "77:\tlearn: 0.3323303\ttotal: 166ms\tremaining: 46.9ms\n",
      "78:\tlearn: 0.3310696\ttotal: 167ms\tremaining: 44.5ms\n",
      "79:\tlearn: 0.3300229\ttotal: 169ms\tremaining: 42.3ms\n",
      "80:\tlearn: 0.3289625\ttotal: 171ms\tremaining: 40ms\n",
      "81:\tlearn: 0.3287157\ttotal: 172ms\tremaining: 37.8ms\n",
      "82:\tlearn: 0.3280461\ttotal: 174ms\tremaining: 35.6ms\n",
      "83:\tlearn: 0.3272346\ttotal: 175ms\tremaining: 33.4ms\n",
      "84:\tlearn: 0.3269215\ttotal: 177ms\tremaining: 31.2ms\n",
      "85:\tlearn: 0.3260046\ttotal: 178ms\tremaining: 29ms\n",
      "86:\tlearn: 0.3250913\ttotal: 179ms\tremaining: 26.8ms\n",
      "87:\tlearn: 0.3231635\ttotal: 181ms\tremaining: 24.6ms\n",
      "88:\tlearn: 0.3222429\ttotal: 182ms\tremaining: 22.5ms\n",
      "89:\tlearn: 0.3208351\ttotal: 184ms\tremaining: 20.4ms\n",
      "90:\tlearn: 0.3201628\ttotal: 186ms\tremaining: 18.4ms\n",
      "91:\tlearn: 0.3197070\ttotal: 187ms\tremaining: 16.2ms\n",
      "92:\tlearn: 0.3191110\ttotal: 188ms\tremaining: 14.2ms\n",
      "93:\tlearn: 0.3182643\ttotal: 189ms\tremaining: 12.1ms\n",
      "94:\tlearn: 0.3169863\ttotal: 190ms\tremaining: 10ms\n",
      "95:\tlearn: 0.3160102\ttotal: 192ms\tremaining: 7.99ms\n",
      "96:\tlearn: 0.3152589\ttotal: 193ms\tremaining: 5.98ms\n",
      "97:\tlearn: 0.3138478\ttotal: 196ms\tremaining: 3.99ms\n",
      "98:\tlearn: 0.3133005\ttotal: 197ms\tremaining: 1.99ms\n",
      "99:\tlearn: 0.3115573\ttotal: 199ms\tremaining: 0us\n"
     ]
    }
   ],
   "source": [
    "catb_tuned = CatBoostClassifier(depth=6,\n",
    "                              iterations=100,\n",
    "                              learning_rate=0.1).fit(X_train,y_train)"
   ]
  },
  {
   "cell_type": "code",
   "execution_count": 78,
   "metadata": {},
   "outputs": [
    {
     "data": {
      "text/plain": [
       "0.7575757575757576"
      ]
     },
     "execution_count": 78,
     "metadata": {},
     "output_type": "execute_result"
    }
   ],
   "source": [
    "y_pred = catb_tuned.predict(X_test)\n",
    "accuracy_score(y_test,y_pred)"
   ]
  },
  {
   "cell_type": "code",
   "execution_count": 79,
   "metadata": {},
   "outputs": [
    {
     "data": {
      "image/png": "[encoded data removed]",
      "text/plain": [
       "<Figure size 432x288 with 1 Axes>"
      ]
     },
     "metadata": {
      "needs_background": "light"
     },
     "output_type": "display_data"
    }
   ],
   "source": [
    "# Değişken Önemi\n",
    "feature_imp = pd.Series(catb_tuned.feature_importances_,\n",
    "                         index=X_train.columns).sort_values(ascending=False)\n",
    "\n",
    "sns.barplot(x=feature_imp,y=feature_imp.index)\n",
    "plt.xlabel('Variable Importance Score')\n",
    "plt.ylabel('Variables')\n",
    "plt.title(\"Importance\")\n",
    "plt.show()"
   ]
  },
  {
   "cell_type": "markdown",
   "metadata": {},
   "source": [
    "## Tüm Modellerin Karşılaştırılması"
   ]
  },
  {
   "cell_type": "code",
   "execution_count": 47,
   "metadata": {},
   "outputs": [],
   "source": [
    "modeller = [knn_tuned,\n",
    "           loj_model,\n",
    "           svm_tuned,\n",
    "           mlp_tuned,\n",
    "           cart_tuned,\n",
    "           rf_tuned,\n",
    "           gbm_tuned,\n",
    "           catb_tuned,\n",
    "           lgb_tuned,\n",
    "            xgb_tuned]\n",
    "sonuc = []\n",
    "sonuclar = pd.DataFrame(columns = [\"Modeller\",\"Accuracy\"])\n",
    "for model in modeller:\n",
    "    isimler = model.__class__.__name__\n",
    "    y_pred = model.predict(X_test)\n",
    "    dogruluk = accuracy_score(y_test,y_pred)\n",
    "    sonuc = pd.DataFrame([[isimler,dogruluk*100]],columns = [\"Modeller\",\"Accuracy\"])\n",
    "    sonuclar = sonuclar.append(sonuc)"
   ]
  },
  {
   "cell_type": "code",
   "execution_count": 50,
   "metadata": {},
   "outputs": [
    {
     "data": {
      "image/png": "[encoded data removed]",
      "text/plain": [
       "<Figure size 432x288 with 1 Axes>"
      ]
     },
     "metadata": {
      "needs_background": "light"
     },
     "output_type": "display_data"
    }
   ],
   "source": [
    "sns.barplot(x=\"Accuracy\",y=\"Modeller\",data=sonuclar,color=\"b\")\n",
    "plt.xlabel(\"Accuracy Yüzde\")\n",
    "plt.title(\"Doğruluk Oranları\");"
   ]
  },
  {
   "cell_type": "code",
   "execution_count": 51,
   "metadata": {},
   "outputs": [
    {
     "data": {
      "text/html": [
       "<div>\n",
       "<style scoped>\n",
       "    .dataframe tbody tr th:only-of-type {\n",
       "        vertical-align: middle;\n",
       "    }\n",
       "\n",
       "    .dataframe tbody tr th {\n",
       "        vertical-align: top;\n",
       "    }\n",
       "\n",
       "    .dataframe thead th {\n",
       "        text-align: right;\n",
       "    }\n",
       "</style>\n",
       "<table border=\"1\" class=\"dataframe\">\n",
       "  <thead>\n",
       "    <tr style=\"text-align: right;\">\n",
       "      <th></th>\n",
       "      <th>Modeller</th>\n",
       "      <th>Accuracy</th>\n",
       "    </tr>\n",
       "  </thead>\n",
       "  <tbody>\n",
       "    <tr>\n",
       "      <td>0</td>\n",
       "      <td>KNeighborsClassifier</td>\n",
       "      <td>73.160173</td>\n",
       "    </tr>\n",
       "    <tr>\n",
       "      <td>0</td>\n",
       "      <td>LogisticRegression</td>\n",
       "      <td>75.324675</td>\n",
       "    </tr>\n",
       "    <tr>\n",
       "      <td>0</td>\n",
       "      <td>SVC</td>\n",
       "      <td>74.458874</td>\n",
       "    </tr>\n",
       "    <tr>\n",
       "      <td>0</td>\n",
       "      <td>MLPClassifier</td>\n",
       "      <td>73.593074</td>\n",
       "    </tr>\n",
       "    <tr>\n",
       "      <td>0</td>\n",
       "      <td>DecisionTreeClassifier</td>\n",
       "      <td>75.324675</td>\n",
       "    </tr>\n",
       "    <tr>\n",
       "      <td>0</td>\n",
       "      <td>RandomForestClassifier</td>\n",
       "      <td>74.891775</td>\n",
       "    </tr>\n",
       "    <tr>\n",
       "      <td>0</td>\n",
       "      <td>GradientBoostingClassifier</td>\n",
       "      <td>75.757576</td>\n",
       "    </tr>\n",
       "    <tr>\n",
       "      <td>0</td>\n",
       "      <td>CatBoostClassifier</td>\n",
       "      <td>75.757576</td>\n",
       "    </tr>\n",
       "    <tr>\n",
       "      <td>0</td>\n",
       "      <td>LGBMClassifier</td>\n",
       "      <td>75.757576</td>\n",
       "    </tr>\n",
       "    <tr>\n",
       "      <td>0</td>\n",
       "      <td>XGBClassifier</td>\n",
       "      <td>75.324675</td>\n",
       "    </tr>\n",
       "  </tbody>\n",
       "</table>\n",
       "</div>"
      ],
      "text/plain": [
       "                     Modeller   Accuracy\n",
       "0        KNeighborsClassifier  73.160173\n",
       "0          LogisticRegression  75.324675\n",
       "0                         SVC  74.458874\n",
       "0               MLPClassifier  73.593074\n",
       "0      DecisionTreeClassifier  75.324675\n",
       "0      RandomForestClassifier  74.891775\n",
       "0  GradientBoostingClassifier  75.757576\n",
       "0          CatBoostClassifier  75.757576\n",
       "0              LGBMClassifier  75.757576\n",
       "0               XGBClassifier  75.324675"
      ]
     },
     "execution_count": 51,
     "metadata": {},
     "output_type": "execute_result"
    }
   ],
   "source": [
    "sonuclar"
   ]
  },
  {
   "cell_type": "markdown",
   "metadata": {},
   "source": [
    "### Daha Başka Neler Yapılabilir?"
   ]
  },
  {
   "cell_type": "markdown",
   "metadata": {},
   "source": [
    "1. Değişken Türetme / Değişken Mühendisliğ\n",
    "2. Değişken Seçme\n",
    "3. Otomatik ML\n",
    "4. Model Deployment"
   ]
  }
 ],
 "metadata": {
  "kernelspec": {
   "display_name": "Python 3",
   "language": "python",
   "name": "python3"
  },
  "language_info": {
   "codemirror_mode": {
    "name": "ipython",
    "version": 3
   },
   "file_extension": ".py",
   "mimetype": "text/x-python",
   "name": "python",
   "nbconvert_exporter": "python",
   "pygments_lexer": "ipython3",
   "version": "3.6.9"
  }
 },
 "nbformat": 4,
 "nbformat_minor": 4
}

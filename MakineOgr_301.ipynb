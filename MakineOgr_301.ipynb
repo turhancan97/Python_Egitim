{
 "cells": [
  {
   "cell_type": "markdown",
   "metadata": {},
   "source": [
    "# Doğrusal Olmayan Regresyon Modelleri"
   ]
  },
  {
   "cell_type": "code",
   "execution_count": 1,
   "metadata": {},
   "outputs": [],
   "source": [
    "import numpy as np\n",
    "import pandas as pd\n",
    "from sklearn.model_selection import train_test_split,GridSearchCV\n",
    "from sklearn.metrics import mean_squared_error, r2_score\n",
    "import matplotlib.pyplot as plt\n",
    "from sklearn.preprocessing import scale\n",
    "from sklearn.preprocessing import StandardScaler\n",
    "from sklearn import model_selection\n",
    "from sklearn.linear_model import LinearRegression\n",
    "from sklearn.tree import DecisionTreeRegressor\n",
    "from sklearn.neighbors import KNeighborsRegressor\n",
    "from sklearn.neural_network import MLPRegressor\n",
    "from sklearn.ensemble import RandomForestRegressor\n",
    "from sklearn.ensemble import GradientBoostingRegressor\n",
    "from sklearn import neighbors\n",
    "from sklearn.svm import SVR"
   ]
  },
  {
   "cell_type": "code",
   "execution_count": 2,
   "metadata": {},
   "outputs": [],
   "source": [
    "from warnings import filterwarnings # Uyarı almamak için\n",
    "filterwarnings(\"ignore\")"
   ]
  },
  {
   "cell_type": "code",
   "execution_count": 3,
   "metadata": {},
   "outputs": [],
   "source": [
    "df = pd.read_csv(\"Hitters.csv\")\n",
    "df = df.dropna()\n",
    "dms = pd.get_dummies(df[[\"League\",\"Division\",\"NewLeague\"]])\n",
    "y=df[\"Salary\"]\n",
    "X_ = df.drop([\"Salary\",\"League\",\"Division\",\"NewLeague\"],axis=1).astype(\"float64\")\n",
    "X = pd.concat([X_,dms[[\"League_N\",\"Division_W\",\"NewLeague_N\"]]],axis=1)\n",
    "X_train,X_test,y_train,y_test = train_test_split(X,y,test_size=0.25,random_state=42)"
   ]
  },
  {
   "cell_type": "code",
   "execution_count": 4,
   "metadata": {},
   "outputs": [
    {
     "data": {
      "text/html": [
       "<div>\n",
       "<style scoped>\n",
       "    .dataframe tbody tr th:only-of-type {\n",
       "        vertical-align: middle;\n",
       "    }\n",
       "\n",
       "    .dataframe tbody tr th {\n",
       "        vertical-align: top;\n",
       "    }\n",
       "\n",
       "    .dataframe thead th {\n",
       "        text-align: right;\n",
       "    }\n",
       "</style>\n",
       "<table border=\"1\" class=\"dataframe\">\n",
       "  <thead>\n",
       "    <tr style=\"text-align: right;\">\n",
       "      <th></th>\n",
       "      <th>AtBat</th>\n",
       "      <th>Hits</th>\n",
       "      <th>HmRun</th>\n",
       "      <th>Runs</th>\n",
       "      <th>RBI</th>\n",
       "      <th>Walks</th>\n",
       "      <th>Years</th>\n",
       "      <th>CAtBat</th>\n",
       "      <th>CHits</th>\n",
       "      <th>CHmRun</th>\n",
       "      <th>CRuns</th>\n",
       "      <th>CRBI</th>\n",
       "      <th>CWalks</th>\n",
       "      <th>PutOuts</th>\n",
       "      <th>Assists</th>\n",
       "      <th>Errors</th>\n",
       "      <th>League_N</th>\n",
       "      <th>Division_W</th>\n",
       "      <th>NewLeague_N</th>\n",
       "    </tr>\n",
       "  </thead>\n",
       "  <tbody>\n",
       "    <tr>\n",
       "      <td>183</td>\n",
       "      <td>328.0</td>\n",
       "      <td>91.0</td>\n",
       "      <td>12.0</td>\n",
       "      <td>51.0</td>\n",
       "      <td>43.0</td>\n",
       "      <td>33.0</td>\n",
       "      <td>2.0</td>\n",
       "      <td>342.0</td>\n",
       "      <td>94.0</td>\n",
       "      <td>12.0</td>\n",
       "      <td>51.0</td>\n",
       "      <td>44.0</td>\n",
       "      <td>33.0</td>\n",
       "      <td>145.0</td>\n",
       "      <td>59.0</td>\n",
       "      <td>8.0</td>\n",
       "      <td>1</td>\n",
       "      <td>0</td>\n",
       "      <td>1</td>\n",
       "    </tr>\n",
       "    <tr>\n",
       "      <td>229</td>\n",
       "      <td>514.0</td>\n",
       "      <td>144.0</td>\n",
       "      <td>0.0</td>\n",
       "      <td>67.0</td>\n",
       "      <td>54.0</td>\n",
       "      <td>79.0</td>\n",
       "      <td>9.0</td>\n",
       "      <td>4739.0</td>\n",
       "      <td>1169.0</td>\n",
       "      <td>13.0</td>\n",
       "      <td>583.0</td>\n",
       "      <td>374.0</td>\n",
       "      <td>528.0</td>\n",
       "      <td>229.0</td>\n",
       "      <td>453.0</td>\n",
       "      <td>15.0</td>\n",
       "      <td>1</td>\n",
       "      <td>0</td>\n",
       "      <td>1</td>\n",
       "    </tr>\n",
       "    <tr>\n",
       "      <td>286</td>\n",
       "      <td>593.0</td>\n",
       "      <td>152.0</td>\n",
       "      <td>23.0</td>\n",
       "      <td>69.0</td>\n",
       "      <td>75.0</td>\n",
       "      <td>53.0</td>\n",
       "      <td>6.0</td>\n",
       "      <td>2765.0</td>\n",
       "      <td>686.0</td>\n",
       "      <td>133.0</td>\n",
       "      <td>369.0</td>\n",
       "      <td>384.0</td>\n",
       "      <td>321.0</td>\n",
       "      <td>315.0</td>\n",
       "      <td>10.0</td>\n",
       "      <td>6.0</td>\n",
       "      <td>0</td>\n",
       "      <td>1</td>\n",
       "      <td>0</td>\n",
       "    </tr>\n",
       "    <tr>\n",
       "      <td>102</td>\n",
       "      <td>233.0</td>\n",
       "      <td>49.0</td>\n",
       "      <td>2.0</td>\n",
       "      <td>41.0</td>\n",
       "      <td>23.0</td>\n",
       "      <td>18.0</td>\n",
       "      <td>8.0</td>\n",
       "      <td>1350.0</td>\n",
       "      <td>336.0</td>\n",
       "      <td>7.0</td>\n",
       "      <td>166.0</td>\n",
       "      <td>122.0</td>\n",
       "      <td>106.0</td>\n",
       "      <td>102.0</td>\n",
       "      <td>132.0</td>\n",
       "      <td>10.0</td>\n",
       "      <td>0</td>\n",
       "      <td>0</td>\n",
       "      <td>0</td>\n",
       "    </tr>\n",
       "    <tr>\n",
       "      <td>153</td>\n",
       "      <td>341.0</td>\n",
       "      <td>95.0</td>\n",
       "      <td>6.0</td>\n",
       "      <td>48.0</td>\n",
       "      <td>42.0</td>\n",
       "      <td>20.0</td>\n",
       "      <td>10.0</td>\n",
       "      <td>2964.0</td>\n",
       "      <td>808.0</td>\n",
       "      <td>81.0</td>\n",
       "      <td>379.0</td>\n",
       "      <td>428.0</td>\n",
       "      <td>221.0</td>\n",
       "      <td>158.0</td>\n",
       "      <td>4.0</td>\n",
       "      <td>5.0</td>\n",
       "      <td>1</td>\n",
       "      <td>1</td>\n",
       "      <td>1</td>\n",
       "    </tr>\n",
       "  </tbody>\n",
       "</table>\n",
       "</div>"
      ],
      "text/plain": [
       "     AtBat   Hits  HmRun  Runs   RBI  Walks  Years  CAtBat   CHits  CHmRun  \\\n",
       "183  328.0   91.0   12.0  51.0  43.0   33.0    2.0   342.0    94.0    12.0   \n",
       "229  514.0  144.0    0.0  67.0  54.0   79.0    9.0  4739.0  1169.0    13.0   \n",
       "286  593.0  152.0   23.0  69.0  75.0   53.0    6.0  2765.0   686.0   133.0   \n",
       "102  233.0   49.0    2.0  41.0  23.0   18.0    8.0  1350.0   336.0     7.0   \n",
       "153  341.0   95.0    6.0  48.0  42.0   20.0   10.0  2964.0   808.0    81.0   \n",
       "\n",
       "     CRuns   CRBI  CWalks  PutOuts  Assists  Errors  League_N  Division_W  \\\n",
       "183   51.0   44.0    33.0    145.0     59.0     8.0         1           0   \n",
       "229  583.0  374.0   528.0    229.0    453.0    15.0         1           0   \n",
       "286  369.0  384.0   321.0    315.0     10.0     6.0         0           1   \n",
       "102  166.0  122.0   106.0    102.0    132.0    10.0         0           0   \n",
       "153  379.0  428.0   221.0    158.0      4.0     5.0         1           1   \n",
       "\n",
       "     NewLeague_N  \n",
       "183            1  \n",
       "229            1  \n",
       "286            0  \n",
       "102            0  \n",
       "153            1  "
      ]
     },
     "execution_count": 4,
     "metadata": {},
     "output_type": "execute_result"
    }
   ],
   "source": [
    "X_train.head()"
   ]
  },
  {
   "cell_type": "markdown",
   "metadata": {},
   "source": [
    "## K-NN Model"
   ]
  },
  {
   "cell_type": "code",
   "execution_count": 5,
   "metadata": {},
   "outputs": [],
   "source": [
    "knn_model = KNeighborsRegressor().fit(X_train,y_train)"
   ]
  },
  {
   "cell_type": "code",
   "execution_count": 7,
   "metadata": {},
   "outputs": [
    {
     "data": {
      "text/plain": [
       "KNeighborsRegressor(algorithm='auto', leaf_size=30, metric='minkowski',\n",
       "                    metric_params=None, n_jobs=None, n_neighbors=5, p=2,\n",
       "                    weights='uniform')"
      ]
     },
     "execution_count": 7,
     "metadata": {},
     "output_type": "execute_result"
    }
   ],
   "source": [
    "knn_model"
   ]
  },
  {
   "cell_type": "code",
   "execution_count": 8,
   "metadata": {},
   "outputs": [
    {
     "data": {
      "text/plain": [
       "5"
      ]
     },
     "execution_count": 8,
     "metadata": {},
     "output_type": "execute_result"
    }
   ],
   "source": [
    "knn_model.n_neighbors"
   ]
  },
  {
   "cell_type": "code",
   "execution_count": 20,
   "metadata": {},
   "outputs": [
    {
     "data": {
      "text/plain": [
       "'minkowski'"
      ]
     },
     "execution_count": 20,
     "metadata": {},
     "output_type": "execute_result"
    }
   ],
   "source": [
    "knn_model.metric"
   ]
  },
  {
   "cell_type": "code",
   "execution_count": 10,
   "metadata": {
    "collapsed": true,
    "jupyter": {
     "outputs_hidden": true
    }
   },
   "outputs": [
    {
     "data": {
      "text/plain": [
       "['__abstractmethods__',\n",
       " '__class__',\n",
       " '__delattr__',\n",
       " '__dict__',\n",
       " '__dir__',\n",
       " '__doc__',\n",
       " '__eq__',\n",
       " '__format__',\n",
       " '__ge__',\n",
       " '__getattribute__',\n",
       " '__getstate__',\n",
       " '__gt__',\n",
       " '__hash__',\n",
       " '__init__',\n",
       " '__init_subclass__',\n",
       " '__le__',\n",
       " '__lt__',\n",
       " '__module__',\n",
       " '__ne__',\n",
       " '__new__',\n",
       " '__reduce__',\n",
       " '__reduce_ex__',\n",
       " '__repr__',\n",
       " '__setattr__',\n",
       " '__setstate__',\n",
       " '__sizeof__',\n",
       " '__str__',\n",
       " '__subclasshook__',\n",
       " '__weakref__',\n",
       " '_abc_cache',\n",
       " '_abc_negative_cache',\n",
       " '_abc_negative_cache_version',\n",
       " '_abc_registry',\n",
       " '_check_algorithm_metric',\n",
       " '_estimator_type',\n",
       " '_fit',\n",
       " '_fit_X',\n",
       " '_fit_method',\n",
       " '_get_param_names',\n",
       " '_get_tags',\n",
       " '_kneighbors_reduce_func',\n",
       " '_more_tags',\n",
       " '_pairwise',\n",
       " '_tree',\n",
       " '_y',\n",
       " 'algorithm',\n",
       " 'effective_metric_',\n",
       " 'effective_metric_params_',\n",
       " 'fit',\n",
       " 'get_params',\n",
       " 'kneighbors',\n",
       " 'kneighbors_graph',\n",
       " 'leaf_size',\n",
       " 'metric',\n",
       " 'metric_params',\n",
       " 'n_jobs',\n",
       " 'n_neighbors',\n",
       " 'p',\n",
       " 'predict',\n",
       " 'radius',\n",
       " 'score',\n",
       " 'set_params',\n",
       " 'weights']"
      ]
     },
     "execution_count": 10,
     "metadata": {},
     "output_type": "execute_result"
    }
   ],
   "source": [
    "dir(knn_model)"
   ]
  },
  {
   "cell_type": "code",
   "execution_count": 11,
   "metadata": {},
   "outputs": [
    {
     "data": {
      "text/plain": [
       "array([ 510.3334,  808.3334,  772.5   ,  125.5   , 1005.    ])"
      ]
     },
     "execution_count": 11,
     "metadata": {},
     "output_type": "execute_result"
    }
   ],
   "source": [
    "knn_model.predict(X_test)[0:5]"
   ]
  },
  {
   "cell_type": "code",
   "execution_count": 18,
   "metadata": {},
   "outputs": [],
   "source": [
    "y_pred = knn_model.predict(X_test)"
   ]
  },
  {
   "cell_type": "code",
   "execution_count": 19,
   "metadata": {},
   "outputs": [
    {
     "data": {
      "text/plain": [
       "426.6570764525201"
      ]
     },
     "execution_count": 19,
     "metadata": {},
     "output_type": "execute_result"
    }
   ],
   "source": [
    "np.sqrt(mean_squared_error(y_test,y_pred))"
   ]
  },
  {
   "cell_type": "markdown",
   "metadata": {},
   "source": [
    "## Model Tuning"
   ]
  },
  {
   "cell_type": "code",
   "execution_count": 22,
   "metadata": {},
   "outputs": [
    {
     "name": "stdout",
     "output_type": "stream",
     "text": [
      "k= 1  için RMSE değeri  455.03925390751965\n",
      "k= 2  için RMSE değeri  415.99629571490965\n",
      "k= 3  için RMSE değeri  420.6765370082348\n",
      "k= 4  için RMSE değeri  428.8564674588792\n",
      "k= 5  için RMSE değeri  426.6570764525201\n",
      "k= 6  için RMSE değeri  423.5071669008732\n",
      "k= 7  için RMSE değeri  414.9361222421057\n",
      "k= 8  için RMSE değeri  413.7094731463598\n",
      "k= 9  için RMSE değeri  417.84419990871265\n",
      "k= 10  için RMSE değeri  421.6252180741266\n"
     ]
    }
   ],
   "source": [
    "RMSE = []\n",
    "\n",
    "for k in range(10):\n",
    "    k = k+1\n",
    "    knn_model = KNeighborsRegressor(n_neighbors = k).fit(X_train,y_train)\n",
    "    y_pred = knn_model.predict(X_test)\n",
    "    rmse = np.sqrt(mean_squared_error(y_test,y_pred))\n",
    "    RMSE.append(rmse)\n",
    "    print(\"k=\", k , \" için RMSE değeri \",rmse)\n",
    "    "
   ]
  },
  {
   "cell_type": "code",
   "execution_count": 23,
   "metadata": {},
   "outputs": [],
   "source": [
    "#GridSearchCV"
   ]
  },
  {
   "cell_type": "code",
   "execution_count": 25,
   "metadata": {},
   "outputs": [],
   "source": [
    "knn_params = {\"n_neighbors\": np.arange(1,30,1)}"
   ]
  },
  {
   "cell_type": "code",
   "execution_count": 26,
   "metadata": {},
   "outputs": [],
   "source": [
    "knn = KNeighborsRegressor()"
   ]
  },
  {
   "cell_type": "code",
   "execution_count": 27,
   "metadata": {},
   "outputs": [],
   "source": [
    "knn_cv_model = GridSearchCV(knn,knn_params,cv=10).fit(X_train,y_train)"
   ]
  },
  {
   "cell_type": "code",
   "execution_count": 28,
   "metadata": {},
   "outputs": [
    {
     "data": {
      "text/plain": [
       "{'n_neighbors': 8}"
      ]
     },
     "execution_count": 28,
     "metadata": {},
     "output_type": "execute_result"
    }
   ],
   "source": [
    "knn_cv_model.best_params_"
   ]
  },
  {
   "cell_type": "code",
   "execution_count": 29,
   "metadata": {},
   "outputs": [],
   "source": [
    "# Final Model\n",
    "knn_tuned = KNeighborsRegressor(n_neighbors = knn_cv_model.best_params_[\"n_neighbors\"]).fit(X_train,y_train)"
   ]
  },
  {
   "cell_type": "code",
   "execution_count": 31,
   "metadata": {},
   "outputs": [
    {
     "data": {
      "text/plain": [
       "413.7094731463598"
      ]
     },
     "execution_count": 31,
     "metadata": {},
     "output_type": "execute_result"
    }
   ],
   "source": [
    "y_pred = knn_tuned.predict(X_test)\n",
    "np.sqrt(mean_squared_error(y_test,y_pred))"
   ]
  },
  {
   "cell_type": "markdown",
   "metadata": {},
   "source": [
    "## Support Vector"
   ]
  },
  {
   "cell_type": "code",
   "execution_count": 32,
   "metadata": {},
   "outputs": [],
   "source": [
    "df = pd.read_csv(\"Hitters.csv\")\n",
    "df = df.dropna()\n",
    "dms = pd.get_dummies(df[[\"League\",\"Division\",\"NewLeague\"]])\n",
    "y=df[\"Salary\"]\n",
    "X_ = df.drop([\"Salary\",\"League\",\"Division\",\"NewLeague\"],axis=1).astype(\"float64\")\n",
    "X = pd.concat([X_,dms[[\"League_N\",\"Division_W\",\"NewLeague_N\"]]],axis=1)\n",
    "X_train,X_test,y_train,y_test = train_test_split(X,y,test_size=0.25,random_state=42)"
   ]
  },
  {
   "cell_type": "code",
   "execution_count": 42,
   "metadata": {},
   "outputs": [],
   "source": [
    "svr_model = SVR(\"linear\").fit(X_train,y_train)"
   ]
  },
  {
   "cell_type": "code",
   "execution_count": 43,
   "metadata": {},
   "outputs": [
    {
     "data": {
      "text/plain": [
       "SVR(C=1.0, cache_size=200, coef0=0.0, degree=3, epsilon=0.1,\n",
       "    gamma='auto_deprecated', kernel='linear', max_iter=-1, shrinking=True,\n",
       "    tol=0.001, verbose=False)"
      ]
     },
     "execution_count": 43,
     "metadata": {},
     "output_type": "execute_result"
    }
   ],
   "source": [
    "svr_model"
   ]
  },
  {
   "cell_type": "code",
   "execution_count": 44,
   "metadata": {},
   "outputs": [],
   "source": [
    "y_pred=svr_model.predict(X_train)"
   ]
  },
  {
   "cell_type": "code",
   "execution_count": 45,
   "metadata": {},
   "outputs": [
    {
     "data": {
      "text/plain": [
       "array([219.32622169, 702.4303869 , 623.2055964 , 153.77538476,\n",
       "       463.15190834])"
      ]
     },
     "execution_count": 45,
     "metadata": {},
     "output_type": "execute_result"
    }
   ],
   "source": [
    "y_pred[0:5]"
   ]
  },
  {
   "cell_type": "code",
   "execution_count": 46,
   "metadata": {},
   "outputs": [
    {
     "data": {
      "text/plain": [
       "array([-80.15196151])"
      ]
     },
     "execution_count": 46,
     "metadata": {},
     "output_type": "execute_result"
    }
   ],
   "source": [
    "svr_model.intercept_"
   ]
  },
  {
   "cell_type": "code",
   "execution_count": 47,
   "metadata": {},
   "outputs": [
    {
     "data": {
      "text/plain": [
       "array([[ -1.21839037,   6.09602969,  -3.67574533,   0.14217075,\n",
       "          0.51435919,   1.28388986,  12.55922537,  -0.08693755,\n",
       "          0.46597184,   2.98259944,   0.52944523,  -0.79820799,\n",
       "         -0.16015534,   0.30872794,   0.28842348,  -1.79560067,\n",
       "          6.41868985, -10.74313783,   1.33374317]])"
      ]
     },
     "execution_count": 47,
     "metadata": {},
     "output_type": "execute_result"
    }
   ],
   "source": [
    "svr_model.coef_"
   ]
  },
  {
   "cell_type": "code",
   "execution_count": 49,
   "metadata": {},
   "outputs": [
    {
     "data": {
      "text/plain": [
       "370.04084185624924"
      ]
     },
     "execution_count": 49,
     "metadata": {},
     "output_type": "execute_result"
    }
   ],
   "source": [
    "# Test\n",
    "y_pred = svr_model.predict(X_test)\n",
    "np.sqrt(mean_squared_error(y_test,y_pred))"
   ]
  },
  {
   "cell_type": "markdown",
   "metadata": {},
   "source": [
    "### Tuning"
   ]
  },
  {
   "cell_type": "code",
   "execution_count": 50,
   "metadata": {},
   "outputs": [
    {
     "data": {
      "text/plain": [
       "SVR(C=1.0, cache_size=200, coef0=0.0, degree=3, epsilon=0.1,\n",
       "    gamma='auto_deprecated', kernel='linear', max_iter=-1, shrinking=True,\n",
       "    tol=0.001, verbose=False)"
      ]
     },
     "execution_count": 50,
     "metadata": {},
     "output_type": "execute_result"
    }
   ],
   "source": [
    "svr_model = SVR(\"linear\")\n",
    "svr_model"
   ]
  },
  {
   "cell_type": "code",
   "execution_count": 51,
   "metadata": {},
   "outputs": [],
   "source": [
    "svr_params = {\"C\": [0.1,0.5,1,3]}\n",
    "svr_cv_model=GridSearchCV(svr_model,svr_params,cv=5).fit(X_train,y_train)"
   ]
  },
  {
   "cell_type": "code",
   "execution_count": 54,
   "metadata": {},
   "outputs": [
    {
     "data": {
      "text/plain": [
       "{'C': 0.5}"
      ]
     },
     "execution_count": 54,
     "metadata": {},
     "output_type": "execute_result"
    }
   ],
   "source": [
    "svr_cv_model.best_params_"
   ]
  },
  {
   "cell_type": "code",
   "execution_count": 55,
   "metadata": {},
   "outputs": [],
   "source": [
    "svr_tuned = SVR(\"linear\",C=0.5).fit(X_train,y_train)"
   ]
  },
  {
   "cell_type": "code",
   "execution_count": 56,
   "metadata": {},
   "outputs": [],
   "source": [
    "y_pred = svr_tuned.predict(X_test)"
   ]
  },
  {
   "cell_type": "code",
   "execution_count": 58,
   "metadata": {},
   "outputs": [
    {
     "data": {
      "text/plain": [
       "367.9874739022889"
      ]
     },
     "execution_count": 58,
     "metadata": {},
     "output_type": "execute_result"
    }
   ],
   "source": [
    "np.sqrt(mean_squared_error(y_test,y_pred))"
   ]
  },
  {
   "cell_type": "markdown",
   "metadata": {},
   "source": [
    "## Yapay Sinir Ağları"
   ]
  },
  {
   "cell_type": "code",
   "execution_count": 2,
   "metadata": {},
   "outputs": [],
   "source": [
    "df = pd.read_csv(\"Hitters.csv\")\n",
    "df = df.dropna()\n",
    "dms = pd.get_dummies(df[[\"League\",\"Division\",\"NewLeague\"]])\n",
    "y=df[\"Salary\"]\n",
    "X_ = df.drop([\"Salary\",\"League\",\"Division\",\"NewLeague\"],axis=1).astype(\"float64\")\n",
    "X = pd.concat([X_,dms[[\"League_N\",\"Division_W\",\"NewLeague_N\"]]],axis=1)\n",
    "X_train,X_test,y_train,y_test = train_test_split(X,y,test_size=0.25,random_state=42)"
   ]
  },
  {
   "cell_type": "markdown",
   "metadata": {},
   "source": [
    "### Model ve Tahmin"
   ]
  },
  {
   "cell_type": "code",
   "execution_count": 3,
   "metadata": {},
   "outputs": [],
   "source": [
    "scaler = StandardScaler()"
   ]
  },
  {
   "cell_type": "code",
   "execution_count": 5,
   "metadata": {},
   "outputs": [],
   "source": [
    "scaler.fit(X_train)\n",
    "X_train_scaled = scaler.transform(X_train)"
   ]
  },
  {
   "cell_type": "code",
   "execution_count": 6,
   "metadata": {},
   "outputs": [],
   "source": [
    "X_test_scaled = scaler.transform(X_test)"
   ]
  },
  {
   "cell_type": "code",
   "execution_count": 7,
   "metadata": {},
   "outputs": [
    {
     "name": "stderr",
     "output_type": "stream",
     "text": [
      "C:\\Users\\asus\\Anaconda3\\lib\\site-packages\\sklearn\\neural_network\\multilayer_perceptron.py:566: ConvergenceWarning: Stochastic Optimizer: Maximum iterations (200) reached and the optimization hasn't converged yet.\n",
      "  % self.max_iter, ConvergenceWarning)\n"
     ]
    }
   ],
   "source": [
    "mlp_model = MLPRegressor().fit(X_train_scaled,y_train)"
   ]
  },
  {
   "cell_type": "code",
   "execution_count": 8,
   "metadata": {},
   "outputs": [
    {
     "data": {
      "text/plain": [
       "MLPRegressor(activation='relu', alpha=0.0001, batch_size='auto', beta_1=0.9,\n",
       "             beta_2=0.999, early_stopping=False, epsilon=1e-08,\n",
       "             hidden_layer_sizes=(100,), learning_rate='constant',\n",
       "             learning_rate_init=0.001, max_iter=200, momentum=0.9,\n",
       "             n_iter_no_change=10, nesterovs_momentum=True, power_t=0.5,\n",
       "             random_state=None, shuffle=True, solver='adam', tol=0.0001,\n",
       "             validation_fraction=0.1, verbose=False, warm_start=False)"
      ]
     },
     "execution_count": 8,
     "metadata": {},
     "output_type": "execute_result"
    }
   ],
   "source": [
    "mlp_model"
   ]
  },
  {
   "cell_type": "code",
   "execution_count": 9,
   "metadata": {},
   "outputs": [
    {
     "data": {
      "text/plain": [
       "array([22.24909192, 36.94824143, 70.53938981, 14.45552391, 23.91522794])"
      ]
     },
     "execution_count": 9,
     "metadata": {},
     "output_type": "execute_result"
    }
   ],
   "source": [
    "mlp_model.predict(X_test_scaled)[0:5]"
   ]
  },
  {
   "cell_type": "code",
   "execution_count": 12,
   "metadata": {},
   "outputs": [],
   "source": [
    "y_pred = mlp_model.predict(X_test_scaled)"
   ]
  },
  {
   "cell_type": "code",
   "execution_count": 13,
   "metadata": {},
   "outputs": [
    {
     "data": {
      "text/plain": [
       "659.2922251854561"
      ]
     },
     "execution_count": 13,
     "metadata": {},
     "output_type": "execute_result"
    }
   ],
   "source": [
    "np.sqrt(mean_squared_error(y_test,y_pred))"
   ]
  },
  {
   "cell_type": "markdown",
   "metadata": {},
   "source": [
    "### Model Tuning"
   ]
  },
  {
   "cell_type": "code",
   "execution_count": 21,
   "metadata": {},
   "outputs": [],
   "source": [
    "mlp_params = {\"alpha\" : [0.1,0.01,0.02,0.001,0.0001],\n",
    "             \"hidden_layer_sizes\": [(10,20),(5,5),(100,100)]}"
   ]
  },
  {
   "cell_type": "code",
   "execution_count": 22,
   "metadata": {},
   "outputs": [
    {
     "name": "stdout",
     "output_type": "stream",
     "text": [
      "Fitting 5 folds for each of 15 candidates, totalling 75 fits\n"
     ]
    },
    {
     "name": "stderr",
     "output_type": "stream",
     "text": [
      "[Parallel(n_jobs=-1)]: Using backend LokyBackend with 8 concurrent workers.\n",
      "[Parallel(n_jobs=-1)]: Done  25 tasks      | elapsed:    5.4s\n",
      "[Parallel(n_jobs=-1)]: Done  75 out of  75 | elapsed:    7.5s finished\n",
      "C:\\Users\\asus\\Anaconda3\\lib\\site-packages\\sklearn\\model_selection\\_search.py:814: DeprecationWarning: The default of the `iid` parameter will change from True to False in version 0.22 and will be removed in 0.24. This will change numeric results when test-set sizes are unequal.\n",
      "  DeprecationWarning)\n",
      "C:\\Users\\asus\\Anaconda3\\lib\\site-packages\\sklearn\\neural_network\\multilayer_perceptron.py:566: ConvergenceWarning: Stochastic Optimizer: Maximum iterations (200) reached and the optimization hasn't converged yet.\n",
      "  % self.max_iter, ConvergenceWarning)\n"
     ]
    }
   ],
   "source": [
    "mlp_cv_model = GridSearchCV(mlp_model,mlp_params,cv=5,verbose = 2,n_jobs =-1).fit(X_train,y_train)"
   ]
  },
  {
   "cell_type": "code",
   "execution_count": 23,
   "metadata": {},
   "outputs": [
    {
     "data": {
      "text/plain": [
       "{'alpha': 0.1, 'hidden_layer_sizes': (100, 100)}"
      ]
     },
     "execution_count": 23,
     "metadata": {},
     "output_type": "execute_result"
    }
   ],
   "source": [
    "mlp_cv_model.best_params_"
   ]
  },
  {
   "cell_type": "code",
   "execution_count": 31,
   "metadata": {},
   "outputs": [
    {
     "name": "stderr",
     "output_type": "stream",
     "text": [
      "C:\\Users\\asus\\Anaconda3\\lib\\site-packages\\sklearn\\neural_network\\multilayer_perceptron.py:566: ConvergenceWarning: Stochastic Optimizer: Maximum iterations (200) reached and the optimization hasn't converged yet.\n",
      "  % self.max_iter, ConvergenceWarning)\n"
     ]
    }
   ],
   "source": [
    "mlp_tuned = MLPRegressor(alpha=0.02,hidden_layer_sizes=(100,100)).fit(X_train_scaled,y_train)"
   ]
  },
  {
   "cell_type": "code",
   "execution_count": 32,
   "metadata": {},
   "outputs": [],
   "source": [
    "y_pred=mlp_tuned.predict(X_test_scaled)"
   ]
  },
  {
   "cell_type": "code",
   "execution_count": 33,
   "metadata": {},
   "outputs": [
    {
     "data": {
      "text/plain": [
       "369.83172062425365"
      ]
     },
     "execution_count": 33,
     "metadata": {},
     "output_type": "execute_result"
    }
   ],
   "source": [
    "np.sqrt(mean_squared_error(y_test,y_pred))"
   ]
  },
  {
   "cell_type": "markdown",
   "metadata": {},
   "source": [
    "## CART"
   ]
  },
  {
   "cell_type": "code",
   "execution_count": 34,
   "metadata": {},
   "outputs": [],
   "source": [
    "df = pd.read_csv(\"Hitters.csv\")\n",
    "df = df.dropna()\n",
    "dms = pd.get_dummies(df[[\"League\",\"Division\",\"NewLeague\"]])\n",
    "y=df[\"Salary\"]\n",
    "X_ = df.drop([\"Salary\",\"League\",\"Division\",\"NewLeague\"],axis=1).astype(\"float64\")\n",
    "X = pd.concat([X_,dms[[\"League_N\",\"Division_W\",\"NewLeague_N\"]]],axis=1)\n",
    "X_train,X_test,y_train,y_test = train_test_split(X,y,test_size=0.25,random_state=42)"
   ]
  },
  {
   "cell_type": "code",
   "execution_count": 38,
   "metadata": {},
   "outputs": [],
   "source": [
    "X_train = pd.DataFrame(X_train[\"Hits\"])\n",
    "X_test = pd.DataFrame(X_test[\"Hits\"])"
   ]
  },
  {
   "cell_type": "code",
   "execution_count": 41,
   "metadata": {},
   "outputs": [],
   "source": [
    "# Model ve Tahmin\n",
    "cart_model = DecisionTreeRegressor(max_leaf_nodes = 3)"
   ]
  },
  {
   "cell_type": "code",
   "execution_count": 42,
   "metadata": {},
   "outputs": [
    {
     "data": {
      "text/plain": [
       "DecisionTreeRegressor(criterion='mse', max_depth=None, max_features=None,\n",
       "                      max_leaf_nodes=3, min_impurity_decrease=0.0,\n",
       "                      min_impurity_split=None, min_samples_leaf=1,\n",
       "                      min_samples_split=2, min_weight_fraction_leaf=0.0,\n",
       "                      presort=False, random_state=None, splitter='best')"
      ]
     },
     "execution_count": 42,
     "metadata": {},
     "output_type": "execute_result"
    }
   ],
   "source": [
    "cart_model.fit(X_train,y_train)"
   ]
  },
  {
   "cell_type": "code",
   "execution_count": 43,
   "metadata": {},
   "outputs": [
    {
     "data": {
      "text/plain": [
       "array([813.0988    , 813.0988    , 813.0988    , 345.20115517,\n",
       "       345.20115517])"
      ]
     },
     "execution_count": 43,
     "metadata": {},
     "output_type": "execute_result"
    }
   ],
   "source": [
    "# Tek DEğişkenli Tahmin\n",
    "cart_model.predict(X_test)[0:5]"
   ]
  },
  {
   "cell_type": "code",
   "execution_count": 44,
   "metadata": {},
   "outputs": [],
   "source": [
    "y_pred = cart_model.predict(X_test)"
   ]
  },
  {
   "cell_type": "code",
   "execution_count": 45,
   "metadata": {},
   "outputs": [
    {
     "data": {
      "text/plain": [
       "460.0663148428844"
      ]
     },
     "execution_count": 45,
     "metadata": {},
     "output_type": "execute_result"
    }
   ],
   "source": [
    "np.sqrt(mean_squared_error(y_test,y_pred))"
   ]
  },
  {
   "cell_type": "code",
   "execution_count": 52,
   "metadata": {},
   "outputs": [],
   "source": [
    "# Tüm değişkenlerle\n",
    "df = pd.read_csv(\"Hitters.csv\")\n",
    "df = df.dropna()\n",
    "dms = pd.get_dummies(df[[\"League\",\"Division\",\"NewLeague\"]])\n",
    "y=df[\"Salary\"]\n",
    "X_ = df.drop([\"Salary\",\"League\",\"Division\",\"NewLeague\"],axis=1).astype(\"float64\")\n",
    "X = pd.concat([X_,dms[[\"League_N\",\"Division_W\",\"NewLeague_N\"]]],axis=1)\n",
    "X_train,X_test,y_train,y_test = train_test_split(X,y,test_size=0.25,random_state=42)"
   ]
  },
  {
   "cell_type": "code",
   "execution_count": 47,
   "metadata": {},
   "outputs": [],
   "source": [
    "cart_model = DecisionTreeRegressor().fit(X_train,y_train)"
   ]
  },
  {
   "cell_type": "code",
   "execution_count": 48,
   "metadata": {},
   "outputs": [],
   "source": [
    "y_pred = cart_model.predict(X_test)"
   ]
  },
  {
   "cell_type": "code",
   "execution_count": 49,
   "metadata": {},
   "outputs": [
    {
     "data": {
      "text/plain": [
       "452.5931097792827"
      ]
     },
     "execution_count": 49,
     "metadata": {},
     "output_type": "execute_result"
    }
   ],
   "source": [
    "np.sqrt(mean_squared_error(y_test,y_pred))"
   ]
  },
  {
   "cell_type": "markdown",
   "metadata": {},
   "source": [
    "### Model Tuning"
   ]
  },
  {
   "cell_type": "code",
   "execution_count": 50,
   "metadata": {},
   "outputs": [
    {
     "data": {
      "text/plain": [
       "DecisionTreeRegressor(criterion='mse', max_depth=None, max_features=None,\n",
       "                      max_leaf_nodes=None, min_impurity_decrease=0.0,\n",
       "                      min_impurity_split=None, min_samples_leaf=1,\n",
       "                      min_samples_split=2, min_weight_fraction_leaf=0.0,\n",
       "                      presort=False, random_state=None, splitter='best')"
      ]
     },
     "execution_count": 50,
     "metadata": {},
     "output_type": "execute_result"
    }
   ],
   "source": [
    "cart_model"
   ]
  },
  {
   "cell_type": "code",
   "execution_count": 54,
   "metadata": {},
   "outputs": [
    {
     "data": {
      "text/plain": [
       "391.5530522634766"
      ]
     },
     "execution_count": 54,
     "metadata": {},
     "output_type": "execute_result"
    }
   ],
   "source": [
    "cart_model = DecisionTreeRegressor(max_depth=3).fit(X_train,y_train)\n",
    "y_pred = cart_model.predict(X_test)\n",
    "np.sqrt(mean_squared_error(y_test,y_pred))"
   ]
  },
  {
   "cell_type": "code",
   "execution_count": 55,
   "metadata": {},
   "outputs": [],
   "source": [
    "cart_params = {\"max_depth\":[1,3,4,5,10,20],\"min_samples_split\":[2,10,5,30,50,100]}"
   ]
  },
  {
   "cell_type": "code",
   "execution_count": 56,
   "metadata": {},
   "outputs": [
    {
     "name": "stderr",
     "output_type": "stream",
     "text": [
      "C:\\Users\\asus\\Anaconda3\\lib\\site-packages\\sklearn\\model_selection\\_search.py:814: DeprecationWarning: The default of the `iid` parameter will change from True to False in version 0.22 and will be removed in 0.24. This will change numeric results when test-set sizes are unequal.\n",
      "  DeprecationWarning)\n"
     ]
    }
   ],
   "source": [
    "cart_cv_model = GridSearchCV(cart_model,cart_params,cv=10).fit(X_train,y_train)"
   ]
  },
  {
   "cell_type": "code",
   "execution_count": 57,
   "metadata": {},
   "outputs": [
    {
     "data": {
      "text/plain": [
       "{'max_depth': 4, 'min_samples_split': 50}"
      ]
     },
     "execution_count": 57,
     "metadata": {},
     "output_type": "execute_result"
    }
   ],
   "source": [
    "cart_cv_model.best_params_"
   ]
  },
  {
   "cell_type": "code",
   "execution_count": 58,
   "metadata": {},
   "outputs": [],
   "source": [
    "cart_tuned = DecisionTreeRegressor(max_depth=4,min_samples_split=50).fit(X_train,y_train)"
   ]
  },
  {
   "cell_type": "code",
   "execution_count": 59,
   "metadata": {},
   "outputs": [
    {
     "data": {
      "text/plain": [
       "361.0876906511435"
      ]
     },
     "execution_count": 59,
     "metadata": {},
     "output_type": "execute_result"
    }
   ],
   "source": [
    "y_pred = cart_tuned.predict(X_test)\n",
    "np.sqrt(mean_squared_error(y_test,y_pred))"
   ]
  },
  {
   "cell_type": "markdown",
   "metadata": {},
   "source": [
    "## Random Forest"
   ]
  },
  {
   "cell_type": "code",
   "execution_count": 3,
   "metadata": {},
   "outputs": [],
   "source": [
    "df = pd.read_csv(\"Hitters.csv\")\n",
    "df = df.dropna()\n",
    "dms = pd.get_dummies(df[[\"League\",\"Division\",\"NewLeague\"]])\n",
    "y=df[\"Salary\"]\n",
    "X_ = df.drop([\"Salary\",\"League\",\"Division\",\"NewLeague\"],axis=1).astype(\"float64\")\n",
    "X = pd.concat([X_,dms[[\"League_N\",\"Division_W\",\"NewLeague_N\"]]],axis=1)\n",
    "X_train,X_test,y_train,y_test = train_test_split(X,y,test_size=0.25,random_state=42)"
   ]
  },
  {
   "cell_type": "markdown",
   "metadata": {},
   "source": [
    "### Model & Tahmin"
   ]
  },
  {
   "cell_type": "code",
   "execution_count": 5,
   "metadata": {},
   "outputs": [],
   "source": [
    "rf_model = RandomForestRegressor(random_state=42).fit(X_train,y_train)"
   ]
  },
  {
   "cell_type": "code",
   "execution_count": 6,
   "metadata": {},
   "outputs": [
    {
     "data": {
      "text/plain": [
       "RandomForestRegressor(bootstrap=True, criterion='mse', max_depth=None,\n",
       "                      max_features='auto', max_leaf_nodes=None,\n",
       "                      min_impurity_decrease=0.0, min_impurity_split=None,\n",
       "                      min_samples_leaf=1, min_samples_split=2,\n",
       "                      min_weight_fraction_leaf=0.0, n_estimators=10,\n",
       "                      n_jobs=None, oob_score=False, random_state=42, verbose=0,\n",
       "                      warm_start=False)"
      ]
     },
     "execution_count": 6,
     "metadata": {},
     "output_type": "execute_result"
    }
   ],
   "source": [
    "rf_model"
   ]
  },
  {
   "cell_type": "code",
   "execution_count": 7,
   "metadata": {},
   "outputs": [],
   "source": [
    "y_pred = rf_model.predict(X_test)"
   ]
  },
  {
   "cell_type": "code",
   "execution_count": 8,
   "metadata": {},
   "outputs": [
    {
     "data": {
      "text/plain": [
       "373.04044281427"
      ]
     },
     "execution_count": 8,
     "metadata": {},
     "output_type": "execute_result"
    }
   ],
   "source": [
    "np.sqrt(mean_squared_error(y_test,y_pred))"
   ]
  },
  {
   "cell_type": "markdown",
   "metadata": {},
   "source": [
    "### Model Tuning"
   ]
  },
  {
   "cell_type": "code",
   "execution_count": 11,
   "metadata": {},
   "outputs": [],
   "source": [
    "rf_params = {\"max_depth\": [5,8],\n",
    "            \"max_features\": [2,5],\n",
    "            \"n_estimators\":[200,500,1000],\n",
    "            \"min_samples_split\":[2,10,80]}"
   ]
  },
  {
   "cell_type": "code",
   "execution_count": 12,
   "metadata": {},
   "outputs": [
    {
     "name": "stdout",
     "output_type": "stream",
     "text": [
      "Fitting 10 folds for each of 36 candidates, totalling 360 fits\n"
     ]
    },
    {
     "name": "stderr",
     "output_type": "stream",
     "text": [
      "[Parallel(n_jobs=-1)]: Using backend LokyBackend with 8 concurrent workers.\n",
      "[Parallel(n_jobs=-1)]: Done  25 tasks      | elapsed:    7.5s\n",
      "[Parallel(n_jobs=-1)]: Done 146 tasks      | elapsed:   20.9s\n",
      "[Parallel(n_jobs=-1)]: Done 360 out of 360 | elapsed:   45.8s finished\n"
     ]
    }
   ],
   "source": [
    "rf_cv_model = GridSearchCV(rf_model,rf_params,cv=10,n_jobs=-1,verbose=2).fit(X_train,y_train)"
   ]
  },
  {
   "cell_type": "code",
   "execution_count": 13,
   "metadata": {},
   "outputs": [
    {
     "data": {
      "text/plain": [
       "{'max_depth': 8,\n",
       " 'max_features': 2,\n",
       " 'min_samples_split': 2,\n",
       " 'n_estimators': 200}"
      ]
     },
     "execution_count": 13,
     "metadata": {},
     "output_type": "execute_result"
    }
   ],
   "source": [
    "rf_cv_model.best_params_"
   ]
  },
  {
   "cell_type": "code",
   "execution_count": 14,
   "metadata": {},
   "outputs": [],
   "source": [
    "rf_model = RandomForestRegressor(random_state=42,\n",
    "                                max_depth=8,\n",
    "                                max_features=2,\n",
    "                                min_samples_split=2,\n",
    "                                n_estimators=200)\n",
    "rf_tuned=rf_model.fit(X_train,y_train)"
   ]
  },
  {
   "cell_type": "code",
   "execution_count": 15,
   "metadata": {},
   "outputs": [],
   "source": [
    "y_pred = rf_tuned.predict(X_test)"
   ]
  },
  {
   "cell_type": "code",
   "execution_count": 16,
   "metadata": {},
   "outputs": [
    {
     "data": {
      "text/plain": [
       "348.2372919119422"
      ]
     },
     "execution_count": 16,
     "metadata": {},
     "output_type": "execute_result"
    }
   ],
   "source": [
    "np.sqrt(mean_squared_error(y_test,y_pred))"
   ]
  },
  {
   "cell_type": "markdown",
   "metadata": {},
   "source": [
    "#### Değişken Önem Düzeyi"
   ]
  },
  {
   "cell_type": "code",
   "execution_count": 20,
   "metadata": {},
   "outputs": [
    {
     "data": {
      "image/png": "[encoded data removed]",
      "text/plain": [
       "<Figure size 432x288 with 1 Axes>"
      ]
     },
     "metadata": {
      "needs_background": "light"
     },
     "output_type": "display_data"
    }
   ],
   "source": [
    "Importance = pd.DataFrame({'Importance':rf_tuned.feature_importances_*100},\n",
    "                         index=X_train.columns)\n",
    "\n",
    "Importance.sort_values(by='Importance',\n",
    "                      axis=0,\n",
    "                      ascending = True).plot(kind = 'barh',\n",
    "                                           color = 'b',)\n",
    "\n",
    "plt.xlabel('Variable Importance')\n",
    "plt.gca().legend_=None"
   ]
  },
  {
   "cell_type": "markdown",
   "metadata": {},
   "source": [
    "## Gradient Boosting Machines"
   ]
  },
  {
   "cell_type": "code",
   "execution_count": 23,
   "metadata": {},
   "outputs": [],
   "source": [
    "df = pd.read_csv(\"Hitters.csv\")\n",
    "df = df.dropna()\n",
    "dms = pd.get_dummies(df[[\"League\",\"Division\",\"NewLeague\"]])\n",
    "y=df[\"Salary\"]\n",
    "X_ = df.drop([\"Salary\",\"League\",\"Division\",\"NewLeague\"],axis=1).astype(\"float64\")\n",
    "X = pd.concat([X_,dms[[\"League_N\",\"Division_W\",\"NewLeague_N\"]]],axis=1)\n",
    "X_train,X_test,y_train,y_test = train_test_split(X,y,test_size=0.25,random_state=42)"
   ]
  },
  {
   "cell_type": "markdown",
   "metadata": {},
   "source": [
    "### Model & Tahmin"
   ]
  },
  {
   "cell_type": "code",
   "execution_count": 24,
   "metadata": {},
   "outputs": [],
   "source": [
    "gbm_model = GradientBoostingRegressor().fit(X_train,y_train)"
   ]
  },
  {
   "cell_type": "code",
   "execution_count": 25,
   "metadata": {},
   "outputs": [
    {
     "data": {
      "text/plain": [
       "GradientBoostingRegressor(alpha=0.9, criterion='friedman_mse', init=None,\n",
       "                          learning_rate=0.1, loss='ls', max_depth=3,\n",
       "                          max_features=None, max_leaf_nodes=None,\n",
       "                          min_impurity_decrease=0.0, min_impurity_split=None,\n",
       "                          min_samples_leaf=1, min_samples_split=2,\n",
       "                          min_weight_fraction_leaf=0.0, n_estimators=100,\n",
       "                          n_iter_no_change=None, presort='auto',\n",
       "                          random_state=None, subsample=1.0, tol=0.0001,\n",
       "                          validation_fraction=0.1, verbose=0, warm_start=False)"
      ]
     },
     "execution_count": 25,
     "metadata": {},
     "output_type": "execute_result"
    }
   ],
   "source": [
    "gbm_model"
   ]
  },
  {
   "cell_type": "code",
   "execution_count": 26,
   "metadata": {},
   "outputs": [],
   "source": [
    "y_pred = gbm_model.predict(X_test)"
   ]
  },
  {
   "cell_type": "code",
   "execution_count": 27,
   "metadata": {},
   "outputs": [
    {
     "data": {
      "text/plain": [
       "347.08656976717464"
      ]
     },
     "execution_count": 27,
     "metadata": {},
     "output_type": "execute_result"
    }
   ],
   "source": [
    "np.sqrt(mean_squared_error(y_test,y_pred))"
   ]
  },
  {
   "cell_type": "markdown",
   "metadata": {},
   "source": [
    "### Model Tuning"
   ]
  },
  {
   "cell_type": "code",
   "execution_count": 34,
   "metadata": {},
   "outputs": [],
   "source": [
    "gbm_params = {\"learning_rate\":[0.1,0.01],\n",
    "             \"max_depth\":[3,5],\n",
    "             \"n_estimators\":[200,500],\n",
    "             \"subsample\":[1,0.5,0.8]}"
   ]
  },
  {
   "cell_type": "code",
   "execution_count": 35,
   "metadata": {},
   "outputs": [],
   "source": [
    "gbm_model = GradientBoostingRegressor().fit(X_train,y_train)"
   ]
  },
  {
   "cell_type": "code",
   "execution_count": 36,
   "metadata": {
    "collapsed": true,
    "jupyter": {
     "outputs_hidden": true
    }
   },
   "outputs": [
    {
     "name": "stdout",
     "output_type": "stream",
     "text": [
      "Fitting 10 folds for each of 24 candidates, totalling 240 fits\n",
      "[CV] learning_rate=0.1, max_depth=3, n_estimators=200, subsample=1 ...\n",
      "[CV]  learning_rate=0.1, max_depth=3, n_estimators=200, subsample=1, total=   0.2s\n",
      "[CV] learning_rate=0.1, max_depth=3, n_estimators=200, subsample=1 ...\n"
     ]
    },
    {
     "name": "stderr",
     "output_type": "stream",
     "text": [
      "[Parallel(n_jobs=1)]: Using backend SequentialBackend with 1 concurrent workers.\n",
      "[Parallel(n_jobs=1)]: Done   1 out of   1 | elapsed:    0.1s remaining:    0.0s\n"
     ]
    },
    {
     "name": "stdout",
     "output_type": "stream",
     "text": [
      "[CV]  learning_rate=0.1, max_depth=3, n_estimators=200, subsample=1, total=   0.1s\n",
      "[CV] learning_rate=0.1, max_depth=3, n_estimators=200, subsample=1 ...\n",
      "[CV]  learning_rate=0.1, max_depth=3, n_estimators=200, subsample=1, total=   0.1s\n",
      "[CV] learning_rate=0.1, max_depth=3, n_estimators=200, subsample=1 ...\n",
      "[CV]  learning_rate=0.1, max_depth=3, n_estimators=200, subsample=1, total=   0.1s\n",
      "[CV] learning_rate=0.1, max_depth=3, n_estimators=200, subsample=1 ...\n",
      "[CV]  learning_rate=0.1, max_depth=3, n_estimators=200, subsample=1, total=   0.1s\n",
      "[CV] learning_rate=0.1, max_depth=3, n_estimators=200, subsample=1 ...\n",
      "[CV]  learning_rate=0.1, max_depth=3, n_estimators=200, subsample=1, total=   0.1s\n",
      "[CV] learning_rate=0.1, max_depth=3, n_estimators=200, subsample=1 ...\n",
      "[CV]  learning_rate=0.1, max_depth=3, n_estimators=200, subsample=1, total=   0.1s\n",
      "[CV] learning_rate=0.1, max_depth=3, n_estimators=200, subsample=1 ...\n",
      "[CV]  learning_rate=0.1, max_depth=3, n_estimators=200, subsample=1, total=   0.1s\n",
      "[CV] learning_rate=0.1, max_depth=3, n_estimators=200, subsample=1 ...\n",
      "[CV]  learning_rate=0.1, max_depth=3, n_estimators=200, subsample=1, total=   0.1s\n",
      "[CV] learning_rate=0.1, max_depth=3, n_estimators=200, subsample=1 ...\n",
      "[CV]  learning_rate=0.1, max_depth=3, n_estimators=200, subsample=1, total=   0.1s\n",
      "[CV] learning_rate=0.1, max_depth=3, n_estimators=200, subsample=0.5 .\n",
      "[CV]  learning_rate=0.1, max_depth=3, n_estimators=200, subsample=0.5, total=   0.1s\n",
      "[CV] learning_rate=0.1, max_depth=3, n_estimators=200, subsample=0.5 .\n",
      "[CV]  learning_rate=0.1, max_depth=3, n_estimators=200, subsample=0.5, total=   0.2s\n",
      "[CV] learning_rate=0.1, max_depth=3, n_estimators=200, subsample=0.5 .\n",
      "[CV]  learning_rate=0.1, max_depth=3, n_estimators=200, subsample=0.5, total=   0.1s\n",
      "[CV] learning_rate=0.1, max_depth=3, n_estimators=200, subsample=0.5 .\n",
      "[CV]  learning_rate=0.1, max_depth=3, n_estimators=200, subsample=0.5, total=   0.1s\n",
      "[CV] learning_rate=0.1, max_depth=3, n_estimators=200, subsample=0.5 .\n",
      "[CV]  learning_rate=0.1, max_depth=3, n_estimators=200, subsample=0.5, total=   0.1s\n",
      "[CV] learning_rate=0.1, max_depth=3, n_estimators=200, subsample=0.5 .\n",
      "[CV]  learning_rate=0.1, max_depth=3, n_estimators=200, subsample=0.5, total=   0.1s\n",
      "[CV] learning_rate=0.1, max_depth=3, n_estimators=200, subsample=0.5 .\n",
      "[CV]  learning_rate=0.1, max_depth=3, n_estimators=200, subsample=0.5, total=   0.1s\n",
      "[CV] learning_rate=0.1, max_depth=3, n_estimators=200, subsample=0.5 .\n",
      "[CV]  learning_rate=0.1, max_depth=3, n_estimators=200, subsample=0.5, total=   0.2s\n",
      "[CV] learning_rate=0.1, max_depth=3, n_estimators=200, subsample=0.5 .\n",
      "[CV]  learning_rate=0.1, max_depth=3, n_estimators=200, subsample=0.5, total=   0.1s\n",
      "[CV] learning_rate=0.1, max_depth=3, n_estimators=200, subsample=0.5 .\n",
      "[CV]  learning_rate=0.1, max_depth=3, n_estimators=200, subsample=0.5, total=   0.1s\n",
      "[CV] learning_rate=0.1, max_depth=3, n_estimators=200, subsample=0.8 .\n",
      "[CV]  learning_rate=0.1, max_depth=3, n_estimators=200, subsample=0.8, total=   0.2s\n",
      "[CV] learning_rate=0.1, max_depth=3, n_estimators=200, subsample=0.8 .\n",
      "[CV]  learning_rate=0.1, max_depth=3, n_estimators=200, subsample=0.8, total=   0.2s\n",
      "[CV] learning_rate=0.1, max_depth=3, n_estimators=200, subsample=0.8 .\n",
      "[CV]  learning_rate=0.1, max_depth=3, n_estimators=200, subsample=0.8, total=   0.2s\n",
      "[CV] learning_rate=0.1, max_depth=3, n_estimators=200, subsample=0.8 .\n",
      "[CV]  learning_rate=0.1, max_depth=3, n_estimators=200, subsample=0.8, total=   0.2s\n",
      "[CV] learning_rate=0.1, max_depth=3, n_estimators=200, subsample=0.8 .\n",
      "[CV]  learning_rate=0.1, max_depth=3, n_estimators=200, subsample=0.8, total=   0.2s\n",
      "[CV] learning_rate=0.1, max_depth=3, n_estimators=200, subsample=0.8 .\n",
      "[CV]  learning_rate=0.1, max_depth=3, n_estimators=200, subsample=0.8, total=   0.2s\n",
      "[CV] learning_rate=0.1, max_depth=3, n_estimators=200, subsample=0.8 .\n",
      "[CV]  learning_rate=0.1, max_depth=3, n_estimators=200, subsample=0.8, total=   0.2s\n",
      "[CV] learning_rate=0.1, max_depth=3, n_estimators=200, subsample=0.8 .\n",
      "[CV]  learning_rate=0.1, max_depth=3, n_estimators=200, subsample=0.8, total=   0.2s\n",
      "[CV] learning_rate=0.1, max_depth=3, n_estimators=200, subsample=0.8 .\n",
      "[CV]  learning_rate=0.1, max_depth=3, n_estimators=200, subsample=0.8, total=   0.2s\n",
      "[CV] learning_rate=0.1, max_depth=3, n_estimators=200, subsample=0.8 .\n",
      "[CV]  learning_rate=0.1, max_depth=3, n_estimators=200, subsample=0.8, total=   0.2s\n",
      "[CV] learning_rate=0.1, max_depth=3, n_estimators=500, subsample=1 ...\n",
      "[CV]  learning_rate=0.1, max_depth=3, n_estimators=500, subsample=1, total=   0.3s\n",
      "[CV] learning_rate=0.1, max_depth=3, n_estimators=500, subsample=1 ...\n",
      "[CV]  learning_rate=0.1, max_depth=3, n_estimators=500, subsample=1, total=   0.3s\n",
      "[CV] learning_rate=0.1, max_depth=3, n_estimators=500, subsample=1 ...\n",
      "[CV]  learning_rate=0.1, max_depth=3, n_estimators=500, subsample=1, total=   0.3s\n",
      "[CV] learning_rate=0.1, max_depth=3, n_estimators=500, subsample=1 ...\n",
      "[CV]  learning_rate=0.1, max_depth=3, n_estimators=500, subsample=1, total=   0.3s\n",
      "[CV] learning_rate=0.1, max_depth=3, n_estimators=500, subsample=1 ...\n",
      "[CV]  learning_rate=0.1, max_depth=3, n_estimators=500, subsample=1, total=   0.3s\n",
      "[CV] learning_rate=0.1, max_depth=3, n_estimators=500, subsample=1 ...\n",
      "[CV]  learning_rate=0.1, max_depth=3, n_estimators=500, subsample=1, total=   0.3s\n",
      "[CV] learning_rate=0.1, max_depth=3, n_estimators=500, subsample=1 ...\n",
      "[CV]  learning_rate=0.1, max_depth=3, n_estimators=500, subsample=1, total=   0.3s\n",
      "[CV] learning_rate=0.1, max_depth=3, n_estimators=500, subsample=1 ...\n",
      "[CV]  learning_rate=0.1, max_depth=3, n_estimators=500, subsample=1, total=   0.3s\n",
      "[CV] learning_rate=0.1, max_depth=3, n_estimators=500, subsample=1 ...\n",
      "[CV]  learning_rate=0.1, max_depth=3, n_estimators=500, subsample=1, total=   0.3s\n",
      "[CV] learning_rate=0.1, max_depth=3, n_estimators=500, subsample=1 ...\n",
      "[CV]  learning_rate=0.1, max_depth=3, n_estimators=500, subsample=1, total=   0.3s\n",
      "[CV] learning_rate=0.1, max_depth=3, n_estimators=500, subsample=0.5 .\n",
      "[CV]  learning_rate=0.1, max_depth=3, n_estimators=500, subsample=0.5, total=   0.3s\n",
      "[CV] learning_rate=0.1, max_depth=3, n_estimators=500, subsample=0.5 .\n",
      "[CV]  learning_rate=0.1, max_depth=3, n_estimators=500, subsample=0.5, total=   0.3s\n",
      "[CV] learning_rate=0.1, max_depth=3, n_estimators=500, subsample=0.5 .\n",
      "[CV]  learning_rate=0.1, max_depth=3, n_estimators=500, subsample=0.5, total=   0.3s\n",
      "[CV] learning_rate=0.1, max_depth=3, n_estimators=500, subsample=0.5 .\n",
      "[CV]  learning_rate=0.1, max_depth=3, n_estimators=500, subsample=0.5, total=   0.4s\n",
      "[CV] learning_rate=0.1, max_depth=3, n_estimators=500, subsample=0.5 .\n",
      "[CV]  learning_rate=0.1, max_depth=3, n_estimators=500, subsample=0.5, total=   0.3s\n",
      "[CV] learning_rate=0.1, max_depth=3, n_estimators=500, subsample=0.5 .\n",
      "[CV]  learning_rate=0.1, max_depth=3, n_estimators=500, subsample=0.5, total=   0.3s\n",
      "[CV] learning_rate=0.1, max_depth=3, n_estimators=500, subsample=0.5 .\n",
      "[CV]  learning_rate=0.1, max_depth=3, n_estimators=500, subsample=0.5, total=   0.3s\n",
      "[CV] learning_rate=0.1, max_depth=3, n_estimators=500, subsample=0.5 .\n",
      "[CV]  learning_rate=0.1, max_depth=3, n_estimators=500, subsample=0.5, total=   0.4s\n",
      "[CV] learning_rate=0.1, max_depth=3, n_estimators=500, subsample=0.5 .\n",
      "[CV]  learning_rate=0.1, max_depth=3, n_estimators=500, subsample=0.5, total=   0.3s\n",
      "[CV] learning_rate=0.1, max_depth=3, n_estimators=500, subsample=0.5 .\n",
      "[CV]  learning_rate=0.1, max_depth=3, n_estimators=500, subsample=0.5, total=   0.3s\n",
      "[CV] learning_rate=0.1, max_depth=3, n_estimators=500, subsample=0.8 .\n",
      "[CV]  learning_rate=0.1, max_depth=3, n_estimators=500, subsample=0.8, total=   0.4s\n",
      "[CV] learning_rate=0.1, max_depth=3, n_estimators=500, subsample=0.8 .\n",
      "[CV]  learning_rate=0.1, max_depth=3, n_estimators=500, subsample=0.8, total=   0.4s\n",
      "[CV] learning_rate=0.1, max_depth=3, n_estimators=500, subsample=0.8 .\n",
      "[CV]  learning_rate=0.1, max_depth=3, n_estimators=500, subsample=0.8, total=   0.4s\n",
      "[CV] learning_rate=0.1, max_depth=3, n_estimators=500, subsample=0.8 .\n",
      "[CV]  learning_rate=0.1, max_depth=3, n_estimators=500, subsample=0.8, total=   0.4s\n",
      "[CV] learning_rate=0.1, max_depth=3, n_estimators=500, subsample=0.8 .\n",
      "[CV]  learning_rate=0.1, max_depth=3, n_estimators=500, subsample=0.8, total=   0.4s\n",
      "[CV] learning_rate=0.1, max_depth=3, n_estimators=500, subsample=0.8 .\n",
      "[CV]  learning_rate=0.1, max_depth=3, n_estimators=500, subsample=0.8, total=   0.4s\n",
      "[CV] learning_rate=0.1, max_depth=3, n_estimators=500, subsample=0.8 .\n",
      "[CV]  learning_rate=0.1, max_depth=3, n_estimators=500, subsample=0.8, total=   0.4s\n",
      "[CV] learning_rate=0.1, max_depth=3, n_estimators=500, subsample=0.8 .\n",
      "[CV]  learning_rate=0.1, max_depth=3, n_estimators=500, subsample=0.8, total=   0.4s\n",
      "[CV] learning_rate=0.1, max_depth=3, n_estimators=500, subsample=0.8 .\n",
      "[CV]  learning_rate=0.1, max_depth=3, n_estimators=500, subsample=0.8, total=   0.4s\n",
      "[CV] learning_rate=0.1, max_depth=3, n_estimators=500, subsample=0.8 .\n",
      "[CV]  learning_rate=0.1, max_depth=3, n_estimators=500, subsample=0.8, total=   0.4s\n",
      "[CV] learning_rate=0.1, max_depth=5, n_estimators=200, subsample=1 ...\n",
      "[CV]  learning_rate=0.1, max_depth=5, n_estimators=200, subsample=1, total=   0.2s\n",
      "[CV] learning_rate=0.1, max_depth=5, n_estimators=200, subsample=1 ...\n",
      "[CV]  learning_rate=0.1, max_depth=5, n_estimators=200, subsample=1, total=   0.2s\n",
      "[CV] learning_rate=0.1, max_depth=5, n_estimators=200, subsample=1 ...\n",
      "[CV]  learning_rate=0.1, max_depth=5, n_estimators=200, subsample=1, total=   0.2s\n",
      "[CV] learning_rate=0.1, max_depth=5, n_estimators=200, subsample=1 ...\n",
      "[CV]  learning_rate=0.1, max_depth=5, n_estimators=200, subsample=1, total=   0.2s\n",
      "[CV] learning_rate=0.1, max_depth=5, n_estimators=200, subsample=1 ...\n",
      "[CV]  learning_rate=0.1, max_depth=5, n_estimators=200, subsample=1, total=   0.2s\n",
      "[CV] learning_rate=0.1, max_depth=5, n_estimators=200, subsample=1 ...\n",
      "[CV]  learning_rate=0.1, max_depth=5, n_estimators=200, subsample=1, total=   0.2s\n",
      "[CV] learning_rate=0.1, max_depth=5, n_estimators=200, subsample=1 ...\n",
      "[CV]  learning_rate=0.1, max_depth=5, n_estimators=200, subsample=1, total=   0.2s\n",
      "[CV] learning_rate=0.1, max_depth=5, n_estimators=200, subsample=1 ...\n",
      "[CV]  learning_rate=0.1, max_depth=5, n_estimators=200, subsample=1, total=   0.2s\n",
      "[CV] learning_rate=0.1, max_depth=5, n_estimators=200, subsample=1 ...\n",
      "[CV]  learning_rate=0.1, max_depth=5, n_estimators=200, subsample=1, total=   0.2s\n",
      "[CV] learning_rate=0.1, max_depth=5, n_estimators=200, subsample=1 ...\n",
      "[CV]  learning_rate=0.1, max_depth=5, n_estimators=200, subsample=1, total=   0.2s\n",
      "[CV] learning_rate=0.1, max_depth=5, n_estimators=200, subsample=0.5 .\n",
      "[CV]  learning_rate=0.1, max_depth=5, n_estimators=200, subsample=0.5, total=   0.2s\n",
      "[CV] learning_rate=0.1, max_depth=5, n_estimators=200, subsample=0.5 .\n",
      "[CV]  learning_rate=0.1, max_depth=5, n_estimators=200, subsample=0.5, total=   0.2s\n",
      "[CV] learning_rate=0.1, max_depth=5, n_estimators=200, subsample=0.5 .\n",
      "[CV]  learning_rate=0.1, max_depth=5, n_estimators=200, subsample=0.5, total=   0.2s\n",
      "[CV] learning_rate=0.1, max_depth=5, n_estimators=200, subsample=0.5 .\n",
      "[CV]  learning_rate=0.1, max_depth=5, n_estimators=200, subsample=0.5, total=   0.2s\n",
      "[CV] learning_rate=0.1, max_depth=5, n_estimators=200, subsample=0.5 .\n",
      "[CV]  learning_rate=0.1, max_depth=5, n_estimators=200, subsample=0.5, total=   0.2s\n",
      "[CV] learning_rate=0.1, max_depth=5, n_estimators=200, subsample=0.5 .\n",
      "[CV]  learning_rate=0.1, max_depth=5, n_estimators=200, subsample=0.5, total=   0.2s\n",
      "[CV] learning_rate=0.1, max_depth=5, n_estimators=200, subsample=0.5 .\n",
      "[CV]  learning_rate=0.1, max_depth=5, n_estimators=200, subsample=0.5, total=   0.2s\n",
      "[CV] learning_rate=0.1, max_depth=5, n_estimators=200, subsample=0.5 .\n",
      "[CV]  learning_rate=0.1, max_depth=5, n_estimators=200, subsample=0.5, total=   0.2s\n",
      "[CV] learning_rate=0.1, max_depth=5, n_estimators=200, subsample=0.5 .\n",
      "[CV]  learning_rate=0.1, max_depth=5, n_estimators=200, subsample=0.5, total=   0.2s\n",
      "[CV] learning_rate=0.1, max_depth=5, n_estimators=200, subsample=0.5 .\n",
      "[CV]  learning_rate=0.1, max_depth=5, n_estimators=200, subsample=0.5, total=   0.2s\n",
      "[CV] learning_rate=0.1, max_depth=5, n_estimators=200, subsample=0.8 .\n",
      "[CV]  learning_rate=0.1, max_depth=5, n_estimators=200, subsample=0.8, total=   0.2s\n",
      "[CV] learning_rate=0.1, max_depth=5, n_estimators=200, subsample=0.8 .\n",
      "[CV]  learning_rate=0.1, max_depth=5, n_estimators=200, subsample=0.8, total=   0.2s\n",
      "[CV] learning_rate=0.1, max_depth=5, n_estimators=200, subsample=0.8 .\n",
      "[CV]  learning_rate=0.1, max_depth=5, n_estimators=200, subsample=0.8, total=   0.2s\n",
      "[CV] learning_rate=0.1, max_depth=5, n_estimators=200, subsample=0.8 .\n",
      "[CV]  learning_rate=0.1, max_depth=5, n_estimators=200, subsample=0.8, total=   0.2s\n",
      "[CV] learning_rate=0.1, max_depth=5, n_estimators=200, subsample=0.8 .\n",
      "[CV]  learning_rate=0.1, max_depth=5, n_estimators=200, subsample=0.8, total=   0.2s\n",
      "[CV] learning_rate=0.1, max_depth=5, n_estimators=200, subsample=0.8 .\n",
      "[CV]  learning_rate=0.1, max_depth=5, n_estimators=200, subsample=0.8, total=   0.2s\n",
      "[CV] learning_rate=0.1, max_depth=5, n_estimators=200, subsample=0.8 .\n",
      "[CV]  learning_rate=0.1, max_depth=5, n_estimators=200, subsample=0.8, total=   0.2s\n",
      "[CV] learning_rate=0.1, max_depth=5, n_estimators=200, subsample=0.8 .\n",
      "[CV]  learning_rate=0.1, max_depth=5, n_estimators=200, subsample=0.8, total=   0.2s\n",
      "[CV] learning_rate=0.1, max_depth=5, n_estimators=200, subsample=0.8 .\n",
      "[CV]  learning_rate=0.1, max_depth=5, n_estimators=200, subsample=0.8, total=   0.2s\n",
      "[CV] learning_rate=0.1, max_depth=5, n_estimators=200, subsample=0.8 .\n",
      "[CV]  learning_rate=0.1, max_depth=5, n_estimators=200, subsample=0.8, total=   0.2s\n",
      "[CV] learning_rate=0.1, max_depth=5, n_estimators=500, subsample=1 ...\n",
      "[CV]  learning_rate=0.1, max_depth=5, n_estimators=500, subsample=1, total=   0.5s\n",
      "[CV] learning_rate=0.1, max_depth=5, n_estimators=500, subsample=1 ...\n",
      "[CV]  learning_rate=0.1, max_depth=5, n_estimators=500, subsample=1, total=   0.5s\n",
      "[CV] learning_rate=0.1, max_depth=5, n_estimators=500, subsample=1 ...\n",
      "[CV]  learning_rate=0.1, max_depth=5, n_estimators=500, subsample=1, total=   0.4s\n",
      "[CV] learning_rate=0.1, max_depth=5, n_estimators=500, subsample=1 ...\n",
      "[CV]  learning_rate=0.1, max_depth=5, n_estimators=500, subsample=1, total=   0.5s\n",
      "[CV] learning_rate=0.1, max_depth=5, n_estimators=500, subsample=1 ...\n",
      "[CV]  learning_rate=0.1, max_depth=5, n_estimators=500, subsample=1, total=   0.5s\n",
      "[CV] learning_rate=0.1, max_depth=5, n_estimators=500, subsample=1 ...\n",
      "[CV]  learning_rate=0.1, max_depth=5, n_estimators=500, subsample=1, total=   0.5s\n",
      "[CV] learning_rate=0.1, max_depth=5, n_estimators=500, subsample=1 ...\n",
      "[CV]  learning_rate=0.1, max_depth=5, n_estimators=500, subsample=1, total=   0.5s\n",
      "[CV] learning_rate=0.1, max_depth=5, n_estimators=500, subsample=1 ...\n",
      "[CV]  learning_rate=0.1, max_depth=5, n_estimators=500, subsample=1, total=   0.5s\n",
      "[CV] learning_rate=0.1, max_depth=5, n_estimators=500, subsample=1 ...\n",
      "[CV]  learning_rate=0.1, max_depth=5, n_estimators=500, subsample=1, total=   0.5s\n",
      "[CV] learning_rate=0.1, max_depth=5, n_estimators=500, subsample=1 ...\n",
      "[CV]  learning_rate=0.1, max_depth=5, n_estimators=500, subsample=1, total=   0.5s\n",
      "[CV] learning_rate=0.1, max_depth=5, n_estimators=500, subsample=0.5 .\n",
      "[CV]  learning_rate=0.1, max_depth=5, n_estimators=500, subsample=0.5, total=   0.5s\n",
      "[CV] learning_rate=0.1, max_depth=5, n_estimators=500, subsample=0.5 .\n",
      "[CV]  learning_rate=0.1, max_depth=5, n_estimators=500, subsample=0.5, total=   0.4s\n",
      "[CV] learning_rate=0.1, max_depth=5, n_estimators=500, subsample=0.5 .\n",
      "[CV]  learning_rate=0.1, max_depth=5, n_estimators=500, subsample=0.5, total=   0.5s\n",
      "[CV] learning_rate=0.1, max_depth=5, n_estimators=500, subsample=0.5 .\n",
      "[CV]  learning_rate=0.1, max_depth=5, n_estimators=500, subsample=0.5, total=   0.5s\n",
      "[CV] learning_rate=0.1, max_depth=5, n_estimators=500, subsample=0.5 .\n",
      "[CV]  learning_rate=0.1, max_depth=5, n_estimators=500, subsample=0.5, total=   0.5s\n",
      "[CV] learning_rate=0.1, max_depth=5, n_estimators=500, subsample=0.5 .\n",
      "[CV]  learning_rate=0.1, max_depth=5, n_estimators=500, subsample=0.5, total=   0.5s\n",
      "[CV] learning_rate=0.1, max_depth=5, n_estimators=500, subsample=0.5 .\n",
      "[CV]  learning_rate=0.1, max_depth=5, n_estimators=500, subsample=0.5, total=   0.5s\n",
      "[CV] learning_rate=0.1, max_depth=5, n_estimators=500, subsample=0.5 .\n",
      "[CV]  learning_rate=0.1, max_depth=5, n_estimators=500, subsample=0.5, total=   0.5s\n",
      "[CV] learning_rate=0.1, max_depth=5, n_estimators=500, subsample=0.5 .\n",
      "[CV]  learning_rate=0.1, max_depth=5, n_estimators=500, subsample=0.5, total=   0.4s\n",
      "[CV] learning_rate=0.1, max_depth=5, n_estimators=500, subsample=0.5 .\n",
      "[CV]  learning_rate=0.1, max_depth=5, n_estimators=500, subsample=0.5, total=   0.5s\n",
      "[CV] learning_rate=0.1, max_depth=5, n_estimators=500, subsample=0.8 .\n",
      "[CV]  learning_rate=0.1, max_depth=5, n_estimators=500, subsample=0.8, total=   0.5s\n",
      "[CV] learning_rate=0.1, max_depth=5, n_estimators=500, subsample=0.8 .\n",
      "[CV]  learning_rate=0.1, max_depth=5, n_estimators=500, subsample=0.8, total=   0.5s\n",
      "[CV] learning_rate=0.1, max_depth=5, n_estimators=500, subsample=0.8 .\n",
      "[CV]  learning_rate=0.1, max_depth=5, n_estimators=500, subsample=0.8, total=   0.5s\n",
      "[CV] learning_rate=0.1, max_depth=5, n_estimators=500, subsample=0.8 .\n",
      "[CV]  learning_rate=0.1, max_depth=5, n_estimators=500, subsample=0.8, total=   0.5s\n",
      "[CV] learning_rate=0.1, max_depth=5, n_estimators=500, subsample=0.8 .\n",
      "[CV]  learning_rate=0.1, max_depth=5, n_estimators=500, subsample=0.8, total=   0.5s\n",
      "[CV] learning_rate=0.1, max_depth=5, n_estimators=500, subsample=0.8 .\n",
      "[CV]  learning_rate=0.1, max_depth=5, n_estimators=500, subsample=0.8, total=   0.5s\n",
      "[CV] learning_rate=0.1, max_depth=5, n_estimators=500, subsample=0.8 .\n",
      "[CV]  learning_rate=0.1, max_depth=5, n_estimators=500, subsample=0.8, total=   0.5s\n",
      "[CV] learning_rate=0.1, max_depth=5, n_estimators=500, subsample=0.8 .\n",
      "[CV]  learning_rate=0.1, max_depth=5, n_estimators=500, subsample=0.8, total=   0.5s\n",
      "[CV] learning_rate=0.1, max_depth=5, n_estimators=500, subsample=0.8 .\n",
      "[CV]  learning_rate=0.1, max_depth=5, n_estimators=500, subsample=0.8, total=   0.5s\n",
      "[CV] learning_rate=0.1, max_depth=5, n_estimators=500, subsample=0.8 .\n",
      "[CV]  learning_rate=0.1, max_depth=5, n_estimators=500, subsample=0.8, total=   0.5s\n",
      "[CV] learning_rate=0.01, max_depth=3, n_estimators=200, subsample=1 ..\n",
      "[CV]  learning_rate=0.01, max_depth=3, n_estimators=200, subsample=1, total=   0.1s\n",
      "[CV] learning_rate=0.01, max_depth=3, n_estimators=200, subsample=1 ..\n",
      "[CV]  learning_rate=0.01, max_depth=3, n_estimators=200, subsample=1, total=   0.1s\n",
      "[CV] learning_rate=0.01, max_depth=3, n_estimators=200, subsample=1 ..\n",
      "[CV]  learning_rate=0.01, max_depth=3, n_estimators=200, subsample=1, total=   0.1s\n",
      "[CV] learning_rate=0.01, max_depth=3, n_estimators=200, subsample=1 ..\n",
      "[CV]  learning_rate=0.01, max_depth=3, n_estimators=200, subsample=1, total=   0.1s\n",
      "[CV] learning_rate=0.01, max_depth=3, n_estimators=200, subsample=1 ..\n",
      "[CV]  learning_rate=0.01, max_depth=3, n_estimators=200, subsample=1, total=   0.1s\n",
      "[CV] learning_rate=0.01, max_depth=3, n_estimators=200, subsample=1 ..\n",
      "[CV]  learning_rate=0.01, max_depth=3, n_estimators=200, subsample=1, total=   0.1s\n",
      "[CV] learning_rate=0.01, max_depth=3, n_estimators=200, subsample=1 ..\n",
      "[CV]  learning_rate=0.01, max_depth=3, n_estimators=200, subsample=1, total=   0.1s\n",
      "[CV] learning_rate=0.01, max_depth=3, n_estimators=200, subsample=1 ..\n",
      "[CV]  learning_rate=0.01, max_depth=3, n_estimators=200, subsample=1, total=   0.1s\n",
      "[CV] learning_rate=0.01, max_depth=3, n_estimators=200, subsample=1 ..\n",
      "[CV]  learning_rate=0.01, max_depth=3, n_estimators=200, subsample=1, total=   0.1s\n",
      "[CV] learning_rate=0.01, max_depth=3, n_estimators=200, subsample=1 ..\n",
      "[CV]  learning_rate=0.01, max_depth=3, n_estimators=200, subsample=1, total=   0.1s\n",
      "[CV] learning_rate=0.01, max_depth=3, n_estimators=200, subsample=0.5 \n",
      "[CV]  learning_rate=0.01, max_depth=3, n_estimators=200, subsample=0.5, total=   0.1s\n",
      "[CV] learning_rate=0.01, max_depth=3, n_estimators=200, subsample=0.5 \n",
      "[CV]  learning_rate=0.01, max_depth=3, n_estimators=200, subsample=0.5, total=   0.1s\n",
      "[CV] learning_rate=0.01, max_depth=3, n_estimators=200, subsample=0.5 \n",
      "[CV]  learning_rate=0.01, max_depth=3, n_estimators=200, subsample=0.5, total=   0.1s\n",
      "[CV] learning_rate=0.01, max_depth=3, n_estimators=200, subsample=0.5 \n",
      "[CV]  learning_rate=0.01, max_depth=3, n_estimators=200, subsample=0.5, total=   0.2s\n",
      "[CV] learning_rate=0.01, max_depth=3, n_estimators=200, subsample=0.5 \n",
      "[CV]  learning_rate=0.01, max_depth=3, n_estimators=200, subsample=0.5, total=   0.1s\n",
      "[CV] learning_rate=0.01, max_depth=3, n_estimators=200, subsample=0.5 \n",
      "[CV]  learning_rate=0.01, max_depth=3, n_estimators=200, subsample=0.5, total=   0.1s\n",
      "[CV] learning_rate=0.01, max_depth=3, n_estimators=200, subsample=0.5 \n",
      "[CV]  learning_rate=0.01, max_depth=3, n_estimators=200, subsample=0.5, total=   0.1s\n",
      "[CV] learning_rate=0.01, max_depth=3, n_estimators=200, subsample=0.5 \n",
      "[CV]  learning_rate=0.01, max_depth=3, n_estimators=200, subsample=0.5, total=   0.1s\n",
      "[CV] learning_rate=0.01, max_depth=3, n_estimators=200, subsample=0.5 \n",
      "[CV]  learning_rate=0.01, max_depth=3, n_estimators=200, subsample=0.5, total=   0.1s\n",
      "[CV] learning_rate=0.01, max_depth=3, n_estimators=200, subsample=0.5 \n",
      "[CV]  learning_rate=0.01, max_depth=3, n_estimators=200, subsample=0.5, total=   0.1s\n",
      "[CV] learning_rate=0.01, max_depth=3, n_estimators=200, subsample=0.8 \n",
      "[CV]  learning_rate=0.01, max_depth=3, n_estimators=200, subsample=0.8, total=   0.1s\n",
      "[CV] learning_rate=0.01, max_depth=3, n_estimators=200, subsample=0.8 \n",
      "[CV]  learning_rate=0.01, max_depth=3, n_estimators=200, subsample=0.8, total=   0.1s\n",
      "[CV] learning_rate=0.01, max_depth=3, n_estimators=200, subsample=0.8 \n",
      "[CV]  learning_rate=0.01, max_depth=3, n_estimators=200, subsample=0.8, total=   0.2s\n",
      "[CV] learning_rate=0.01, max_depth=3, n_estimators=200, subsample=0.8 \n",
      "[CV]  learning_rate=0.01, max_depth=3, n_estimators=200, subsample=0.8, total=   0.2s\n",
      "[CV] learning_rate=0.01, max_depth=3, n_estimators=200, subsample=0.8 \n",
      "[CV]  learning_rate=0.01, max_depth=3, n_estimators=200, subsample=0.8, total=   0.2s\n",
      "[CV] learning_rate=0.01, max_depth=3, n_estimators=200, subsample=0.8 \n",
      "[CV]  learning_rate=0.01, max_depth=3, n_estimators=200, subsample=0.8, total=   0.2s\n",
      "[CV] learning_rate=0.01, max_depth=3, n_estimators=200, subsample=0.8 \n",
      "[CV]  learning_rate=0.01, max_depth=3, n_estimators=200, subsample=0.8, total=   0.2s\n",
      "[CV] learning_rate=0.01, max_depth=3, n_estimators=200, subsample=0.8 \n",
      "[CV]  learning_rate=0.01, max_depth=3, n_estimators=200, subsample=0.8, total=   0.1s\n",
      "[CV] learning_rate=0.01, max_depth=3, n_estimators=200, subsample=0.8 \n",
      "[CV]  learning_rate=0.01, max_depth=3, n_estimators=200, subsample=0.8, total=   0.2s\n",
      "[CV] learning_rate=0.01, max_depth=3, n_estimators=200, subsample=0.8 \n",
      "[CV]  learning_rate=0.01, max_depth=3, n_estimators=200, subsample=0.8, total=   0.2s\n",
      "[CV] learning_rate=0.01, max_depth=3, n_estimators=500, subsample=1 ..\n",
      "[CV]  learning_rate=0.01, max_depth=3, n_estimators=500, subsample=1, total=   0.3s\n",
      "[CV] learning_rate=0.01, max_depth=3, n_estimators=500, subsample=1 ..\n",
      "[CV]  learning_rate=0.01, max_depth=3, n_estimators=500, subsample=1, total=   0.3s\n",
      "[CV] learning_rate=0.01, max_depth=3, n_estimators=500, subsample=1 ..\n",
      "[CV]  learning_rate=0.01, max_depth=3, n_estimators=500, subsample=1, total=   0.3s\n",
      "[CV] learning_rate=0.01, max_depth=3, n_estimators=500, subsample=1 ..\n",
      "[CV]  learning_rate=0.01, max_depth=3, n_estimators=500, subsample=1, total=   0.3s\n",
      "[CV] learning_rate=0.01, max_depth=3, n_estimators=500, subsample=1 ..\n",
      "[CV]  learning_rate=0.01, max_depth=3, n_estimators=500, subsample=1, total=   0.3s\n",
      "[CV] learning_rate=0.01, max_depth=3, n_estimators=500, subsample=1 ..\n",
      "[CV]  learning_rate=0.01, max_depth=3, n_estimators=500, subsample=1, total=   0.3s\n",
      "[CV] learning_rate=0.01, max_depth=3, n_estimators=500, subsample=1 ..\n",
      "[CV]  learning_rate=0.01, max_depth=3, n_estimators=500, subsample=1, total=   0.3s\n",
      "[CV] learning_rate=0.01, max_depth=3, n_estimators=500, subsample=1 ..\n",
      "[CV]  learning_rate=0.01, max_depth=3, n_estimators=500, subsample=1, total=   0.3s\n",
      "[CV] learning_rate=0.01, max_depth=3, n_estimators=500, subsample=1 ..\n",
      "[CV]  learning_rate=0.01, max_depth=3, n_estimators=500, subsample=1, total=   0.3s\n",
      "[CV] learning_rate=0.01, max_depth=3, n_estimators=500, subsample=1 ..\n",
      "[CV]  learning_rate=0.01, max_depth=3, n_estimators=500, subsample=1, total=   0.3s\n",
      "[CV] learning_rate=0.01, max_depth=3, n_estimators=500, subsample=0.5 \n",
      "[CV]  learning_rate=0.01, max_depth=3, n_estimators=500, subsample=0.5, total=   0.4s\n",
      "[CV] learning_rate=0.01, max_depth=3, n_estimators=500, subsample=0.5 \n",
      "[CV]  learning_rate=0.01, max_depth=3, n_estimators=500, subsample=0.5, total=   0.3s\n",
      "[CV] learning_rate=0.01, max_depth=3, n_estimators=500, subsample=0.5 \n",
      "[CV]  learning_rate=0.01, max_depth=3, n_estimators=500, subsample=0.5, total=   0.3s\n",
      "[CV] learning_rate=0.01, max_depth=3, n_estimators=500, subsample=0.5 \n",
      "[CV]  learning_rate=0.01, max_depth=3, n_estimators=500, subsample=0.5, total=   0.4s\n",
      "[CV] learning_rate=0.01, max_depth=3, n_estimators=500, subsample=0.5 \n",
      "[CV]  learning_rate=0.01, max_depth=3, n_estimators=500, subsample=0.5, total=   0.4s\n",
      "[CV] learning_rate=0.01, max_depth=3, n_estimators=500, subsample=0.5 \n",
      "[CV]  learning_rate=0.01, max_depth=3, n_estimators=500, subsample=0.5, total=   0.3s\n",
      "[CV] learning_rate=0.01, max_depth=3, n_estimators=500, subsample=0.5 \n",
      "[CV]  learning_rate=0.01, max_depth=3, n_estimators=500, subsample=0.5, total=   0.4s\n",
      "[CV] learning_rate=0.01, max_depth=3, n_estimators=500, subsample=0.5 \n",
      "[CV]  learning_rate=0.01, max_depth=3, n_estimators=500, subsample=0.5, total=   0.3s\n",
      "[CV] learning_rate=0.01, max_depth=3, n_estimators=500, subsample=0.5 \n",
      "[CV]  learning_rate=0.01, max_depth=3, n_estimators=500, subsample=0.5, total=   0.4s\n",
      "[CV] learning_rate=0.01, max_depth=3, n_estimators=500, subsample=0.5 \n",
      "[CV]  learning_rate=0.01, max_depth=3, n_estimators=500, subsample=0.5, total=   0.3s\n",
      "[CV] learning_rate=0.01, max_depth=3, n_estimators=500, subsample=0.8 \n",
      "[CV]  learning_rate=0.01, max_depth=3, n_estimators=500, subsample=0.8, total=   0.4s\n",
      "[CV] learning_rate=0.01, max_depth=3, n_estimators=500, subsample=0.8 \n",
      "[CV]  learning_rate=0.01, max_depth=3, n_estimators=500, subsample=0.8, total=   0.4s\n",
      "[CV] learning_rate=0.01, max_depth=3, n_estimators=500, subsample=0.8 \n",
      "[CV]  learning_rate=0.01, max_depth=3, n_estimators=500, subsample=0.8, total=   0.4s\n",
      "[CV] learning_rate=0.01, max_depth=3, n_estimators=500, subsample=0.8 \n",
      "[CV]  learning_rate=0.01, max_depth=3, n_estimators=500, subsample=0.8, total=   0.4s\n",
      "[CV] learning_rate=0.01, max_depth=3, n_estimators=500, subsample=0.8 \n",
      "[CV]  learning_rate=0.01, max_depth=3, n_estimators=500, subsample=0.8, total=   0.4s\n",
      "[CV] learning_rate=0.01, max_depth=3, n_estimators=500, subsample=0.8 \n",
      "[CV]  learning_rate=0.01, max_depth=3, n_estimators=500, subsample=0.8, total=   0.3s\n",
      "[CV] learning_rate=0.01, max_depth=3, n_estimators=500, subsample=0.8 \n",
      "[CV]  learning_rate=0.01, max_depth=3, n_estimators=500, subsample=0.8, total=   0.4s\n",
      "[CV] learning_rate=0.01, max_depth=3, n_estimators=500, subsample=0.8 \n",
      "[CV]  learning_rate=0.01, max_depth=3, n_estimators=500, subsample=0.8, total=   0.4s\n",
      "[CV] learning_rate=0.01, max_depth=3, n_estimators=500, subsample=0.8 \n",
      "[CV]  learning_rate=0.01, max_depth=3, n_estimators=500, subsample=0.8, total=   0.4s\n",
      "[CV] learning_rate=0.01, max_depth=3, n_estimators=500, subsample=0.8 \n",
      "[CV]  learning_rate=0.01, max_depth=3, n_estimators=500, subsample=0.8, total=   0.4s\n",
      "[CV] learning_rate=0.01, max_depth=5, n_estimators=200, subsample=1 ..\n",
      "[CV]  learning_rate=0.01, max_depth=5, n_estimators=200, subsample=1, total=   0.2s\n",
      "[CV] learning_rate=0.01, max_depth=5, n_estimators=200, subsample=1 ..\n",
      "[CV]  learning_rate=0.01, max_depth=5, n_estimators=200, subsample=1, total=   0.2s\n",
      "[CV] learning_rate=0.01, max_depth=5, n_estimators=200, subsample=1 ..\n",
      "[CV]  learning_rate=0.01, max_depth=5, n_estimators=200, subsample=1, total=   0.2s\n",
      "[CV] learning_rate=0.01, max_depth=5, n_estimators=200, subsample=1 ..\n",
      "[CV]  learning_rate=0.01, max_depth=5, n_estimators=200, subsample=1, total=   0.2s\n",
      "[CV] learning_rate=0.01, max_depth=5, n_estimators=200, subsample=1 ..\n",
      "[CV]  learning_rate=0.01, max_depth=5, n_estimators=200, subsample=1, total=   0.2s\n",
      "[CV] learning_rate=0.01, max_depth=5, n_estimators=200, subsample=1 ..\n",
      "[CV]  learning_rate=0.01, max_depth=5, n_estimators=200, subsample=1, total=   0.3s\n",
      "[CV] learning_rate=0.01, max_depth=5, n_estimators=200, subsample=1 ..\n",
      "[CV]  learning_rate=0.01, max_depth=5, n_estimators=200, subsample=1, total=   0.3s\n",
      "[CV] learning_rate=0.01, max_depth=5, n_estimators=200, subsample=1 ..\n",
      "[CV]  learning_rate=0.01, max_depth=5, n_estimators=200, subsample=1, total=   0.2s\n",
      "[CV] learning_rate=0.01, max_depth=5, n_estimators=200, subsample=1 ..\n",
      "[CV]  learning_rate=0.01, max_depth=5, n_estimators=200, subsample=1, total=   0.2s\n",
      "[CV] learning_rate=0.01, max_depth=5, n_estimators=200, subsample=1 ..\n",
      "[CV]  learning_rate=0.01, max_depth=5, n_estimators=200, subsample=1, total=   0.2s\n",
      "[CV] learning_rate=0.01, max_depth=5, n_estimators=200, subsample=0.5 \n",
      "[CV]  learning_rate=0.01, max_depth=5, n_estimators=200, subsample=0.5, total=   0.2s\n",
      "[CV] learning_rate=0.01, max_depth=5, n_estimators=200, subsample=0.5 \n",
      "[CV]  learning_rate=0.01, max_depth=5, n_estimators=200, subsample=0.5, total=   0.2s\n",
      "[CV] learning_rate=0.01, max_depth=5, n_estimators=200, subsample=0.5 \n",
      "[CV]  learning_rate=0.01, max_depth=5, n_estimators=200, subsample=0.5, total=   0.2s\n",
      "[CV] learning_rate=0.01, max_depth=5, n_estimators=200, subsample=0.5 \n",
      "[CV]  learning_rate=0.01, max_depth=5, n_estimators=200, subsample=0.5, total=   0.2s\n",
      "[CV] learning_rate=0.01, max_depth=5, n_estimators=200, subsample=0.5 \n",
      "[CV]  learning_rate=0.01, max_depth=5, n_estimators=200, subsample=0.5, total=   0.2s\n",
      "[CV] learning_rate=0.01, max_depth=5, n_estimators=200, subsample=0.5 \n",
      "[CV]  learning_rate=0.01, max_depth=5, n_estimators=200, subsample=0.5, total=   0.2s\n",
      "[CV] learning_rate=0.01, max_depth=5, n_estimators=200, subsample=0.5 \n",
      "[CV]  learning_rate=0.01, max_depth=5, n_estimators=200, subsample=0.5, total=   0.2s\n",
      "[CV] learning_rate=0.01, max_depth=5, n_estimators=200, subsample=0.5 \n",
      "[CV]  learning_rate=0.01, max_depth=5, n_estimators=200, subsample=0.5, total=   0.2s\n",
      "[CV] learning_rate=0.01, max_depth=5, n_estimators=200, subsample=0.5 \n",
      "[CV]  learning_rate=0.01, max_depth=5, n_estimators=200, subsample=0.5, total=   0.2s\n",
      "[CV] learning_rate=0.01, max_depth=5, n_estimators=200, subsample=0.5 \n",
      "[CV]  learning_rate=0.01, max_depth=5, n_estimators=200, subsample=0.5, total=   0.2s\n",
      "[CV] learning_rate=0.01, max_depth=5, n_estimators=200, subsample=0.8 \n",
      "[CV]  learning_rate=0.01, max_depth=5, n_estimators=200, subsample=0.8, total=   0.3s\n",
      "[CV] learning_rate=0.01, max_depth=5, n_estimators=200, subsample=0.8 \n",
      "[CV]  learning_rate=0.01, max_depth=5, n_estimators=200, subsample=0.8, total=   0.3s\n",
      "[CV] learning_rate=0.01, max_depth=5, n_estimators=200, subsample=0.8 \n",
      "[CV]  learning_rate=0.01, max_depth=5, n_estimators=200, subsample=0.8, total=   0.2s\n",
      "[CV] learning_rate=0.01, max_depth=5, n_estimators=200, subsample=0.8 \n",
      "[CV]  learning_rate=0.01, max_depth=5, n_estimators=200, subsample=0.8, total=   0.2s\n",
      "[CV] learning_rate=0.01, max_depth=5, n_estimators=200, subsample=0.8 \n",
      "[CV]  learning_rate=0.01, max_depth=5, n_estimators=200, subsample=0.8, total=   0.2s\n",
      "[CV] learning_rate=0.01, max_depth=5, n_estimators=200, subsample=0.8 \n",
      "[CV]  learning_rate=0.01, max_depth=5, n_estimators=200, subsample=0.8, total=   0.2s\n",
      "[CV] learning_rate=0.01, max_depth=5, n_estimators=200, subsample=0.8 \n",
      "[CV]  learning_rate=0.01, max_depth=5, n_estimators=200, subsample=0.8, total=   0.2s\n",
      "[CV] learning_rate=0.01, max_depth=5, n_estimators=200, subsample=0.8 \n",
      "[CV]  learning_rate=0.01, max_depth=5, n_estimators=200, subsample=0.8, total=   0.2s\n",
      "[CV] learning_rate=0.01, max_depth=5, n_estimators=200, subsample=0.8 \n",
      "[CV]  learning_rate=0.01, max_depth=5, n_estimators=200, subsample=0.8, total=   0.2s\n",
      "[CV] learning_rate=0.01, max_depth=5, n_estimators=200, subsample=0.8 \n",
      "[CV]  learning_rate=0.01, max_depth=5, n_estimators=200, subsample=0.8, total=   0.3s\n",
      "[CV] learning_rate=0.01, max_depth=5, n_estimators=500, subsample=1 ..\n",
      "[CV]  learning_rate=0.01, max_depth=5, n_estimators=500, subsample=1, total=   0.6s\n",
      "[CV] learning_rate=0.01, max_depth=5, n_estimators=500, subsample=1 ..\n",
      "[CV]  learning_rate=0.01, max_depth=5, n_estimators=500, subsample=1, total=   0.5s\n",
      "[CV] learning_rate=0.01, max_depth=5, n_estimators=500, subsample=1 ..\n",
      "[CV]  learning_rate=0.01, max_depth=5, n_estimators=500, subsample=1, total=   0.5s\n",
      "[CV] learning_rate=0.01, max_depth=5, n_estimators=500, subsample=1 ..\n",
      "[CV]  learning_rate=0.01, max_depth=5, n_estimators=500, subsample=1, total=   0.5s\n",
      "[CV] learning_rate=0.01, max_depth=5, n_estimators=500, subsample=1 ..\n",
      "[CV]  learning_rate=0.01, max_depth=5, n_estimators=500, subsample=1, total=   0.6s\n",
      "[CV] learning_rate=0.01, max_depth=5, n_estimators=500, subsample=1 ..\n",
      "[CV]  learning_rate=0.01, max_depth=5, n_estimators=500, subsample=1, total=   0.6s\n",
      "[CV] learning_rate=0.01, max_depth=5, n_estimators=500, subsample=1 ..\n",
      "[CV]  learning_rate=0.01, max_depth=5, n_estimators=500, subsample=1, total=   0.5s\n",
      "[CV] learning_rate=0.01, max_depth=5, n_estimators=500, subsample=1 ..\n",
      "[CV]  learning_rate=0.01, max_depth=5, n_estimators=500, subsample=1, total=   0.5s\n",
      "[CV] learning_rate=0.01, max_depth=5, n_estimators=500, subsample=1 ..\n",
      "[CV]  learning_rate=0.01, max_depth=5, n_estimators=500, subsample=1, total=   0.6s\n",
      "[CV] learning_rate=0.01, max_depth=5, n_estimators=500, subsample=1 ..\n",
      "[CV]  learning_rate=0.01, max_depth=5, n_estimators=500, subsample=1, total=   0.6s\n",
      "[CV] learning_rate=0.01, max_depth=5, n_estimators=500, subsample=0.5 \n",
      "[CV]  learning_rate=0.01, max_depth=5, n_estimators=500, subsample=0.5, total=   0.5s\n",
      "[CV] learning_rate=0.01, max_depth=5, n_estimators=500, subsample=0.5 \n",
      "[CV]  learning_rate=0.01, max_depth=5, n_estimators=500, subsample=0.5, total=   0.4s\n",
      "[CV] learning_rate=0.01, max_depth=5, n_estimators=500, subsample=0.5 \n",
      "[CV]  learning_rate=0.01, max_depth=5, n_estimators=500, subsample=0.5, total=   0.4s\n",
      "[CV] learning_rate=0.01, max_depth=5, n_estimators=500, subsample=0.5 \n",
      "[CV]  learning_rate=0.01, max_depth=5, n_estimators=500, subsample=0.5, total=   0.4s\n",
      "[CV] learning_rate=0.01, max_depth=5, n_estimators=500, subsample=0.5 \n",
      "[CV]  learning_rate=0.01, max_depth=5, n_estimators=500, subsample=0.5, total=   0.4s\n",
      "[CV] learning_rate=0.01, max_depth=5, n_estimators=500, subsample=0.5 \n",
      "[CV]  learning_rate=0.01, max_depth=5, n_estimators=500, subsample=0.5, total=   0.4s\n",
      "[CV] learning_rate=0.01, max_depth=5, n_estimators=500, subsample=0.5 \n",
      "[CV]  learning_rate=0.01, max_depth=5, n_estimators=500, subsample=0.5, total=   0.4s\n",
      "[CV] learning_rate=0.01, max_depth=5, n_estimators=500, subsample=0.5 \n",
      "[CV]  learning_rate=0.01, max_depth=5, n_estimators=500, subsample=0.5, total=   0.5s\n",
      "[CV] learning_rate=0.01, max_depth=5, n_estimators=500, subsample=0.5 \n",
      "[CV]  learning_rate=0.01, max_depth=5, n_estimators=500, subsample=0.5, total=   0.5s\n",
      "[CV] learning_rate=0.01, max_depth=5, n_estimators=500, subsample=0.5 \n",
      "[CV]  learning_rate=0.01, max_depth=5, n_estimators=500, subsample=0.5, total=   0.4s\n",
      "[CV] learning_rate=0.01, max_depth=5, n_estimators=500, subsample=0.8 \n",
      "[CV]  learning_rate=0.01, max_depth=5, n_estimators=500, subsample=0.8, total=   0.5s\n",
      "[CV] learning_rate=0.01, max_depth=5, n_estimators=500, subsample=0.8 \n",
      "[CV]  learning_rate=0.01, max_depth=5, n_estimators=500, subsample=0.8, total=   0.5s\n",
      "[CV] learning_rate=0.01, max_depth=5, n_estimators=500, subsample=0.8 \n",
      "[CV]  learning_rate=0.01, max_depth=5, n_estimators=500, subsample=0.8, total=   0.5s\n",
      "[CV] learning_rate=0.01, max_depth=5, n_estimators=500, subsample=0.8 \n",
      "[CV]  learning_rate=0.01, max_depth=5, n_estimators=500, subsample=0.8, total=   0.5s\n",
      "[CV] learning_rate=0.01, max_depth=5, n_estimators=500, subsample=0.8 \n",
      "[CV]  learning_rate=0.01, max_depth=5, n_estimators=500, subsample=0.8, total=   0.5s\n",
      "[CV] learning_rate=0.01, max_depth=5, n_estimators=500, subsample=0.8 \n",
      "[CV]  learning_rate=0.01, max_depth=5, n_estimators=500, subsample=0.8, total=   0.5s\n",
      "[CV] learning_rate=0.01, max_depth=5, n_estimators=500, subsample=0.8 \n",
      "[CV]  learning_rate=0.01, max_depth=5, n_estimators=500, subsample=0.8, total=   0.6s\n",
      "[CV] learning_rate=0.01, max_depth=5, n_estimators=500, subsample=0.8 \n",
      "[CV]  learning_rate=0.01, max_depth=5, n_estimators=500, subsample=0.8, total=   0.6s\n",
      "[CV] learning_rate=0.01, max_depth=5, n_estimators=500, subsample=0.8 \n",
      "[CV]  learning_rate=0.01, max_depth=5, n_estimators=500, subsample=0.8, total=   0.6s\n",
      "[CV] learning_rate=0.01, max_depth=5, n_estimators=500, subsample=0.8 \n",
      "[CV]  learning_rate=0.01, max_depth=5, n_estimators=500, subsample=0.8, total=   0.6s\n"
     ]
    },
    {
     "name": "stderr",
     "output_type": "stream",
     "text": [
      "[Parallel(n_jobs=1)]: Done 240 out of 240 | elapsed:  1.2min finished\n"
     ]
    }
   ],
   "source": [
    "gbm_cv_model = GridSearchCV(gbm_model,gbm_params,cv=10,\n",
    "                            n_jobs=1,verbose = 2).fit(X_train,y_train)"
   ]
  },
  {
   "cell_type": "code",
   "execution_count": 37,
   "metadata": {},
   "outputs": [
    {
     "data": {
      "text/plain": [
       "{'learning_rate': 0.01, 'max_depth': 5, 'n_estimators': 500, 'subsample': 0.5}"
      ]
     },
     "execution_count": 37,
     "metadata": {},
     "output_type": "execute_result"
    }
   ],
   "source": [
    "gbm_cv_model.best_params_"
   ]
  },
  {
   "cell_type": "code",
   "execution_count": 38,
   "metadata": {},
   "outputs": [],
   "source": [
    "gbm_tuned = GradientBoostingRegressor(learning_rate =0.01,\n",
    "                                     max_depth = 5,\n",
    "                                     n_estimators=500,\n",
    "                                     subsample=0.5,\n",
    "                                     loss=\"lad\").fit(X_train,y_train)"
   ]
  },
  {
   "cell_type": "code",
   "execution_count": 39,
   "metadata": {},
   "outputs": [],
   "source": [
    "y_pred = gbm_tuned.predict(X_test)"
   ]
  },
  {
   "cell_type": "code",
   "execution_count": 40,
   "metadata": {},
   "outputs": [
    {
     "data": {
      "text/plain": [
       "323.2318315260327"
      ]
     },
     "execution_count": 40,
     "metadata": {},
     "output_type": "execute_result"
    }
   ],
   "source": [
    "np.sqrt(mean_squared_error(y_test,y_pred))"
   ]
  },
  {
   "cell_type": "code",
   "execution_count": 42,
   "metadata": {},
   "outputs": [
    {
     "data": {
      "image/png": "[encoded data removed]",
      "text/plain": [
       "<Figure size 432x288 with 1 Axes>"
      ]
     },
     "metadata": {
      "needs_background": "light"
     },
     "output_type": "display_data"
    }
   ],
   "source": [
    "Importance = pd.DataFrame({'Importance':gbm_tuned.feature_importances_*100},\n",
    "                         index=X_train.columns)\n",
    "\n",
    "Importance.sort_values(by='Importance',\n",
    "                      axis=0,\n",
    "                      ascending = True).plot(kind = 'barh',\n",
    "                                           color = 'r',)\n",
    "\n",
    "plt.xlabel('Variable Importance')\n",
    "plt.gca().legend_=None"
   ]
  },
  {
   "cell_type": "markdown",
   "metadata": {},
   "source": [
    "## XGBoost"
   ]
  },
  {
   "cell_type": "code",
   "execution_count": 6,
   "metadata": {},
   "outputs": [],
   "source": [
    "df = pd.read_csv(\"Hitters.csv\")\n",
    "df = df.dropna()\n",
    "dms = pd.get_dummies(df[[\"League\",\"Division\",\"NewLeague\"]])\n",
    "y=df[\"Salary\"]\n",
    "X_ = df.drop([\"Salary\",\"League\",\"Division\",\"NewLeague\"],axis=1).astype(\"float64\")\n",
    "X = pd.concat([X_,dms[[\"League_N\",\"Division_W\",\"NewLeague_N\"]]],axis=1)\n",
    "X_train,X_test,y_train,y_test = train_test_split(X,y,test_size=0.25,random_state=42)"
   ]
  },
  {
   "cell_type": "code",
   "execution_count": 3,
   "metadata": {},
   "outputs": [
    {
     "name": "stdout",
     "output_type": "stream",
     "text": [
      "Requirement already satisfied: xgboost in c:\\users\\asus\\anaconda3\\lib\\site-packages (0.90)\n",
      "Requirement already satisfied: numpy in c:\\users\\asus\\anaconda3\\lib\\site-packages (from xgboost) (1.16.5)\n",
      "Requirement already satisfied: scipy in c:\\users\\asus\\anaconda3\\lib\\site-packages (from xgboost) (1.3.1)\n"
     ]
    }
   ],
   "source": [
    "!pip install xgboost"
   ]
  },
  {
   "cell_type": "code",
   "execution_count": 10,
   "metadata": {},
   "outputs": [],
   "source": [
    "import xgboost\n",
    "from xgboost import XGBRegressor"
   ]
  },
  {
   "cell_type": "code",
   "execution_count": 8,
   "metadata": {},
   "outputs": [
    {
     "name": "stdout",
     "output_type": "stream",
     "text": [
      "[01:47:38] WARNING: src/objective/regression_obj.cu:152: reg:linear is now deprecated in favor of reg:squarederror.\n"
     ]
    }
   ],
   "source": [
    "xgb = XGBRegressor().fit(X_train,y_train)"
   ]
  },
  {
   "cell_type": "code",
   "execution_count": 9,
   "metadata": {},
   "outputs": [
    {
     "data": {
      "text/plain": [
       "XGBRegressor(base_score=0.5, booster='gbtree', colsample_bylevel=1,\n",
       "             colsample_bynode=1, colsample_bytree=1, gamma=0,\n",
       "             importance_type='gain', learning_rate=0.1, max_delta_step=0,\n",
       "             max_depth=3, min_child_weight=1, missing=None, n_estimators=100,\n",
       "             n_jobs=1, nthread=None, objective='reg:linear', random_state=0,\n",
       "             reg_alpha=0, reg_lambda=1, scale_pos_weight=1, seed=None,\n",
       "             silent=None, subsample=1, verbosity=1)"
      ]
     },
     "execution_count": 9,
     "metadata": {},
     "output_type": "execute_result"
    }
   ],
   "source": [
    "xgb"
   ]
  },
  {
   "cell_type": "code",
   "execution_count": 10,
   "metadata": {},
   "outputs": [
    {
     "data": {
      "text/plain": [
       "359.91750599447033"
      ]
     },
     "execution_count": 10,
     "metadata": {},
     "output_type": "execute_result"
    }
   ],
   "source": [
    "y_pred = xgb.predict(X_test)\n",
    "np.sqrt(mean_squared_error(y_test,y_pred))"
   ]
  },
  {
   "cell_type": "markdown",
   "metadata": {},
   "source": [
    "### Model Tuning"
   ]
  },
  {
   "cell_type": "code",
   "execution_count": 11,
   "metadata": {},
   "outputs": [],
   "source": [
    "xgb_params = {\"learning_rate\": [0.1,0.01,0.5] ,\n",
    "             \"max_depth\":[2,3,4,5,8],\n",
    "             \"n_estimators\":[100,200,500],\n",
    "             \"colsample_bylevel\":[0.4,0.7]}"
   ]
  },
  {
   "cell_type": "code",
   "execution_count": 12,
   "metadata": {},
   "outputs": [
    {
     "name": "stdout",
     "output_type": "stream",
     "text": [
      "Fitting 10 folds for each of 90 candidates, totalling 900 fits\n"
     ]
    },
    {
     "name": "stderr",
     "output_type": "stream",
     "text": [
      "[Parallel(n_jobs=-1)]: Using backend LokyBackend with 8 concurrent workers.\n",
      "[Parallel(n_jobs=-1)]: Done  25 tasks      | elapsed:    4.6s\n",
      "[Parallel(n_jobs=-1)]: Done 146 tasks      | elapsed:    8.8s\n",
      "[Parallel(n_jobs=-1)]: Done 349 tasks      | elapsed:   15.1s\n",
      "[Parallel(n_jobs=-1)]: Done 632 tasks      | elapsed:   24.6s\n"
     ]
    },
    {
     "name": "stdout",
     "output_type": "stream",
     "text": [
      "[01:51:59] WARNING: src/objective/regression_obj.cu:152: reg:linear is now deprecated in favor of reg:squarederror.\n"
     ]
    },
    {
     "name": "stderr",
     "output_type": "stream",
     "text": [
      "[Parallel(n_jobs=-1)]: Done 900 out of 900 | elapsed:   34.9s finished\n"
     ]
    }
   ],
   "source": [
    "xgb_cv_model = GridSearchCV(xgb,xgb_params,cv=10,n_jobs =-1,verbose =2).fit(X_train,y_train)"
   ]
  },
  {
   "cell_type": "code",
   "execution_count": 13,
   "metadata": {},
   "outputs": [
    {
     "data": {
      "text/plain": [
       "{'colsample_bylevel': 0.7,\n",
       " 'learning_rate': 0.1,\n",
       " 'max_depth': 2,\n",
       " 'n_estimators': 500}"
      ]
     },
     "execution_count": 13,
     "metadata": {},
     "output_type": "execute_result"
    }
   ],
   "source": [
    "xgb_cv_model.best_params_"
   ]
  },
  {
   "cell_type": "code",
   "execution_count": 14,
   "metadata": {},
   "outputs": [
    {
     "name": "stdout",
     "output_type": "stream",
     "text": [
      "[01:52:40] WARNING: src/objective/regression_obj.cu:152: reg:linear is now deprecated in favor of reg:squarederror.\n"
     ]
    }
   ],
   "source": [
    "xgb_tuned = XGBRegressor(colsample_bylevel=0.7,\n",
    "                        learning_rate=0.1,\n",
    "                        max_depth=2,\n",
    "                        n_estimators=500).fit(X_train,y_train)"
   ]
  },
  {
   "cell_type": "code",
   "execution_count": 15,
   "metadata": {},
   "outputs": [
    {
     "data": {
      "text/plain": [
       "333.4542345754869"
      ]
     },
     "execution_count": 15,
     "metadata": {},
     "output_type": "execute_result"
    }
   ],
   "source": [
    "y_pred = xgb_tuned.predict(X_test)\n",
    "np.sqrt(mean_squared_error(y_test,y_pred))"
   ]
  },
  {
   "cell_type": "markdown",
   "metadata": {},
   "source": [
    "## Light GBM"
   ]
  },
  {
   "cell_type": "code",
   "execution_count": 4,
   "metadata": {},
   "outputs": [],
   "source": [
    "df = pd.read_csv(\"Hitters.csv\")\n",
    "df = df.dropna()\n",
    "dms = pd.get_dummies(df[[\"League\",\"Division\",\"NewLeague\"]])\n",
    "y=df[\"Salary\"]\n",
    "X_ = df.drop([\"Salary\",\"League\",\"Division\",\"NewLeague\"],axis=1).astype(\"float64\")\n",
    "X = pd.concat([X_,dms[[\"League_N\",\"Division_W\",\"NewLeague_N\"]]],axis=1)\n",
    "X_train,X_test,y_train,y_test = train_test_split(X,y,test_size=0.25,random_state=42)"
   ]
  },
  {
   "cell_type": "code",
   "execution_count": 5,
   "metadata": {},
   "outputs": [
    {
     "name": "stdout",
     "output_type": "stream",
     "text": [
      "Collecting lightgbm\n",
      "  Downloading https://files.pythonhosted.org/packages/1f/cb/a8ec24334c35a7d0c87b4e4e056bd2137573c7c1bd81c760b79a2f370254/lightgbm-2.3.1-py2.py3-none-win_amd64.whl (544kB)\n",
      "Requirement already satisfied: numpy in c:\\users\\asus\\anaconda3\\lib\\site-packages (from lightgbm) (1.16.5)\n",
      "Requirement already satisfied: scikit-learn in c:\\users\\asus\\anaconda3\\lib\\site-packages (from lightgbm) (0.21.3)\n",
      "Requirement already satisfied: scipy in c:\\users\\asus\\anaconda3\\lib\\site-packages (from lightgbm) (1.3.1)\n",
      "Requirement already satisfied: joblib>=0.11 in c:\\users\\asus\\anaconda3\\lib\\site-packages (from scikit-learn->lightgbm) (0.14.0)\n",
      "Installing collected packages: lightgbm\n",
      "Successfully installed lightgbm-2.3.1\n"
     ]
    }
   ],
   "source": [
    "!pip install lightgbm"
   ]
  },
  {
   "cell_type": "code",
   "execution_count": 17,
   "metadata": {},
   "outputs": [],
   "source": [
    "from lightgbm import LGBMRegressor"
   ]
  },
  {
   "cell_type": "markdown",
   "metadata": {},
   "source": [
    "### Model ve Tahmin"
   ]
  },
  {
   "cell_type": "code",
   "execution_count": 8,
   "metadata": {},
   "outputs": [],
   "source": [
    "lgb_model = LGBMRegressor().fit(X_train,y_train)"
   ]
  },
  {
   "cell_type": "code",
   "execution_count": 9,
   "metadata": {},
   "outputs": [
    {
     "data": {
      "text/plain": [
       "LGBMRegressor(boosting_type='gbdt', class_weight=None, colsample_bytree=1.0,\n",
       "              importance_type='split', learning_rate=0.1, max_depth=-1,\n",
       "              min_child_samples=20, min_child_weight=0.001, min_split_gain=0.0,\n",
       "              n_estimators=100, n_jobs=-1, num_leaves=31, objective=None,\n",
       "              random_state=None, reg_alpha=0.0, reg_lambda=0.0, silent=True,\n",
       "              subsample=1.0, subsample_for_bin=200000, subsample_freq=0)"
      ]
     },
     "execution_count": 9,
     "metadata": {},
     "output_type": "execute_result"
    }
   ],
   "source": [
    "lgb_model"
   ]
  },
  {
   "cell_type": "code",
   "execution_count": 10,
   "metadata": {},
   "outputs": [],
   "source": [
    "y_pred = lgb_model.predict(X_test)"
   ]
  },
  {
   "cell_type": "code",
   "execution_count": 11,
   "metadata": {},
   "outputs": [
    {
     "data": {
      "text/plain": [
       "363.8712087611089"
      ]
     },
     "execution_count": 11,
     "metadata": {},
     "output_type": "execute_result"
    }
   ],
   "source": [
    "np.sqrt(mean_squared_error(y_test,y_pred))"
   ]
  },
  {
   "cell_type": "markdown",
   "metadata": {},
   "source": [
    "### Model Tuning"
   ]
  },
  {
   "cell_type": "code",
   "execution_count": 12,
   "metadata": {},
   "outputs": [],
   "source": [
    "lgbm_params = {\"learning_rate\": [0.01,0.1,0.5,1],\n",
    "              \"n_estimators\":[40,100,1000],\n",
    "              \"max_depth\":[1,2,3]}"
   ]
  },
  {
   "cell_type": "code",
   "execution_count": 13,
   "metadata": {},
   "outputs": [
    {
     "name": "stdout",
     "output_type": "stream",
     "text": [
      "Fitting 10 folds for each of 36 candidates, totalling 360 fits\n"
     ]
    },
    {
     "name": "stderr",
     "output_type": "stream",
     "text": [
      "[Parallel(n_jobs=-1)]: Using backend LokyBackend with 8 concurrent workers.\n",
      "[Parallel(n_jobs=-1)]: Done  25 tasks      | elapsed:    5.1s\n",
      "[Parallel(n_jobs=-1)]: Done 228 tasks      | elapsed:    7.9s\n",
      "[Parallel(n_jobs=-1)]: Done 360 out of 360 | elapsed:   10.1s finished\n"
     ]
    }
   ],
   "source": [
    "lgbm_cv_model = GridSearchCV(lgb_model,lgbm_params,cv = 10,n_jobs =-1,\n",
    "                            verbose = 2).fit(X_train,y_train)"
   ]
  },
  {
   "cell_type": "code",
   "execution_count": 14,
   "metadata": {},
   "outputs": [
    {
     "data": {
      "text/plain": [
       "{'learning_rate': 0.1, 'max_depth': 3, 'n_estimators': 40}"
      ]
     },
     "execution_count": 14,
     "metadata": {},
     "output_type": "execute_result"
    }
   ],
   "source": [
    "lgbm_cv_model.best_params_"
   ]
  },
  {
   "cell_type": "code",
   "execution_count": 15,
   "metadata": {},
   "outputs": [],
   "source": [
    "lgb_tuned = LGBMRegressor(learning_rate=0.1,\n",
    "                         max_depth=3,\n",
    "                         n_estimators=40).fit(X_train,y_train)"
   ]
  },
  {
   "cell_type": "code",
   "execution_count": 17,
   "metadata": {},
   "outputs": [
    {
     "data": {
      "text/plain": [
       "364.7698635536198"
      ]
     },
     "execution_count": 17,
     "metadata": {},
     "output_type": "execute_result"
    }
   ],
   "source": [
    "y_pred = lgb_tuned.predict(X_test)\n",
    "np.sqrt(mean_squared_error(y_test,y_pred))"
   ]
  },
  {
   "cell_type": "markdown",
   "metadata": {},
   "source": [
    "## CatBoost"
   ]
  },
  {
   "cell_type": "code",
   "execution_count": 18,
   "metadata": {},
   "outputs": [],
   "source": [
    "df = pd.read_csv(\"Hitters.csv\")\n",
    "df = df.dropna()\n",
    "dms = pd.get_dummies(df[[\"League\",\"Division\",\"NewLeague\"]])\n",
    "y=df[\"Salary\"]\n",
    "X_ = df.drop([\"Salary\",\"League\",\"Division\",\"NewLeague\"],axis=1).astype(\"float64\")\n",
    "X = pd.concat([X_,dms[[\"League_N\",\"Division_W\",\"NewLeague_N\"]]],axis=1)\n",
    "X_train,X_test,y_train,y_test = train_test_split(X,y,test_size=0.25,random_state=42)"
   ]
  },
  {
   "cell_type": "code",
   "execution_count": 19,
   "metadata": {
    "collapsed": true,
    "jupyter": {
     "outputs_hidden": true
    }
   },
   "outputs": [
    {
     "name": "stdout",
     "output_type": "stream",
     "text": [
      "Collecting catboost\n",
      "  Downloading https://files.pythonhosted.org/packages/1d/2c/19479440366a4e9d9a3b9c7523384beeffbcf02dd1e0a63b778dce9f88fb/catboost-0.23-cp36-none-win_amd64.whl (63.6MB)\n",
      "Requirement already satisfied: six in c:\\users\\asus\\anaconda3\\lib\\site-packages (from catboost) (1.12.0)\n",
      "Collecting graphviz (from catboost)\n",
      "  Downloading https://files.pythonhosted.org/packages/83/cc/c62100906d30f95d46451c15eb407da7db201e30f42008f3643945910373/graphviz-0.14-py2.py3-none-any.whl\n",
      "Requirement already satisfied: matplotlib in c:\\users\\asus\\anaconda3\\lib\\site-packages (from catboost) (3.1.1)\n",
      "Requirement already satisfied: scipy in c:\\users\\asus\\anaconda3\\lib\\site-packages (from catboost) (1.3.1)\n",
      "Requirement already satisfied: pandas>=0.24.0 in c:\\users\\asus\\anaconda3\\lib\\site-packages (from catboost) (0.25.1)\n",
      "Requirement already satisfied: numpy>=1.16.0 in c:\\users\\asus\\anaconda3\\lib\\site-packages (from catboost) (1.16.5)\n",
      "Collecting plotly (from catboost)\n",
      "  Downloading https://files.pythonhosted.org/packages/15/90/918bccb0ca60dc6d126d921e2c67126d75949f5da777e6b18c51fb12603d/plotly-4.6.0-py2.py3-none-any.whl (7.1MB)\n",
      "Requirement already satisfied: cycler>=0.10 in c:\\users\\asus\\anaconda3\\lib\\site-packages (from matplotlib->catboost) (0.10.0)\n",
      "Requirement already satisfied: kiwisolver>=1.0.1 in c:\\users\\asus\\anaconda3\\lib\\site-packages (from matplotlib->catboost) (1.1.0)\n",
      "Requirement already satisfied: pyparsing!=2.0.4,!=2.1.2,!=2.1.6,>=2.0.1 in c:\\users\\asus\\anaconda3\\lib\\site-packages (from matplotlib->catboost) (2.4.0)\n",
      "Requirement already satisfied: python-dateutil>=2.1 in c:\\users\\asus\\anaconda3\\lib\\site-packages (from matplotlib->catboost) (2.8.0)\n",
      "Requirement already satisfied: pytz>=2017.2 in c:\\users\\asus\\anaconda3\\lib\\site-packages (from pandas>=0.24.0->catboost) (2019.1)\n",
      "Collecting retrying>=1.3.3 (from plotly->catboost)\n",
      "  Downloading https://files.pythonhosted.org/packages/44/ef/beae4b4ef80902f22e3af073397f079c96969c69b2c7d52a57ea9ae61c9d/retrying-1.3.3.tar.gz\n",
      "Requirement already satisfied: setuptools in c:\\users\\asus\\anaconda3\\lib\\site-packages (from kiwisolver>=1.0.1->matplotlib->catboost) (41.2.0)\n",
      "Building wheels for collected packages: retrying\n",
      "  Building wheel for retrying (setup.py): started\n",
      "  Building wheel for retrying (setup.py): finished with status 'done'\n",
      "  Created wheel for retrying: filename=retrying-1.3.3-cp36-none-any.whl size=11435 sha256=fa4031653af1334105324d978e9192b20f9cb44a9b5ed2fef85b54509298a509\n",
      "  Stored in directory: C:\\Users\\asus\\AppData\\Local\\pip\\Cache\\wheels\\d7\\a9\\33\\acc7b709e2a35caa7d4cae442f6fe6fbf2c43f80823d46460c\n",
      "Successfully built retrying\n",
      "Installing collected packages: graphviz, retrying, plotly, catboost\n",
      "Successfully installed catboost-0.23 graphviz-0.14 plotly-4.6.0 retrying-1.3.3\n"
     ]
    }
   ],
   "source": [
    "!pip install catboost"
   ]
  },
  {
   "cell_type": "code",
   "execution_count": 8,
   "metadata": {},
   "outputs": [],
   "source": [
    "from catboost import CatBoostRegressor"
   ]
  },
  {
   "cell_type": "code",
   "execution_count": 22,
   "metadata": {
    "collapsed": true,
    "jupyter": {
     "outputs_hidden": true
    }
   },
   "outputs": [
    {
     "name": "stdout",
     "output_type": "stream",
     "text": [
      "Learning rate set to 0.029229\n",
      "0:\tlearn: 438.1974206\ttotal: 55.6ms\tremaining: 55.5s\n",
      "1:\tlearn: 432.4168868\ttotal: 57.7ms\tremaining: 28.8s\n",
      "2:\tlearn: 426.3836690\ttotal: 59.8ms\tremaining: 19.9s\n",
      "3:\tlearn: 420.2261014\ttotal: 61.6ms\tremaining: 15.3s\n",
      "4:\tlearn: 414.9976675\ttotal: 63.3ms\tremaining: 12.6s\n",
      "5:\tlearn: 409.6125323\ttotal: 65.3ms\tremaining: 10.8s\n",
      "6:\tlearn: 403.9277911\ttotal: 67.1ms\tremaining: 9.52s\n",
      "7:\tlearn: 398.4395285\ttotal: 69.9ms\tremaining: 8.66s\n",
      "8:\tlearn: 392.4517081\ttotal: 71.8ms\tremaining: 7.91s\n",
      "9:\tlearn: 387.4871123\ttotal: 73.3ms\tremaining: 7.26s\n",
      "10:\tlearn: 382.6230510\ttotal: 74.8ms\tremaining: 6.72s\n",
      "11:\tlearn: 378.1012454\ttotal: 76.1ms\tremaining: 6.26s\n",
      "12:\tlearn: 372.6002306\ttotal: 77.6ms\tremaining: 5.89s\n",
      "13:\tlearn: 368.4682192\ttotal: 79.2ms\tremaining: 5.58s\n",
      "14:\tlearn: 364.0565766\ttotal: 81.9ms\tremaining: 5.38s\n",
      "15:\tlearn: 359.5683249\ttotal: 83.8ms\tremaining: 5.16s\n",
      "16:\tlearn: 355.1782794\ttotal: 85.5ms\tremaining: 4.94s\n",
      "17:\tlearn: 350.4689946\ttotal: 87ms\tremaining: 4.74s\n",
      "18:\tlearn: 346.2553348\ttotal: 88.4ms\tremaining: 4.57s\n",
      "19:\tlearn: 341.7051884\ttotal: 90ms\tremaining: 4.41s\n",
      "20:\tlearn: 337.8343606\ttotal: 91.6ms\tremaining: 4.27s\n",
      "21:\tlearn: 333.7956702\ttotal: 93.2ms\tremaining: 4.14s\n",
      "22:\tlearn: 329.8867930\ttotal: 95.1ms\tremaining: 4.04s\n",
      "23:\tlearn: 326.1844372\ttotal: 96.9ms\tremaining: 3.94s\n",
      "24:\tlearn: 323.1315580\ttotal: 98.3ms\tremaining: 3.83s\n",
      "25:\tlearn: 319.3322885\ttotal: 99.9ms\tremaining: 3.74s\n",
      "26:\tlearn: 316.2039164\ttotal: 101ms\tremaining: 3.65s\n",
      "27:\tlearn: 313.2598806\ttotal: 103ms\tremaining: 3.57s\n",
      "28:\tlearn: 310.1086898\ttotal: 104ms\tremaining: 3.49s\n",
      "29:\tlearn: 307.0508553\ttotal: 106ms\tremaining: 3.41s\n",
      "30:\tlearn: 304.5843401\ttotal: 108ms\tremaining: 3.37s\n",
      "31:\tlearn: 301.6708432\ttotal: 110ms\tremaining: 3.31s\n",
      "32:\tlearn: 298.9175443\ttotal: 111ms\tremaining: 3.26s\n",
      "33:\tlearn: 296.1231309\ttotal: 113ms\tremaining: 3.21s\n",
      "34:\tlearn: 293.2359275\ttotal: 114ms\tremaining: 3.15s\n",
      "35:\tlearn: 290.3999850\ttotal: 116ms\tremaining: 3.1s\n",
      "36:\tlearn: 287.8958674\ttotal: 117ms\tremaining: 3.04s\n",
      "37:\tlearn: 285.6692571\ttotal: 118ms\tremaining: 3s\n",
      "38:\tlearn: 282.9812904\ttotal: 122ms\tremaining: 3.02s\n",
      "39:\tlearn: 280.6302291\ttotal: 124ms\tremaining: 2.98s\n",
      "40:\tlearn: 278.2767119\ttotal: 125ms\tremaining: 2.93s\n",
      "41:\tlearn: 276.0589541\ttotal: 127ms\tremaining: 2.91s\n",
      "42:\tlearn: 273.6619286\ttotal: 129ms\tremaining: 2.87s\n",
      "43:\tlearn: 271.1128163\ttotal: 131ms\tremaining: 2.84s\n",
      "44:\tlearn: 268.9091716\ttotal: 133ms\tremaining: 2.83s\n",
      "45:\tlearn: 266.3675542\ttotal: 135ms\tremaining: 2.8s\n",
      "46:\tlearn: 263.7815611\ttotal: 137ms\tremaining: 2.77s\n",
      "47:\tlearn: 261.8160223\ttotal: 138ms\tremaining: 2.74s\n",
      "48:\tlearn: 259.7109561\ttotal: 140ms\tremaining: 2.71s\n",
      "49:\tlearn: 257.7200276\ttotal: 141ms\tremaining: 2.69s\n",
      "50:\tlearn: 255.7835524\ttotal: 143ms\tremaining: 2.66s\n",
      "51:\tlearn: 253.8406902\ttotal: 145ms\tremaining: 2.65s\n",
      "52:\tlearn: 251.6896611\ttotal: 147ms\tremaining: 2.63s\n",
      "53:\tlearn: 250.0830915\ttotal: 149ms\tremaining: 2.61s\n",
      "54:\tlearn: 248.3689069\ttotal: 151ms\tremaining: 2.59s\n",
      "55:\tlearn: 246.2718937\ttotal: 152ms\tremaining: 2.56s\n",
      "56:\tlearn: 244.3923224\ttotal: 154ms\tremaining: 2.54s\n",
      "57:\tlearn: 242.3040669\ttotal: 155ms\tremaining: 2.52s\n",
      "58:\tlearn: 240.5357981\ttotal: 157ms\tremaining: 2.5s\n",
      "59:\tlearn: 238.7009594\ttotal: 160ms\tremaining: 2.5s\n",
      "60:\tlearn: 237.2676945\ttotal: 161ms\tremaining: 2.48s\n",
      "61:\tlearn: 235.7252656\ttotal: 163ms\tremaining: 2.46s\n",
      "62:\tlearn: 234.1007596\ttotal: 164ms\tremaining: 2.44s\n",
      "63:\tlearn: 232.4179971\ttotal: 166ms\tremaining: 2.42s\n",
      "64:\tlearn: 231.1643497\ttotal: 167ms\tremaining: 2.4s\n",
      "65:\tlearn: 229.6810852\ttotal: 168ms\tremaining: 2.38s\n",
      "66:\tlearn: 228.1714231\ttotal: 170ms\tremaining: 2.37s\n",
      "67:\tlearn: 226.9338286\ttotal: 173ms\tremaining: 2.36s\n",
      "68:\tlearn: 226.0780127\ttotal: 174ms\tremaining: 2.35s\n",
      "69:\tlearn: 224.6598569\ttotal: 176ms\tremaining: 2.33s\n",
      "70:\tlearn: 223.1110463\ttotal: 177ms\tremaining: 2.32s\n",
      "71:\tlearn: 221.6545694\ttotal: 179ms\tremaining: 2.31s\n",
      "72:\tlearn: 220.2670639\ttotal: 181ms\tremaining: 2.29s\n",
      "73:\tlearn: 218.9738032\ttotal: 185ms\tremaining: 2.31s\n",
      "74:\tlearn: 217.9247112\ttotal: 187ms\tremaining: 2.3s\n",
      "75:\tlearn: 216.9202490\ttotal: 188ms\tremaining: 2.29s\n",
      "76:\tlearn: 215.5989131\ttotal: 189ms\tremaining: 2.27s\n",
      "77:\tlearn: 214.3540917\ttotal: 191ms\tremaining: 2.26s\n",
      "78:\tlearn: 213.4575339\ttotal: 193ms\tremaining: 2.24s\n",
      "79:\tlearn: 212.1036261\ttotal: 194ms\tremaining: 2.23s\n",
      "80:\tlearn: 210.8030392\ttotal: 196ms\tremaining: 2.22s\n",
      "81:\tlearn: 209.5290460\ttotal: 198ms\tremaining: 2.22s\n",
      "82:\tlearn: 208.0255508\ttotal: 200ms\tremaining: 2.21s\n",
      "83:\tlearn: 206.9124270\ttotal: 201ms\tremaining: 2.19s\n",
      "84:\tlearn: 205.5903017\ttotal: 203ms\tremaining: 2.18s\n",
      "85:\tlearn: 204.6057051\ttotal: 204ms\tremaining: 2.17s\n",
      "86:\tlearn: 203.7128429\ttotal: 206ms\tremaining: 2.16s\n",
      "87:\tlearn: 202.7663836\ttotal: 207ms\tremaining: 2.14s\n",
      "88:\tlearn: 201.9026542\ttotal: 208ms\tremaining: 2.13s\n",
      "89:\tlearn: 200.7729520\ttotal: 210ms\tremaining: 2.13s\n",
      "90:\tlearn: 199.6909954\ttotal: 212ms\tremaining: 2.12s\n",
      "91:\tlearn: 198.6341430\ttotal: 214ms\tremaining: 2.11s\n",
      "92:\tlearn: 197.6117675\ttotal: 215ms\tremaining: 2.1s\n",
      "93:\tlearn: 196.5198483\ttotal: 217ms\tremaining: 2.09s\n",
      "94:\tlearn: 195.5443940\ttotal: 218ms\tremaining: 2.08s\n",
      "95:\tlearn: 194.4203970\ttotal: 220ms\tremaining: 2.07s\n",
      "96:\tlearn: 193.2677508\ttotal: 222ms\tremaining: 2.06s\n",
      "97:\tlearn: 192.1768427\ttotal: 224ms\tremaining: 2.06s\n",
      "98:\tlearn: 191.2356955\ttotal: 226ms\tremaining: 2.05s\n",
      "99:\tlearn: 189.9934546\ttotal: 227ms\tremaining: 2.04s\n",
      "100:\tlearn: 189.2719006\ttotal: 229ms\tremaining: 2.04s\n",
      "101:\tlearn: 188.1079321\ttotal: 230ms\tremaining: 2.03s\n",
      "102:\tlearn: 187.1211517\ttotal: 232ms\tremaining: 2.02s\n",
      "103:\tlearn: 185.9059118\ttotal: 233ms\tremaining: 2.01s\n",
      "104:\tlearn: 185.2620919\ttotal: 235ms\tremaining: 2s\n",
      "105:\tlearn: 184.4349037\ttotal: 237ms\tremaining: 2s\n",
      "106:\tlearn: 183.1846237\ttotal: 239ms\tremaining: 1.99s\n",
      "107:\tlearn: 182.1448077\ttotal: 240ms\tremaining: 1.98s\n",
      "108:\tlearn: 181.4787170\ttotal: 242ms\tremaining: 1.98s\n",
      "109:\tlearn: 180.6789032\ttotal: 244ms\tremaining: 1.97s\n",
      "110:\tlearn: 179.9122461\ttotal: 245ms\tremaining: 1.96s\n",
      "111:\tlearn: 178.9952892\ttotal: 247ms\tremaining: 1.95s\n",
      "112:\tlearn: 178.6013107\ttotal: 248ms\tremaining: 1.95s\n",
      "113:\tlearn: 177.7090692\ttotal: 250ms\tremaining: 1.94s\n",
      "114:\tlearn: 176.7404828\ttotal: 252ms\tremaining: 1.94s\n",
      "115:\tlearn: 176.0415402\ttotal: 253ms\tremaining: 1.93s\n",
      "116:\tlearn: 175.5315148\ttotal: 255ms\tremaining: 1.92s\n",
      "117:\tlearn: 174.8976738\ttotal: 256ms\tremaining: 1.91s\n",
      "118:\tlearn: 174.0530870\ttotal: 258ms\tremaining: 1.91s\n",
      "119:\tlearn: 173.0700181\ttotal: 259ms\tremaining: 1.9s\n",
      "120:\tlearn: 172.2832739\ttotal: 260ms\tremaining: 1.89s\n",
      "121:\tlearn: 171.4960220\ttotal: 262ms\tremaining: 1.89s\n",
      "122:\tlearn: 171.0402978\ttotal: 264ms\tremaining: 1.88s\n",
      "123:\tlearn: 170.7119169\ttotal: 266ms\tremaining: 1.88s\n",
      "124:\tlearn: 169.6907823\ttotal: 267ms\tremaining: 1.87s\n",
      "125:\tlearn: 169.2063700\ttotal: 268ms\tremaining: 1.86s\n",
      "126:\tlearn: 168.1597529\ttotal: 270ms\tremaining: 1.85s\n",
      "127:\tlearn: 167.3156403\ttotal: 271ms\tremaining: 1.85s\n",
      "128:\tlearn: 166.3187281\ttotal: 273ms\tremaining: 1.84s\n",
      "129:\tlearn: 166.1101656\ttotal: 275ms\tremaining: 1.84s\n",
      "130:\tlearn: 165.5420012\ttotal: 277ms\tremaining: 1.83s\n",
      "131:\tlearn: 164.6237022\ttotal: 278ms\tremaining: 1.83s\n",
      "132:\tlearn: 163.7646814\ttotal: 280ms\tremaining: 1.82s\n",
      "133:\tlearn: 163.3971858\ttotal: 281ms\tremaining: 1.82s\n",
      "134:\tlearn: 162.8775666\ttotal: 283ms\tremaining: 1.81s\n",
      "135:\tlearn: 162.3591190\ttotal: 284ms\tremaining: 1.81s\n",
      "136:\tlearn: 161.8515150\ttotal: 286ms\tremaining: 1.8s\n",
      "137:\tlearn: 161.2542226\ttotal: 288ms\tremaining: 1.8s\n",
      "138:\tlearn: 160.5899334\ttotal: 291ms\tremaining: 1.8s\n",
      "139:\tlearn: 159.6307999\ttotal: 292ms\tremaining: 1.79s\n",
      "140:\tlearn: 159.0055431\ttotal: 294ms\tremaining: 1.79s\n",
      "141:\tlearn: 158.2566894\ttotal: 295ms\tremaining: 1.78s\n",
      "142:\tlearn: 157.6496356\ttotal: 297ms\tremaining: 1.78s\n",
      "143:\tlearn: 157.1590393\ttotal: 298ms\tremaining: 1.77s\n",
      "144:\tlearn: 156.5730455\ttotal: 300ms\tremaining: 1.77s\n",
      "145:\tlearn: 155.8450985\ttotal: 302ms\tremaining: 1.77s\n",
      "146:\tlearn: 155.2439210\ttotal: 304ms\tremaining: 1.76s\n",
      "147:\tlearn: 154.9417796\ttotal: 305ms\tremaining: 1.76s\n",
      "148:\tlearn: 154.3763613\ttotal: 307ms\tremaining: 1.75s\n",
      "149:\tlearn: 153.9438757\ttotal: 308ms\tremaining: 1.75s\n",
      "150:\tlearn: 153.1854046\ttotal: 310ms\tremaining: 1.74s\n",
      "151:\tlearn: 152.8631442\ttotal: 311ms\tremaining: 1.74s\n",
      "152:\tlearn: 152.3115428\ttotal: 313ms\tremaining: 1.73s\n",
      "153:\tlearn: 151.8957029\ttotal: 315ms\tremaining: 1.73s\n",
      "154:\tlearn: 151.1871329\ttotal: 317ms\tremaining: 1.73s\n",
      "155:\tlearn: 150.6828564\ttotal: 318ms\tremaining: 1.72s\n",
      "156:\tlearn: 150.2509622\ttotal: 320ms\tremaining: 1.72s\n",
      "157:\tlearn: 149.6497659\ttotal: 321ms\tremaining: 1.71s\n",
      "158:\tlearn: 148.9332067\ttotal: 323ms\tremaining: 1.71s\n",
      "159:\tlearn: 148.7156418\ttotal: 324ms\tremaining: 1.7s\n",
      "160:\tlearn: 148.2737189\ttotal: 327ms\tremaining: 1.7s\n",
      "161:\tlearn: 147.9625721\ttotal: 328ms\tremaining: 1.7s\n",
      "162:\tlearn: 147.4564915\ttotal: 330ms\tremaining: 1.69s\n",
      "163:\tlearn: 146.8606991\ttotal: 331ms\tremaining: 1.69s\n",
      "164:\tlearn: 146.2386459\ttotal: 333ms\tremaining: 1.68s\n",
      "165:\tlearn: 145.7642228\ttotal: 334ms\tremaining: 1.68s\n",
      "166:\tlearn: 145.3792204\ttotal: 336ms\tremaining: 1.68s\n",
      "167:\tlearn: 145.0935465\ttotal: 338ms\tremaining: 1.67s\n",
      "168:\tlearn: 144.6976165\ttotal: 340ms\tremaining: 1.67s\n",
      "169:\tlearn: 143.9724403\ttotal: 341ms\tremaining: 1.67s\n",
      "170:\tlearn: 143.6449839\ttotal: 343ms\tremaining: 1.66s\n",
      "171:\tlearn: 143.1999180\ttotal: 344ms\tremaining: 1.66s\n",
      "172:\tlearn: 142.9381183\ttotal: 346ms\tremaining: 1.65s\n",
      "173:\tlearn: 142.3304601\ttotal: 347ms\tremaining: 1.65s\n",
      "174:\tlearn: 141.9229624\ttotal: 349ms\tremaining: 1.64s\n",
      "175:\tlearn: 141.4043903\ttotal: 351ms\tremaining: 1.64s\n",
      "176:\tlearn: 141.0209642\ttotal: 353ms\tremaining: 1.64s\n",
      "177:\tlearn: 140.4510865\ttotal: 354ms\tremaining: 1.64s\n",
      "178:\tlearn: 140.3441522\ttotal: 355ms\tremaining: 1.63s\n",
      "179:\tlearn: 139.8478562\ttotal: 356ms\tremaining: 1.62s\n",
      "180:\tlearn: 139.7464932\ttotal: 357ms\tremaining: 1.61s\n",
      "181:\tlearn: 139.2514614\ttotal: 359ms\tremaining: 1.61s\n",
      "182:\tlearn: 139.0274540\ttotal: 360ms\tremaining: 1.61s\n",
      "183:\tlearn: 138.4584181\ttotal: 361ms\tremaining: 1.6s\n",
      "184:\tlearn: 138.2093063\ttotal: 363ms\tremaining: 1.6s\n",
      "185:\tlearn: 137.8406250\ttotal: 365ms\tremaining: 1.6s\n",
      "186:\tlearn: 137.7280816\ttotal: 367ms\tremaining: 1.59s\n",
      "187:\tlearn: 137.2465993\ttotal: 368ms\tremaining: 1.59s\n",
      "188:\tlearn: 136.7894765\ttotal: 369ms\tremaining: 1.58s\n",
      "189:\tlearn: 136.4857311\ttotal: 371ms\tremaining: 1.58s\n",
      "190:\tlearn: 136.0043713\ttotal: 372ms\tremaining: 1.58s\n",
      "191:\tlearn: 135.7523177\ttotal: 373ms\tremaining: 1.57s\n",
      "192:\tlearn: 135.3372675\ttotal: 375ms\tremaining: 1.57s\n",
      "193:\tlearn: 135.0202084\ttotal: 377ms\tremaining: 1.57s\n",
      "194:\tlearn: 134.7757422\ttotal: 379ms\tremaining: 1.56s\n",
      "195:\tlearn: 134.3546545\ttotal: 380ms\tremaining: 1.56s\n",
      "196:\tlearn: 133.9623627\ttotal: 382ms\tremaining: 1.56s\n",
      "197:\tlearn: 133.2648869\ttotal: 383ms\tremaining: 1.55s\n",
      "198:\tlearn: 132.9318972\ttotal: 385ms\tremaining: 1.55s\n",
      "199:\tlearn: 132.5119098\ttotal: 386ms\tremaining: 1.54s\n",
      "200:\tlearn: 131.8954412\ttotal: 388ms\tremaining: 1.54s\n",
      "201:\tlearn: 131.6115557\ttotal: 390ms\tremaining: 1.54s\n",
      "202:\tlearn: 131.2095441\ttotal: 391ms\tremaining: 1.54s\n",
      "203:\tlearn: 130.6658729\ttotal: 393ms\tremaining: 1.53s\n",
      "204:\tlearn: 130.3457517\ttotal: 395ms\tremaining: 1.53s\n",
      "205:\tlearn: 130.0833818\ttotal: 397ms\tremaining: 1.53s\n",
      "206:\tlearn: 129.7238048\ttotal: 398ms\tremaining: 1.53s\n",
      "207:\tlearn: 129.0671906\ttotal: 401ms\tremaining: 1.53s\n",
      "208:\tlearn: 128.7683402\ttotal: 403ms\tremaining: 1.52s\n",
      "209:\tlearn: 128.5832593\ttotal: 405ms\tremaining: 1.52s\n",
      "210:\tlearn: 128.3749444\ttotal: 406ms\tremaining: 1.52s\n",
      "211:\tlearn: 128.1143221\ttotal: 408ms\tremaining: 1.51s\n",
      "212:\tlearn: 127.9897497\ttotal: 409ms\tremaining: 1.51s\n",
      "213:\tlearn: 127.6815659\ttotal: 411ms\tremaining: 1.51s\n",
      "214:\tlearn: 127.2006697\ttotal: 414ms\tremaining: 1.51s\n",
      "215:\tlearn: 127.0352179\ttotal: 416ms\tremaining: 1.51s\n",
      "216:\tlearn: 126.9617234\ttotal: 417ms\tremaining: 1.5s\n",
      "217:\tlearn: 126.7776328\ttotal: 418ms\tremaining: 1.5s\n",
      "218:\tlearn: 126.3802524\ttotal: 420ms\tremaining: 1.5s\n",
      "219:\tlearn: 126.1995377\ttotal: 422ms\tremaining: 1.5s\n",
      "220:\tlearn: 126.1155383\ttotal: 423ms\tremaining: 1.49s\n",
      "221:\tlearn: 125.9832799\ttotal: 427ms\tremaining: 1.5s\n",
      "222:\tlearn: 125.7495770\ttotal: 430ms\tremaining: 1.5s\n",
      "223:\tlearn: 125.2409845\ttotal: 432ms\tremaining: 1.5s\n",
      "224:\tlearn: 124.9538099\ttotal: 434ms\tremaining: 1.5s\n",
      "225:\tlearn: 124.7089151\ttotal: 436ms\tremaining: 1.49s\n",
      "226:\tlearn: 124.3984858\ttotal: 438ms\tremaining: 1.49s\n",
      "227:\tlearn: 124.0014588\ttotal: 441ms\tremaining: 1.49s\n",
      "228:\tlearn: 123.7139174\ttotal: 444ms\tremaining: 1.49s\n",
      "229:\tlearn: 123.6555034\ttotal: 445ms\tremaining: 1.49s\n",
      "230:\tlearn: 123.3398368\ttotal: 446ms\tremaining: 1.49s\n",
      "231:\tlearn: 122.7561150\ttotal: 448ms\tremaining: 1.48s\n",
      "232:\tlearn: 122.5676806\ttotal: 450ms\tremaining: 1.48s\n",
      "233:\tlearn: 122.1759040\ttotal: 451ms\tremaining: 1.48s\n",
      "234:\tlearn: 121.5761316\ttotal: 453ms\tremaining: 1.48s\n",
      "235:\tlearn: 121.3308579\ttotal: 455ms\tremaining: 1.47s\n",
      "236:\tlearn: 120.6316918\ttotal: 457ms\tremaining: 1.47s\n",
      "237:\tlearn: 120.0241441\ttotal: 459ms\tremaining: 1.47s\n",
      "238:\tlearn: 119.6974692\ttotal: 460ms\tremaining: 1.47s\n",
      "239:\tlearn: 119.5295579\ttotal: 462ms\tremaining: 1.46s\n",
      "240:\tlearn: 118.8105516\ttotal: 463ms\tremaining: 1.46s\n",
      "241:\tlearn: 118.5001438\ttotal: 465ms\tremaining: 1.46s\n",
      "242:\tlearn: 118.1525333\ttotal: 467ms\tremaining: 1.46s\n",
      "243:\tlearn: 117.8294708\ttotal: 469ms\tremaining: 1.45s\n",
      "244:\tlearn: 117.4650856\ttotal: 470ms\tremaining: 1.45s\n",
      "245:\tlearn: 117.2329146\ttotal: 472ms\tremaining: 1.45s\n",
      "246:\tlearn: 116.6281150\ttotal: 473ms\tremaining: 1.44s\n",
      "247:\tlearn: 116.4382173\ttotal: 475ms\tremaining: 1.44s\n",
      "248:\tlearn: 115.7804838\ttotal: 476ms\tremaining: 1.44s\n",
      "249:\tlearn: 115.4468389\ttotal: 478ms\tremaining: 1.43s\n",
      "250:\tlearn: 115.2535858\ttotal: 480ms\tremaining: 1.43s\n",
      "251:\tlearn: 115.0959725\ttotal: 482ms\tremaining: 1.43s\n",
      "252:\tlearn: 114.5054098\ttotal: 483ms\tremaining: 1.43s\n",
      "253:\tlearn: 114.2196805\ttotal: 485ms\tremaining: 1.42s\n",
      "254:\tlearn: 113.9389493\ttotal: 486ms\tremaining: 1.42s\n",
      "255:\tlearn: 113.8318782\ttotal: 487ms\tremaining: 1.42s\n",
      "256:\tlearn: 113.7010766\ttotal: 489ms\tremaining: 1.41s\n",
      "257:\tlearn: 113.5349213\ttotal: 490ms\tremaining: 1.41s\n",
      "258:\tlearn: 113.2939692\ttotal: 493ms\tremaining: 1.41s\n",
      "259:\tlearn: 112.8734855\ttotal: 495ms\tremaining: 1.41s\n",
      "260:\tlearn: 112.2073904\ttotal: 497ms\tremaining: 1.41s\n",
      "261:\tlearn: 111.7098455\ttotal: 498ms\tremaining: 1.4s\n",
      "262:\tlearn: 111.4861643\ttotal: 500ms\tremaining: 1.4s\n",
      "263:\tlearn: 111.4065123\ttotal: 501ms\tremaining: 1.4s\n",
      "264:\tlearn: 110.9193214\ttotal: 503ms\tremaining: 1.39s\n",
      "265:\tlearn: 110.2486713\ttotal: 505ms\tremaining: 1.39s\n",
      "266:\tlearn: 110.1718829\ttotal: 507ms\tremaining: 1.39s\n",
      "267:\tlearn: 109.8233102\ttotal: 508ms\tremaining: 1.39s\n",
      "268:\tlearn: 109.2576068\ttotal: 510ms\tremaining: 1.38s\n",
      "269:\tlearn: 109.1038965\ttotal: 511ms\tremaining: 1.38s\n",
      "270:\tlearn: 108.5183523\ttotal: 512ms\tremaining: 1.38s\n",
      "271:\tlearn: 108.4470954\ttotal: 513ms\tremaining: 1.37s\n",
      "272:\tlearn: 108.0259628\ttotal: 515ms\tremaining: 1.37s\n",
      "273:\tlearn: 107.5793316\ttotal: 517ms\tremaining: 1.37s\n",
      "274:\tlearn: 107.4747562\ttotal: 519ms\tremaining: 1.37s\n",
      "275:\tlearn: 107.4015080\ttotal: 520ms\tremaining: 1.36s\n",
      "276:\tlearn: 106.7954512\ttotal: 522ms\tremaining: 1.36s\n",
      "277:\tlearn: 106.3607188\ttotal: 524ms\tremaining: 1.36s\n",
      "278:\tlearn: 106.2892222\ttotal: 526ms\tremaining: 1.36s\n",
      "279:\tlearn: 106.1701389\ttotal: 527ms\tremaining: 1.35s\n",
      "280:\tlearn: 106.0889424\ttotal: 529ms\tremaining: 1.35s\n",
      "281:\tlearn: 105.8903610\ttotal: 530ms\tremaining: 1.35s\n",
      "282:\tlearn: 105.6531794\ttotal: 532ms\tremaining: 1.35s\n",
      "283:\tlearn: 105.3489666\ttotal: 534ms\tremaining: 1.35s\n",
      "284:\tlearn: 105.2156952\ttotal: 535ms\tremaining: 1.34s\n",
      "285:\tlearn: 104.7489850\ttotal: 537ms\tremaining: 1.34s\n",
      "286:\tlearn: 104.4701409\ttotal: 538ms\tremaining: 1.34s\n",
      "287:\tlearn: 104.3778769\ttotal: 540ms\tremaining: 1.33s\n",
      "288:\tlearn: 103.8224679\ttotal: 541ms\tremaining: 1.33s\n",
      "289:\tlearn: 103.2728523\ttotal: 543ms\tremaining: 1.33s\n",
      "290:\tlearn: 102.7341369\ttotal: 545ms\tremaining: 1.33s\n",
      "291:\tlearn: 102.5732242\ttotal: 546ms\tremaining: 1.32s\n",
      "292:\tlearn: 102.4869595\ttotal: 548ms\tremaining: 1.32s\n",
      "293:\tlearn: 101.9743362\ttotal: 549ms\tremaining: 1.32s\n",
      "294:\tlearn: 101.8782948\ttotal: 550ms\tremaining: 1.31s\n",
      "295:\tlearn: 101.3571512\ttotal: 552ms\tremaining: 1.31s\n",
      "296:\tlearn: 100.8372462\ttotal: 554ms\tremaining: 1.31s\n",
      "297:\tlearn: 100.6707783\ttotal: 556ms\tremaining: 1.31s\n",
      "298:\tlearn: 100.3215940\ttotal: 558ms\tremaining: 1.31s\n",
      "299:\tlearn: 99.8162460\ttotal: 559ms\tremaining: 1.3s\n",
      "300:\tlearn: 99.7024172\ttotal: 561ms\tremaining: 1.3s\n",
      "301:\tlearn: 99.2308832\ttotal: 562ms\tremaining: 1.3s\n",
      "302:\tlearn: 98.7981083\ttotal: 564ms\tremaining: 1.3s\n",
      "303:\tlearn: 98.6418362\ttotal: 565ms\tremaining: 1.29s\n",
      "304:\tlearn: 98.1248564\ttotal: 567ms\tremaining: 1.29s\n",
      "305:\tlearn: 97.9442581\ttotal: 568ms\tremaining: 1.29s\n",
      "306:\tlearn: 97.5091297\ttotal: 571ms\tremaining: 1.29s\n",
      "307:\tlearn: 97.0381695\ttotal: 572ms\tremaining: 1.29s\n",
      "308:\tlearn: 96.5858904\ttotal: 575ms\tremaining: 1.28s\n",
      "309:\tlearn: 96.4466124\ttotal: 576ms\tremaining: 1.28s\n",
      "310:\tlearn: 95.9786304\ttotal: 578ms\tremaining: 1.28s\n",
      "311:\tlearn: 95.5390501\ttotal: 579ms\tremaining: 1.28s\n",
      "312:\tlearn: 95.3241323\ttotal: 581ms\tremaining: 1.27s\n",
      "313:\tlearn: 95.1166839\ttotal: 583ms\tremaining: 1.27s\n",
      "314:\tlearn: 94.6729021\ttotal: 585ms\tremaining: 1.27s\n",
      "315:\tlearn: 94.2571678\ttotal: 587ms\tremaining: 1.27s\n",
      "316:\tlearn: 93.9414786\ttotal: 588ms\tremaining: 1.27s\n",
      "317:\tlearn: 93.7804159\ttotal: 590ms\tremaining: 1.26s\n",
      "318:\tlearn: 93.5413306\ttotal: 591ms\tremaining: 1.26s\n",
      "319:\tlearn: 93.4280107\ttotal: 593ms\tremaining: 1.26s\n",
      "320:\tlearn: 92.9986302\ttotal: 594ms\tremaining: 1.26s\n",
      "321:\tlearn: 92.9421610\ttotal: 596ms\tremaining: 1.25s\n",
      "322:\tlearn: 92.4662692\ttotal: 598ms\tremaining: 1.25s\n",
      "323:\tlearn: 92.0455485\ttotal: 600ms\tremaining: 1.25s\n",
      "324:\tlearn: 91.6664667\ttotal: 601ms\tremaining: 1.25s\n",
      "325:\tlearn: 91.5600717\ttotal: 602ms\tremaining: 1.25s\n",
      "326:\tlearn: 91.5004974\ttotal: 603ms\tremaining: 1.24s\n",
      "327:\tlearn: 91.0716355\ttotal: 605ms\tremaining: 1.24s\n",
      "328:\tlearn: 90.6376777\ttotal: 606ms\tremaining: 1.24s\n",
      "329:\tlearn: 90.2132341\ttotal: 609ms\tremaining: 1.24s\n",
      "330:\tlearn: 90.1525801\ttotal: 610ms\tremaining: 1.23s\n",
      "331:\tlearn: 89.7879501\ttotal: 612ms\tremaining: 1.23s\n",
      "332:\tlearn: 89.3626218\ttotal: 613ms\tremaining: 1.23s\n",
      "333:\tlearn: 89.1274526\ttotal: 614ms\tremaining: 1.23s\n",
      "334:\tlearn: 88.7222011\ttotal: 616ms\tremaining: 1.22s\n",
      "335:\tlearn: 88.5311901\ttotal: 617ms\tremaining: 1.22s\n",
      "336:\tlearn: 88.0699983\ttotal: 618ms\tremaining: 1.22s\n",
      "337:\tlearn: 87.6737037\ttotal: 620ms\tremaining: 1.21s\n",
      "338:\tlearn: 87.3069085\ttotal: 622ms\tremaining: 1.21s\n",
      "339:\tlearn: 86.8639700\ttotal: 624ms\tremaining: 1.21s\n",
      "340:\tlearn: 86.7339532\ttotal: 625ms\tremaining: 1.21s\n",
      "341:\tlearn: 86.5677333\ttotal: 626ms\tremaining: 1.2s\n",
      "342:\tlearn: 86.4361752\ttotal: 628ms\tremaining: 1.2s\n",
      "343:\tlearn: 86.2469458\ttotal: 630ms\tremaining: 1.2s\n",
      "344:\tlearn: 86.1967306\ttotal: 631ms\tremaining: 1.2s\n",
      "345:\tlearn: 86.0709863\ttotal: 633ms\tremaining: 1.2s\n",
      "346:\tlearn: 85.6398833\ttotal: 635ms\tremaining: 1.2s\n",
      "347:\tlearn: 85.5979263\ttotal: 637ms\tremaining: 1.19s\n",
      "348:\tlearn: 85.4437261\ttotal: 638ms\tremaining: 1.19s\n",
      "349:\tlearn: 85.0669752\ttotal: 640ms\tremaining: 1.19s\n",
      "350:\tlearn: 85.0164116\ttotal: 641ms\tremaining: 1.19s\n",
      "351:\tlearn: 84.6350071\ttotal: 643ms\tremaining: 1.18s\n",
      "352:\tlearn: 84.1473245\ttotal: 644ms\tremaining: 1.18s\n",
      "353:\tlearn: 83.8115391\ttotal: 646ms\tremaining: 1.18s\n",
      "354:\tlearn: 83.4823620\ttotal: 648ms\tremaining: 1.18s\n",
      "355:\tlearn: 83.1595406\ttotal: 650ms\tremaining: 1.17s\n",
      "356:\tlearn: 82.7280745\ttotal: 651ms\tremaining: 1.17s\n",
      "357:\tlearn: 82.6210086\ttotal: 652ms\tremaining: 1.17s\n",
      "358:\tlearn: 82.3077194\ttotal: 654ms\tremaining: 1.17s\n",
      "359:\tlearn: 81.9112073\ttotal: 655ms\tremaining: 1.16s\n",
      "360:\tlearn: 81.5518193\ttotal: 657ms\tremaining: 1.16s\n",
      "361:\tlearn: 81.4267033\ttotal: 658ms\tremaining: 1.16s\n",
      "362:\tlearn: 81.0255982\ttotal: 660ms\tremaining: 1.16s\n",
      "363:\tlearn: 80.6891175\ttotal: 661ms\tremaining: 1.16s\n",
      "364:\tlearn: 80.4390711\ttotal: 663ms\tremaining: 1.15s\n",
      "365:\tlearn: 80.1232319\ttotal: 664ms\tremaining: 1.15s\n",
      "366:\tlearn: 80.0808756\ttotal: 666ms\tremaining: 1.15s\n",
      "367:\tlearn: 79.7090424\ttotal: 667ms\tremaining: 1.15s\n",
      "368:\tlearn: 79.3969152\ttotal: 668ms\tremaining: 1.14s\n",
      "369:\tlearn: 79.0731259\ttotal: 670ms\tremaining: 1.14s\n",
      "370:\tlearn: 78.9862934\ttotal: 672ms\tremaining: 1.14s\n",
      "371:\tlearn: 78.7730476\ttotal: 674ms\tremaining: 1.14s\n",
      "372:\tlearn: 78.6302158\ttotal: 675ms\tremaining: 1.13s\n",
      "373:\tlearn: 78.5184111\ttotal: 676ms\tremaining: 1.13s\n",
      "374:\tlearn: 78.3814955\ttotal: 678ms\tremaining: 1.13s\n",
      "375:\tlearn: 77.9622261\ttotal: 679ms\tremaining: 1.13s\n",
      "376:\tlearn: 77.8601787\ttotal: 681ms\tremaining: 1.12s\n",
      "377:\tlearn: 77.7650898\ttotal: 682ms\tremaining: 1.12s\n",
      "378:\tlearn: 77.3945927\ttotal: 685ms\tremaining: 1.12s\n",
      "379:\tlearn: 77.3348237\ttotal: 687ms\tremaining: 1.12s\n",
      "380:\tlearn: 77.2431856\ttotal: 688ms\tremaining: 1.12s\n",
      "381:\tlearn: 76.9192891\ttotal: 689ms\tremaining: 1.11s\n",
      "382:\tlearn: 76.7949544\ttotal: 691ms\tremaining: 1.11s\n",
      "383:\tlearn: 76.5217530\ttotal: 692ms\tremaining: 1.11s\n",
      "384:\tlearn: 76.1648512\ttotal: 693ms\tremaining: 1.11s\n",
      "385:\tlearn: 75.9867656\ttotal: 695ms\tremaining: 1.1s\n",
      "386:\tlearn: 75.7293435\ttotal: 696ms\tremaining: 1.1s\n",
      "387:\tlearn: 75.6419805\ttotal: 699ms\tremaining: 1.1s\n",
      "388:\tlearn: 75.3138222\ttotal: 700ms\tremaining: 1.1s\n",
      "389:\tlearn: 75.0125736\ttotal: 702ms\tremaining: 1.1s\n",
      "390:\tlearn: 74.9803725\ttotal: 703ms\tremaining: 1.09s\n",
      "391:\tlearn: 74.6113970\ttotal: 705ms\tremaining: 1.09s\n",
      "392:\tlearn: 74.3668766\ttotal: 706ms\tremaining: 1.09s\n",
      "393:\tlearn: 74.2752147\ttotal: 708ms\tremaining: 1.09s\n",
      "394:\tlearn: 74.2172412\ttotal: 709ms\tremaining: 1.08s\n",
      "395:\tlearn: 73.8652110\ttotal: 711ms\tremaining: 1.08s\n",
      "396:\tlearn: 73.6963645\ttotal: 712ms\tremaining: 1.08s\n",
      "397:\tlearn: 73.4075086\ttotal: 714ms\tremaining: 1.08s\n",
      "398:\tlearn: 73.0346771\ttotal: 715ms\tremaining: 1.08s\n",
      "399:\tlearn: 72.9971586\ttotal: 717ms\tremaining: 1.07s\n",
      "400:\tlearn: 72.6755493\ttotal: 718ms\tremaining: 1.07s\n",
      "401:\tlearn: 72.5972282\ttotal: 720ms\tremaining: 1.07s\n",
      "402:\tlearn: 72.4345974\ttotal: 722ms\tremaining: 1.07s\n",
      "403:\tlearn: 72.2185716\ttotal: 724ms\tremaining: 1.07s\n",
      "404:\tlearn: 71.9251032\ttotal: 726ms\tremaining: 1.07s\n",
      "405:\tlearn: 71.8901544\ttotal: 728ms\tremaining: 1.06s\n",
      "406:\tlearn: 71.5338422\ttotal: 730ms\tremaining: 1.06s\n",
      "407:\tlearn: 71.4477827\ttotal: 731ms\tremaining: 1.06s\n",
      "408:\tlearn: 71.4127550\ttotal: 733ms\tremaining: 1.06s\n",
      "409:\tlearn: 71.3322454\ttotal: 734ms\tremaining: 1.06s\n",
      "410:\tlearn: 71.2981804\ttotal: 737ms\tremaining: 1.06s\n",
      "411:\tlearn: 71.0089173\ttotal: 739ms\tremaining: 1.05s\n",
      "412:\tlearn: 70.7854493\ttotal: 741ms\tremaining: 1.05s\n",
      "413:\tlearn: 70.4930103\ttotal: 742ms\tremaining: 1.05s\n",
      "414:\tlearn: 70.1976578\ttotal: 744ms\tremaining: 1.05s\n",
      "415:\tlearn: 69.9565552\ttotal: 745ms\tremaining: 1.05s\n",
      "416:\tlearn: 69.8912103\ttotal: 747ms\tremaining: 1.04s\n",
      "417:\tlearn: 69.7356706\ttotal: 750ms\tremaining: 1.04s\n",
      "418:\tlearn: 69.6634412\ttotal: 752ms\tremaining: 1.04s\n",
      "419:\tlearn: 69.2943609\ttotal: 753ms\tremaining: 1.04s\n",
      "420:\tlearn: 69.0269983\ttotal: 755ms\tremaining: 1.04s\n",
      "421:\tlearn: 68.8653561\ttotal: 756ms\tremaining: 1.03s\n",
      "422:\tlearn: 68.6555281\ttotal: 758ms\tremaining: 1.03s\n",
      "423:\tlearn: 68.2338294\ttotal: 759ms\tremaining: 1.03s\n",
      "424:\tlearn: 68.0909898\ttotal: 761ms\tremaining: 1.03s\n",
      "425:\tlearn: 67.7905722\ttotal: 763ms\tremaining: 1.03s\n",
      "426:\tlearn: 67.5586853\ttotal: 765ms\tremaining: 1.02s\n",
      "427:\tlearn: 67.3518839\ttotal: 766ms\tremaining: 1.02s\n",
      "428:\tlearn: 67.2029794\ttotal: 767ms\tremaining: 1.02s\n",
      "429:\tlearn: 66.9467892\ttotal: 769ms\tremaining: 1.02s\n",
      "430:\tlearn: 66.7821891\ttotal: 770ms\tremaining: 1.02s\n",
      "431:\tlearn: 66.4955741\ttotal: 772ms\tremaining: 1.01s\n",
      "432:\tlearn: 66.2240359\ttotal: 773ms\tremaining: 1.01s\n",
      "433:\tlearn: 65.9832136\ttotal: 776ms\tremaining: 1.01s\n",
      "434:\tlearn: 65.7761577\ttotal: 777ms\tremaining: 1.01s\n",
      "435:\tlearn: 65.4845025\ttotal: 779ms\tremaining: 1.01s\n",
      "436:\tlearn: 65.4215937\ttotal: 780ms\tremaining: 1s\n",
      "437:\tlearn: 65.1768197\ttotal: 782ms\tremaining: 1s\n",
      "438:\tlearn: 65.1071642\ttotal: 783ms\tremaining: 1s\n",
      "439:\tlearn: 65.0705857\ttotal: 784ms\tremaining: 998ms\n",
      "440:\tlearn: 64.7782864\ttotal: 786ms\tremaining: 996ms\n",
      "441:\tlearn: 64.5284944\ttotal: 789ms\tremaining: 996ms\n",
      "442:\tlearn: 64.3504433\ttotal: 791ms\tremaining: 994ms\n",
      "443:\tlearn: 64.3001112\ttotal: 792ms\tremaining: 992ms\n",
      "444:\tlearn: 63.9063758\ttotal: 793ms\tremaining: 990ms\n",
      "445:\tlearn: 63.8746707\ttotal: 795ms\tremaining: 987ms\n",
      "446:\tlearn: 63.5487944\ttotal: 796ms\tremaining: 985ms\n",
      "447:\tlearn: 63.3406893\ttotal: 798ms\tremaining: 983ms\n",
      "448:\tlearn: 63.0992921\ttotal: 799ms\tremaining: 981ms\n",
      "449:\tlearn: 62.8676535\ttotal: 801ms\tremaining: 980ms\n",
      "450:\tlearn: 62.6978975\ttotal: 803ms\tremaining: 977ms\n",
      "451:\tlearn: 62.4888356\ttotal: 804ms\tremaining: 975ms\n",
      "452:\tlearn: 62.4591033\ttotal: 806ms\tremaining: 973ms\n",
      "453:\tlearn: 62.3981355\ttotal: 807ms\tremaining: 971ms\n",
      "454:\tlearn: 62.2755114\ttotal: 808ms\tremaining: 968ms\n",
      "455:\tlearn: 62.0286915\ttotal: 810ms\tremaining: 966ms\n",
      "456:\tlearn: 61.8101493\ttotal: 811ms\tremaining: 964ms\n",
      "457:\tlearn: 61.7125436\ttotal: 813ms\tremaining: 963ms\n",
      "458:\tlearn: 61.3464743\ttotal: 815ms\tremaining: 961ms\n",
      "459:\tlearn: 61.0777407\ttotal: 816ms\tremaining: 958ms\n",
      "460:\tlearn: 60.7354015\ttotal: 818ms\tremaining: 956ms\n",
      "461:\tlearn: 60.7070785\ttotal: 819ms\tremaining: 954ms\n",
      "462:\tlearn: 60.4380726\ttotal: 821ms\tremaining: 952ms\n",
      "463:\tlearn: 60.3794644\ttotal: 823ms\tremaining: 950ms\n",
      "464:\tlearn: 60.3096146\ttotal: 824ms\tremaining: 948ms\n",
      "465:\tlearn: 60.2803998\ttotal: 827ms\tremaining: 947ms\n",
      "466:\tlearn: 60.2489158\ttotal: 829ms\tremaining: 946ms\n",
      "467:\tlearn: 60.2187601\ttotal: 831ms\tremaining: 945ms\n",
      "468:\tlearn: 59.9901529\ttotal: 833ms\tremaining: 943ms\n",
      "469:\tlearn: 59.7821357\ttotal: 834ms\tremaining: 941ms\n",
      "470:\tlearn: 59.7334527\ttotal: 836ms\tremaining: 939ms\n",
      "471:\tlearn: 59.4989600\ttotal: 838ms\tremaining: 938ms\n",
      "472:\tlearn: 59.1865219\ttotal: 841ms\tremaining: 937ms\n",
      "473:\tlearn: 58.9478658\ttotal: 843ms\tremaining: 935ms\n",
      "474:\tlearn: 58.6836425\ttotal: 844ms\tremaining: 933ms\n",
      "475:\tlearn: 58.6522637\ttotal: 846ms\tremaining: 931ms\n",
      "476:\tlearn: 58.5963542\ttotal: 847ms\tremaining: 929ms\n",
      "477:\tlearn: 58.3648296\ttotal: 849ms\tremaining: 927ms\n",
      "478:\tlearn: 58.3188915\ttotal: 850ms\tremaining: 925ms\n",
      "479:\tlearn: 58.1813689\ttotal: 853ms\tremaining: 924ms\n",
      "480:\tlearn: 57.9437076\ttotal: 855ms\tremaining: 922ms\n",
      "481:\tlearn: 57.7694232\ttotal: 856ms\tremaining: 920ms\n",
      "482:\tlearn: 57.7437082\ttotal: 858ms\tremaining: 918ms\n",
      "483:\tlearn: 57.5081532\ttotal: 860ms\tremaining: 917ms\n",
      "484:\tlearn: 57.2134650\ttotal: 861ms\tremaining: 915ms\n",
      "485:\tlearn: 56.9733344\ttotal: 863ms\tremaining: 913ms\n",
      "486:\tlearn: 56.9412760\ttotal: 866ms\tremaining: 912ms\n",
      "487:\tlearn: 56.8640335\ttotal: 869ms\tremaining: 912ms\n",
      "488:\tlearn: 56.5624625\ttotal: 870ms\tremaining: 909ms\n",
      "489:\tlearn: 56.4986179\ttotal: 872ms\tremaining: 907ms\n",
      "490:\tlearn: 56.3527490\ttotal: 873ms\tremaining: 905ms\n",
      "491:\tlearn: 56.0961642\ttotal: 875ms\tremaining: 903ms\n",
      "492:\tlearn: 55.8256120\ttotal: 876ms\tremaining: 901ms\n",
      "493:\tlearn: 55.6150160\ttotal: 879ms\tremaining: 900ms\n",
      "494:\tlearn: 55.5631279\ttotal: 880ms\tremaining: 898ms\n",
      "495:\tlearn: 55.3736400\ttotal: 882ms\tremaining: 896ms\n",
      "496:\tlearn: 55.3441677\ttotal: 884ms\tremaining: 895ms\n",
      "497:\tlearn: 55.1995384\ttotal: 886ms\tremaining: 893ms\n",
      "498:\tlearn: 54.8980322\ttotal: 887ms\tremaining: 891ms\n",
      "499:\tlearn: 54.7119603\ttotal: 889ms\tremaining: 889ms\n",
      "500:\tlearn: 54.6236591\ttotal: 891ms\tremaining: 888ms\n",
      "501:\tlearn: 54.4131558\ttotal: 893ms\tremaining: 886ms\n",
      "502:\tlearn: 54.3901230\ttotal: 895ms\tremaining: 884ms\n",
      "503:\tlearn: 54.3662021\ttotal: 896ms\tremaining: 882ms\n",
      "504:\tlearn: 54.2068745\ttotal: 898ms\tremaining: 880ms\n",
      "505:\tlearn: 54.1800600\ttotal: 899ms\tremaining: 878ms\n",
      "506:\tlearn: 54.1376632\ttotal: 900ms\tremaining: 875ms\n",
      "507:\tlearn: 53.9788342\ttotal: 902ms\tremaining: 873ms\n",
      "508:\tlearn: 53.9294324\ttotal: 904ms\tremaining: 872ms\n",
      "509:\tlearn: 53.6786369\ttotal: 906ms\tremaining: 870ms\n",
      "510:\tlearn: 53.4578789\ttotal: 908ms\tremaining: 869ms\n",
      "511:\tlearn: 53.3261204\ttotal: 909ms\tremaining: 866ms\n",
      "512:\tlearn: 53.1331329\ttotal: 911ms\tremaining: 864ms\n",
      "513:\tlearn: 52.9261288\ttotal: 912ms\tremaining: 862ms\n",
      "514:\tlearn: 52.7447311\ttotal: 914ms\tremaining: 861ms\n",
      "515:\tlearn: 52.5966869\ttotal: 916ms\tremaining: 859ms\n",
      "516:\tlearn: 52.4130565\ttotal: 918ms\tremaining: 858ms\n",
      "517:\tlearn: 52.1948654\ttotal: 920ms\tremaining: 856ms\n",
      "518:\tlearn: 51.9463802\ttotal: 921ms\tremaining: 854ms\n",
      "519:\tlearn: 51.9178306\ttotal: 923ms\tremaining: 852ms\n",
      "520:\tlearn: 51.7246141\ttotal: 924ms\tremaining: 850ms\n",
      "521:\tlearn: 51.5669648\ttotal: 925ms\tremaining: 847ms\n",
      "522:\tlearn: 51.5221972\ttotal: 927ms\tremaining: 845ms\n",
      "523:\tlearn: 51.3293697\ttotal: 928ms\tremaining: 843ms\n",
      "524:\tlearn: 51.1767477\ttotal: 930ms\tremaining: 842ms\n",
      "525:\tlearn: 51.0961343\ttotal: 932ms\tremaining: 840ms\n",
      "526:\tlearn: 50.9995340\ttotal: 934ms\tremaining: 838ms\n",
      "527:\tlearn: 50.8846082\ttotal: 935ms\tremaining: 836ms\n",
      "528:\tlearn: 50.7478794\ttotal: 937ms\tremaining: 834ms\n",
      "529:\tlearn: 50.5116322\ttotal: 939ms\tremaining: 832ms\n",
      "530:\tlearn: 50.2760468\ttotal: 940ms\tremaining: 830ms\n",
      "531:\tlearn: 50.1040144\ttotal: 942ms\tremaining: 829ms\n",
      "532:\tlearn: 49.8827812\ttotal: 944ms\tremaining: 827ms\n",
      "533:\tlearn: 49.8255711\ttotal: 946ms\tremaining: 825ms\n",
      "534:\tlearn: 49.7890438\ttotal: 947ms\tremaining: 823ms\n",
      "535:\tlearn: 49.6290340\ttotal: 949ms\tremaining: 821ms\n",
      "536:\tlearn: 49.3965889\ttotal: 950ms\tremaining: 819ms\n",
      "537:\tlearn: 49.1641285\ttotal: 952ms\tremaining: 817ms\n",
      "538:\tlearn: 48.9654180\ttotal: 954ms\tremaining: 816ms\n",
      "539:\tlearn: 48.9278341\ttotal: 956ms\tremaining: 814ms\n",
      "540:\tlearn: 48.8457405\ttotal: 958ms\tremaining: 813ms\n",
      "541:\tlearn: 48.8041804\ttotal: 959ms\tremaining: 811ms\n",
      "542:\tlearn: 48.7179291\ttotal: 961ms\tremaining: 809ms\n",
      "543:\tlearn: 48.6759771\ttotal: 962ms\tremaining: 807ms\n",
      "544:\tlearn: 48.4792967\ttotal: 964ms\tremaining: 805ms\n",
      "545:\tlearn: 48.3843114\ttotal: 966ms\tremaining: 803ms\n",
      "546:\tlearn: 48.2453957\ttotal: 968ms\tremaining: 802ms\n",
      "547:\tlearn: 48.0231685\ttotal: 970ms\tremaining: 800ms\n",
      "548:\tlearn: 47.8612203\ttotal: 971ms\tremaining: 798ms\n",
      "549:\tlearn: 47.7590091\ttotal: 973ms\tremaining: 796ms\n",
      "550:\tlearn: 47.6561968\ttotal: 974ms\tremaining: 794ms\n",
      "551:\tlearn: 47.4106594\ttotal: 976ms\tremaining: 792ms\n",
      "552:\tlearn: 47.2194456\ttotal: 978ms\tremaining: 790ms\n",
      "553:\tlearn: 47.0783850\ttotal: 979ms\tremaining: 788ms\n",
      "554:\tlearn: 46.8215038\ttotal: 982ms\tremaining: 787ms\n",
      "555:\tlearn: 46.6674572\ttotal: 984ms\tremaining: 786ms\n",
      "556:\tlearn: 46.6418726\ttotal: 986ms\tremaining: 784ms\n",
      "557:\tlearn: 46.5248666\ttotal: 988ms\tremaining: 782ms\n",
      "558:\tlearn: 46.5061320\ttotal: 989ms\tremaining: 780ms\n",
      "559:\tlearn: 46.4397708\ttotal: 991ms\tremaining: 779ms\n",
      "560:\tlearn: 46.3904442\ttotal: 994ms\tremaining: 778ms\n",
      "561:\tlearn: 46.2576989\ttotal: 996ms\tremaining: 777ms\n",
      "562:\tlearn: 45.9568721\ttotal: 998ms\tremaining: 775ms\n",
      "563:\tlearn: 45.8482033\ttotal: 1000ms\tremaining: 773ms\n",
      "564:\tlearn: 45.6689466\ttotal: 1s\tremaining: 771ms\n",
      "565:\tlearn: 45.4222796\ttotal: 1s\tremaining: 769ms\n",
      "566:\tlearn: 45.2404146\ttotal: 1s\tremaining: 767ms\n",
      "567:\tlearn: 45.0903054\ttotal: 1.01s\tremaining: 766ms\n",
      "568:\tlearn: 44.7991969\ttotal: 1.01s\tremaining: 765ms\n",
      "569:\tlearn: 44.6413756\ttotal: 1.01s\tremaining: 763ms\n",
      "570:\tlearn: 44.5799550\ttotal: 1.01s\tremaining: 761ms\n",
      "571:\tlearn: 44.5651506\ttotal: 1.01s\tremaining: 759ms\n",
      "572:\tlearn: 44.4233165\ttotal: 1.01s\tremaining: 757ms\n",
      "573:\tlearn: 44.2369747\ttotal: 1.02s\tremaining: 755ms\n",
      "574:\tlearn: 44.0545664\ttotal: 1.02s\tremaining: 754ms\n",
      "575:\tlearn: 43.9004385\ttotal: 1.02s\tremaining: 753ms\n",
      "576:\tlearn: 43.7138119\ttotal: 1.02s\tremaining: 751ms\n",
      "577:\tlearn: 43.5755556\ttotal: 1.03s\tremaining: 749ms\n",
      "578:\tlearn: 43.4934072\ttotal: 1.03s\tremaining: 747ms\n",
      "579:\tlearn: 43.4629843\ttotal: 1.03s\tremaining: 746ms\n",
      "580:\tlearn: 43.3825129\ttotal: 1.03s\tremaining: 745ms\n",
      "581:\tlearn: 43.2549166\ttotal: 1.03s\tremaining: 744ms\n",
      "582:\tlearn: 43.1514800\ttotal: 1.04s\tremaining: 742ms\n",
      "583:\tlearn: 42.9846414\ttotal: 1.04s\tremaining: 740ms\n",
      "584:\tlearn: 42.8538804\ttotal: 1.04s\tremaining: 738ms\n",
      "585:\tlearn: 42.7710806\ttotal: 1.04s\tremaining: 736ms\n",
      "586:\tlearn: 42.5351412\ttotal: 1.04s\tremaining: 734ms\n",
      "587:\tlearn: 42.4784055\ttotal: 1.05s\tremaining: 734ms\n",
      "588:\tlearn: 42.3174788\ttotal: 1.05s\tremaining: 732ms\n",
      "589:\tlearn: 42.1761529\ttotal: 1.05s\tremaining: 730ms\n",
      "590:\tlearn: 42.0486059\ttotal: 1.05s\tremaining: 729ms\n",
      "591:\tlearn: 41.8689529\ttotal: 1.05s\tremaining: 727ms\n",
      "592:\tlearn: 41.8306286\ttotal: 1.05s\tremaining: 725ms\n",
      "593:\tlearn: 41.6966124\ttotal: 1.06s\tremaining: 723ms\n",
      "594:\tlearn: 41.6647082\ttotal: 1.06s\tremaining: 722ms\n",
      "595:\tlearn: 41.5609917\ttotal: 1.06s\tremaining: 720ms\n",
      "596:\tlearn: 41.4632566\ttotal: 1.06s\tremaining: 718ms\n",
      "597:\tlearn: 41.3899602\ttotal: 1.06s\tremaining: 716ms\n",
      "598:\tlearn: 41.2152047\ttotal: 1.07s\tremaining: 714ms\n",
      "599:\tlearn: 41.0959753\ttotal: 1.07s\tremaining: 712ms\n",
      "600:\tlearn: 40.9815009\ttotal: 1.07s\tremaining: 711ms\n",
      "601:\tlearn: 40.8912971\ttotal: 1.07s\tremaining: 709ms\n",
      "602:\tlearn: 40.7881395\ttotal: 1.07s\tremaining: 708ms\n",
      "603:\tlearn: 40.6325570\ttotal: 1.08s\tremaining: 706ms\n",
      "604:\tlearn: 40.4083902\ttotal: 1.08s\tremaining: 704ms\n",
      "605:\tlearn: 40.3292737\ttotal: 1.08s\tremaining: 702ms\n",
      "606:\tlearn: 40.2629492\ttotal: 1.08s\tremaining: 700ms\n",
      "607:\tlearn: 40.2448471\ttotal: 1.08s\tremaining: 699ms\n",
      "608:\tlearn: 40.2293673\ttotal: 1.08s\tremaining: 697ms\n",
      "609:\tlearn: 40.0978829\ttotal: 1.09s\tremaining: 695ms\n",
      "610:\tlearn: 40.0512268\ttotal: 1.09s\tremaining: 694ms\n",
      "611:\tlearn: 39.8920221\ttotal: 1.09s\tremaining: 692ms\n",
      "612:\tlearn: 39.8591122\ttotal: 1.09s\tremaining: 690ms\n",
      "613:\tlearn: 39.7261911\ttotal: 1.09s\tremaining: 688ms\n",
      "614:\tlearn: 39.6986628\ttotal: 1.1s\tremaining: 686ms\n",
      "615:\tlearn: 39.5659851\ttotal: 1.1s\tremaining: 685ms\n",
      "616:\tlearn: 39.4815274\ttotal: 1.1s\tremaining: 683ms\n",
      "617:\tlearn: 39.3682607\ttotal: 1.1s\tremaining: 682ms\n",
      "618:\tlearn: 39.2643803\ttotal: 1.1s\tremaining: 680ms\n",
      "619:\tlearn: 39.1307437\ttotal: 1.11s\tremaining: 678ms\n",
      "620:\tlearn: 38.9596117\ttotal: 1.11s\tremaining: 677ms\n",
      "621:\tlearn: 38.8456302\ttotal: 1.11s\tremaining: 675ms\n",
      "622:\tlearn: 38.7810676\ttotal: 1.11s\tremaining: 673ms\n",
      "623:\tlearn: 38.7450983\ttotal: 1.11s\tremaining: 671ms\n",
      "624:\tlearn: 38.6788090\ttotal: 1.12s\tremaining: 670ms\n",
      "625:\tlearn: 38.5788475\ttotal: 1.12s\tremaining: 668ms\n",
      "626:\tlearn: 38.4675366\ttotal: 1.12s\tremaining: 666ms\n",
      "627:\tlearn: 38.2350724\ttotal: 1.12s\tremaining: 664ms\n",
      "628:\tlearn: 38.2074221\ttotal: 1.12s\tremaining: 662ms\n",
      "629:\tlearn: 38.0622880\ttotal: 1.12s\tremaining: 660ms\n",
      "630:\tlearn: 37.8520281\ttotal: 1.13s\tremaining: 659ms\n",
      "631:\tlearn: 37.6631204\ttotal: 1.13s\tremaining: 657ms\n",
      "632:\tlearn: 37.5153877\ttotal: 1.13s\tremaining: 655ms\n",
      "633:\tlearn: 37.3834892\ttotal: 1.13s\tremaining: 653ms\n",
      "634:\tlearn: 37.2552166\ttotal: 1.13s\tremaining: 651ms\n",
      "635:\tlearn: 37.0779047\ttotal: 1.13s\tremaining: 650ms\n",
      "636:\tlearn: 37.0329263\ttotal: 1.14s\tremaining: 648ms\n",
      "637:\tlearn: 36.8927982\ttotal: 1.14s\tremaining: 647ms\n",
      "638:\tlearn: 36.8105498\ttotal: 1.14s\tremaining: 645ms\n",
      "639:\tlearn: 36.7512624\ttotal: 1.14s\tremaining: 643ms\n",
      "640:\tlearn: 36.5891302\ttotal: 1.14s\tremaining: 641ms\n",
      "641:\tlearn: 36.4551656\ttotal: 1.15s\tremaining: 639ms\n",
      "642:\tlearn: 36.4318588\ttotal: 1.15s\tremaining: 637ms\n",
      "643:\tlearn: 36.4074785\ttotal: 1.15s\tremaining: 636ms\n",
      "644:\tlearn: 36.2579510\ttotal: 1.15s\tremaining: 634ms\n",
      "645:\tlearn: 36.1413504\ttotal: 1.15s\tremaining: 633ms\n",
      "646:\tlearn: 36.0078406\ttotal: 1.16s\tremaining: 631ms\n",
      "647:\tlearn: 35.8909828\ttotal: 1.16s\tremaining: 629ms\n",
      "648:\tlearn: 35.7426906\ttotal: 1.16s\tremaining: 627ms\n",
      "649:\tlearn: 35.5963108\ttotal: 1.16s\tremaining: 626ms\n",
      "650:\tlearn: 35.4623805\ttotal: 1.16s\tremaining: 624ms\n",
      "651:\tlearn: 35.4428004\ttotal: 1.17s\tremaining: 623ms\n",
      "652:\tlearn: 35.3007158\ttotal: 1.17s\tremaining: 621ms\n",
      "653:\tlearn: 35.1510309\ttotal: 1.17s\tremaining: 619ms\n",
      "654:\tlearn: 35.1258328\ttotal: 1.17s\tremaining: 617ms\n",
      "655:\tlearn: 35.0183795\ttotal: 1.17s\tremaining: 615ms\n",
      "656:\tlearn: 34.9003271\ttotal: 1.17s\tremaining: 613ms\n",
      "657:\tlearn: 34.7887445\ttotal: 1.18s\tremaining: 612ms\n",
      "658:\tlearn: 34.6253676\ttotal: 1.18s\tremaining: 610ms\n",
      "659:\tlearn: 34.5506116\ttotal: 1.18s\tremaining: 608ms\n",
      "660:\tlearn: 34.4197699\ttotal: 1.18s\tremaining: 606ms\n",
      "661:\tlearn: 34.3097495\ttotal: 1.18s\tremaining: 604ms\n",
      "662:\tlearn: 34.1572027\ttotal: 1.19s\tremaining: 602ms\n",
      "663:\tlearn: 34.1441284\ttotal: 1.19s\tremaining: 601ms\n",
      "664:\tlearn: 34.0600732\ttotal: 1.19s\tremaining: 599ms\n",
      "665:\tlearn: 34.0500587\ttotal: 1.19s\tremaining: 597ms\n",
      "666:\tlearn: 33.9193340\ttotal: 1.19s\tremaining: 595ms\n",
      "667:\tlearn: 33.7564013\ttotal: 1.19s\tremaining: 594ms\n",
      "668:\tlearn: 33.6528749\ttotal: 1.2s\tremaining: 592ms\n",
      "669:\tlearn: 33.5681199\ttotal: 1.2s\tremaining: 590ms\n",
      "670:\tlearn: 33.4451433\ttotal: 1.2s\tremaining: 588ms\n",
      "671:\tlearn: 33.3468901\ttotal: 1.2s\tremaining: 587ms\n",
      "672:\tlearn: 33.2486282\ttotal: 1.2s\tremaining: 585ms\n",
      "673:\tlearn: 33.2302888\ttotal: 1.21s\tremaining: 583ms\n",
      "674:\tlearn: 33.0558859\ttotal: 1.21s\tremaining: 582ms\n",
      "675:\tlearn: 32.9700344\ttotal: 1.21s\tremaining: 580ms\n",
      "676:\tlearn: 32.8501642\ttotal: 1.21s\tremaining: 578ms\n",
      "677:\tlearn: 32.7340426\ttotal: 1.21s\tremaining: 576ms\n",
      "678:\tlearn: 32.7121017\ttotal: 1.22s\tremaining: 575ms\n",
      "679:\tlearn: 32.6200569\ttotal: 1.22s\tremaining: 573ms\n",
      "680:\tlearn: 32.5052371\ttotal: 1.22s\tremaining: 571ms\n",
      "681:\tlearn: 32.3916969\ttotal: 1.22s\tremaining: 569ms\n",
      "682:\tlearn: 32.2925704\ttotal: 1.22s\tremaining: 567ms\n",
      "683:\tlearn: 32.1901836\ttotal: 1.22s\tremaining: 566ms\n",
      "684:\tlearn: 32.1810795\ttotal: 1.23s\tremaining: 564ms\n",
      "685:\tlearn: 32.0538798\ttotal: 1.23s\tremaining: 562ms\n",
      "686:\tlearn: 31.9695880\ttotal: 1.23s\tremaining: 561ms\n",
      "687:\tlearn: 31.8186240\ttotal: 1.23s\tremaining: 559ms\n",
      "688:\tlearn: 31.7717776\ttotal: 1.23s\tremaining: 557ms\n",
      "689:\tlearn: 31.6271069\ttotal: 1.23s\tremaining: 555ms\n",
      "690:\tlearn: 31.4257754\ttotal: 1.24s\tremaining: 553ms\n",
      "691:\tlearn: 31.3158018\ttotal: 1.24s\tremaining: 551ms\n",
      "692:\tlearn: 31.2062456\ttotal: 1.24s\tremaining: 551ms\n",
      "693:\tlearn: 31.1002943\ttotal: 1.24s\tremaining: 549ms\n",
      "694:\tlearn: 31.0204694\ttotal: 1.25s\tremaining: 547ms\n",
      "695:\tlearn: 30.8638326\ttotal: 1.25s\tremaining: 545ms\n",
      "696:\tlearn: 30.8558418\ttotal: 1.25s\tremaining: 544ms\n",
      "697:\tlearn: 30.7168233\ttotal: 1.25s\tremaining: 542ms\n",
      "698:\tlearn: 30.6741149\ttotal: 1.26s\tremaining: 541ms\n",
      "699:\tlearn: 30.5633505\ttotal: 1.26s\tremaining: 539ms\n",
      "700:\tlearn: 30.3980151\ttotal: 1.26s\tremaining: 537ms\n",
      "701:\tlearn: 30.3868882\ttotal: 1.26s\tremaining: 536ms\n",
      "702:\tlearn: 30.3095110\ttotal: 1.26s\tremaining: 534ms\n",
      "703:\tlearn: 30.2001626\ttotal: 1.27s\tremaining: 532ms\n",
      "704:\tlearn: 30.1086639\ttotal: 1.27s\tremaining: 531ms\n",
      "705:\tlearn: 30.0062050\ttotal: 1.27s\tremaining: 529ms\n",
      "706:\tlearn: 29.9366332\ttotal: 1.27s\tremaining: 528ms\n",
      "707:\tlearn: 29.8514157\ttotal: 1.27s\tremaining: 526ms\n",
      "708:\tlearn: 29.8410197\ttotal: 1.28s\tremaining: 524ms\n",
      "709:\tlearn: 29.7691296\ttotal: 1.28s\tremaining: 522ms\n",
      "710:\tlearn: 29.6347315\ttotal: 1.28s\tremaining: 520ms\n",
      "711:\tlearn: 29.5690771\ttotal: 1.28s\tremaining: 518ms\n",
      "712:\tlearn: 29.4717613\ttotal: 1.28s\tremaining: 517ms\n",
      "713:\tlearn: 29.3453955\ttotal: 1.28s\tremaining: 515ms\n",
      "714:\tlearn: 29.3183996\ttotal: 1.29s\tremaining: 513ms\n",
      "715:\tlearn: 29.2357029\ttotal: 1.29s\tremaining: 511ms\n",
      "716:\tlearn: 29.1493484\ttotal: 1.29s\tremaining: 509ms\n",
      "717:\tlearn: 29.1412750\ttotal: 1.29s\tremaining: 507ms\n",
      "718:\tlearn: 29.0633640\ttotal: 1.29s\tremaining: 505ms\n",
      "719:\tlearn: 29.0063752\ttotal: 1.29s\tremaining: 504ms\n",
      "720:\tlearn: 28.8895697\ttotal: 1.3s\tremaining: 502ms\n",
      "721:\tlearn: 28.8127439\ttotal: 1.3s\tremaining: 500ms\n",
      "722:\tlearn: 28.7979935\ttotal: 1.3s\tremaining: 498ms\n",
      "723:\tlearn: 28.7730564\ttotal: 1.3s\tremaining: 496ms\n",
      "724:\tlearn: 28.6841951\ttotal: 1.3s\tremaining: 495ms\n",
      "725:\tlearn: 28.6192690\ttotal: 1.31s\tremaining: 493ms\n",
      "726:\tlearn: 28.5382100\ttotal: 1.31s\tremaining: 491ms\n",
      "727:\tlearn: 28.4124604\ttotal: 1.31s\tremaining: 489ms\n",
      "728:\tlearn: 28.3992354\ttotal: 1.31s\tremaining: 488ms\n",
      "729:\tlearn: 28.2458739\ttotal: 1.31s\tremaining: 486ms\n",
      "730:\tlearn: 28.1698858\ttotal: 1.31s\tremaining: 484ms\n",
      "731:\tlearn: 28.0857240\ttotal: 1.32s\tremaining: 482ms\n",
      "732:\tlearn: 28.0631865\ttotal: 1.32s\tremaining: 480ms\n",
      "733:\tlearn: 27.9617138\ttotal: 1.32s\tremaining: 479ms\n",
      "734:\tlearn: 27.9296040\ttotal: 1.32s\tremaining: 477ms\n",
      "735:\tlearn: 27.8714544\ttotal: 1.32s\tremaining: 475ms\n",
      "736:\tlearn: 27.8468105\ttotal: 1.32s\tremaining: 473ms\n",
      "737:\tlearn: 27.7605180\ttotal: 1.32s\tremaining: 471ms\n",
      "738:\tlearn: 27.6731250\ttotal: 1.33s\tremaining: 469ms\n",
      "739:\tlearn: 27.6662586\ttotal: 1.33s\tremaining: 467ms\n",
      "740:\tlearn: 27.6319100\ttotal: 1.33s\tremaining: 465ms\n",
      "741:\tlearn: 27.5465757\ttotal: 1.33s\tremaining: 463ms\n",
      "742:\tlearn: 27.4710735\ttotal: 1.33s\tremaining: 461ms\n",
      "743:\tlearn: 27.4510659\ttotal: 1.33s\tremaining: 459ms\n",
      "744:\tlearn: 27.3748617\ttotal: 1.34s\tremaining: 457ms\n",
      "745:\tlearn: 27.3633452\ttotal: 1.34s\tremaining: 455ms\n",
      "746:\tlearn: 27.2959571\ttotal: 1.34s\tremaining: 453ms\n",
      "747:\tlearn: 27.1315947\ttotal: 1.34s\tremaining: 452ms\n",
      "748:\tlearn: 27.0550248\ttotal: 1.34s\tremaining: 450ms\n",
      "749:\tlearn: 27.0373435\ttotal: 1.34s\tremaining: 448ms\n",
      "750:\tlearn: 26.9726665\ttotal: 1.34s\tremaining: 446ms\n",
      "751:\tlearn: 26.9145554\ttotal: 1.35s\tremaining: 444ms\n",
      "752:\tlearn: 26.8976495\ttotal: 1.35s\tremaining: 442ms\n",
      "753:\tlearn: 26.8013163\ttotal: 1.35s\tremaining: 440ms\n",
      "754:\tlearn: 26.7203712\ttotal: 1.35s\tremaining: 439ms\n",
      "755:\tlearn: 26.5829005\ttotal: 1.35s\tremaining: 437ms\n",
      "756:\tlearn: 26.4324310\ttotal: 1.35s\tremaining: 435ms\n",
      "757:\tlearn: 26.2890218\ttotal: 1.36s\tremaining: 433ms\n",
      "758:\tlearn: 26.1965245\ttotal: 1.36s\tremaining: 431ms\n",
      "759:\tlearn: 26.1810870\ttotal: 1.36s\tremaining: 430ms\n",
      "760:\tlearn: 26.1187072\ttotal: 1.36s\tremaining: 428ms\n",
      "761:\tlearn: 26.0637705\ttotal: 1.36s\tremaining: 426ms\n",
      "762:\tlearn: 25.9562461\ttotal: 1.36s\tremaining: 424ms\n",
      "763:\tlearn: 25.8386943\ttotal: 1.37s\tremaining: 422ms\n",
      "764:\tlearn: 25.7790725\ttotal: 1.37s\tremaining: 420ms\n",
      "765:\tlearn: 25.6701106\ttotal: 1.37s\tremaining: 418ms\n",
      "766:\tlearn: 25.6362119\ttotal: 1.37s\tremaining: 417ms\n",
      "767:\tlearn: 25.6252040\ttotal: 1.37s\tremaining: 415ms\n",
      "768:\tlearn: 25.5249470\ttotal: 1.37s\tremaining: 413ms\n",
      "769:\tlearn: 25.4610308\ttotal: 1.38s\tremaining: 411ms\n",
      "770:\tlearn: 25.3338917\ttotal: 1.38s\tremaining: 409ms\n",
      "771:\tlearn: 25.2081591\ttotal: 1.38s\tremaining: 407ms\n",
      "772:\tlearn: 25.1976317\ttotal: 1.38s\tremaining: 406ms\n",
      "773:\tlearn: 25.1309682\ttotal: 1.38s\tremaining: 404ms\n",
      "774:\tlearn: 25.0198547\ttotal: 1.38s\tremaining: 402ms\n",
      "775:\tlearn: 24.9490229\ttotal: 1.39s\tremaining: 400ms\n",
      "776:\tlearn: 24.9028200\ttotal: 1.39s\tremaining: 398ms\n",
      "777:\tlearn: 24.8337886\ttotal: 1.39s\tremaining: 396ms\n",
      "778:\tlearn: 24.7433955\ttotal: 1.39s\tremaining: 394ms\n",
      "779:\tlearn: 24.6167855\ttotal: 1.39s\tremaining: 393ms\n",
      "780:\tlearn: 24.5516424\ttotal: 1.39s\tremaining: 391ms\n",
      "781:\tlearn: 24.3925316\ttotal: 1.4s\tremaining: 389ms\n",
      "782:\tlearn: 24.3473598\ttotal: 1.4s\tremaining: 387ms\n",
      "783:\tlearn: 24.2382596\ttotal: 1.4s\tremaining: 386ms\n",
      "784:\tlearn: 24.1741117\ttotal: 1.4s\tremaining: 384ms\n",
      "785:\tlearn: 24.1282632\ttotal: 1.4s\tremaining: 382ms\n",
      "786:\tlearn: 24.1150038\ttotal: 1.4s\tremaining: 380ms\n",
      "787:\tlearn: 24.0552315\ttotal: 1.41s\tremaining: 378ms\n",
      "788:\tlearn: 24.0020307\ttotal: 1.41s\tremaining: 377ms\n",
      "789:\tlearn: 23.9582172\ttotal: 1.41s\tremaining: 375ms\n",
      "790:\tlearn: 23.9466945\ttotal: 1.41s\tremaining: 373ms\n",
      "791:\tlearn: 23.9012494\ttotal: 1.41s\tremaining: 371ms\n",
      "792:\tlearn: 23.8902062\ttotal: 1.41s\tremaining: 369ms\n",
      "793:\tlearn: 23.8375677\ttotal: 1.42s\tremaining: 367ms\n",
      "794:\tlearn: 23.8275049\ttotal: 1.42s\tremaining: 366ms\n",
      "795:\tlearn: 23.7639978\ttotal: 1.42s\tremaining: 364ms\n",
      "796:\tlearn: 23.7210385\ttotal: 1.42s\tremaining: 362ms\n",
      "797:\tlearn: 23.7118867\ttotal: 1.42s\tremaining: 360ms\n",
      "798:\tlearn: 23.6210770\ttotal: 1.42s\tremaining: 358ms\n",
      "799:\tlearn: 23.5667973\ttotal: 1.43s\tremaining: 356ms\n",
      "800:\tlearn: 23.5093551\ttotal: 1.43s\tremaining: 355ms\n",
      "801:\tlearn: 23.4248240\ttotal: 1.43s\tremaining: 353ms\n",
      "802:\tlearn: 23.3851975\ttotal: 1.43s\tremaining: 351ms\n",
      "803:\tlearn: 23.2576151\ttotal: 1.43s\tremaining: 349ms\n",
      "804:\tlearn: 23.1403284\ttotal: 1.43s\tremaining: 347ms\n",
      "805:\tlearn: 23.0861220\ttotal: 1.44s\tremaining: 346ms\n",
      "806:\tlearn: 23.0179965\ttotal: 1.44s\tremaining: 344ms\n",
      "807:\tlearn: 22.9499510\ttotal: 1.44s\tremaining: 342ms\n",
      "808:\tlearn: 22.9093322\ttotal: 1.44s\tremaining: 340ms\n",
      "809:\tlearn: 22.8749288\ttotal: 1.44s\tremaining: 338ms\n",
      "810:\tlearn: 22.8082947\ttotal: 1.44s\tremaining: 337ms\n",
      "811:\tlearn: 22.7734708\ttotal: 1.45s\tremaining: 335ms\n",
      "812:\tlearn: 22.6526692\ttotal: 1.45s\tremaining: 333ms\n",
      "813:\tlearn: 22.5530242\ttotal: 1.45s\tremaining: 332ms\n",
      "814:\tlearn: 22.4717488\ttotal: 1.45s\tremaining: 330ms\n",
      "815:\tlearn: 22.4620780\ttotal: 1.45s\tremaining: 328ms\n",
      "816:\tlearn: 22.4023061\ttotal: 1.46s\tremaining: 326ms\n",
      "817:\tlearn: 22.3578971\ttotal: 1.46s\tremaining: 324ms\n",
      "818:\tlearn: 22.3087689\ttotal: 1.46s\tremaining: 323ms\n",
      "819:\tlearn: 22.3046658\ttotal: 1.46s\tremaining: 321ms\n",
      "820:\tlearn: 22.2330663\ttotal: 1.46s\tremaining: 319ms\n",
      "821:\tlearn: 22.1591095\ttotal: 1.47s\tremaining: 317ms\n",
      "822:\tlearn: 22.1550239\ttotal: 1.47s\tremaining: 315ms\n",
      "823:\tlearn: 22.1463899\ttotal: 1.47s\tremaining: 313ms\n",
      "824:\tlearn: 22.1315815\ttotal: 1.47s\tremaining: 312ms\n",
      "825:\tlearn: 22.0652590\ttotal: 1.47s\tremaining: 310ms\n",
      "826:\tlearn: 22.0221121\ttotal: 1.47s\tremaining: 308ms\n",
      "827:\tlearn: 21.9774501\ttotal: 1.48s\tremaining: 306ms\n",
      "828:\tlearn: 21.9395292\ttotal: 1.48s\tremaining: 305ms\n",
      "829:\tlearn: 21.8508549\ttotal: 1.48s\tremaining: 303ms\n",
      "830:\tlearn: 21.8190935\ttotal: 1.48s\tremaining: 301ms\n",
      "831:\tlearn: 21.8109670\ttotal: 1.48s\tremaining: 299ms\n",
      "832:\tlearn: 21.7578310\ttotal: 1.48s\tremaining: 297ms\n",
      "833:\tlearn: 21.6862934\ttotal: 1.48s\tremaining: 295ms\n",
      "834:\tlearn: 21.6036840\ttotal: 1.49s\tremaining: 294ms\n",
      "835:\tlearn: 21.5099448\ttotal: 1.49s\tremaining: 292ms\n",
      "836:\tlearn: 21.4677400\ttotal: 1.49s\tremaining: 290ms\n",
      "837:\tlearn: 21.4091690\ttotal: 1.49s\tremaining: 288ms\n",
      "838:\tlearn: 21.3466938\ttotal: 1.49s\tremaining: 286ms\n",
      "839:\tlearn: 21.2298144\ttotal: 1.49s\tremaining: 285ms\n",
      "840:\tlearn: 21.1270373\ttotal: 1.5s\tremaining: 283ms\n",
      "841:\tlearn: 21.0373314\ttotal: 1.5s\tremaining: 281ms\n",
      "842:\tlearn: 20.9835159\ttotal: 1.5s\tremaining: 279ms\n",
      "843:\tlearn: 20.8484600\ttotal: 1.5s\tremaining: 277ms\n",
      "844:\tlearn: 20.7891557\ttotal: 1.5s\tremaining: 276ms\n",
      "845:\tlearn: 20.7291399\ttotal: 1.5s\tremaining: 274ms\n",
      "846:\tlearn: 20.6849494\ttotal: 1.5s\tremaining: 272ms\n",
      "847:\tlearn: 20.6154963\ttotal: 1.51s\tremaining: 270ms\n",
      "848:\tlearn: 20.5405276\ttotal: 1.51s\tremaining: 268ms\n",
      "849:\tlearn: 20.5016669\ttotal: 1.51s\tremaining: 267ms\n",
      "850:\tlearn: 20.4700003\ttotal: 1.51s\tremaining: 265ms\n",
      "851:\tlearn: 20.4163286\ttotal: 1.51s\tremaining: 263ms\n",
      "852:\tlearn: 20.3832418\ttotal: 1.51s\tremaining: 261ms\n",
      "853:\tlearn: 20.3012184\ttotal: 1.52s\tremaining: 259ms\n",
      "854:\tlearn: 20.2920333\ttotal: 1.52s\tremaining: 257ms\n",
      "855:\tlearn: 20.2053869\ttotal: 1.52s\tremaining: 256ms\n",
      "856:\tlearn: 20.1658977\ttotal: 1.52s\tremaining: 254ms\n",
      "857:\tlearn: 20.1100216\ttotal: 1.52s\tremaining: 252ms\n",
      "858:\tlearn: 20.0083729\ttotal: 1.52s\tremaining: 250ms\n",
      "859:\tlearn: 19.9455311\ttotal: 1.53s\tremaining: 248ms\n",
      "860:\tlearn: 19.8796059\ttotal: 1.53s\tremaining: 247ms\n",
      "861:\tlearn: 19.8565398\ttotal: 1.53s\tremaining: 245ms\n",
      "862:\tlearn: 19.7320152\ttotal: 1.53s\tremaining: 243ms\n",
      "863:\tlearn: 19.6553629\ttotal: 1.53s\tremaining: 241ms\n",
      "864:\tlearn: 19.5653904\ttotal: 1.53s\tremaining: 239ms\n",
      "865:\tlearn: 19.5044019\ttotal: 1.54s\tremaining: 238ms\n",
      "866:\tlearn: 19.4952821\ttotal: 1.54s\tremaining: 236ms\n",
      "867:\tlearn: 19.4417196\ttotal: 1.54s\tremaining: 234ms\n",
      "868:\tlearn: 19.3928280\ttotal: 1.54s\tremaining: 232ms\n",
      "869:\tlearn: 19.3310543\ttotal: 1.54s\tremaining: 231ms\n",
      "870:\tlearn: 19.2860856\ttotal: 1.54s\tremaining: 229ms\n",
      "871:\tlearn: 19.1689820\ttotal: 1.54s\tremaining: 227ms\n",
      "872:\tlearn: 19.0656586\ttotal: 1.55s\tremaining: 225ms\n",
      "873:\tlearn: 19.0585347\ttotal: 1.55s\tremaining: 223ms\n",
      "874:\tlearn: 19.0124418\ttotal: 1.55s\tremaining: 222ms\n",
      "875:\tlearn: 18.9798186\ttotal: 1.55s\tremaining: 220ms\n",
      "876:\tlearn: 18.8896499\ttotal: 1.55s\tremaining: 218ms\n",
      "877:\tlearn: 18.8379639\ttotal: 1.56s\tremaining: 216ms\n",
      "878:\tlearn: 18.8312106\ttotal: 1.56s\tremaining: 214ms\n",
      "879:\tlearn: 18.7718969\ttotal: 1.56s\tremaining: 213ms\n",
      "880:\tlearn: 18.7453473\ttotal: 1.56s\tremaining: 211ms\n",
      "881:\tlearn: 18.6851317\ttotal: 1.56s\tremaining: 209ms\n",
      "882:\tlearn: 18.5988650\ttotal: 1.56s\tremaining: 207ms\n",
      "883:\tlearn: 18.5525116\ttotal: 1.57s\tremaining: 206ms\n",
      "884:\tlearn: 18.4964362\ttotal: 1.57s\tremaining: 204ms\n",
      "885:\tlearn: 18.4542378\ttotal: 1.57s\tremaining: 202ms\n",
      "886:\tlearn: 18.4053368\ttotal: 1.57s\tremaining: 200ms\n",
      "887:\tlearn: 18.3676513\ttotal: 1.57s\tremaining: 199ms\n",
      "888:\tlearn: 18.3048839\ttotal: 1.58s\tremaining: 197ms\n",
      "889:\tlearn: 18.2501678\ttotal: 1.58s\tremaining: 195ms\n",
      "890:\tlearn: 18.2421410\ttotal: 1.58s\tremaining: 193ms\n",
      "891:\tlearn: 18.1820355\ttotal: 1.58s\tremaining: 191ms\n",
      "892:\tlearn: 18.1045997\ttotal: 1.58s\tremaining: 190ms\n",
      "893:\tlearn: 18.0516539\ttotal: 1.58s\tremaining: 188ms\n",
      "894:\tlearn: 17.9507407\ttotal: 1.58s\tremaining: 186ms\n",
      "895:\tlearn: 17.8656394\ttotal: 1.59s\tremaining: 184ms\n",
      "896:\tlearn: 17.8130004\ttotal: 1.59s\tremaining: 183ms\n",
      "897:\tlearn: 17.8056685\ttotal: 1.59s\tremaining: 181ms\n",
      "898:\tlearn: 17.7479301\ttotal: 1.59s\tremaining: 179ms\n",
      "899:\tlearn: 17.6628775\ttotal: 1.59s\tremaining: 177ms\n",
      "900:\tlearn: 17.6036263\ttotal: 1.6s\tremaining: 175ms\n",
      "901:\tlearn: 17.5548725\ttotal: 1.6s\tremaining: 174ms\n",
      "902:\tlearn: 17.5112982\ttotal: 1.6s\tremaining: 172ms\n",
      "903:\tlearn: 17.4337097\ttotal: 1.6s\tremaining: 170ms\n",
      "904:\tlearn: 17.3438812\ttotal: 1.6s\tremaining: 168ms\n",
      "905:\tlearn: 17.2978952\ttotal: 1.61s\tremaining: 167ms\n",
      "906:\tlearn: 17.2705120\ttotal: 1.61s\tremaining: 165ms\n",
      "907:\tlearn: 17.2197843\ttotal: 1.61s\tremaining: 163ms\n",
      "908:\tlearn: 17.1672918\ttotal: 1.61s\tremaining: 161ms\n",
      "909:\tlearn: 17.0962813\ttotal: 1.61s\tremaining: 160ms\n",
      "910:\tlearn: 17.0367884\ttotal: 1.61s\tremaining: 158ms\n",
      "911:\tlearn: 16.9995434\ttotal: 1.62s\tremaining: 156ms\n",
      "912:\tlearn: 16.9503108\ttotal: 1.62s\tremaining: 154ms\n",
      "913:\tlearn: 16.8634821\ttotal: 1.62s\tremaining: 152ms\n",
      "914:\tlearn: 16.8562342\ttotal: 1.62s\tremaining: 151ms\n",
      "915:\tlearn: 16.8266675\ttotal: 1.62s\tremaining: 149ms\n",
      "916:\tlearn: 16.8202756\ttotal: 1.62s\tremaining: 147ms\n",
      "917:\tlearn: 16.8140117\ttotal: 1.63s\tremaining: 145ms\n",
      "918:\tlearn: 16.7657793\ttotal: 1.63s\tremaining: 143ms\n",
      "919:\tlearn: 16.7455489\ttotal: 1.63s\tremaining: 142ms\n",
      "920:\tlearn: 16.7350234\ttotal: 1.63s\tremaining: 140ms\n",
      "921:\tlearn: 16.6764784\ttotal: 1.63s\tremaining: 138ms\n",
      "922:\tlearn: 16.6413683\ttotal: 1.63s\tremaining: 136ms\n",
      "923:\tlearn: 16.6313216\ttotal: 1.63s\tremaining: 134ms\n",
      "924:\tlearn: 16.5737890\ttotal: 1.64s\tremaining: 133ms\n",
      "925:\tlearn: 16.5612564\ttotal: 1.64s\tremaining: 131ms\n",
      "926:\tlearn: 16.5194103\ttotal: 1.64s\tremaining: 129ms\n",
      "927:\tlearn: 16.4774875\ttotal: 1.64s\tremaining: 127ms\n",
      "928:\tlearn: 16.4716862\ttotal: 1.64s\tremaining: 126ms\n",
      "929:\tlearn: 16.4373752\ttotal: 1.64s\tremaining: 124ms\n",
      "930:\tlearn: 16.4285377\ttotal: 1.65s\tremaining: 122ms\n",
      "931:\tlearn: 16.3673869\ttotal: 1.65s\tremaining: 120ms\n",
      "932:\tlearn: 16.3185470\ttotal: 1.65s\tremaining: 118ms\n",
      "933:\tlearn: 16.2631467\ttotal: 1.65s\tremaining: 117ms\n",
      "934:\tlearn: 16.1934975\ttotal: 1.65s\tremaining: 115ms\n",
      "935:\tlearn: 16.1884481\ttotal: 1.65s\tremaining: 113ms\n",
      "936:\tlearn: 16.1500024\ttotal: 1.66s\tremaining: 111ms\n",
      "937:\tlearn: 16.1409804\ttotal: 1.66s\tremaining: 110ms\n",
      "938:\tlearn: 16.0683587\ttotal: 1.66s\tremaining: 108ms\n",
      "939:\tlearn: 15.9809030\ttotal: 1.66s\tremaining: 106ms\n",
      "940:\tlearn: 15.8978202\ttotal: 1.66s\tremaining: 104ms\n",
      "941:\tlearn: 15.8709900\ttotal: 1.67s\tremaining: 103ms\n",
      "942:\tlearn: 15.8344018\ttotal: 1.67s\tremaining: 101ms\n",
      "943:\tlearn: 15.8295482\ttotal: 1.67s\tremaining: 99ms\n",
      "944:\tlearn: 15.7744973\ttotal: 1.67s\tremaining: 97.2ms\n",
      "945:\tlearn: 15.7305450\ttotal: 1.67s\tremaining: 95.4ms\n",
      "946:\tlearn: 15.6857434\ttotal: 1.67s\tremaining: 93.6ms\n",
      "947:\tlearn: 15.6591016\ttotal: 1.67s\tremaining: 91.9ms\n",
      "948:\tlearn: 15.6314256\ttotal: 1.68s\tremaining: 90.1ms\n",
      "949:\tlearn: 15.5788777\ttotal: 1.68s\tremaining: 88.3ms\n",
      "950:\tlearn: 15.5325554\ttotal: 1.68s\tremaining: 86.5ms\n",
      "951:\tlearn: 15.4890930\ttotal: 1.68s\tremaining: 84.8ms\n",
      "952:\tlearn: 15.4263779\ttotal: 1.68s\tremaining: 83ms\n",
      "953:\tlearn: 15.3892307\ttotal: 1.68s\tremaining: 81.2ms\n",
      "954:\tlearn: 15.3531641\ttotal: 1.69s\tremaining: 79.4ms\n",
      "955:\tlearn: 15.3172544\ttotal: 1.69s\tremaining: 77.6ms\n",
      "956:\tlearn: 15.2722481\ttotal: 1.69s\tremaining: 75.9ms\n",
      "957:\tlearn: 15.2509946\ttotal: 1.69s\tremaining: 74.1ms\n",
      "958:\tlearn: 15.2106080\ttotal: 1.69s\tremaining: 72.3ms\n",
      "959:\tlearn: 15.1550705\ttotal: 1.69s\tremaining: 70.5ms\n",
      "960:\tlearn: 15.1198927\ttotal: 1.69s\tremaining: 68.8ms\n",
      "961:\tlearn: 15.0521121\ttotal: 1.7s\tremaining: 67ms\n",
      "962:\tlearn: 15.0138282\ttotal: 1.7s\tremaining: 65.2ms\n",
      "963:\tlearn: 14.9511473\ttotal: 1.7s\tremaining: 63.4ms\n",
      "964:\tlearn: 14.9013556\ttotal: 1.7s\tremaining: 61.7ms\n",
      "965:\tlearn: 14.8491591\ttotal: 1.7s\tremaining: 59.9ms\n",
      "966:\tlearn: 14.7846364\ttotal: 1.7s\tremaining: 58.2ms\n",
      "967:\tlearn: 14.7378076\ttotal: 1.71s\tremaining: 56.4ms\n",
      "968:\tlearn: 14.6963646\ttotal: 1.71s\tremaining: 54.6ms\n",
      "969:\tlearn: 14.6368320\ttotal: 1.71s\tremaining: 52.8ms\n",
      "970:\tlearn: 14.5641432\ttotal: 1.71s\tremaining: 51.1ms\n",
      "971:\tlearn: 14.5009366\ttotal: 1.71s\tremaining: 49.3ms\n",
      "972:\tlearn: 14.4934257\ttotal: 1.71s\tremaining: 47.6ms\n",
      "973:\tlearn: 14.4521224\ttotal: 1.72s\tremaining: 45.8ms\n",
      "974:\tlearn: 14.4111253\ttotal: 1.72s\tremaining: 44ms\n",
      "975:\tlearn: 14.3698632\ttotal: 1.72s\tremaining: 42.3ms\n",
      "976:\tlearn: 14.3591191\ttotal: 1.72s\tremaining: 40.5ms\n",
      "977:\tlearn: 14.3269189\ttotal: 1.72s\tremaining: 38.7ms\n",
      "978:\tlearn: 14.2789397\ttotal: 1.72s\tremaining: 37ms\n",
      "979:\tlearn: 14.2216384\ttotal: 1.73s\tremaining: 35.2ms\n",
      "980:\tlearn: 14.1751644\ttotal: 1.73s\tremaining: 33.5ms\n",
      "981:\tlearn: 14.1256092\ttotal: 1.73s\tremaining: 31.7ms\n",
      "982:\tlearn: 14.0731502\ttotal: 1.73s\tremaining: 29.9ms\n",
      "983:\tlearn: 14.0117995\ttotal: 1.73s\tremaining: 28.2ms\n",
      "984:\tlearn: 13.9841830\ttotal: 1.73s\tremaining: 26.4ms\n",
      "985:\tlearn: 13.9230955\ttotal: 1.74s\tremaining: 24.6ms\n",
      "986:\tlearn: 13.8746811\ttotal: 1.74s\tremaining: 22.9ms\n",
      "987:\tlearn: 13.8092980\ttotal: 1.74s\tremaining: 21.1ms\n",
      "988:\tlearn: 13.7921958\ttotal: 1.74s\tremaining: 19.4ms\n",
      "989:\tlearn: 13.7424480\ttotal: 1.74s\tremaining: 17.6ms\n",
      "990:\tlearn: 13.6967360\ttotal: 1.75s\tremaining: 15.9ms\n",
      "991:\tlearn: 13.6709582\ttotal: 1.75s\tremaining: 14.1ms\n",
      "992:\tlearn: 13.6094706\ttotal: 1.75s\tremaining: 12.3ms\n",
      "993:\tlearn: 13.5641205\ttotal: 1.75s\tremaining: 10.6ms\n",
      "994:\tlearn: 13.5192775\ttotal: 1.75s\tremaining: 8.82ms\n",
      "995:\tlearn: 13.4902451\ttotal: 1.75s\tremaining: 7.05ms\n",
      "996:\tlearn: 13.4806052\ttotal: 1.76s\tremaining: 5.29ms\n",
      "997:\tlearn: 13.4282445\ttotal: 1.76s\tremaining: 3.52ms\n",
      "998:\tlearn: 13.4020177\ttotal: 1.76s\tremaining: 1.76ms\n",
      "999:\tlearn: 13.3781902\ttotal: 1.76s\tremaining: 0us\n"
     ]
    }
   ],
   "source": [
    "catb_model = CatBoostRegressor().fit(X_train,y_train)"
   ]
  },
  {
   "cell_type": "code",
   "execution_count": 23,
   "metadata": {},
   "outputs": [
    {
     "data": {
      "text/plain": [
       "350.2683163098795"
      ]
     },
     "execution_count": 23,
     "metadata": {},
     "output_type": "execute_result"
    }
   ],
   "source": [
    "y_pred = catb_model.predict(X_test)\n",
    "np.sqrt(mean_squared_error(y_test,y_pred))"
   ]
  },
  {
   "cell_type": "markdown",
   "metadata": {},
   "source": [
    "### Tuning"
   ]
  },
  {
   "cell_type": "code",
   "execution_count": 28,
   "metadata": {},
   "outputs": [],
   "source": [
    "catb_params = {\"iterations\":[200,500,100],\n",
    "              \"learning_rate\":[0.01,0.1],\n",
    "              \"depth\":[3,6,8]}"
   ]
  },
  {
   "cell_type": "code",
   "execution_count": 29,
   "metadata": {},
   "outputs": [],
   "source": [
    "catb_model = CatBoostRegressor()"
   ]
  },
  {
   "cell_type": "code",
   "execution_count": 30,
   "metadata": {
    "collapsed": true,
    "jupyter": {
     "outputs_hidden": true
    }
   },
   "outputs": [
    {
     "name": "stdout",
     "output_type": "stream",
     "text": [
      "Fitting 5 folds for each of 18 candidates, totalling 90 fits\n"
     ]
    },
    {
     "name": "stderr",
     "output_type": "stream",
     "text": [
      "[Parallel(n_jobs=-1)]: Using backend LokyBackend with 8 concurrent workers.\n",
      "[Parallel(n_jobs=-1)]: Done  25 tasks      | elapsed:   12.9s\n",
      "[Parallel(n_jobs=-1)]: Done  90 out of  90 | elapsed:   55.7s finished\n"
     ]
    },
    {
     "name": "stdout",
     "output_type": "stream",
     "text": [
      "0:\tlearn: 425.7900818\ttotal: 1.25ms\tremaining: 250ms\n",
      "1:\tlearn: 404.8723520\ttotal: 2.15ms\tremaining: 213ms\n",
      "2:\tlearn: 387.4057666\ttotal: 3.48ms\tremaining: 229ms\n",
      "3:\tlearn: 372.2801584\ttotal: 4.62ms\tremaining: 226ms\n",
      "4:\tlearn: 358.9204229\ttotal: 5.34ms\tremaining: 208ms\n",
      "5:\tlearn: 347.0083933\ttotal: 6.09ms\tremaining: 197ms\n",
      "6:\tlearn: 336.0130818\ttotal: 6.84ms\tremaining: 189ms\n",
      "7:\tlearn: 324.3923300\ttotal: 7.53ms\tremaining: 181ms\n",
      "8:\tlearn: 314.8690957\ttotal: 8.19ms\tremaining: 174ms\n",
      "9:\tlearn: 308.5075563\ttotal: 8.88ms\tremaining: 169ms\n",
      "10:\tlearn: 298.8587285\ttotal: 9.62ms\tremaining: 165ms\n",
      "11:\tlearn: 294.7655438\ttotal: 10.4ms\tremaining: 164ms\n",
      "12:\tlearn: 288.0697862\ttotal: 11.1ms\tremaining: 160ms\n",
      "13:\tlearn: 282.6697154\ttotal: 11.8ms\tremaining: 156ms\n",
      "14:\tlearn: 277.6121667\ttotal: 12.7ms\tremaining: 156ms\n",
      "15:\tlearn: 273.4383979\ttotal: 13.6ms\tremaining: 156ms\n",
      "16:\tlearn: 269.1556201\ttotal: 14.4ms\tremaining: 155ms\n",
      "17:\tlearn: 264.8098704\ttotal: 15.2ms\tremaining: 153ms\n",
      "18:\tlearn: 261.6700768\ttotal: 15.9ms\tremaining: 151ms\n",
      "19:\tlearn: 257.3961290\ttotal: 16.6ms\tremaining: 149ms\n",
      "20:\tlearn: 252.2691509\ttotal: 17.2ms\tremaining: 147ms\n",
      "21:\tlearn: 249.0686482\ttotal: 17.9ms\tremaining: 145ms\n",
      "22:\tlearn: 244.1881041\ttotal: 18.7ms\tremaining: 144ms\n",
      "23:\tlearn: 242.1696687\ttotal: 19.4ms\tremaining: 142ms\n",
      "24:\tlearn: 239.2131476\ttotal: 20.2ms\tremaining: 141ms\n",
      "25:\tlearn: 236.6883901\ttotal: 20.8ms\tremaining: 139ms\n",
      "26:\tlearn: 234.5295613\ttotal: 22.2ms\tremaining: 142ms\n",
      "27:\tlearn: 231.7788834\ttotal: 22.9ms\tremaining: 141ms\n",
      "28:\tlearn: 228.8020330\ttotal: 23.9ms\tremaining: 141ms\n",
      "29:\tlearn: 226.8420565\ttotal: 24.7ms\tremaining: 140ms\n",
      "30:\tlearn: 224.0686558\ttotal: 25.7ms\tremaining: 140ms\n",
      "31:\tlearn: 222.6644699\ttotal: 26.4ms\tremaining: 139ms\n",
      "32:\tlearn: 221.6889573\ttotal: 27.1ms\tremaining: 137ms\n",
      "33:\tlearn: 220.5171653\ttotal: 27.7ms\tremaining: 135ms\n",
      "34:\tlearn: 217.7686033\ttotal: 28.4ms\tremaining: 134ms\n",
      "35:\tlearn: 214.8462789\ttotal: 29ms\tremaining: 132ms\n",
      "36:\tlearn: 214.4799251\ttotal: 29.7ms\tremaining: 131ms\n",
      "37:\tlearn: 212.3480429\ttotal: 30.3ms\tremaining: 129ms\n",
      "38:\tlearn: 210.0040644\ttotal: 31ms\tremaining: 128ms\n",
      "39:\tlearn: 208.3086913\ttotal: 31.6ms\tremaining: 127ms\n",
      "40:\tlearn: 207.5469119\ttotal: 32.3ms\tremaining: 125ms\n",
      "41:\tlearn: 205.9351113\ttotal: 32.9ms\tremaining: 124ms\n",
      "42:\tlearn: 205.3580824\ttotal: 34ms\tremaining: 124ms\n",
      "43:\tlearn: 204.6204266\ttotal: 34.9ms\tremaining: 124ms\n",
      "44:\tlearn: 202.5023220\ttotal: 35.9ms\tremaining: 124ms\n",
      "45:\tlearn: 201.4347853\ttotal: 36.6ms\tremaining: 122ms\n",
      "46:\tlearn: 200.8752553\ttotal: 37.2ms\tremaining: 121ms\n",
      "47:\tlearn: 200.4047344\ttotal: 37.8ms\tremaining: 120ms\n",
      "48:\tlearn: 197.5433004\ttotal: 38.5ms\tremaining: 119ms\n",
      "49:\tlearn: 194.6943292\ttotal: 39.1ms\tremaining: 117ms\n",
      "50:\tlearn: 194.3011982\ttotal: 39.9ms\tremaining: 117ms\n",
      "51:\tlearn: 193.4011843\ttotal: 41.1ms\tremaining: 117ms\n",
      "52:\tlearn: 193.0109753\ttotal: 41.8ms\tremaining: 116ms\n",
      "53:\tlearn: 192.6071142\ttotal: 42.5ms\tremaining: 115ms\n",
      "54:\tlearn: 191.9666153\ttotal: 43.2ms\tremaining: 114ms\n",
      "55:\tlearn: 191.5789727\ttotal: 44ms\tremaining: 113ms\n",
      "56:\tlearn: 190.7186284\ttotal: 45.1ms\tremaining: 113ms\n",
      "57:\tlearn: 190.4543087\ttotal: 45.9ms\tremaining: 112ms\n",
      "58:\tlearn: 190.1336317\ttotal: 46.7ms\tremaining: 112ms\n",
      "59:\tlearn: 188.2286484\ttotal: 47.3ms\tremaining: 110ms\n",
      "60:\tlearn: 187.7652417\ttotal: 47.9ms\tremaining: 109ms\n",
      "61:\tlearn: 187.4227950\ttotal: 49.2ms\tremaining: 109ms\n",
      "62:\tlearn: 186.9289182\ttotal: 49.8ms\tremaining: 108ms\n",
      "63:\tlearn: 185.2993487\ttotal: 50.4ms\tremaining: 107ms\n",
      "64:\tlearn: 185.0349598\ttotal: 51ms\tremaining: 106ms\n",
      "65:\tlearn: 183.9773430\ttotal: 51.7ms\tremaining: 105ms\n",
      "66:\tlearn: 183.4463166\ttotal: 52.3ms\tremaining: 104ms\n",
      "67:\tlearn: 181.6627740\ttotal: 52.9ms\tremaining: 103ms\n",
      "68:\tlearn: 179.8785055\ttotal: 53.5ms\tremaining: 102ms\n",
      "69:\tlearn: 179.6737527\ttotal: 54.2ms\tremaining: 101ms\n",
      "70:\tlearn: 177.0830981\ttotal: 54.9ms\tremaining: 99.7ms\n",
      "71:\tlearn: 176.5917790\ttotal: 55.8ms\tremaining: 99.2ms\n",
      "72:\tlearn: 176.1240502\ttotal: 56.5ms\tremaining: 98.3ms\n",
      "73:\tlearn: 174.4828953\ttotal: 57.2ms\tremaining: 97.3ms\n",
      "74:\tlearn: 173.4220482\ttotal: 57.7ms\tremaining: 96.2ms\n",
      "75:\tlearn: 171.9903405\ttotal: 58.4ms\tremaining: 95.3ms\n",
      "76:\tlearn: 171.5803116\ttotal: 59ms\tremaining: 94.3ms\n",
      "77:\tlearn: 170.1411594\ttotal: 59.7ms\tremaining: 93.4ms\n",
      "78:\tlearn: 167.9868133\ttotal: 60.3ms\tremaining: 92.4ms\n",
      "79:\tlearn: 166.5304475\ttotal: 60.9ms\tremaining: 91.4ms\n",
      "80:\tlearn: 166.1741622\ttotal: 61.6ms\tremaining: 90.4ms\n",
      "81:\tlearn: 165.8411762\ttotal: 62.2ms\tremaining: 89.5ms\n",
      "82:\tlearn: 165.1041583\ttotal: 62.8ms\tremaining: 88.5ms\n",
      "83:\tlearn: 163.5641543\ttotal: 63.4ms\tremaining: 87.6ms\n",
      "84:\tlearn: 163.2003311\ttotal: 64.1ms\tremaining: 86.7ms\n",
      "85:\tlearn: 161.1781702\ttotal: 65.2ms\tremaining: 86.4ms\n",
      "86:\tlearn: 160.8727658\ttotal: 66.2ms\tremaining: 85.9ms\n",
      "87:\tlearn: 159.7954077\ttotal: 67.1ms\tremaining: 85.4ms\n",
      "88:\tlearn: 158.8759132\ttotal: 67.8ms\tremaining: 84.5ms\n",
      "89:\tlearn: 158.4831323\ttotal: 68.5ms\tremaining: 83.7ms\n",
      "90:\tlearn: 157.4808127\ttotal: 69.1ms\tremaining: 82.8ms\n",
      "91:\tlearn: 157.1703230\ttotal: 69.8ms\tremaining: 82ms\n",
      "92:\tlearn: 155.3184755\ttotal: 70.5ms\tremaining: 81.1ms\n",
      "93:\tlearn: 154.3988879\ttotal: 71.2ms\tremaining: 80.3ms\n",
      "94:\tlearn: 153.4591935\ttotal: 72.5ms\tremaining: 80.1ms\n",
      "95:\tlearn: 153.1206893\ttotal: 73.2ms\tremaining: 79.3ms\n",
      "96:\tlearn: 152.7897351\ttotal: 73.9ms\tremaining: 78.4ms\n",
      "97:\tlearn: 150.9293164\ttotal: 74.5ms\tremaining: 77.6ms\n",
      "98:\tlearn: 149.7127171\ttotal: 75.4ms\tremaining: 76.9ms\n",
      "99:\tlearn: 149.5089324\ttotal: 76.3ms\tremaining: 76.3ms\n",
      "100:\tlearn: 149.3156312\ttotal: 77ms\tremaining: 75.4ms\n",
      "101:\tlearn: 147.7226718\ttotal: 77.6ms\tremaining: 74.6ms\n",
      "102:\tlearn: 146.7692282\ttotal: 78.5ms\tremaining: 74ms\n",
      "103:\tlearn: 145.9084983\ttotal: 79.2ms\tremaining: 73.1ms\n",
      "104:\tlearn: 144.8780979\ttotal: 79.9ms\tremaining: 72.3ms\n",
      "105:\tlearn: 143.8090268\ttotal: 80.5ms\tremaining: 71.4ms\n",
      "106:\tlearn: 143.1272551\ttotal: 81.2ms\tremaining: 70.6ms\n",
      "107:\tlearn: 142.4863018\ttotal: 81.8ms\tremaining: 69.7ms\n",
      "108:\tlearn: 141.4861279\ttotal: 82.4ms\tremaining: 68.8ms\n",
      "109:\tlearn: 140.8689530\ttotal: 83.4ms\tremaining: 68.2ms\n",
      "110:\tlearn: 140.4009570\ttotal: 84ms\tremaining: 67.4ms\n",
      "111:\tlearn: 140.0344439\ttotal: 85ms\tremaining: 66.8ms\n",
      "112:\tlearn: 139.4290096\ttotal: 86.2ms\tremaining: 66.4ms\n",
      "113:\tlearn: 139.2008874\ttotal: 87.1ms\tremaining: 65.7ms\n",
      "114:\tlearn: 138.6000188\ttotal: 87.8ms\tremaining: 64.9ms\n",
      "115:\tlearn: 138.3962706\ttotal: 88.4ms\tremaining: 64ms\n",
      "116:\tlearn: 138.1737256\ttotal: 89ms\tremaining: 63.2ms\n",
      "117:\tlearn: 137.6342361\ttotal: 89.7ms\tremaining: 62.3ms\n",
      "118:\tlearn: 136.7119826\ttotal: 90.4ms\tremaining: 61.5ms\n",
      "119:\tlearn: 135.3057402\ttotal: 91.2ms\tremaining: 60.8ms\n",
      "120:\tlearn: 134.4797815\ttotal: 91.8ms\tremaining: 59.9ms\n",
      "121:\tlearn: 133.0774331\ttotal: 92.4ms\tremaining: 59.1ms\n",
      "122:\tlearn: 131.8739238\ttotal: 93.1ms\tremaining: 58.3ms\n",
      "123:\tlearn: 131.3203837\ttotal: 93.7ms\tremaining: 57.4ms\n",
      "124:\tlearn: 130.8294604\ttotal: 94.5ms\tremaining: 56.7ms\n",
      "125:\tlearn: 130.6107905\ttotal: 95.2ms\tremaining: 55.9ms\n",
      "126:\tlearn: 130.1614924\ttotal: 95.9ms\tremaining: 55.1ms\n",
      "127:\tlearn: 129.3166972\ttotal: 96.6ms\tremaining: 54.3ms\n",
      "128:\tlearn: 129.1038672\ttotal: 97.3ms\tremaining: 53.6ms\n",
      "129:\tlearn: 128.9594874\ttotal: 98.1ms\tremaining: 52.8ms\n",
      "130:\tlearn: 128.1849638\ttotal: 98.9ms\tremaining: 52.1ms\n",
      "131:\tlearn: 128.0307033\ttotal: 99.5ms\tremaining: 51.3ms\n",
      "132:\tlearn: 127.3373882\ttotal: 100ms\tremaining: 50.5ms\n",
      "133:\tlearn: 126.2856989\ttotal: 101ms\tremaining: 49.6ms\n",
      "134:\tlearn: 126.1379832\ttotal: 101ms\tremaining: 48.8ms\n",
      "135:\tlearn: 126.0180019\ttotal: 102ms\tremaining: 48.1ms\n",
      "136:\tlearn: 125.8843963\ttotal: 103ms\tremaining: 47.3ms\n",
      "137:\tlearn: 125.7576333\ttotal: 104ms\tremaining: 46.6ms\n",
      "138:\tlearn: 125.4794581\ttotal: 104ms\tremaining: 45.8ms\n",
      "139:\tlearn: 124.7920270\ttotal: 105ms\tremaining: 45ms\n",
      "140:\tlearn: 124.6530278\ttotal: 105ms\tremaining: 44.1ms\n",
      "141:\tlearn: 123.4539010\ttotal: 106ms\tremaining: 43.3ms\n",
      "142:\tlearn: 122.8980001\ttotal: 107ms\tremaining: 42.7ms\n",
      "143:\tlearn: 122.0911177\ttotal: 108ms\tremaining: 41.9ms\n",
      "144:\tlearn: 121.1209154\ttotal: 109ms\tremaining: 41.2ms\n",
      "145:\tlearn: 120.1613553\ttotal: 109ms\tremaining: 40.4ms\n",
      "146:\tlearn: 119.1894727\ttotal: 110ms\tremaining: 39.8ms\n",
      "147:\tlearn: 118.0325732\ttotal: 111ms\tremaining: 39ms\n",
      "148:\tlearn: 117.9138240\ttotal: 112ms\tremaining: 38.3ms\n",
      "149:\tlearn: 117.3831462\ttotal: 112ms\tremaining: 37.5ms\n",
      "150:\tlearn: 116.8475244\ttotal: 114ms\tremaining: 36.9ms\n",
      "151:\tlearn: 116.3821954\ttotal: 114ms\tremaining: 36.1ms\n",
      "152:\tlearn: 115.5293176\ttotal: 115ms\tremaining: 35.4ms\n",
      "153:\tlearn: 115.0975175\ttotal: 116ms\tremaining: 34.6ms\n",
      "154:\tlearn: 114.0649594\ttotal: 117ms\tremaining: 33.8ms\n",
      "155:\tlearn: 113.2562326\ttotal: 118ms\tremaining: 33.2ms\n",
      "156:\tlearn: 112.7557871\ttotal: 119ms\tremaining: 32.5ms\n",
      "157:\tlearn: 112.5657565\ttotal: 119ms\tremaining: 31.7ms\n",
      "158:\tlearn: 112.3541525\ttotal: 120ms\tremaining: 30.9ms\n",
      "159:\tlearn: 111.8527982\ttotal: 121ms\tremaining: 30.1ms\n",
      "160:\tlearn: 111.1619644\ttotal: 121ms\tremaining: 29.4ms\n",
      "161:\tlearn: 110.3588257\ttotal: 122ms\tremaining: 28.6ms\n",
      "162:\tlearn: 109.6664293\ttotal: 123ms\tremaining: 27.8ms\n",
      "163:\tlearn: 109.5577303\ttotal: 123ms\tremaining: 27.1ms\n",
      "164:\tlearn: 109.0570285\ttotal: 124ms\tremaining: 26.3ms\n",
      "165:\tlearn: 108.7601467\ttotal: 125ms\tremaining: 25.6ms\n",
      "166:\tlearn: 108.0448620\ttotal: 126ms\tremaining: 24.9ms\n",
      "167:\tlearn: 107.5593372\ttotal: 127ms\tremaining: 24.2ms\n",
      "168:\tlearn: 106.3862999\ttotal: 128ms\tremaining: 23.4ms\n",
      "169:\tlearn: 106.2180807\ttotal: 129ms\tremaining: 22.7ms\n",
      "170:\tlearn: 106.0695603\ttotal: 129ms\tremaining: 21.9ms\n",
      "171:\tlearn: 105.6940213\ttotal: 130ms\tremaining: 21.2ms\n",
      "172:\tlearn: 104.7598987\ttotal: 131ms\tremaining: 20.5ms\n",
      "173:\tlearn: 104.6589992\ttotal: 133ms\tremaining: 19.8ms\n",
      "174:\tlearn: 103.7203657\ttotal: 133ms\tremaining: 19.1ms\n",
      "175:\tlearn: 103.2660987\ttotal: 134ms\tremaining: 18.3ms\n",
      "176:\tlearn: 103.0926213\ttotal: 135ms\tremaining: 17.5ms\n",
      "177:\tlearn: 102.6925209\ttotal: 136ms\tremaining: 16.7ms\n",
      "178:\tlearn: 102.1655154\ttotal: 136ms\tremaining: 16ms\n",
      "179:\tlearn: 101.8273108\ttotal: 137ms\tremaining: 15.2ms\n",
      "180:\tlearn: 101.7264515\ttotal: 137ms\tremaining: 14.4ms\n",
      "181:\tlearn: 101.1102333\ttotal: 138ms\tremaining: 13.7ms\n",
      "182:\tlearn: 100.7880364\ttotal: 139ms\tremaining: 12.9ms\n",
      "183:\tlearn: 100.6673014\ttotal: 140ms\tremaining: 12.2ms\n",
      "184:\tlearn: 100.0153055\ttotal: 141ms\tremaining: 11.4ms\n",
      "185:\tlearn: 99.7667281\ttotal: 141ms\tremaining: 10.6ms\n",
      "186:\tlearn: 99.1860593\ttotal: 142ms\tremaining: 9.87ms\n",
      "187:\tlearn: 99.0408133\ttotal: 143ms\tremaining: 9.11ms\n",
      "188:\tlearn: 98.9030718\ttotal: 143ms\tremaining: 8.35ms\n",
      "189:\tlearn: 97.4513860\ttotal: 144ms\tremaining: 7.58ms\n",
      "190:\tlearn: 97.3322959\ttotal: 145ms\tremaining: 6.82ms\n",
      "191:\tlearn: 97.1950848\ttotal: 145ms\tremaining: 6.05ms\n",
      "192:\tlearn: 96.6789532\ttotal: 146ms\tremaining: 5.29ms\n",
      "193:\tlearn: 96.5506179\ttotal: 147ms\tremaining: 4.53ms\n",
      "194:\tlearn: 95.6635039\ttotal: 147ms\tremaining: 3.78ms\n",
      "195:\tlearn: 94.8850777\ttotal: 148ms\tremaining: 3.03ms\n",
      "196:\tlearn: 94.1624589\ttotal: 149ms\tremaining: 2.27ms\n",
      "197:\tlearn: 93.8220662\ttotal: 150ms\tremaining: 1.52ms\n",
      "198:\tlearn: 93.7300351\ttotal: 151ms\tremaining: 758us\n",
      "199:\tlearn: 93.3339522\ttotal: 152ms\tremaining: 0us\n"
     ]
    }
   ],
   "source": [
    "catb_cv_model = GridSearchCV(catb_model,\n",
    "                          catb_params,\n",
    "                          cv=5,\n",
    "                          n_jobs=-1,\n",
    "                          verbose = 2).fit(X_train,y_train)"
   ]
  },
  {
   "cell_type": "code",
   "execution_count": 31,
   "metadata": {},
   "outputs": [
    {
     "data": {
      "text/plain": [
       "{'depth': 3, 'iterations': 200, 'learning_rate': 0.1}"
      ]
     },
     "execution_count": 31,
     "metadata": {},
     "output_type": "execute_result"
    }
   ],
   "source": [
    "catb_cv_model.best_params_"
   ]
  },
  {
   "cell_type": "code",
   "execution_count": 32,
   "metadata": {
    "collapsed": true,
    "jupyter": {
     "outputs_hidden": true
    }
   },
   "outputs": [
    {
     "name": "stdout",
     "output_type": "stream",
     "text": [
      "0:\tlearn: 425.7900818\ttotal: 1.69ms\tremaining: 337ms\n",
      "1:\tlearn: 404.8723520\ttotal: 2.44ms\tremaining: 242ms\n",
      "2:\tlearn: 387.4057666\ttotal: 3.51ms\tremaining: 231ms\n",
      "3:\tlearn: 372.2801584\ttotal: 4.15ms\tremaining: 204ms\n",
      "4:\tlearn: 358.9204229\ttotal: 4.78ms\tremaining: 187ms\n",
      "5:\tlearn: 347.0083933\ttotal: 5.38ms\tremaining: 174ms\n",
      "6:\tlearn: 336.0130818\ttotal: 6ms\tremaining: 165ms\n",
      "7:\tlearn: 324.3923300\ttotal: 6.59ms\tremaining: 158ms\n",
      "8:\tlearn: 314.8690957\ttotal: 7.18ms\tremaining: 152ms\n",
      "9:\tlearn: 308.5075563\ttotal: 7.81ms\tremaining: 148ms\n",
      "10:\tlearn: 298.8587285\ttotal: 8.41ms\tremaining: 145ms\n",
      "11:\tlearn: 294.7655438\ttotal: 9.47ms\tremaining: 148ms\n",
      "12:\tlearn: 288.0697862\ttotal: 10.5ms\tremaining: 151ms\n",
      "13:\tlearn: 282.6697154\ttotal: 11.3ms\tremaining: 151ms\n",
      "14:\tlearn: 277.6121667\ttotal: 11.9ms\tremaining: 147ms\n",
      "15:\tlearn: 273.4383979\ttotal: 12.6ms\tremaining: 145ms\n",
      "16:\tlearn: 269.1556201\ttotal: 13.3ms\tremaining: 143ms\n",
      "17:\tlearn: 264.8098704\ttotal: 13.9ms\tremaining: 141ms\n",
      "18:\tlearn: 261.6700768\ttotal: 14.5ms\tremaining: 138ms\n",
      "19:\tlearn: 257.3961290\ttotal: 15.1ms\tremaining: 136ms\n",
      "20:\tlearn: 252.2691509\ttotal: 15.7ms\tremaining: 134ms\n",
      "21:\tlearn: 249.0686482\ttotal: 16.4ms\tremaining: 133ms\n",
      "22:\tlearn: 244.1881041\ttotal: 17ms\tremaining: 131ms\n",
      "23:\tlearn: 242.1696687\ttotal: 17.7ms\tremaining: 130ms\n",
      "24:\tlearn: 239.2131476\ttotal: 18.3ms\tremaining: 128ms\n",
      "25:\tlearn: 236.6883901\ttotal: 19.3ms\tremaining: 129ms\n",
      "26:\tlearn: 234.5295613\ttotal: 20.3ms\tremaining: 130ms\n",
      "27:\tlearn: 231.7788834\ttotal: 21.1ms\tremaining: 130ms\n",
      "28:\tlearn: 228.8020330\ttotal: 21.7ms\tremaining: 128ms\n",
      "29:\tlearn: 226.8420565\ttotal: 22.3ms\tremaining: 127ms\n",
      "30:\tlearn: 224.0686558\ttotal: 22.9ms\tremaining: 125ms\n",
      "31:\tlearn: 222.6644699\ttotal: 23.5ms\tremaining: 123ms\n",
      "32:\tlearn: 221.6889573\ttotal: 24.1ms\tremaining: 122ms\n",
      "33:\tlearn: 220.5171653\ttotal: 24.7ms\tremaining: 121ms\n",
      "34:\tlearn: 217.7686033\ttotal: 25.3ms\tremaining: 119ms\n",
      "35:\tlearn: 214.8462789\ttotal: 26ms\tremaining: 118ms\n",
      "36:\tlearn: 214.4799251\ttotal: 26.6ms\tremaining: 117ms\n",
      "37:\tlearn: 212.3480429\ttotal: 27.2ms\tremaining: 116ms\n",
      "38:\tlearn: 210.0040644\ttotal: 27.9ms\tremaining: 115ms\n",
      "39:\tlearn: 208.3086913\ttotal: 28.5ms\tremaining: 114ms\n",
      "40:\tlearn: 207.5469119\ttotal: 29.3ms\tremaining: 113ms\n",
      "41:\tlearn: 205.9351113\ttotal: 30.2ms\tremaining: 114ms\n",
      "42:\tlearn: 205.3580824\ttotal: 30.9ms\tremaining: 113ms\n",
      "43:\tlearn: 204.6204266\ttotal: 31.6ms\tremaining: 112ms\n",
      "44:\tlearn: 202.5023220\ttotal: 32.2ms\tremaining: 111ms\n",
      "45:\tlearn: 201.4347853\ttotal: 32.9ms\tremaining: 110ms\n",
      "46:\tlearn: 200.8752553\ttotal: 33.5ms\tremaining: 109ms\n",
      "47:\tlearn: 200.4047344\ttotal: 34.2ms\tremaining: 108ms\n",
      "48:\tlearn: 197.5433004\ttotal: 34.8ms\tremaining: 107ms\n",
      "49:\tlearn: 194.6943292\ttotal: 35.4ms\tremaining: 106ms\n",
      "50:\tlearn: 194.3011982\ttotal: 36.2ms\tremaining: 106ms\n",
      "51:\tlearn: 193.4011843\ttotal: 36.9ms\tremaining: 105ms\n",
      "52:\tlearn: 193.0109753\ttotal: 37.5ms\tremaining: 104ms\n",
      "53:\tlearn: 192.6071142\ttotal: 38.1ms\tremaining: 103ms\n",
      "54:\tlearn: 191.9666153\ttotal: 38.9ms\tremaining: 102ms\n",
      "55:\tlearn: 191.5789727\ttotal: 39.7ms\tremaining: 102ms\n",
      "56:\tlearn: 190.7186284\ttotal: 40.4ms\tremaining: 101ms\n",
      "57:\tlearn: 190.4543087\ttotal: 41ms\tremaining: 100ms\n",
      "58:\tlearn: 190.1336317\ttotal: 41.7ms\tremaining: 99.8ms\n",
      "59:\tlearn: 188.2286484\ttotal: 42.5ms\tremaining: 99.3ms\n",
      "60:\tlearn: 187.7652417\ttotal: 43.3ms\tremaining: 98.6ms\n",
      "61:\tlearn: 187.4227950\ttotal: 44ms\tremaining: 97.8ms\n",
      "62:\tlearn: 186.9289182\ttotal: 44.6ms\tremaining: 96.9ms\n",
      "63:\tlearn: 185.2993487\ttotal: 45.2ms\tremaining: 96ms\n",
      "64:\tlearn: 185.0349598\ttotal: 45.8ms\tremaining: 95.1ms\n",
      "65:\tlearn: 183.9773430\ttotal: 46.4ms\tremaining: 94.3ms\n",
      "66:\tlearn: 183.4463166\ttotal: 47ms\tremaining: 93.4ms\n",
      "67:\tlearn: 181.6627740\ttotal: 47.6ms\tremaining: 92.5ms\n",
      "68:\tlearn: 179.8785055\ttotal: 48.3ms\tremaining: 91.6ms\n",
      "69:\tlearn: 179.6737527\ttotal: 49.2ms\tremaining: 91.3ms\n",
      "70:\tlearn: 177.0830981\ttotal: 50.2ms\tremaining: 91.2ms\n",
      "71:\tlearn: 176.5917790\ttotal: 51.2ms\tremaining: 90.9ms\n",
      "72:\tlearn: 176.1240502\ttotal: 51.8ms\tremaining: 90.2ms\n",
      "73:\tlearn: 174.4828953\ttotal: 52.5ms\tremaining: 89.4ms\n",
      "74:\tlearn: 173.4220482\ttotal: 53.1ms\tremaining: 88.5ms\n",
      "75:\tlearn: 171.9903405\ttotal: 53.7ms\tremaining: 87.6ms\n",
      "76:\tlearn: 171.5803116\ttotal: 54.3ms\tremaining: 86.7ms\n",
      "77:\tlearn: 170.1411594\ttotal: 54.9ms\tremaining: 85.9ms\n",
      "78:\tlearn: 167.9868133\ttotal: 55.6ms\tremaining: 85.1ms\n",
      "79:\tlearn: 166.5304475\ttotal: 56.2ms\tremaining: 84.3ms\n",
      "80:\tlearn: 166.1741622\ttotal: 56.8ms\tremaining: 83.5ms\n",
      "81:\tlearn: 165.8411762\ttotal: 57.5ms\tremaining: 82.7ms\n",
      "82:\tlearn: 165.1041583\ttotal: 58.1ms\tremaining: 81.9ms\n",
      "83:\tlearn: 163.5641543\ttotal: 58.7ms\tremaining: 81.1ms\n",
      "84:\tlearn: 163.2003311\ttotal: 59.4ms\tremaining: 80.3ms\n",
      "85:\tlearn: 161.1781702\ttotal: 60.3ms\tremaining: 79.9ms\n",
      "86:\tlearn: 160.8727658\ttotal: 61ms\tremaining: 79.3ms\n",
      "87:\tlearn: 159.7954077\ttotal: 61.7ms\tremaining: 78.6ms\n",
      "88:\tlearn: 158.8759132\ttotal: 62.4ms\tremaining: 77.8ms\n",
      "89:\tlearn: 158.4831323\ttotal: 63ms\tremaining: 77ms\n",
      "90:\tlearn: 157.4808127\ttotal: 63.5ms\tremaining: 76.1ms\n",
      "91:\tlearn: 157.1703230\ttotal: 64.1ms\tremaining: 75.3ms\n",
      "92:\tlearn: 155.3184755\ttotal: 64.8ms\tremaining: 74.5ms\n",
      "93:\tlearn: 154.3988879\ttotal: 65.4ms\tremaining: 73.7ms\n",
      "94:\tlearn: 153.4591935\ttotal: 66ms\tremaining: 73ms\n",
      "95:\tlearn: 153.1206893\ttotal: 66.7ms\tremaining: 72.2ms\n",
      "96:\tlearn: 152.7897351\ttotal: 67.2ms\tremaining: 71.4ms\n",
      "97:\tlearn: 150.9293164\ttotal: 67.8ms\tremaining: 70.6ms\n",
      "98:\tlearn: 149.7127171\ttotal: 68.4ms\tremaining: 69.8ms\n",
      "99:\tlearn: 149.5089324\ttotal: 69ms\tremaining: 69ms\n",
      "100:\tlearn: 149.3156312\ttotal: 69.8ms\tremaining: 68.4ms\n",
      "101:\tlearn: 147.7226718\ttotal: 70.6ms\tremaining: 67.8ms\n",
      "102:\tlearn: 146.7692282\ttotal: 71.3ms\tremaining: 67.2ms\n",
      "103:\tlearn: 145.9084983\ttotal: 71.9ms\tremaining: 66.4ms\n",
      "104:\tlearn: 144.8780979\ttotal: 72.6ms\tremaining: 65.6ms\n",
      "105:\tlearn: 143.8090268\ttotal: 73.3ms\tremaining: 65ms\n",
      "106:\tlearn: 143.1272551\ttotal: 73.9ms\tremaining: 64.2ms\n",
      "107:\tlearn: 142.4863018\ttotal: 74.5ms\tremaining: 63.5ms\n",
      "108:\tlearn: 141.4861279\ttotal: 75.1ms\tremaining: 62.7ms\n",
      "109:\tlearn: 140.8689530\ttotal: 75.8ms\tremaining: 62ms\n",
      "110:\tlearn: 140.4009570\ttotal: 76.4ms\tremaining: 61.2ms\n",
      "111:\tlearn: 140.0344439\ttotal: 77ms\tremaining: 60.5ms\n",
      "112:\tlearn: 139.4290096\ttotal: 77.6ms\tremaining: 59.8ms\n",
      "113:\tlearn: 139.2008874\ttotal: 78.2ms\tremaining: 59ms\n",
      "114:\tlearn: 138.6000188\ttotal: 78.9ms\tremaining: 58.3ms\n",
      "115:\tlearn: 138.3962706\ttotal: 79.6ms\tremaining: 57.6ms\n",
      "116:\tlearn: 138.1737256\ttotal: 80.3ms\tremaining: 57ms\n",
      "117:\tlearn: 137.6342361\ttotal: 81.3ms\tremaining: 56.5ms\n",
      "118:\tlearn: 136.7119826\ttotal: 81.9ms\tremaining: 55.8ms\n",
      "119:\tlearn: 135.3057402\ttotal: 82.5ms\tremaining: 55ms\n",
      "120:\tlearn: 134.4797815\ttotal: 83.1ms\tremaining: 54.2ms\n",
      "121:\tlearn: 133.0774331\ttotal: 83.7ms\tremaining: 53.5ms\n",
      "122:\tlearn: 131.8739238\ttotal: 84.3ms\tremaining: 52.8ms\n",
      "123:\tlearn: 131.3203837\ttotal: 84.9ms\tremaining: 52ms\n",
      "124:\tlearn: 130.8294604\ttotal: 85.5ms\tremaining: 51.3ms\n",
      "125:\tlearn: 130.6107905\ttotal: 86.1ms\tremaining: 50.6ms\n",
      "126:\tlearn: 130.1614924\ttotal: 86.7ms\tremaining: 49.8ms\n",
      "127:\tlearn: 129.3166972\ttotal: 87.3ms\tremaining: 49.1ms\n",
      "128:\tlearn: 129.1038672\ttotal: 88ms\tremaining: 48.4ms\n",
      "129:\tlearn: 128.9594874\ttotal: 88.6ms\tremaining: 47.7ms\n",
      "130:\tlearn: 128.1849638\ttotal: 89.3ms\tremaining: 47ms\n",
      "131:\tlearn: 128.0307033\ttotal: 90.5ms\tremaining: 46.6ms\n",
      "132:\tlearn: 127.3373882\ttotal: 91.5ms\tremaining: 46.1ms\n",
      "133:\tlearn: 126.2856989\ttotal: 92.3ms\tremaining: 45.4ms\n",
      "134:\tlearn: 126.1379832\ttotal: 92.9ms\tremaining: 44.7ms\n",
      "135:\tlearn: 126.0180019\ttotal: 93.5ms\tremaining: 44ms\n",
      "136:\tlearn: 125.8843963\ttotal: 94.2ms\tremaining: 43.3ms\n",
      "137:\tlearn: 125.7576333\ttotal: 94.8ms\tremaining: 42.6ms\n",
      "138:\tlearn: 125.4794581\ttotal: 95.4ms\tremaining: 41.9ms\n",
      "139:\tlearn: 124.7920270\ttotal: 96ms\tremaining: 41.1ms\n",
      "140:\tlearn: 124.6530278\ttotal: 96.6ms\tremaining: 40.4ms\n",
      "141:\tlearn: 123.4539010\ttotal: 97.2ms\tremaining: 39.7ms\n",
      "142:\tlearn: 122.8980001\ttotal: 97.8ms\tremaining: 39ms\n",
      "143:\tlearn: 122.0911177\ttotal: 98.5ms\tremaining: 38.3ms\n",
      "144:\tlearn: 121.1209154\ttotal: 99.1ms\tremaining: 37.6ms\n",
      "145:\tlearn: 120.1613553\ttotal: 99.8ms\tremaining: 36.9ms\n",
      "146:\tlearn: 119.1894727\ttotal: 101ms\tremaining: 36.4ms\n",
      "147:\tlearn: 118.0325732\ttotal: 102ms\tremaining: 35.8ms\n",
      "148:\tlearn: 117.9138240\ttotal: 103ms\tremaining: 35.2ms\n",
      "149:\tlearn: 117.3831462\ttotal: 103ms\tremaining: 34.4ms\n",
      "150:\tlearn: 116.8475244\ttotal: 104ms\tremaining: 33.8ms\n",
      "151:\tlearn: 116.3821954\ttotal: 105ms\tremaining: 33.2ms\n",
      "152:\tlearn: 115.5293176\ttotal: 106ms\tremaining: 32.5ms\n",
      "153:\tlearn: 115.0975175\ttotal: 107ms\tremaining: 31.8ms\n",
      "154:\tlearn: 114.0649594\ttotal: 107ms\tremaining: 31.1ms\n",
      "155:\tlearn: 113.2562326\ttotal: 108ms\tremaining: 30.4ms\n",
      "156:\tlearn: 112.7557871\ttotal: 108ms\tremaining: 29.7ms\n",
      "157:\tlearn: 112.5657565\ttotal: 109ms\tremaining: 29ms\n",
      "158:\tlearn: 112.3541525\ttotal: 110ms\tremaining: 28.2ms\n",
      "159:\tlearn: 111.8527982\ttotal: 110ms\tremaining: 27.6ms\n",
      "160:\tlearn: 111.1619644\ttotal: 111ms\tremaining: 26.9ms\n",
      "161:\tlearn: 110.3588257\ttotal: 112ms\tremaining: 26.3ms\n",
      "162:\tlearn: 109.6664293\ttotal: 113ms\tremaining: 25.6ms\n",
      "163:\tlearn: 109.5577303\ttotal: 114ms\tremaining: 24.9ms\n",
      "164:\tlearn: 109.0570285\ttotal: 114ms\tremaining: 24.3ms\n",
      "165:\tlearn: 108.7601467\ttotal: 115ms\tremaining: 23.5ms\n",
      "166:\tlearn: 108.0448620\ttotal: 116ms\tremaining: 22.9ms\n",
      "167:\tlearn: 107.5593372\ttotal: 116ms\tremaining: 22.2ms\n",
      "168:\tlearn: 106.3862999\ttotal: 117ms\tremaining: 21.4ms\n",
      "169:\tlearn: 106.2180807\ttotal: 118ms\tremaining: 20.8ms\n",
      "170:\tlearn: 106.0695603\ttotal: 118ms\tremaining: 20ms\n",
      "171:\tlearn: 105.6940213\ttotal: 119ms\tremaining: 19.3ms\n",
      "172:\tlearn: 104.7598987\ttotal: 119ms\tremaining: 18.6ms\n",
      "173:\tlearn: 104.6589992\ttotal: 120ms\tremaining: 18ms\n",
      "174:\tlearn: 103.7203657\ttotal: 121ms\tremaining: 17.3ms\n",
      "175:\tlearn: 103.2660987\ttotal: 122ms\tremaining: 16.7ms\n",
      "176:\tlearn: 103.0926213\ttotal: 123ms\tremaining: 16ms\n",
      "177:\tlearn: 102.6925209\ttotal: 124ms\tremaining: 15.3ms\n",
      "178:\tlearn: 102.1655154\ttotal: 124ms\tremaining: 14.6ms\n",
      "179:\tlearn: 101.8273108\ttotal: 125ms\tremaining: 13.9ms\n",
      "180:\tlearn: 101.7264515\ttotal: 126ms\tremaining: 13.2ms\n",
      "181:\tlearn: 101.1102333\ttotal: 126ms\tremaining: 12.5ms\n",
      "182:\tlearn: 100.7880364\ttotal: 127ms\tremaining: 11.8ms\n",
      "183:\tlearn: 100.6673014\ttotal: 127ms\tremaining: 11.1ms\n",
      "184:\tlearn: 100.0153055\ttotal: 128ms\tremaining: 10.4ms\n",
      "185:\tlearn: 99.7667281\ttotal: 129ms\tremaining: 9.69ms\n",
      "186:\tlearn: 99.1860593\ttotal: 129ms\tremaining: 8.99ms\n",
      "187:\tlearn: 99.0408133\ttotal: 130ms\tremaining: 8.3ms\n",
      "188:\tlearn: 98.9030718\ttotal: 131ms\tremaining: 7.6ms\n",
      "189:\tlearn: 97.4513860\ttotal: 132ms\tremaining: 6.93ms\n",
      "190:\tlearn: 97.3322959\ttotal: 133ms\tremaining: 6.25ms\n",
      "191:\tlearn: 97.1950848\ttotal: 133ms\tremaining: 5.56ms\n",
      "192:\tlearn: 96.6789532\ttotal: 134ms\tremaining: 4.86ms\n",
      "193:\tlearn: 96.5506179\ttotal: 135ms\tremaining: 4.16ms\n",
      "194:\tlearn: 95.6635039\ttotal: 135ms\tremaining: 3.46ms\n",
      "195:\tlearn: 94.8850777\ttotal: 136ms\tremaining: 2.77ms\n",
      "196:\tlearn: 94.1624589\ttotal: 136ms\tremaining: 2.08ms\n",
      "197:\tlearn: 93.8220662\ttotal: 137ms\tremaining: 1.38ms\n",
      "198:\tlearn: 93.7300351\ttotal: 138ms\tremaining: 692us\n",
      "199:\tlearn: 93.3339522\ttotal: 138ms\tremaining: 0us\n"
     ]
    }
   ],
   "source": [
    "catb_tuned = CatBoostRegressor(depth=3,\n",
    "                              iterations=200,\n",
    "                              learning_rate=0.1).fit(X_train,y_train)"
   ]
  },
  {
   "cell_type": "code",
   "execution_count": 33,
   "metadata": {},
   "outputs": [
    {
     "data": {
      "text/plain": [
       "344.3125832615482"
      ]
     },
     "execution_count": 33,
     "metadata": {},
     "output_type": "execute_result"
    }
   ],
   "source": [
    "y_pred = catb_tuned.predict(X_test)\n",
    "np.sqrt(mean_squared_error(y_test,y_pred))"
   ]
  },
  {
   "cell_type": "markdown",
   "metadata": {},
   "source": [
    "# Makine Öğrenmesi Görevlerinin Otomatikleştirilmesi"
   ]
  },
  {
   "cell_type": "code",
   "execution_count": 11,
   "metadata": {},
   "outputs": [],
   "source": [
    "df = pd.read_csv(\"Hitters.csv\")\n",
    "df = df.dropna()\n",
    "dms = pd.get_dummies(df[[\"League\",\"Division\",\"NewLeague\"]])"
   ]
  },
  {
   "cell_type": "code",
   "execution_count": 14,
   "metadata": {},
   "outputs": [],
   "source": [
    "def compML(df, y, alg):\n",
    "    # Train-Test Ayrımı\n",
    "    y = df[y]\n",
    "    X_ = df.drop([\"Salary\",\"League\",\"Division\",\"NewLeague\"],axis=1).astype(\"float64\")\n",
    "    X = pd.concat([X_,dms[[\"League_N\",\"Division_W\",\"NewLeague_N\"]]],axis=1)\n",
    "    X_train,X_test,y_train,y_test = train_test_split(X,y,test_size=0.25,random_state=42)\n",
    "    \n",
    "    # Modelleme\n",
    "    model = alg().fit(X_train,y_train)\n",
    "    y_pred = model.predict(X_test)\n",
    "    RMSE = np.sqrt(mean_squared_error(y_test,y_pred))\n",
    "    model_ismi = alg.__name__\n",
    "    print(model_ismi,'Modeli Test Hatası:', RMSE)\n",
    "    return RMSE"
   ]
  },
  {
   "cell_type": "code",
   "execution_count": 15,
   "metadata": {},
   "outputs": [
    {
     "name": "stdout",
     "output_type": "stream",
     "text": [
      "SVR Modeli Test Hatası: 473.4445984431814\n"
     ]
    },
    {
     "data": {
      "text/plain": [
       "473.4445984431814"
      ]
     },
     "execution_count": 15,
     "metadata": {},
     "output_type": "execute_result"
    }
   ],
   "source": [
    "compML(df,\"Salary\",SVR)"
   ]
  },
  {
   "cell_type": "code",
   "execution_count": 21,
   "metadata": {},
   "outputs": [],
   "source": [
    "models = [LGBMRegressor,\n",
    "          XGBRegressor,\n",
    "          GradientBoostingRegressor,\n",
    "          RandomForestRegressor,\n",
    "          DecisionTreeRegressor,\n",
    "          MLPRegressor,\n",
    "          KNeighborsRegressor,\n",
    "          SVR]"
   ]
  },
  {
   "cell_type": "code",
   "execution_count": 22,
   "metadata": {},
   "outputs": [
    {
     "name": "stdout",
     "output_type": "stream",
     "text": [
      "LGBMRegressor Modeli Test Hatası: 363.8712087611089\n",
      "[21:23:50] WARNING: src/objective/regression_obj.cu:152: reg:linear is now deprecated in favor of reg:squarederror.\n",
      "XGBRegressor Modeli Test Hatası: 359.91750599447033\n",
      "GradientBoostingRegressor Modeli Test Hatası: 356.1580307055832\n",
      "RandomForestRegressor Modeli Test Hatası: 361.1838802165612\n",
      "DecisionTreeRegressor Modeli Test Hatası: 525.9720923938663\n",
      "MLPRegressor Modeli Test Hatası: 367.83784472332303\n",
      "KNeighborsRegressor Modeli Test Hatası: 426.6570764525201\n",
      "SVR Modeli Test Hatası: 473.4445984431814\n"
     ]
    }
   ],
   "source": [
    "for i in models:\n",
    "    compML(df,\"Salary\",i)"
   ]
  },
  {
   "cell_type": "code",
   "execution_count": null,
   "metadata": {},
   "outputs": [],
   "source": []
  }
 ],
 "metadata": {
  "kernelspec": {
   "display_name": "Python 3",
   "language": "python",
   "name": "python3"
  },
  "language_info": {
   "codemirror_mode": {
    "name": "ipython",
    "version": 3
   },
   "file_extension": ".py",
   "mimetype": "text/x-python",
   "name": "python",
   "nbconvert_exporter": "python",
   "pygments_lexer": "ipython3",
   "version": "3.6.9"
  }
 },
 "nbformat": 4,
 "nbformat_minor": 4
}
